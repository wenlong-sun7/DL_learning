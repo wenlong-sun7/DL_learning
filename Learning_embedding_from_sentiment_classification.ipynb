{
  "nbformat": 4,
  "nbformat_minor": 0,
  "metadata": {
    "colab": {
      "provenance": [],
      "machine_shape": "hm",
      "gpuType": "A100"
    },
    "kernelspec": {
      "name": "python3",
      "display_name": "Python 3"
    },
    "language_info": {
      "name": "python"
    },
    "accelerator": "GPU"
  },
  "cells": [
    {
      "cell_type": "markdown",
      "source": [
        "## This demo is a learning note from this github https://github.com/bentrevett/pytorch-sentiment-analysis/tree/main.\n",
        "\n",
        "### Learn how to retrain a word embedding using existing word embedding."
      ],
      "metadata": {
        "id": "3iEBvAE4gQ8e"
      }
    },
    {
      "cell_type": "markdown",
      "source": [
        "Torchtext0.15.1 and Torch2.0.0 are compatible with each other for this demo!!"
      ],
      "metadata": {
        "id": "m2nvkFNPGvJE"
      }
    },
    {
      "cell_type": "code",
      "source": [
        "!pip install torchtext==0.15.1 --no-cache-dir\n",
        "!pip install datasets\n",
        "\n",
        "!pip show torchtext\n",
        "!pip show torch"
      ],
      "metadata": {
        "colab": {
          "base_uri": "https://localhost:8080/"
        },
        "id": "l82XEYpjd-Nc",
        "outputId": "e53ceff9-a706-4f31-99a9-399eea603a44"
      },
      "execution_count": null,
      "outputs": [
        {
          "output_type": "stream",
          "name": "stdout",
          "text": [
            "Collecting torchtext==0.15.1\n",
            "  Downloading torchtext-0.15.1-cp311-cp311-manylinux1_x86_64.whl.metadata (7.4 kB)\n",
            "Requirement already satisfied: tqdm in /usr/local/lib/python3.11/dist-packages (from torchtext==0.15.1) (4.67.1)\n",
            "Requirement already satisfied: requests in /usr/local/lib/python3.11/dist-packages (from torchtext==0.15.1) (2.32.3)\n",
            "Collecting torch==2.0.0 (from torchtext==0.15.1)\n",
            "  Downloading torch-2.0.0-cp311-cp311-manylinux1_x86_64.whl.metadata (24 kB)\n",
            "Requirement already satisfied: numpy in /usr/local/lib/python3.11/dist-packages (from torchtext==0.15.1) (1.26.4)\n",
            "Collecting torchdata==0.6.0 (from torchtext==0.15.1)\n",
            "  Downloading torchdata-0.6.0-cp311-cp311-manylinux_2_17_x86_64.manylinux2014_x86_64.whl.metadata (892 bytes)\n",
            "Requirement already satisfied: filelock in /usr/local/lib/python3.11/dist-packages (from torch==2.0.0->torchtext==0.15.1) (3.17.0)\n",
            "Requirement already satisfied: typing-extensions in /usr/local/lib/python3.11/dist-packages (from torch==2.0.0->torchtext==0.15.1) (4.12.2)\n",
            "Requirement already satisfied: sympy in /usr/local/lib/python3.11/dist-packages (from torch==2.0.0->torchtext==0.15.1) (1.13.1)\n",
            "Requirement already satisfied: networkx in /usr/local/lib/python3.11/dist-packages (from torch==2.0.0->torchtext==0.15.1) (3.4.2)\n",
            "Requirement already satisfied: jinja2 in /usr/local/lib/python3.11/dist-packages (from torch==2.0.0->torchtext==0.15.1) (3.1.5)\n",
            "Collecting nvidia-cuda-nvrtc-cu11==11.7.99 (from torch==2.0.0->torchtext==0.15.1)\n",
            "  Downloading nvidia_cuda_nvrtc_cu11-11.7.99-2-py3-none-manylinux1_x86_64.whl.metadata (1.5 kB)\n",
            "Collecting nvidia-cuda-runtime-cu11==11.7.99 (from torch==2.0.0->torchtext==0.15.1)\n",
            "  Downloading nvidia_cuda_runtime_cu11-11.7.99-py3-none-manylinux1_x86_64.whl.metadata (1.6 kB)\n",
            "Collecting nvidia-cuda-cupti-cu11==11.7.101 (from torch==2.0.0->torchtext==0.15.1)\n",
            "  Downloading nvidia_cuda_cupti_cu11-11.7.101-py3-none-manylinux1_x86_64.whl.metadata (1.6 kB)\n",
            "Collecting nvidia-cudnn-cu11==8.5.0.96 (from torch==2.0.0->torchtext==0.15.1)\n",
            "  Downloading nvidia_cudnn_cu11-8.5.0.96-2-py3-none-manylinux1_x86_64.whl.metadata (1.6 kB)\n",
            "Collecting nvidia-cublas-cu11==11.10.3.66 (from torch==2.0.0->torchtext==0.15.1)\n",
            "  Downloading nvidia_cublas_cu11-11.10.3.66-py3-none-manylinux1_x86_64.whl.metadata (1.6 kB)\n",
            "Collecting nvidia-cufft-cu11==10.9.0.58 (from torch==2.0.0->torchtext==0.15.1)\n",
            "  Downloading nvidia_cufft_cu11-10.9.0.58-py3-none-manylinux2014_x86_64.whl.metadata (1.5 kB)\n",
            "Collecting nvidia-curand-cu11==10.2.10.91 (from torch==2.0.0->torchtext==0.15.1)\n",
            "  Downloading nvidia_curand_cu11-10.2.10.91-py3-none-manylinux1_x86_64.whl.metadata (1.6 kB)\n",
            "Collecting nvidia-cusolver-cu11==11.4.0.1 (from torch==2.0.0->torchtext==0.15.1)\n",
            "  Downloading nvidia_cusolver_cu11-11.4.0.1-2-py3-none-manylinux1_x86_64.whl.metadata (1.6 kB)\n",
            "Collecting nvidia-cusparse-cu11==11.7.4.91 (from torch==2.0.0->torchtext==0.15.1)\n",
            "  Downloading nvidia_cusparse_cu11-11.7.4.91-py3-none-manylinux1_x86_64.whl.metadata (1.6 kB)\n",
            "Collecting nvidia-nccl-cu11==2.14.3 (from torch==2.0.0->torchtext==0.15.1)\n",
            "  Downloading nvidia_nccl_cu11-2.14.3-py3-none-manylinux1_x86_64.whl.metadata (1.8 kB)\n",
            "Collecting nvidia-nvtx-cu11==11.7.91 (from torch==2.0.0->torchtext==0.15.1)\n",
            "  Downloading nvidia_nvtx_cu11-11.7.91-py3-none-manylinux1_x86_64.whl.metadata (1.7 kB)\n",
            "Collecting triton==2.0.0 (from torch==2.0.0->torchtext==0.15.1)\n",
            "  Downloading triton-2.0.0-1-cp311-cp311-manylinux2014_x86_64.manylinux_2_17_x86_64.whl.metadata (1.0 kB)\n",
            "Requirement already satisfied: urllib3>=1.25 in /usr/local/lib/python3.11/dist-packages (from torchdata==0.6.0->torchtext==0.15.1) (2.3.0)\n",
            "Requirement already satisfied: setuptools in /usr/local/lib/python3.11/dist-packages (from nvidia-cublas-cu11==11.10.3.66->torch==2.0.0->torchtext==0.15.1) (75.1.0)\n",
            "Requirement already satisfied: wheel in /usr/local/lib/python3.11/dist-packages (from nvidia-cublas-cu11==11.10.3.66->torch==2.0.0->torchtext==0.15.1) (0.45.1)\n",
            "Requirement already satisfied: cmake in /usr/local/lib/python3.11/dist-packages (from triton==2.0.0->torch==2.0.0->torchtext==0.15.1) (3.31.6)\n",
            "Collecting lit (from triton==2.0.0->torch==2.0.0->torchtext==0.15.1)\n",
            "  Downloading lit-18.1.8-py3-none-any.whl.metadata (2.5 kB)\n",
            "Requirement already satisfied: charset-normalizer<4,>=2 in /usr/local/lib/python3.11/dist-packages (from requests->torchtext==0.15.1) (3.4.1)\n",
            "Requirement already satisfied: idna<4,>=2.5 in /usr/local/lib/python3.11/dist-packages (from requests->torchtext==0.15.1) (3.10)\n",
            "Requirement already satisfied: certifi>=2017.4.17 in /usr/local/lib/python3.11/dist-packages (from requests->torchtext==0.15.1) (2025.1.31)\n",
            "Requirement already satisfied: MarkupSafe>=2.0 in /usr/local/lib/python3.11/dist-packages (from jinja2->torch==2.0.0->torchtext==0.15.1) (3.0.2)\n",
            "Requirement already satisfied: mpmath<1.4,>=1.1.0 in /usr/local/lib/python3.11/dist-packages (from sympy->torch==2.0.0->torchtext==0.15.1) (1.3.0)\n",
            "Downloading torchtext-0.15.1-cp311-cp311-manylinux1_x86_64.whl (2.0 MB)\n",
            "\u001b[2K   \u001b[90m━━━━━━━━━━━━━━━━━━━━━━━━━━━━━━━━━━━━━━━━\u001b[0m \u001b[32m2.0/2.0 MB\u001b[0m \u001b[31m50.0 MB/s\u001b[0m eta \u001b[36m0:00:00\u001b[0m\n",
            "\u001b[?25hDownloading torch-2.0.0-cp311-cp311-manylinux1_x86_64.whl (619.9 MB)\n",
            "\u001b[2K   \u001b[90m━━━━━━━━━━━━━━━━━━━━━━━━━━━━━━━━━━━━━━━━\u001b[0m \u001b[32m619.9/619.9 MB\u001b[0m \u001b[31m101.3 MB/s\u001b[0m eta \u001b[36m0:00:00\u001b[0m\n",
            "\u001b[?25hDownloading torchdata-0.6.0-cp311-cp311-manylinux_2_17_x86_64.manylinux2014_x86_64.whl (4.6 MB)\n",
            "\u001b[2K   \u001b[90m━━━━━━━━━━━━━━━━━━━━━━━━━━━━━━━━━━━━━━━━\u001b[0m \u001b[32m4.6/4.6 MB\u001b[0m \u001b[31m38.9 MB/s\u001b[0m eta \u001b[36m0:00:00\u001b[0m\n",
            "\u001b[?25hDownloading nvidia_cublas_cu11-11.10.3.66-py3-none-manylinux1_x86_64.whl (317.1 MB)\n",
            "\u001b[2K   \u001b[90m━━━━━━━━━━━━━━━━━━━━━━━━━━━━━━━━━━━━━━━━\u001b[0m \u001b[32m317.1/317.1 MB\u001b[0m \u001b[31m235.2 MB/s\u001b[0m eta \u001b[36m0:00:00\u001b[0m\n",
            "\u001b[?25hDownloading nvidia_cuda_cupti_cu11-11.7.101-py3-none-manylinux1_x86_64.whl (11.8 MB)\n",
            "\u001b[2K   \u001b[90m━━━━━━━━━━━━━━━━━━━━━━━━━━━━━━━━━━━━━━━━\u001b[0m \u001b[32m11.8/11.8 MB\u001b[0m \u001b[31m202.4 MB/s\u001b[0m eta \u001b[36m0:00:00\u001b[0m\n",
            "\u001b[?25hDownloading nvidia_cuda_nvrtc_cu11-11.7.99-2-py3-none-manylinux1_x86_64.whl (21.0 MB)\n",
            "\u001b[2K   \u001b[90m━━━━━━━━━━━━━━━━━━━━━━━━━━━━━━━━━━━━━━━━\u001b[0m \u001b[32m21.0/21.0 MB\u001b[0m \u001b[31m206.2 MB/s\u001b[0m eta \u001b[36m0:00:00\u001b[0m\n",
            "\u001b[?25hDownloading nvidia_cuda_runtime_cu11-11.7.99-py3-none-manylinux1_x86_64.whl (849 kB)\n",
            "\u001b[2K   \u001b[90m━━━━━━━━━━━━━━━━━━━━━━━━━━━━━━━━━━━━━━━━\u001b[0m \u001b[32m849.3/849.3 kB\u001b[0m \u001b[31m354.1 MB/s\u001b[0m eta \u001b[36m0:00:00\u001b[0m\n",
            "\u001b[?25hDownloading nvidia_cudnn_cu11-8.5.0.96-2-py3-none-manylinux1_x86_64.whl (557.1 MB)\n",
            "\u001b[2K   \u001b[90m━━━━━━━━━━━━━━━━━━━━━━━━━━━━━━━━━━━━━━━━\u001b[0m \u001b[32m557.1/557.1 MB\u001b[0m \u001b[31m3.3 MB/s\u001b[0m eta \u001b[36m0:00:00\u001b[0m\n",
            "\u001b[?25hDownloading nvidia_cufft_cu11-10.9.0.58-py3-none-manylinux2014_x86_64.whl (168.4 MB)\n",
            "\u001b[2K   \u001b[90m━━━━━━━━━━━━━━━━━━━━━━━━━━━━━━━━━━━━━━━━\u001b[0m \u001b[32m168.4/168.4 MB\u001b[0m \u001b[31m174.5 MB/s\u001b[0m eta \u001b[36m0:00:00\u001b[0m\n",
            "\u001b[?25hDownloading nvidia_curand_cu11-10.2.10.91-py3-none-manylinux1_x86_64.whl (54.6 MB)\n",
            "\u001b[2K   \u001b[90m━━━━━━━━━━━━━━━━━━━━━━━━━━━━━━━━━━━━━━━━\u001b[0m \u001b[32m54.6/54.6 MB\u001b[0m \u001b[31m168.6 MB/s\u001b[0m eta \u001b[36m0:00:00\u001b[0m\n",
            "\u001b[?25hDownloading nvidia_cusolver_cu11-11.4.0.1-2-py3-none-manylinux1_x86_64.whl (102.6 MB)\n",
            "\u001b[2K   \u001b[90m━━━━━━━━━━━━━━━━━━━━━━━━━━━━━━━━━━━━━━━━\u001b[0m \u001b[32m102.6/102.6 MB\u001b[0m \u001b[31m198.7 MB/s\u001b[0m eta \u001b[36m0:00:00\u001b[0m\n",
            "\u001b[?25hDownloading nvidia_cusparse_cu11-11.7.4.91-py3-none-manylinux1_x86_64.whl (173.2 MB)\n",
            "\u001b[2K   \u001b[90m━━━━━━━━━━━━━━━━━━━━━━━━━━━━━━━━━━━━━━━━\u001b[0m \u001b[32m173.2/173.2 MB\u001b[0m \u001b[31m79.9 MB/s\u001b[0m eta \u001b[36m0:00:00\u001b[0m\n",
            "\u001b[?25hDownloading nvidia_nccl_cu11-2.14.3-py3-none-manylinux1_x86_64.whl (177.1 MB)\n",
            "\u001b[2K   \u001b[90m━━━━━━━━━━━━━━━━━━━━━━━━━━━━━━━━━━━━━━━━\u001b[0m \u001b[32m177.1/177.1 MB\u001b[0m \u001b[31m121.7 MB/s\u001b[0m eta \u001b[36m0:00:00\u001b[0m\n",
            "\u001b[?25hDownloading nvidia_nvtx_cu11-11.7.91-py3-none-manylinux1_x86_64.whl (98 kB)\n",
            "\u001b[2K   \u001b[90m━━━━━━━━━━━━━━━━━━━━━━━━━━━━━━━━━━━━━━━━\u001b[0m \u001b[32m98.6/98.6 kB\u001b[0m \u001b[31m175.1 MB/s\u001b[0m eta \u001b[36m0:00:00\u001b[0m\n",
            "\u001b[?25hDownloading triton-2.0.0-1-cp311-cp311-manylinux2014_x86_64.manylinux_2_17_x86_64.whl (63.3 MB)\n",
            "\u001b[2K   \u001b[90m━━━━━━━━━━━━━━━━━━━━━━━━━━━━━━━━━━━━━━━━\u001b[0m \u001b[32m63.3/63.3 MB\u001b[0m \u001b[31m104.1 MB/s\u001b[0m eta \u001b[36m0:00:00\u001b[0m\n",
            "\u001b[?25hDownloading lit-18.1.8-py3-none-any.whl (96 kB)\n",
            "\u001b[2K   \u001b[90m━━━━━━━━━━━━━━━━━━━━━━━━━━━━━━━━━━━━━━━━\u001b[0m \u001b[32m96.4/96.4 kB\u001b[0m \u001b[31m313.8 MB/s\u001b[0m eta \u001b[36m0:00:00\u001b[0m\n",
            "\u001b[?25hInstalling collected packages: lit, nvidia-nvtx-cu11, nvidia-nccl-cu11, nvidia-cusparse-cu11, nvidia-curand-cu11, nvidia-cufft-cu11, nvidia-cuda-runtime-cu11, nvidia-cuda-nvrtc-cu11, nvidia-cuda-cupti-cu11, nvidia-cublas-cu11, nvidia-cusolver-cu11, nvidia-cudnn-cu11, triton, torch, torchdata, torchtext\n",
            "  Attempting uninstall: triton\n",
            "    Found existing installation: triton 3.1.0\n",
            "    Uninstalling triton-3.1.0:\n",
            "      Successfully uninstalled triton-3.1.0\n",
            "  Attempting uninstall: torch\n",
            "    Found existing installation: torch 2.5.1+cu124\n",
            "    Uninstalling torch-2.5.1+cu124:\n",
            "      Successfully uninstalled torch-2.5.1+cu124\n",
            "\u001b[31mERROR: pip's dependency resolver does not currently take into account all the packages that are installed. This behaviour is the source of the following dependency conflicts.\n",
            "torchvision 0.20.1+cu124 requires torch==2.5.1, but you have torch 2.0.0 which is incompatible.\n",
            "torchaudio 2.5.1+cu124 requires torch==2.5.1, but you have torch 2.0.0 which is incompatible.\u001b[0m\u001b[31m\n",
            "\u001b[0mSuccessfully installed lit-18.1.8 nvidia-cublas-cu11-11.10.3.66 nvidia-cuda-cupti-cu11-11.7.101 nvidia-cuda-nvrtc-cu11-11.7.99 nvidia-cuda-runtime-cu11-11.7.99 nvidia-cudnn-cu11-8.5.0.96 nvidia-cufft-cu11-10.9.0.58 nvidia-curand-cu11-10.2.10.91 nvidia-cusolver-cu11-11.4.0.1 nvidia-cusparse-cu11-11.7.4.91 nvidia-nccl-cu11-2.14.3 nvidia-nvtx-cu11-11.7.91 torch-2.0.0 torchdata-0.6.0 torchtext-0.15.1 triton-2.0.0\n",
            "Collecting datasets\n",
            "  Downloading datasets-3.3.2-py3-none-any.whl.metadata (19 kB)\n",
            "Requirement already satisfied: filelock in /usr/local/lib/python3.11/dist-packages (from datasets) (3.17.0)\n",
            "Requirement already satisfied: numpy>=1.17 in /usr/local/lib/python3.11/dist-packages (from datasets) (1.26.4)\n",
            "Requirement already satisfied: pyarrow>=15.0.0 in /usr/local/lib/python3.11/dist-packages (from datasets) (18.1.0)\n",
            "Collecting dill<0.3.9,>=0.3.0 (from datasets)\n",
            "  Downloading dill-0.3.8-py3-none-any.whl.metadata (10 kB)\n",
            "Requirement already satisfied: pandas in /usr/local/lib/python3.11/dist-packages (from datasets) (2.2.2)\n",
            "Requirement already satisfied: requests>=2.32.2 in /usr/local/lib/python3.11/dist-packages (from datasets) (2.32.3)\n",
            "Requirement already satisfied: tqdm>=4.66.3 in /usr/local/lib/python3.11/dist-packages (from datasets) (4.67.1)\n",
            "Collecting xxhash (from datasets)\n",
            "  Downloading xxhash-3.5.0-cp311-cp311-manylinux_2_17_x86_64.manylinux2014_x86_64.whl.metadata (12 kB)\n",
            "Collecting multiprocess<0.70.17 (from datasets)\n",
            "  Downloading multiprocess-0.70.16-py311-none-any.whl.metadata (7.2 kB)\n",
            "Requirement already satisfied: fsspec<=2024.12.0,>=2023.1.0 in /usr/local/lib/python3.11/dist-packages (from fsspec[http]<=2024.12.0,>=2023.1.0->datasets) (2024.10.0)\n",
            "Requirement already satisfied: aiohttp in /usr/local/lib/python3.11/dist-packages (from datasets) (3.11.13)\n",
            "Requirement already satisfied: huggingface-hub>=0.24.0 in /usr/local/lib/python3.11/dist-packages (from datasets) (0.28.1)\n",
            "Requirement already satisfied: packaging in /usr/local/lib/python3.11/dist-packages (from datasets) (24.2)\n",
            "Requirement already satisfied: pyyaml>=5.1 in /usr/local/lib/python3.11/dist-packages (from datasets) (6.0.2)\n",
            "Requirement already satisfied: aiohappyeyeballs>=2.3.0 in /usr/local/lib/python3.11/dist-packages (from aiohttp->datasets) (2.4.6)\n",
            "Requirement already satisfied: aiosignal>=1.1.2 in /usr/local/lib/python3.11/dist-packages (from aiohttp->datasets) (1.3.2)\n",
            "Requirement already satisfied: attrs>=17.3.0 in /usr/local/lib/python3.11/dist-packages (from aiohttp->datasets) (25.1.0)\n",
            "Requirement already satisfied: frozenlist>=1.1.1 in /usr/local/lib/python3.11/dist-packages (from aiohttp->datasets) (1.5.0)\n",
            "Requirement already satisfied: multidict<7.0,>=4.5 in /usr/local/lib/python3.11/dist-packages (from aiohttp->datasets) (6.1.0)\n",
            "Requirement already satisfied: propcache>=0.2.0 in /usr/local/lib/python3.11/dist-packages (from aiohttp->datasets) (0.3.0)\n",
            "Requirement already satisfied: yarl<2.0,>=1.17.0 in /usr/local/lib/python3.11/dist-packages (from aiohttp->datasets) (1.18.3)\n",
            "Requirement already satisfied: typing-extensions>=3.7.4.3 in /usr/local/lib/python3.11/dist-packages (from huggingface-hub>=0.24.0->datasets) (4.12.2)\n",
            "Requirement already satisfied: charset-normalizer<4,>=2 in /usr/local/lib/python3.11/dist-packages (from requests>=2.32.2->datasets) (3.4.1)\n",
            "Requirement already satisfied: idna<4,>=2.5 in /usr/local/lib/python3.11/dist-packages (from requests>=2.32.2->datasets) (3.10)\n",
            "Requirement already satisfied: urllib3<3,>=1.21.1 in /usr/local/lib/python3.11/dist-packages (from requests>=2.32.2->datasets) (2.3.0)\n",
            "Requirement already satisfied: certifi>=2017.4.17 in /usr/local/lib/python3.11/dist-packages (from requests>=2.32.2->datasets) (2025.1.31)\n",
            "Requirement already satisfied: python-dateutil>=2.8.2 in /usr/local/lib/python3.11/dist-packages (from pandas->datasets) (2.8.2)\n",
            "Requirement already satisfied: pytz>=2020.1 in /usr/local/lib/python3.11/dist-packages (from pandas->datasets) (2025.1)\n",
            "Requirement already satisfied: tzdata>=2022.7 in /usr/local/lib/python3.11/dist-packages (from pandas->datasets) (2025.1)\n",
            "Requirement already satisfied: six>=1.5 in /usr/local/lib/python3.11/dist-packages (from python-dateutil>=2.8.2->pandas->datasets) (1.17.0)\n",
            "Downloading datasets-3.3.2-py3-none-any.whl (485 kB)\n",
            "\u001b[2K   \u001b[90m━━━━━━━━━━━━━━━━━━━━━━━━━━━━━━━━━━━━━━━━\u001b[0m \u001b[32m485.4/485.4 kB\u001b[0m \u001b[31m12.7 MB/s\u001b[0m eta \u001b[36m0:00:00\u001b[0m\n",
            "\u001b[?25hDownloading dill-0.3.8-py3-none-any.whl (116 kB)\n",
            "\u001b[2K   \u001b[90m━━━━━━━━━━━━━━━━━━━━━━━━━━━━━━━━━━━━━━━━\u001b[0m \u001b[32m116.3/116.3 kB\u001b[0m \u001b[31m10.3 MB/s\u001b[0m eta \u001b[36m0:00:00\u001b[0m\n",
            "\u001b[?25hDownloading multiprocess-0.70.16-py311-none-any.whl (143 kB)\n",
            "\u001b[2K   \u001b[90m━━━━━━━━━━━━━━━━━━━━━━━━━━━━━━━━━━━━━━━━\u001b[0m \u001b[32m143.5/143.5 kB\u001b[0m \u001b[31m10.6 MB/s\u001b[0m eta \u001b[36m0:00:00\u001b[0m\n",
            "\u001b[?25hDownloading xxhash-3.5.0-cp311-cp311-manylinux_2_17_x86_64.manylinux2014_x86_64.whl (194 kB)\n",
            "\u001b[2K   \u001b[90m━━━━━━━━━━━━━━━━━━━━━━━━━━━━━━━━━━━━━━━━\u001b[0m \u001b[32m194.8/194.8 kB\u001b[0m \u001b[31m16.3 MB/s\u001b[0m eta \u001b[36m0:00:00\u001b[0m\n",
            "\u001b[?25hInstalling collected packages: xxhash, dill, multiprocess, datasets\n",
            "Successfully installed datasets-3.3.2 dill-0.3.8 multiprocess-0.70.16 xxhash-3.5.0\n",
            "Name: torchtext\n",
            "Version: 0.15.1\n",
            "Summary: Text utilities and datasets for PyTorch\n",
            "Home-page: https://github.com/pytorch/text\n",
            "Author: PyTorch core devs and James Bradbury\n",
            "Author-email: jekbradbury@gmail.com\n",
            "License: BSD\n",
            "Location: /usr/local/lib/python3.11/dist-packages\n",
            "Requires: numpy, requests, torch, torchdata, tqdm\n",
            "Required-by: \n",
            "Name: torch\n",
            "Version: 2.0.0\n",
            "Summary: Tensors and Dynamic neural networks in Python with strong GPU acceleration\n",
            "Home-page: https://pytorch.org/\n",
            "Author: PyTorch Team\n",
            "Author-email: packages@pytorch.org\n",
            "License: BSD-3\n",
            "Location: /usr/local/lib/python3.11/dist-packages\n",
            "Requires: filelock, jinja2, networkx, nvidia-cublas-cu11, nvidia-cuda-cupti-cu11, nvidia-cuda-nvrtc-cu11, nvidia-cuda-runtime-cu11, nvidia-cudnn-cu11, nvidia-cufft-cu11, nvidia-curand-cu11, nvidia-cusolver-cu11, nvidia-cusparse-cu11, nvidia-nccl-cu11, nvidia-nvtx-cu11, sympy, triton, typing-extensions\n",
            "Required-by: accelerate, fastai, peft, sentence-transformers, timm, torchaudio, torchdata, torchtext, torchvision, triton\n"
          ]
        }
      ]
    },
    {
      "cell_type": "code",
      "execution_count": null,
      "metadata": {
        "id": "1Pk-k4Q9eSc-"
      },
      "outputs": [],
      "source": [
        "\n",
        "import io\n",
        "import os\n",
        "import re\n",
        "import shutil\n",
        "import string\n",
        "import torch\n",
        "import torchtext"
      ]
    },
    {
      "cell_type": "code",
      "source": [
        "\n",
        "from datasets import load_dataset\n",
        "\n",
        "imdb = load_dataset(\"imdb\")\n",
        "\n",
        "train_dataset = imdb[\"train\"]\n",
        "test_dataset = imdb[\"test\"]\n"
      ],
      "metadata": {
        "id": "fyMOdKKPeny7",
        "colab": {
          "base_uri": "https://localhost:8080/",
          "height": 348,
          "referenced_widgets": [
            "0ba1719ad5bc484c867cd1f5afcc32db",
            "91b373f406684ab488f122cb87a72b21",
            "4e82e24faa304138bb98667d0bd9fdba",
            "e2609dcfd7d9443e971d65c1cc1436d2",
            "fcef9c86d07a4fef8511bd9f75152268",
            "b5e9088c80e946c3943d88c41623ddb0",
            "c2458d92efcb4194a860f65f791f1650",
            "d2b8bd1b37bc4b2b97e84def31c9c4f9",
            "2a9975eab56540a0abf6b73b931b63cd",
            "e4c1c6f8e13f4d248911439f23ecbfc7",
            "ad83b3557c67451e9a0da2a003bfa376",
            "387acf274cdf4de295d1cf39f7484293",
            "acd46e9d202b479a8fb405a35a1f29a3",
            "ca07f69216b24e699bf631a9a42c5ec9",
            "f3641216da0b4f7395ca5518a3608743",
            "4912ea5b7efa4065934065bab7b8b246",
            "9f512c17306b42c2875e8c68437c4646",
            "0b9b34e6ab6f4d73b779fdacbede4338",
            "1a7d8716dac34b80a58ab589e5fa67f7",
            "c148917916254d64ac0bfcb289d517a9",
            "4244d71701f148528984fba0c2b13a93",
            "dd8e414b9cb043deaef20426b4e47478",
            "35d9c19af35242cd85d8b215a6877220",
            "3cad2579527e4ce0bab06c6fdadcc403",
            "0d307b05c42c44be866832efe8c71b09",
            "51ae5bcb3cbf4c20928241be1cdc85cf",
            "c770c63918704843995e1f64dd68307a",
            "339334b759e94925b5ed330f7318bcdf",
            "8007632cdf9744bcb7c3ae3517736aee",
            "6e3e68ca892d46f48c9c7b830dcc0bd4",
            "49dd71a25b9c46c1aa1377abc9184ae9",
            "25c74176f94f40f582302f984e82ec1e",
            "467a3b522e964541a59821816645eb68",
            "3fd174f19bb14edcb64c03cb18413bc9",
            "7480430ea7fb4b06b30893c3b2162e6f",
            "2604c0c724ba4dd385a77de3b3d0647f",
            "ca724e0da56148aa96a32c7003b503a5",
            "1f099c053ef04af88c4ae4b2582a0d10",
            "a8690eefb2e649c9897fe704e527db05",
            "f2d44eb679494a7c98a8c99b52f0d342",
            "b44da8c2337f4fa3bc7bc663c03f6e89",
            "bf5b7731657d42d0ba3706a54c43a80e",
            "4c1d060777bf476c9b381044c551216d",
            "d8c5ef035dd445c0a42d41a316596a10",
            "c56b5724b2c04c81a35933cafeb25929",
            "e014001d6dad40168a3472b23de55f03",
            "c15ad877b8eb4565a71605d6fd2f055f",
            "46e97024176b4a67aa5f921e66b51849",
            "bc1c8c8a5c094a538ffa58f02785eb82",
            "3155d8643fcd4f238afeb7d0babd4d7f",
            "078205090d4a48758e0ca5358ac334d0",
            "acd95a0488a9435982a8222eec8c70ca",
            "e764d38e2d9c467089eec434d88a76f3",
            "84261d53ffb94d85a4b7f5e97696e8d6",
            "328ccf8675114b7d9d3ba203fe304f4f",
            "9c8833339e2d4a8584fbf7bea4803d54",
            "65c54134c98342b0928e4fa210eea376",
            "73f01ead4f484557bd04f82cf3d45557",
            "715d6263e2224fa3ad946782c822b4ea",
            "cd4ab762b4974c849ccf89f40bbb0eab",
            "6c12658dc6fc4b59a66688ec112484e0",
            "b789caf776df4f04b85cd35bac7570f3",
            "1d5bd3fea7114196b775b32ad19713e8",
            "26447dc10bca4c5f9ae2b9b42374be70",
            "bb607a51fea14bcc8667769a38e6c2d5",
            "cc70430ab986446a9361195f5a2a0e28",
            "915cf55ef6d941b2b491149e40500538",
            "62d6518d86dc4ef2979564d5a51f2c12",
            "f725ed4cc25f450e9c6af321338569e1",
            "a86b4a6f10924f4a89f77ab0dd8e5f94",
            "a614514f87b243efb95b6e1f729cd874",
            "9c602d6e4f424f398dd8b66975c5bbbb",
            "3f875cf5b824449ea58576da0b4f598d",
            "35fa723c50754bdf9a63b6150ff7d460",
            "8afefc58c17a4abeb09e39c839f08c1b",
            "e1222aba297b473c93c9b2c602babfc4",
            "70b996178cba4563b39a696459bdb094"
          ]
        },
        "outputId": "03e9f852-82da-4355-91a1-58e115935dab"
      },
      "execution_count": null,
      "outputs": [
        {
          "output_type": "stream",
          "name": "stderr",
          "text": [
            "/usr/local/lib/python3.11/dist-packages/huggingface_hub/utils/_auth.py:94: UserWarning: \n",
            "The secret `HF_TOKEN` does not exist in your Colab secrets.\n",
            "To authenticate with the Hugging Face Hub, create a token in your settings tab (https://huggingface.co/settings/tokens), set it as secret in your Google Colab and restart your session.\n",
            "You will be able to reuse this secret in all of your notebooks.\n",
            "Please note that authentication is recommended but still optional to access public models or datasets.\n",
            "  warnings.warn(\n"
          ]
        },
        {
          "output_type": "display_data",
          "data": {
            "text/plain": [
              "README.md:   0%|          | 0.00/7.81k [00:00<?, ?B/s]"
            ],
            "application/vnd.jupyter.widget-view+json": {
              "version_major": 2,
              "version_minor": 0,
              "model_id": "0ba1719ad5bc484c867cd1f5afcc32db"
            }
          },
          "metadata": {}
        },
        {
          "output_type": "display_data",
          "data": {
            "text/plain": [
              "train-00000-of-00001.parquet:   0%|          | 0.00/21.0M [00:00<?, ?B/s]"
            ],
            "application/vnd.jupyter.widget-view+json": {
              "version_major": 2,
              "version_minor": 0,
              "model_id": "387acf274cdf4de295d1cf39f7484293"
            }
          },
          "metadata": {}
        },
        {
          "output_type": "display_data",
          "data": {
            "text/plain": [
              "test-00000-of-00001.parquet:   0%|          | 0.00/20.5M [00:00<?, ?B/s]"
            ],
            "application/vnd.jupyter.widget-view+json": {
              "version_major": 2,
              "version_minor": 0,
              "model_id": "35d9c19af35242cd85d8b215a6877220"
            }
          },
          "metadata": {}
        },
        {
          "output_type": "display_data",
          "data": {
            "text/plain": [
              "unsupervised-00000-of-00001.parquet:   0%|          | 0.00/42.0M [00:00<?, ?B/s]"
            ],
            "application/vnd.jupyter.widget-view+json": {
              "version_major": 2,
              "version_minor": 0,
              "model_id": "3fd174f19bb14edcb64c03cb18413bc9"
            }
          },
          "metadata": {}
        },
        {
          "output_type": "display_data",
          "data": {
            "text/plain": [
              "Generating train split:   0%|          | 0/25000 [00:00<?, ? examples/s]"
            ],
            "application/vnd.jupyter.widget-view+json": {
              "version_major": 2,
              "version_minor": 0,
              "model_id": "c56b5724b2c04c81a35933cafeb25929"
            }
          },
          "metadata": {}
        },
        {
          "output_type": "display_data",
          "data": {
            "text/plain": [
              "Generating test split:   0%|          | 0/25000 [00:00<?, ? examples/s]"
            ],
            "application/vnd.jupyter.widget-view+json": {
              "version_major": 2,
              "version_minor": 0,
              "model_id": "9c8833339e2d4a8584fbf7bea4803d54"
            }
          },
          "metadata": {}
        },
        {
          "output_type": "display_data",
          "data": {
            "text/plain": [
              "Generating unsupervised split:   0%|          | 0/50000 [00:00<?, ? examples/s]"
            ],
            "application/vnd.jupyter.widget-view+json": {
              "version_major": 2,
              "version_minor": 0,
              "model_id": "915cf55ef6d941b2b491149e40500538"
            }
          },
          "metadata": {}
        }
      ]
    },
    {
      "cell_type": "code",
      "source": [
        "train_dataset[0]"
      ],
      "metadata": {
        "colab": {
          "base_uri": "https://localhost:8080/"
        },
        "id": "9n4R4Og3hiGG",
        "outputId": "692ef82f-c3c3-4dd2-f077-d4a805da9b85"
      },
      "execution_count": null,
      "outputs": [
        {
          "output_type": "execute_result",
          "data": {
            "text/plain": [
              "{'text': 'I rented I AM CURIOUS-YELLOW from my video store because of all the controversy that surrounded it when it was first released in 1967. I also heard that at first it was seized by U.S. customs if it ever tried to enter this country, therefore being a fan of films considered \"controversial\" I really had to see this for myself.<br /><br />The plot is centered around a young Swedish drama student named Lena who wants to learn everything she can about life. In particular she wants to focus her attentions to making some sort of documentary on what the average Swede thought about certain political issues such as the Vietnam War and race issues in the United States. In between asking politicians and ordinary denizens of Stockholm about their opinions on politics, she has sex with her drama teacher, classmates, and married men.<br /><br />What kills me about I AM CURIOUS-YELLOW is that 40 years ago, this was considered pornographic. Really, the sex and nudity scenes are few and far between, even then it\\'s not shot like some cheaply made porno. While my countrymen mind find it shocking, in reality sex and nudity are a major staple in Swedish cinema. Even Ingmar Bergman, arguably their answer to good old boy John Ford, had sex scenes in his films.<br /><br />I do commend the filmmakers for the fact that any sex shown in the film is shown for artistic purposes rather than just to shock people and make money to be shown in pornographic theaters in America. I AM CURIOUS-YELLOW is a good film for anyone wanting to study the meat and potatoes (no pun intended) of Swedish cinema. But really, this film doesn\\'t have much of a plot.',\n",
              " 'label': 0}"
            ]
          },
          "metadata": {},
          "execution_count": 4
        }
      ]
    },
    {
      "cell_type": "code",
      "source": [
        "train_dataset.features"
      ],
      "metadata": {
        "colab": {
          "base_uri": "https://localhost:8080/"
        },
        "id": "8X6ogJhyF5en",
        "outputId": "b7a18549-4a8b-44c4-d2d5-b042e072a4e2"
      },
      "execution_count": null,
      "outputs": [
        {
          "output_type": "execute_result",
          "data": {
            "text/plain": [
              "{'text': Value(dtype='string', id=None),\n",
              " 'label': ClassLabel(names=['neg', 'pos'], id=None)}"
            ]
          },
          "metadata": {},
          "execution_count": 5
        }
      ]
    },
    {
      "cell_type": "code",
      "source": [
        "train_dataset, test_dataset"
      ],
      "metadata": {
        "colab": {
          "base_uri": "https://localhost:8080/"
        },
        "id": "HieUieQlDurv",
        "outputId": "80e1ba1a-e1c1-4d75-a7c9-72d033204f7e"
      },
      "execution_count": null,
      "outputs": [
        {
          "output_type": "execute_result",
          "data": {
            "text/plain": [
              "(Dataset({\n",
              "     features: ['text', 'label'],\n",
              "     num_rows: 25000\n",
              " }),\n",
              " Dataset({\n",
              "     features: ['text', 'label'],\n",
              "     num_rows: 25000\n",
              " }))"
            ]
          },
          "metadata": {},
          "execution_count": 6
        }
      ]
    },
    {
      "cell_type": "code",
      "source": [
        "train_dataset.features"
      ],
      "metadata": {
        "colab": {
          "base_uri": "https://localhost:8080/"
        },
        "id": "OQM8CzkDEE3N",
        "outputId": "209bb2db-8fb0-43d0-881d-32944bff5a84"
      },
      "execution_count": null,
      "outputs": [
        {
          "output_type": "execute_result",
          "data": {
            "text/plain": [
              "{'text': Value(dtype='string', id=None),\n",
              " 'label': ClassLabel(names=['neg', 'pos'], id=None)}"
            ]
          },
          "metadata": {},
          "execution_count": 7
        }
      ]
    },
    {
      "cell_type": "code",
      "source": [
        "import numpy as np\n",
        "\n",
        "seed = 1234\n",
        "\n",
        "np.random.seed(seed)\n",
        "torch.manual_seed(seed)"
      ],
      "metadata": {
        "colab": {
          "base_uri": "https://localhost:8080/"
        },
        "id": "Y8JksdmPh4WU",
        "outputId": "d2784edb-cd11-46d3-d287-9156aa1544bb"
      },
      "execution_count": null,
      "outputs": [
        {
          "output_type": "execute_result",
          "data": {
            "text/plain": [
              "<torch._C.Generator at 0x7e6afc23a330>"
            ]
          },
          "metadata": {},
          "execution_count": 8
        }
      ]
    },
    {
      "cell_type": "code",
      "source": [
        "# tokenization\n",
        "import torchtext\n",
        "tokenizer = torchtext.data.utils.get_tokenizer(\"basic_english\")"
      ],
      "metadata": {
        "id": "w9qRoDgqqZBw"
      },
      "execution_count": null,
      "outputs": []
    },
    {
      "cell_type": "code",
      "source": [
        "def text_tokenizer_example(example, tokenizer, max_length):\n",
        "  tokens = tokenizer(example[\"text\"])\n",
        "  tokens = tokens[:max_length] # we only get all the words upto index max_length\n",
        "  out = {\"tokens\": tokens}\n",
        "  return out"
      ],
      "metadata": {
        "id": "xLEPIc3ozGFC"
      },
      "execution_count": null,
      "outputs": []
    },
    {
      "cell_type": "code",
      "source": [
        "max_length = 256\n",
        "train_dataset = train_dataset.map(text_tokenizer_example, fn_kwargs={\"tokenizer\": tokenizer, \"max_length\": max_length})"
      ],
      "metadata": {
        "id": "tMeml_mAT6Yj",
        "colab": {
          "base_uri": "https://localhost:8080/",
          "height": 49,
          "referenced_widgets": [
            "e097d7dc880b408da7dcb320872cad27",
            "2e726829048b4948a5ab562cb11ba186",
            "eacc21e92fd149438665a659b16ddeca",
            "1da514bf88b7456d9fdaadcc10fe6b00",
            "a0ff7badfb274e1ca28ba862d883fe85",
            "63f823fd47cc43efb884d41c907d620a",
            "8489dcd5d5c14a75a17ef0740568d082",
            "37a0e800c8df490d85d7ba17de3fa60b",
            "b9b72d13751943bfaf4d7475f41801f6",
            "c9ed3f2815194f129d80254b14b01d99",
            "48b2a0ce020b4c40bfb61567edf26a93"
          ]
        },
        "outputId": "db262f75-4ea0-4f31-be33-ede6fb5b67e7"
      },
      "execution_count": null,
      "outputs": [
        {
          "output_type": "display_data",
          "data": {
            "text/plain": [
              "Map:   0%|          | 0/25000 [00:00<?, ? examples/s]"
            ],
            "application/vnd.jupyter.widget-view+json": {
              "version_major": 2,
              "version_minor": 0,
              "model_id": "e097d7dc880b408da7dcb320872cad27"
            }
          },
          "metadata": {}
        }
      ]
    },
    {
      "cell_type": "code",
      "source": [
        "test_dataset = test_dataset.map(text_tokenizer_example, fn_kwargs={\"tokenizer\": tokenizer, \"max_length\": max_length})"
      ],
      "metadata": {
        "id": "OtBv4G4eUkE1",
        "colab": {
          "base_uri": "https://localhost:8080/",
          "height": 49,
          "referenced_widgets": [
            "f581811e32cd44ea9ab83d480badb1d9",
            "32e2b69c7c534de685ac2209cf4c3a79",
            "2bec92c7ab84431289d74660c501d439",
            "a7f01169149d4950bd854eaf0f1b6d71",
            "c1bd5c10f11a48ed8bf6d24586e8338d",
            "e15d57cd85904e2cbdbe68b38f3bccaf",
            "be9b36eda1154851942b5184fe027ef8",
            "289fc478fcf8499db1a00650d4938783",
            "35398ca649874af5b5513d55aa25092c",
            "73d4ed44d28647c292fcd2cb27d1187f",
            "6058db4d7bac49f6b10cddd1c4adce5d"
          ]
        },
        "outputId": "fc90513c-856a-45e0-a77e-68fe292c2018"
      },
      "execution_count": null,
      "outputs": [
        {
          "output_type": "display_data",
          "data": {
            "text/plain": [
              "Map:   0%|          | 0/25000 [00:00<?, ? examples/s]"
            ],
            "application/vnd.jupyter.widget-view+json": {
              "version_major": 2,
              "version_minor": 0,
              "model_id": "f581811e32cd44ea9ab83d480badb1d9"
            }
          },
          "metadata": {}
        }
      ]
    },
    {
      "cell_type": "code",
      "source": [
        "train_dataset.features"
      ],
      "metadata": {
        "colab": {
          "base_uri": "https://localhost:8080/"
        },
        "id": "1j0SGjMRDRLA",
        "outputId": "187d9426-2279-43ab-d073-1a7516e15832"
      },
      "execution_count": null,
      "outputs": [
        {
          "output_type": "execute_result",
          "data": {
            "text/plain": [
              "{'text': Value(dtype='string', id=None),\n",
              " 'label': ClassLabel(names=['neg', 'pos'], id=None),\n",
              " 'tokens': Sequence(feature=Value(dtype='string', id=None), length=-1, id=None)}"
            ]
          },
          "metadata": {},
          "execution_count": 13
        }
      ]
    },
    {
      "cell_type": "code",
      "source": [
        "# create validation set\n",
        "\n",
        "ratio =0.25\n",
        "\n",
        "tra_data = train_dataset.train_test_split(test_size=ratio)\n",
        "train_dataset = tra_data[\"train\"]\n",
        "valid_dataset = tra_data['test']"
      ],
      "metadata": {
        "id": "9cxTSGhB-jce"
      },
      "execution_count": null,
      "outputs": []
    },
    {
      "cell_type": "code",
      "source": [
        "train_dataset['label'][:20]"
      ],
      "metadata": {
        "colab": {
          "base_uri": "https://localhost:8080/"
        },
        "id": "T4ocuc05hMIZ",
        "outputId": "24bc63cb-29ce-45f6-cb7c-8481a5695955"
      },
      "execution_count": null,
      "outputs": [
        {
          "output_type": "execute_result",
          "data": {
            "text/plain": [
              "[1, 0, 0, 1, 0, 1, 0, 0, 0, 1, 0, 0, 0, 0, 1, 0, 1, 0, 1, 0]"
            ]
          },
          "metadata": {},
          "execution_count": 15
        }
      ]
    },
    {
      "cell_type": "code",
      "source": [
        "train_dataset.features"
      ],
      "metadata": {
        "colab": {
          "base_uri": "https://localhost:8080/"
        },
        "id": "npYeCgQp1ZTp",
        "outputId": "4a06f922-a2f0-4e95-d43b-47cf3094223f"
      },
      "execution_count": null,
      "outputs": [
        {
          "output_type": "execute_result",
          "data": {
            "text/plain": [
              "{'text': Value(dtype='string', id=None),\n",
              " 'label': ClassLabel(names=['neg', 'pos'], id=None),\n",
              " 'tokens': Sequence(feature=Value(dtype='string', id=None), length=-1, id=None)}"
            ]
          },
          "metadata": {},
          "execution_count": 16
        }
      ]
    },
    {
      "cell_type": "code",
      "source": [
        "# build vocabulary\n",
        "\n",
        "min_freq = 5 # retrive words that appears at least 5 times in the entire dataset\n",
        "special_tokens = [\"<unk>\", \"<pad>\"]\n",
        "\n",
        "vocab = torchtext.vocab.build_vocab_from_iterator(\n",
        "    train_dataset[\"tokens\"],\n",
        "    min_freq=min_freq,\n",
        "    specials=special_tokens,\n",
        ")"
      ],
      "metadata": {
        "id": "5xKM24-8Uzz1"
      },
      "execution_count": null,
      "outputs": []
    },
    {
      "cell_type": "code",
      "source": [
        "len(vocab)"
      ],
      "metadata": {
        "id": "Qnm7CxhoVNiZ",
        "colab": {
          "base_uri": "https://localhost:8080/"
        },
        "outputId": "ba15af6c-aebc-4f65-ccbd-0feb402bc54c"
      },
      "execution_count": null,
      "outputs": [
        {
          "output_type": "execute_result",
          "data": {
            "text/plain": [
              "21635"
            ]
          },
          "metadata": {},
          "execution_count": 18
        }
      ]
    },
    {
      "cell_type": "code",
      "source": [
        "unk_index = vocab[\"<unk>\"]\n",
        "pad_index = vocab[\"<pad>\"]"
      ],
      "metadata": {
        "id": "AolaqmgeiBC7"
      },
      "execution_count": null,
      "outputs": []
    },
    {
      "cell_type": "code",
      "source": [
        "# set the default token if words that are not in this vocab\n",
        "vocab.set_default_index(unk_index)\n",
        "vocab['some_tokens']\n",
        "\n",
        "# to look up the indices of some words\n",
        "vocab.lookup_indices([\"hello\", \"world\", \"views\", \"<pad>\"])"
      ],
      "metadata": {
        "colab": {
          "base_uri": "https://localhost:8080/"
        },
        "id": "aUdByDv9iUJd",
        "outputId": "bde1f89f-3706-4349-f2f3-16309f495e4e"
      },
      "execution_count": null,
      "outputs": [
        {
          "output_type": "execute_result",
          "data": {
            "text/plain": [
              "[5516, 184, 2810, 1]"
            ]
          },
          "metadata": {},
          "execution_count": 20
        }
      ]
    },
    {
      "cell_type": "code",
      "source": [
        "len(train_dataset), len(valid_dataset), len(test_dataset)"
      ],
      "metadata": {
        "colab": {
          "base_uri": "https://localhost:8080/"
        },
        "id": "7tG8HJ-v9oYH",
        "outputId": "a32ab757-f56a-46fc-ce8e-8320b1538e45"
      },
      "execution_count": null,
      "outputs": [
        {
          "output_type": "execute_result",
          "data": {
            "text/plain": [
              "(18750, 6250, 25000)"
            ]
          },
          "metadata": {},
          "execution_count": 21
        }
      ]
    },
    {
      "cell_type": "code",
      "source": [
        "# make sure all datasets have the same features sets and same mapping\n",
        "# get the token ids for each sample\n",
        "def numericalize_example(example, vocab):\n",
        "    ids = vocab.lookup_indices(example[\"tokens\"])\n",
        "    return {\"ids\": ids}\n",
        "\n",
        "\n",
        "train_data = train_dataset.map(numericalize_example, fn_kwargs={\"vocab\": vocab})\n",
        "valid_data = valid_dataset.map(numericalize_example, fn_kwargs={\"vocab\": vocab})\n",
        "test_data = test_dataset.map(numericalize_example, fn_kwargs={\"vocab\": vocab})\n"
      ],
      "metadata": {
        "id": "TjhqmIo8jFeo",
        "colab": {
          "base_uri": "https://localhost:8080/",
          "height": 113,
          "referenced_widgets": [
            "fc0511d7ed214c82ad2fc35cffb1d7b5",
            "fb4012c0ce1d43709f10726c105057b9",
            "b84b907bf9274f00b8567cae7d2608a0",
            "46ee04ff297f48a7900491aee4e329ac",
            "eb38901adcd64067b4d3a0d20767538e",
            "c62081709cf34deebf687c796fd2c664",
            "5585db107e174a48974c5b1212e33b9f",
            "f114edbc13bb447e9c284eadc6eb4ed1",
            "cfce51360cf74dda8f09be2f051db264",
            "2ed4192f51ba45f2ae1548bf44dc7468",
            "54b9de7c457443258aa104df8c497d94",
            "e3c70af3e3b747a98af6756a4b39daf0",
            "089ee11a2f444ee2b8ed65046fc2c145",
            "70cdecb9708443d0862fa14ada0283d1",
            "4e06c5bbf2d0432aaad5798be0b20cc2",
            "8433c7a8dd194ba89f81d427a02afb23",
            "d41147a5e47f48c2a1f0c5f9a11b1ffc",
            "2aa64104a83743aab1ea24cd04897c38",
            "f07b25d28ff042129ca12d2ffbd5e826",
            "f7eaf910f61646459a1e25a8187628f4",
            "4dc218fc9b4841349d090c2e9ac04fc9",
            "4e16062d524d4fc29d40f229b411b44d",
            "41a41d7c30604137a101e66f56f79361",
            "aabe6201b23646738536f53e4ea04978",
            "c4143a8d612d4ae487eadf3edaabd280",
            "ee0db2b4d1874164b6894b1e77ce2653",
            "fe06fe0dbbd94b02a402c492bd05f0c5",
            "c7bb23f7f4ea479b9b43dc8bae0ddb66",
            "a1a18272a15d4765ac00f99305a619f1",
            "e6a8806957774b8eae2afa72931e87d9",
            "32292c107d05459787cff1bfa19eb6fa",
            "1ea23971365543a7807c714a6fe7b3b9",
            "6ae213faae4e4baab10a489ba5cc970e"
          ]
        },
        "outputId": "b3604b46-f53a-4040-e1c2-0113ba495e55"
      },
      "execution_count": null,
      "outputs": [
        {
          "output_type": "display_data",
          "data": {
            "text/plain": [
              "Map:   0%|          | 0/18750 [00:00<?, ? examples/s]"
            ],
            "application/vnd.jupyter.widget-view+json": {
              "version_major": 2,
              "version_minor": 0,
              "model_id": "fc0511d7ed214c82ad2fc35cffb1d7b5"
            }
          },
          "metadata": {}
        },
        {
          "output_type": "display_data",
          "data": {
            "text/plain": [
              "Map:   0%|          | 0/6250 [00:00<?, ? examples/s]"
            ],
            "application/vnd.jupyter.widget-view+json": {
              "version_major": 2,
              "version_minor": 0,
              "model_id": "e3c70af3e3b747a98af6756a4b39daf0"
            }
          },
          "metadata": {}
        },
        {
          "output_type": "display_data",
          "data": {
            "text/plain": [
              "Map:   0%|          | 0/25000 [00:00<?, ? examples/s]"
            ],
            "application/vnd.jupyter.widget-view+json": {
              "version_major": 2,
              "version_minor": 0,
              "model_id": "41a41d7c30604137a101e66f56f79361"
            }
          },
          "metadata": {}
        }
      ]
    },
    {
      "cell_type": "code",
      "source": [
        "print(train_data[0]['ids'][:10])\n",
        "print(len(train_data[0]['ids']))"
      ],
      "metadata": {
        "colab": {
          "base_uri": "https://localhost:8080/"
        },
        "id": "gHqaMk70oLLA",
        "outputId": "68484439-46eb-4a79-e6d4-669e395ab8af"
      },
      "execution_count": null,
      "outputs": [
        {
          "output_type": "stream",
          "name": "stdout",
          "text": [
            "[180, 4, 14, 10, 191, 841, 34, 7, 2, 121]\n",
            "135\n"
          ]
        }
      ]
    },
    {
      "cell_type": "code",
      "source": [
        "train_data.features"
      ],
      "metadata": {
        "colab": {
          "base_uri": "https://localhost:8080/"
        },
        "id": "QEGyhYsE1fYg",
        "outputId": "2c3a1b86-ec39-4ef6-9fe9-ca0ac6f8bed2"
      },
      "execution_count": null,
      "outputs": [
        {
          "output_type": "execute_result",
          "data": {
            "text/plain": [
              "{'text': Value(dtype='string', id=None),\n",
              " 'label': ClassLabel(names=['neg', 'pos'], id=None),\n",
              " 'tokens': Sequence(feature=Value(dtype='string', id=None), length=-1, id=None),\n",
              " 'ids': Sequence(feature=Value(dtype='int64', id=None), length=-1, id=None)}"
            ]
          },
          "metadata": {},
          "execution_count": 24
        }
      ]
    },
    {
      "cell_type": "code",
      "source": [
        "vocab.lookup_tokens(train_data[0][\"ids\"][:10])"
      ],
      "metadata": {
        "colab": {
          "base_uri": "https://localhost:8080/"
        },
        "id": "3UJwPPPgob45",
        "outputId": "6696fad9-a781-4277-95c9-01755908bc65"
      },
      "execution_count": null,
      "outputs": [
        {
          "output_type": "execute_result",
          "data": {
            "text/plain": [
              "['look', ',', 'this', 'is', 'quite', 'possibly', 'one', 'of', 'the', 'best']"
            ]
          },
          "metadata": {},
          "execution_count": 25
        }
      ]
    },
    {
      "cell_type": "code",
      "source": [
        "# convert the data into tensors\n",
        "train_data = train_data.with_format(type=\"torch\", columns=[\"ids\", \"label\"])\n",
        "valid_data = valid_data.with_format(type=\"torch\", columns=[\"ids\", \"label\"])\n",
        "test_data = test_data.with_format(type=\"torch\", columns=[\"ids\", \"label\"])"
      ],
      "metadata": {
        "id": "4pFXG9PbojEY"
      },
      "execution_count": null,
      "outputs": []
    },
    {
      "cell_type": "code",
      "source": [
        "\n",
        "import collections\n",
        "import matplotlib.pyplot as plt\n",
        "import numpy as np\n",
        "import torch.nn as nn\n",
        "import torch.optim as optim\n",
        "import tqdm\n",
        "# the next is to create data loaders, we can get batch samples when training, we also need to do padding\n",
        "def get_collate_fn(pad_index):\n",
        "    def collate_fn(batch):\n",
        "        batch_ids = [i[\"ids\"] for i in batch]\n",
        "        batch_ids = nn.utils.rnn.pad_sequence(\n",
        "            batch_ids, padding_value=pad_index, batch_first=True\n",
        "        )\n",
        "        batch_label = [i[\"label\"] for i in batch]\n",
        "        batch_label = torch.stack(batch_label)\n",
        "        batch = {\"ids\": batch_ids, \"label\": batch_label}\n",
        "        return batch\n",
        "\n",
        "    return collate_fn\n",
        "\n",
        "def get_data_loader(dataset, batch_size, pad_index, shuffle=False):\n",
        "    collate_fn = get_collate_fn(pad_index)\n",
        "    data_loader = torch.utils.data.DataLoader(\n",
        "        dataset=dataset,\n",
        "        batch_size=batch_size,\n",
        "        collate_fn=collate_fn,\n",
        "        shuffle=shuffle,\n",
        "    )\n",
        "    return data_loader"
      ],
      "metadata": {
        "id": "_EXzSFjcnjZy"
      },
      "execution_count": null,
      "outputs": []
    },
    {
      "cell_type": "code",
      "source": [
        "batch_size = 512\n",
        "\n",
        "train_data_loader = get_data_loader(train_data, batch_size, pad_index, shuffle=True)\n",
        "valid_data_loader = get_data_loader(valid_data, batch_size, pad_index)\n",
        "test_data_loader = get_data_loader(test_data, batch_size, pad_index)"
      ],
      "metadata": {
        "id": "uKu4AYCztX4x"
      },
      "execution_count": null,
      "outputs": []
    },
    {
      "cell_type": "code",
      "source": [
        "# build model\n",
        "class BoWClassifier(nn.Module):\n",
        "    def __init__(self, vocab_size, embed_dim, output_dim, pad_index):\n",
        "        super().__init__()\n",
        "        self.embedding = nn.Embedding(vocab_size, embed_dim, padding_idx=pad_index)\n",
        "        self.fc = nn.Linear(embed_dim, output_dim)\n",
        "        self.relu = nn.ReLU()\n",
        "\n",
        "    def forward(self, ids):\n",
        "        embedded = self.embedding(ids)\n",
        "        # print(embedded.shape, 'here 1')\n",
        "        pooled = embedded.mean(dim=1) # if each data point has only 1 word, i.e. the seq length =1, we dont need this\n",
        "        # print(pooled.shape, 'here 2')\n",
        "        pooled = self.relu(pooled) # use relu\n",
        "        prediction = self.fc(pooled)\n",
        "        return prediction\n",
        "\n",
        "\n",
        "\n",
        "vocab_size = len(vocab)\n",
        "embedding_dim = 300\n",
        "output_dim = len(train_data.unique(\"label\"))\n",
        "\n",
        "model = BoWClassifier(vocab_size, embedding_dim, output_dim, pad_index)\n",
        "\n",
        "\n",
        "def count_parameters(model):\n",
        "    return sum(p.numel() for p in model.parameters() if p.requires_grad)\n",
        "\n",
        "\n",
        "print(f\"The model has {count_parameters(model):,} trainable parameters\")\n",
        "\n",
        "# use existing word embedding as the start points\n",
        "vectors = torchtext.vocab.GloVe(name=\"6B\", dim=\"300\")\n",
        "\n",
        "\n",
        "vectors.get_vecs_by_tokens([\"hello\", \"<pad>\"])\n",
        "\n",
        "\n",
        "pretrained_embedding = vectors.get_vecs_by_tokens(vocab.get_itos())\n",
        "pretrained_embedding.shape\n",
        "\n",
        "\n",
        "model.embedding.weight.data = pretrained_embedding\n",
        "\n",
        "\n",
        "optimizer = optim.Adam(model.parameters())\n",
        "criterion = nn.CrossEntropyLoss()\n",
        "device = torch.device(\"cuda\" if torch.cuda.is_available() else \"cpu\")\n",
        "# this is to move tensor to device to speed up\n",
        "model = model.to(device)\n",
        "criterion = criterion.to(device)\n",
        "\n",
        "def get_accuracy(prediction, label):\n",
        "    batch_size, _ = prediction.shape\n",
        "    predicted_classes = prediction.argmax(dim=-1)\n",
        "    correct_predictions = predicted_classes.eq(label).sum()\n",
        "    accuracy = correct_predictions / batch_size\n",
        "    return accuracy\n",
        "\n",
        "\n",
        "def evaluate(data_loader, model, criterion, device):\n",
        "    model.eval()\n",
        "    epoch_losses = []\n",
        "    epoch_accs = []\n",
        "    # torch.no_grad() is a context manager in PyTorch that disables gradient calculations.\n",
        "    # It's used when you want to perform operations without tracking gradients,\n",
        "    # which can be useful for inference or when you're sure you won't need to call backward() on the resulting tensors.\n",
        "    with torch.no_grad():\n",
        "        for batch in tqdm.tqdm(data_loader, desc=\"evaluating...\"):\n",
        "            ids = batch[\"ids\"].to(device)\n",
        "            label = batch[\"label\"].to(device)\n",
        "            prediction = model(ids)\n",
        "            loss = criterion(prediction, label)\n",
        "            accuracy = get_accuracy(prediction, label)\n",
        "            epoch_losses.append(loss.item())\n",
        "            epoch_accs.append(accuracy.item())\n",
        "    return np.mean(epoch_losses), np.mean(epoch_accs)\n",
        "\n",
        "\n",
        "def train(data_loader, model, criterion, optimizer, device):\n",
        "    model.train()\n",
        "    epoch_losses = []\n",
        "    epoch_accs = []\n",
        "    for batch in tqdm.tqdm(data_loader, desc=\"training...\"):\n",
        "        ids = batch[\"ids\"].to(device)\n",
        "        label = batch[\"label\"].to(device)\n",
        "        # print(ids.shape, 'id shape')\n",
        "        # print(label.shape, 'label shape')\n",
        "        prediction = model(ids)\n",
        "        loss = criterion(prediction, label)\n",
        "        accuracy = get_accuracy(prediction, label)\n",
        "        optimizer.zero_grad() # clean up gradient\n",
        "        loss.backward() # doing backward\n",
        "        optimizer.step()\n",
        "        epoch_losses.append(loss.item())\n",
        "        epoch_accs.append(accuracy.item())\n",
        "    return np.mean(epoch_losses), np.mean(epoch_accs)\n",
        "\n",
        "\n",
        "# train the model\n",
        "\n",
        "# optimizer.zero_grad()is a method in PyTorch used to reset the gradients of all optimized tensors to zero before each training iteration.\n",
        "# By default, gradients in PyTorch accumulate with each backward pass.\n",
        "# Failing to clear them would cause the optimizer to use the accumulated gradients from previous iterations,\n",
        "# leading to incorrect updates of the model's parameters and hindering the training process.\n",
        "# It is called before loss.backward() and optimizer.step()\n",
        "def train(data_loader, model, criterion, optimizer, device):\n",
        "    model.train()\n",
        "    epoch_losses = []\n",
        "    epoch_accs = []\n",
        "    for batch in tqdm.tqdm(data_loader, desc=\"training...\"):\n",
        "        ids = batch[\"ids\"].to(device)\n",
        "        label = batch[\"label\"].to(device)\n",
        "        # print(ids.shape, 'id shape')\n",
        "        # print(label.shape, 'label shape')\n",
        "        prediction = model(ids)\n",
        "        loss = criterion(prediction, label)\n",
        "        accuracy = get_accuracy(prediction, label)\n",
        "        optimizer.zero_grad() # clean up gradient\n",
        "        loss.backward() # doing backward\n",
        "        optimizer.step()\n",
        "        epoch_losses.append(loss.item())\n",
        "        epoch_accs.append(accuracy.item())\n",
        "    return np.mean(epoch_losses), np.mean(epoch_accs)\n",
        "\n",
        "\n",
        "\n",
        "n_epochs = 15\n",
        "best_valid_loss = float(\"inf\")\n",
        "\n",
        "metrics = collections.defaultdict(list)\n",
        "\n",
        "for epoch in range(n_epochs):\n",
        "    train_loss, train_acc = train(\n",
        "        train_data_loader, model, criterion, optimizer, device\n",
        "    )\n",
        "    valid_loss, valid_acc = evaluate(valid_data_loader, model, criterion, device)\n",
        "    metrics[\"train_losses\"].append(train_loss)\n",
        "    metrics[\"train_accs\"].append(train_acc)\n",
        "    metrics[\"valid_losses\"].append(valid_loss)\n",
        "    metrics[\"valid_accs\"].append(valid_acc)\n",
        "    if valid_loss < best_valid_loss:\n",
        "        best_valid_loss = valid_loss\n",
        "        torch.save(model.state_dict(), \"nbow.pt\")\n",
        "    print(f\"epoch: {epoch}\")\n",
        "    print(f\"train_loss: {train_loss:.3f}, train_acc: {train_acc:.3f}\")\n",
        "    print(f\"valid_loss: {valid_loss:.3f}, valid_acc: {valid_acc:.3f}\")\n",
        "\n",
        "# plots\n",
        "fig = plt.figure(figsize=(10, 6))\n",
        "ax = fig.add_subplot(1, 1, 1)\n",
        "ax.plot(metrics[\"train_losses\"], label=\"train loss\")\n",
        "ax.plot(metrics[\"valid_losses\"], label=\"valid loss\")\n",
        "ax.set_xlabel(\"epoch\")\n",
        "ax.set_ylabel(\"loss\")\n",
        "ax.set_xticks(range(n_epochs))\n",
        "ax.legend()\n",
        "ax.grid()\n",
        "\n",
        "fig = plt.figure(figsize=(10, 6))\n",
        "ax = fig.add_subplot(1, 1, 1)\n",
        "ax.plot(metrics[\"train_accs\"], label=\"train accuracy\")\n",
        "ax.plot(metrics[\"valid_accs\"], label=\"valid accuracy\")\n",
        "ax.set_xlabel(\"epoch\")\n",
        "ax.set_ylabel(\"loss\")\n",
        "ax.set_xticks(range(n_epochs))\n",
        "ax.legend()\n",
        "ax.grid()"
      ],
      "metadata": {
        "id": "gEssjsrczDCB",
        "colab": {
          "base_uri": "https://localhost:8080/",
          "height": 1000
        },
        "outputId": "d8750b6f-8ded-49fd-bfe7-64ba2e462044"
      },
      "execution_count": null,
      "outputs": [
        {
          "output_type": "stream",
          "name": "stdout",
          "text": [
            "The model has 6,491,102 trainable parameters\n"
          ]
        },
        {
          "output_type": "stream",
          "name": "stderr",
          "text": [
            ".vector_cache/glove.6B.zip: 862MB [02:39, 5.40MB/s]                           \n",
            "100%|█████████▉| 399999/400000 [00:33<00:00, 11862.16it/s]\n",
            "training...: 100%|██████████| 37/37 [00:07<00:00,  4.95it/s]\n",
            "evaluating...: 100%|██████████| 13/13 [00:01<00:00, 12.43it/s]\n"
          ]
        },
        {
          "output_type": "stream",
          "name": "stdout",
          "text": [
            "epoch: 0\n",
            "train_loss: 0.685, train_acc: 0.604\n",
            "valid_loss: 0.675, valid_acc: 0.683\n"
          ]
        },
        {
          "output_type": "stream",
          "name": "stderr",
          "text": [
            "training...: 100%|██████████| 37/37 [00:07<00:00,  5.01it/s]\n",
            "evaluating...: 100%|██████████| 13/13 [00:01<00:00, 12.52it/s]\n"
          ]
        },
        {
          "output_type": "stream",
          "name": "stdout",
          "text": [
            "epoch: 1\n",
            "train_loss: 0.659, train_acc: 0.708\n",
            "valid_loss: 0.639, valid_acc: 0.723\n"
          ]
        },
        {
          "output_type": "stream",
          "name": "stderr",
          "text": [
            "training...: 100%|██████████| 37/37 [00:07<00:00,  5.06it/s]\n",
            "evaluating...: 100%|██████████| 13/13 [00:01<00:00, 12.59it/s]\n"
          ]
        },
        {
          "output_type": "stream",
          "name": "stdout",
          "text": [
            "epoch: 2\n",
            "train_loss: 0.608, train_acc: 0.750\n",
            "valid_loss: 0.583, valid_acc: 0.752\n"
          ]
        },
        {
          "output_type": "stream",
          "name": "stderr",
          "text": [
            "training...: 100%|██████████| 37/37 [00:07<00:00,  5.15it/s]\n",
            "evaluating...: 100%|██████████| 13/13 [00:01<00:00, 10.75it/s]\n"
          ]
        },
        {
          "output_type": "stream",
          "name": "stdout",
          "text": [
            "epoch: 3\n",
            "train_loss: 0.540, train_acc: 0.791\n",
            "valid_loss: 0.516, valid_acc: 0.802\n"
          ]
        },
        {
          "output_type": "stream",
          "name": "stderr",
          "text": [
            "training...: 100%|██████████| 37/37 [00:06<00:00,  5.36it/s]\n",
            "evaluating...: 100%|██████████| 13/13 [00:01<00:00, 12.26it/s]\n"
          ]
        },
        {
          "output_type": "stream",
          "name": "stdout",
          "text": [
            "epoch: 4\n",
            "train_loss: 0.470, train_acc: 0.834\n",
            "valid_loss: 0.457, valid_acc: 0.832\n"
          ]
        },
        {
          "output_type": "stream",
          "name": "stderr",
          "text": [
            "training...: 100%|██████████| 37/37 [00:07<00:00,  5.04it/s]\n",
            "evaluating...: 100%|██████████| 13/13 [00:01<00:00, 12.11it/s]\n"
          ]
        },
        {
          "output_type": "stream",
          "name": "stdout",
          "text": [
            "epoch: 5\n",
            "train_loss: 0.409, train_acc: 0.863\n",
            "valid_loss: 0.414, valid_acc: 0.846\n"
          ]
        },
        {
          "output_type": "stream",
          "name": "stderr",
          "text": [
            "training...: 100%|██████████| 37/37 [00:07<00:00,  5.09it/s]\n",
            "evaluating...: 100%|██████████| 13/13 [00:01<00:00, 12.07it/s]\n"
          ]
        },
        {
          "output_type": "stream",
          "name": "stdout",
          "text": [
            "epoch: 6\n",
            "train_loss: 0.361, train_acc: 0.880\n",
            "valid_loss: 0.379, valid_acc: 0.862\n"
          ]
        },
        {
          "output_type": "stream",
          "name": "stderr",
          "text": [
            "training...: 100%|██████████| 37/37 [00:06<00:00,  5.37it/s]\n",
            "evaluating...: 100%|██████████| 13/13 [00:01<00:00,  8.63it/s]\n"
          ]
        },
        {
          "output_type": "stream",
          "name": "stdout",
          "text": [
            "epoch: 7\n",
            "train_loss: 0.324, train_acc: 0.893\n",
            "valid_loss: 0.356, valid_acc: 0.867\n"
          ]
        },
        {
          "output_type": "stream",
          "name": "stderr",
          "text": [
            "training...: 100%|██████████| 37/37 [00:06<00:00,  5.33it/s]\n",
            "evaluating...: 100%|██████████| 13/13 [00:01<00:00, 12.03it/s]\n"
          ]
        },
        {
          "output_type": "stream",
          "name": "stdout",
          "text": [
            "epoch: 8\n",
            "train_loss: 0.293, train_acc: 0.903\n",
            "valid_loss: 0.337, valid_acc: 0.873\n"
          ]
        },
        {
          "output_type": "stream",
          "name": "stderr",
          "text": [
            "training...: 100%|██████████| 37/37 [00:07<00:00,  5.03it/s]\n",
            "evaluating...: 100%|██████████| 13/13 [00:01<00:00, 12.27it/s]\n"
          ]
        },
        {
          "output_type": "stream",
          "name": "stdout",
          "text": [
            "epoch: 9\n",
            "train_loss: 0.269, train_acc: 0.912\n",
            "valid_loss: 0.324, valid_acc: 0.877\n"
          ]
        },
        {
          "output_type": "stream",
          "name": "stderr",
          "text": [
            "training...: 100%|██████████| 37/37 [00:07<00:00,  5.10it/s]\n",
            "evaluating...: 100%|██████████| 13/13 [00:01<00:00, 12.22it/s]\n"
          ]
        },
        {
          "output_type": "stream",
          "name": "stdout",
          "text": [
            "epoch: 10\n",
            "train_loss: 0.248, train_acc: 0.921\n",
            "valid_loss: 0.313, valid_acc: 0.878\n"
          ]
        },
        {
          "output_type": "stream",
          "name": "stderr",
          "text": [
            "training...: 100%|██████████| 37/37 [00:06<00:00,  5.39it/s]\n",
            "evaluating...: 100%|██████████| 13/13 [00:01<00:00, 10.13it/s]\n"
          ]
        },
        {
          "output_type": "stream",
          "name": "stdout",
          "text": [
            "epoch: 11\n",
            "train_loss: 0.230, train_acc: 0.927\n",
            "valid_loss: 0.305, valid_acc: 0.881\n"
          ]
        },
        {
          "output_type": "stream",
          "name": "stderr",
          "text": [
            "training...: 100%|██████████| 37/37 [00:07<00:00,  5.18it/s]\n",
            "evaluating...: 100%|██████████| 13/13 [00:01<00:00, 12.23it/s]\n"
          ]
        },
        {
          "output_type": "stream",
          "name": "stdout",
          "text": [
            "epoch: 12\n",
            "train_loss: 0.214, train_acc: 0.933\n",
            "valid_loss: 0.299, valid_acc: 0.884\n"
          ]
        },
        {
          "output_type": "stream",
          "name": "stderr",
          "text": [
            "training...: 100%|██████████| 37/37 [00:07<00:00,  5.11it/s]\n",
            "evaluating...: 100%|██████████| 13/13 [00:01<00:00, 12.36it/s]\n"
          ]
        },
        {
          "output_type": "stream",
          "name": "stdout",
          "text": [
            "epoch: 13\n",
            "train_loss: 0.199, train_acc: 0.939\n",
            "valid_loss: 0.296, valid_acc: 0.885\n"
          ]
        },
        {
          "output_type": "stream",
          "name": "stderr",
          "text": [
            "training...: 100%|██████████| 37/37 [00:07<00:00,  5.11it/s]\n",
            "evaluating...: 100%|██████████| 13/13 [00:01<00:00, 12.09it/s]\n"
          ]
        },
        {
          "output_type": "stream",
          "name": "stdout",
          "text": [
            "epoch: 14\n",
            "train_loss: 0.186, train_acc: 0.945\n",
            "valid_loss: 0.290, valid_acc: 0.887\n"
          ]
        },
        {
          "output_type": "display_data",
          "data": {
            "text/plain": [
              "<Figure size 1000x600 with 1 Axes>"
            ],
            "image/png": "[encoded data removed]"
          },
          "metadata": {}
        },
        {
          "output_type": "display_data",
          "data": {
            "text/plain": [
              "<Figure size 1000x600 with 1 Axes>"
            ],
            "image/png": "[encoded data removed]"
          },
          "metadata": {}
        }
      ]
    },
    {
      "cell_type": "code",
      "source": [
        "## this is toy example to learn about embedding's dimension\n",
        "# import torch\n",
        "# import torch.nn as nn\n",
        "# # Define embedding layer\n",
        "# embedding_dim = 10 # Size of each embedding vector\n",
        "# num_embeddings = 100 # Number of embeddings (e.g., vocabulary size)\n",
        "# embedding = nn.Embedding(num_embeddings, embedding_dim)\n",
        "\n",
        "# # Example batch of input indices\n",
        "# batch_size = 3\n",
        "# seq_length = 5\n",
        "# input_indices = torch.randint(0, num_embeddings, (batch_size, seq_length))\n",
        "# print(input_indices, 'input_indices')\n",
        "# # Get embeddings for the batch\n",
        "# batch_embeddings = embedding(input_indices)\n",
        "# print(batch_embeddings.shape) # Output: torch.Size([3, 5, 100]\n",
        "# # Calculate the mean embedding for each sequence in the batch\n",
        "# mean_embeddings = torch.mean(batch_embeddings, dim=1)\n",
        "# # Print the shape of the mean embeddings\n",
        "# print(mean_embeddings.shape, 'mean embedding shape') # Output: torch.Size([3, 100])\n",
        "\n",
        "# # Print the mean embeddings\n",
        "# print(mean_embeddings)"
      ],
      "metadata": {
        "id": "d2PQZZLvmnoy"
      },
      "execution_count": null,
      "outputs": []
    },
    {
      "cell_type": "code",
      "source": [
        "# print all parameters\n",
        "for param in model.parameters():\n",
        "    print(param.requires_grad)\n",
        "\n",
        "# if we want to freeze some parameters of the model\n",
        "# for param in some_model_layer.parameters():\n",
        "#     param.requires_grad_(False)\n",
        "\n",
        "# or for the entire model\n",
        "# for param in model.parameters():\n",
        "#     param.requires_grad_(False)"
      ],
      "metadata": {
        "colab": {
          "base_uri": "https://localhost:8080/"
        },
        "id": "rb5CM-pRxsZN",
        "outputId": "5b23bdb1-3503-4c33-8c1a-356d69156d7d"
      },
      "execution_count": null,
      "outputs": [
        {
          "output_type": "stream",
          "name": "stdout",
          "text": [
            "True\n",
            "True\n",
            "True\n"
          ]
        }
      ]
    },
    {
      "cell_type": "code",
      "source": [
        "hello_vector = vectors.get_vecs_by_tokens(\"hello\")\n",
        "hello_vector.shape"
      ],
      "metadata": {
        "colab": {
          "base_uri": "https://localhost:8080/"
        },
        "id": "2Hvva7SP5ljY",
        "outputId": "ba24afac-a8a6-4d15-fbdb-3d0ac2d2cd2f"
      },
      "execution_count": null,
      "outputs": [
        {
          "output_type": "execute_result",
          "data": {
            "text/plain": [
              "torch.Size([300])"
            ]
          },
          "metadata": {},
          "execution_count": 33
        }
      ]
    },
    {
      "cell_type": "code",
      "source": [
        "model.embedding.weight"
      ],
      "metadata": {
        "colab": {
          "base_uri": "https://localhost:8080/"
        },
        "id": "yVs2TTbN3OmC",
        "outputId": "5927c430-b7dc-4342-9da1-9c05a7b5d40d"
      },
      "execution_count": null,
      "outputs": [
        {
          "output_type": "execute_result",
          "data": {
            "text/plain": [
              "Parameter containing:\n",
              "tensor([[ 0.0611,  0.1522,  0.0224,  ...,  0.3093,  0.0127, -0.0057],\n",
              "        [ 0.0000,  0.0000,  0.0000,  ...,  0.0000,  0.0000,  0.0000],\n",
              "        [ 0.1557,  0.2602,  0.1194,  ...,  0.2561, -0.1870,  0.0631],\n",
              "        ...,\n",
              "        [ 0.3934, -0.7854, -0.0215,  ..., -0.1083,  0.6774, -0.1414],\n",
              "        [ 0.3478,  0.1531, -0.1804,  ..., -0.0443,  0.4599,  0.2077],\n",
              "        [-0.1583, -0.0202, -0.3835,  ..., -0.5413,  0.3303, -0.0227]],\n",
              "       requires_grad=True)"
            ]
          },
          "metadata": {},
          "execution_count": 34
        }
      ]
    },
    {
      "cell_type": "code",
      "source": [
        "pretrained_embedding[3][:10]"
      ],
      "metadata": {
        "colab": {
          "base_uri": "https://localhost:8080/"
        },
        "id": "6eiMiXdu3Rs0",
        "outputId": "c018062c-33be-42a8-db98-50aa752dd15a"
      },
      "execution_count": null,
      "outputs": [
        {
          "output_type": "execute_result",
          "data": {
            "text/plain": [
              "tensor([-0.1054,  0.1082,  0.2442, -0.1381,  0.2110,  0.2675, -0.1140,  0.3741,\n",
              "         0.4763, -1.6785])"
            ]
          },
          "metadata": {},
          "execution_count": 35
        }
      ]
    },
    {
      "cell_type": "code",
      "source": [
        "# prompt: given the model, predict a new text\n",
        "\n",
        "import torch\n",
        "\n",
        "# Load the saved model\n",
        "vocab_size = len(vocab)\n",
        "embedding_dim = 300\n",
        "output_dim = len(train_data.unique(\"label\"))\n",
        "model = BoWClassifier(vocab_size, embedding_dim, output_dim, pad_index)\n",
        "model.load_state_dict(torch.load(\"nbow.pt\"))\n",
        "model.eval()  # Set the model to evaluation mode\n",
        "\n",
        "# Example new text\n",
        "new_text = \"This movie is great!\"\n",
        "\n",
        "# Tokenize and numericalize the new text\n",
        "tokens = tokenizer(new_text)\n",
        "ids = vocab.lookup_indices(tokens)\n",
        "ids_tensor = torch.tensor(ids).unsqueeze(0)  # Add a batch dimension\n",
        "\n",
        "# Make the prediction\n",
        "with torch.no_grad():\n",
        "  prediction = model(ids_tensor.to(device))\n",
        "  predicted_class = prediction.argmax(dim=-1).item()\n",
        "\n",
        "# Print the prediction\n",
        "print(f\"Predicted class: {predicted_class}\")\n",
        "\n",
        "if predicted_class == 1:\n",
        "    print(\"Positive sentiment\")\n",
        "else:\n",
        "    print(\"Negative sentiment\")\n",
        "\n",
        "\n",
        "\n",
        "test_loss, test_acc = evaluate(test_data_loader, model, criterion, device)\n",
        "\n",
        "def predict_sentiment(text, model, tokenizer, vocab, device):\n",
        "    tokens = tokenizer(text)\n",
        "    ids = vocab.lookup_indices(tokens)\n",
        "    tensor = torch.LongTensor(ids).unsqueeze(dim=0).to(device)\n",
        "    prediction = model(tensor).squeeze(dim=0)\n",
        "    probability = torch.softmax(prediction, dim=-1)\n",
        "    predicted_class = prediction.argmax(dim=-1).item()\n",
        "    predicted_probability = probability[predicted_class].item()\n",
        "    return predicted_class, predicted_probability\n",
        "\n",
        "print(f\"test_loss: {test_loss:.3f}, test_acc: {test_acc:.3f}\")\n",
        "\n"
      ],
      "metadata": {
        "colab": {
          "base_uri": "https://localhost:8080/"
        },
        "id": "G74q6VtFHpQZ",
        "outputId": "ce307c01-b385-4c05-9702-e2301cb72df6"
      },
      "execution_count": null,
      "outputs": [
        {
          "output_type": "stream",
          "name": "stdout",
          "text": [
            "Predicted class: 1\n",
            "Positive sentiment\n"
          ]
        },
        {
          "output_type": "stream",
          "name": "stderr",
          "text": [
            "evaluating...: 100%|██████████| 49/49 [00:04<00:00, 11.42it/s]"
          ]
        },
        {
          "output_type": "stream",
          "name": "stdout",
          "text": [
            "test_loss: 0.328, test_acc: 0.866\n"
          ]
        },
        {
          "output_type": "stream",
          "name": "stderr",
          "text": [
            "\n"
          ]
        }
      ]
    },
    {
      "cell_type": "code",
      "source": [
        "txt = 'I like this movie! this movie is fantastic'\n",
        "res = predict_sentiment(txt, model, tokenizer, vocab, device)\n",
        "print(res)\n",
        "\n",
        "text = \"This film is terrible!\"\n",
        "res = predict_sentiment(text, model, tokenizer, vocab, device)\n",
        "print(res)\n",
        "\n",
        "txt = \"This movie was absolutely fantastic!\"\n",
        "res = predict_sentiment(txt, model, tokenizer, vocab, device)\n",
        "print(res)\n",
        "\n",
        "\n",
        "text = \"This film is great!\"\n",
        "res = predict_sentiment(text, model, tokenizer, vocab, device)\n",
        "print(res)"
      ],
      "metadata": {
        "colab": {
          "base_uri": "https://localhost:8080/"
        },
        "id": "GNUtLDDEHQpx",
        "outputId": "92a376d4-be83-4337-87bd-cb1f3a80eb3d"
      },
      "execution_count": null,
      "outputs": [
        {
          "output_type": "stream",
          "name": "stdout",
          "text": [
            "(1, 0.9996628761291504)\n",
            "(0, 0.9999921321868896)\n",
            "(1, 0.9994545578956604)\n",
            "(1, 1.0)\n"
          ]
        }
      ]
    },
    {
      "cell_type": "code",
      "source": [
        "# check the embeddings after training\n",
        "model.embedding.weight.data[3]"
      ],
      "metadata": {
        "id": "MNvOdjbP4BmJ",
        "colab": {
          "base_uri": "https://localhost:8080/"
        },
        "outputId": "edf93f62-dc16-4f79-9e3e-81e6bfdcb6be"
      },
      "execution_count": null,
      "outputs": [
        {
          "output_type": "execute_result",
          "data": {
            "text/plain": [
              "tensor([-1.0536e-01,  1.0818e-01,  2.4416e-01, -1.3812e-01,  2.1099e-01,\n",
              "         2.6753e-01, -1.1400e-01,  3.7406e-01,  4.7630e-01, -1.6785e+00,\n",
              "         1.4851e-01,  2.3822e-01,  1.9368e-01,  2.5664e-01,  2.9566e-01,\n",
              "         1.2458e-01, -2.6379e-01,  3.5992e-01, -6.8401e-02,  1.2459e-01,\n",
              "         1.5709e-01,  1.3838e-01,  3.8229e-01, -1.3601e-01, -2.1219e-01,\n",
              "        -6.1459e-03, -1.0457e-01,  3.4483e-01,  4.2999e-02,  8.8399e-02,\n",
              "         1.4417e-01,  2.5231e-01, -1.0456e-01,  8.9489e-02, -7.1742e-01,\n",
              "         7.8751e-03,  1.8082e-01,  3.8076e-01,  1.7930e-01,  3.7628e-01,\n",
              "         2.5273e-01, -1.0092e-01,  8.0746e-02,  2.5004e-01,  6.0327e-02,\n",
              "         4.8313e-02,  3.1728e-01,  4.1331e-01,  3.3666e-01,  3.4006e-01,\n",
              "        -1.3786e-01, -6.5499e-02,  5.5792e-02, -7.4871e-03,  2.3506e-01,\n",
              "         8.9323e-02, -2.6684e-01,  2.6256e-01,  9.8292e-04, -1.4081e-01,\n",
              "         2.4370e-01,  8.9951e-02, -2.8253e-02, -2.5858e-02,  1.2337e-01,\n",
              "        -5.5397e-01,  4.5289e-01,  6.1436e-02,  2.9791e-01, -1.3719e-01,\n",
              "         4.0994e-01, -1.8733e-02,  1.4051e-01,  2.4995e-01, -2.2243e-02,\n",
              "         1.5971e-01,  1.2832e-01, -7.4788e-02,  1.8576e-01,  2.4057e-01,\n",
              "         2.2283e-01,  5.5521e-02,  1.2907e-01,  3.3460e-01, -4.2018e-02,\n",
              "         1.0563e-01,  1.1111e-01,  2.0924e-01,  6.7940e-02,  2.2908e-01,\n",
              "        -5.2821e-02, -1.9997e-02, -1.2347e-01, -2.9303e-02,  1.4223e-01,\n",
              "         1.6661e-01, -2.8510e-01,  1.7776e-01,  2.1986e-01, -1.6384e-01,\n",
              "         1.5420e-01,  1.4353e-03,  1.6901e-01,  2.7164e-01,  2.9643e-01,\n",
              "        -1.8639e-01,  5.1221e-02,  5.5206e-01, -9.6607e-02,  2.2909e-01,\n",
              "        -5.2758e-02, -4.6605e-02,  5.9550e-02,  5.2467e-02,  9.6104e-02,\n",
              "         2.0767e-02,  7.7804e-02,  2.2829e-02,  1.8300e-01, -8.4688e-02,\n",
              "        -1.9851e-01,  2.1158e-01,  1.5847e-01,  1.7251e-01,  9.1510e-02,\n",
              "         2.3754e-01,  2.9250e-01,  9.4848e-02,  2.2221e-01,  1.5264e-01,\n",
              "         1.7589e-01,  3.6874e-01,  5.2703e-01,  1.3154e-01,  3.5448e-01,\n",
              "         9.4844e-02,  3.1197e-01,  2.8700e-01,  2.5769e-01, -5.2587e-02,\n",
              "         5.1501e-02,  9.9243e-02,  1.1370e-01,  7.5482e-02, -3.7227e-01,\n",
              "         2.4326e-01,  3.1397e-01, -1.0617e-02, -2.4113e-01,  1.1440e-01,\n",
              "         7.1459e-02,  2.8924e-01,  1.7736e-01,  4.9815e-03,  4.0788e-01,\n",
              "         1.0523e-02,  2.5534e-01,  2.7926e-01,  1.2104e-01, -3.0178e-02,\n",
              "         1.5987e-02, -1.3465e-01, -4.7913e-02,  1.4059e-01,  2.8333e-01,\n",
              "         9.2395e-02, -3.5549e-02, -6.4746e-02,  8.3278e-02,  2.8048e-01,\n",
              "         3.4898e-01,  3.4780e-01, -5.6019e-01,  1.3789e-01,  2.5434e-01,\n",
              "         5.4870e-02,  5.3491e-01,  1.3244e-01,  8.0850e-02,  4.0058e-01,\n",
              "        -7.6616e-03,  1.5024e-01,  1.7566e-01,  5.6220e-02,  2.4540e-01,\n",
              "         4.5588e-02,  2.4954e-01, -1.4110e-02, -1.0649e-01,  2.5019e-01,\n",
              "         1.7836e-01,  2.6492e-01,  2.4703e-01, -1.3868e-03, -1.9237e-01,\n",
              "         2.5826e-01,  4.4798e-01, -6.5839e-02,  3.0896e-01, -1.5646e-01,\n",
              "         9.2360e-01,  6.2082e-02,  2.2891e-01, -7.5255e-02,  6.9176e-02,\n",
              "         1.3982e-01,  8.6934e-02, -2.9222e-01, -1.5037e-01, -4.5133e-01,\n",
              "         2.9868e-01,  2.3736e-02,  1.5801e-01,  2.1574e-01,  2.7397e-01,\n",
              "         1.0089e-01,  1.6878e-01,  2.7700e-01,  2.2808e-01,  1.0325e-01,\n",
              "         1.8247e-01,  1.9602e-01, -2.6907e-01,  1.8059e-01,  8.3825e-02,\n",
              "         1.2907e-01,  3.2518e-01,  1.0478e-01,  2.9164e-01,  4.4884e-02,\n",
              "         2.1791e-01,  4.9987e-02,  4.1966e-01, -2.0170e-01,  1.1325e-01,\n",
              "        -8.2810e-02,  3.8590e-01,  4.4846e-01, -1.9412e-02,  1.8422e-01,\n",
              "         8.6580e-03,  5.4010e-02,  4.4841e-01,  2.9947e-01, -6.5983e-01,\n",
              "         2.7522e-01,  1.5106e-01,  1.5132e-01,  1.1056e-01,  2.4427e-01,\n",
              "         1.7151e-01, -1.3708e-02,  9.8860e-02,  1.4880e-01,  4.2337e-01,\n",
              "         2.9100e-01,  1.6898e-01,  7.1234e-03,  1.9265e-01,  2.2323e-01,\n",
              "         5.4629e-02, -4.0823e-01,  2.2348e-01,  1.6642e-01,  2.9956e-01,\n",
              "        -9.2084e-02,  2.3427e-01,  8.2602e-02, -1.4787e-02,  1.5504e-01,\n",
              "        -6.7721e-02, -2.8884e-01,  2.0037e-01, -1.1142e-01,  2.6436e-01,\n",
              "         2.6837e-01, -2.0753e+00,  1.0386e-01,  5.7571e-01,  6.2103e-02,\n",
              "        -2.5295e-01,  1.0732e-01,  1.0516e-01, -1.4868e-01,  1.4194e-01,\n",
              "         3.0681e-01,  5.0739e-03,  9.3679e-02,  2.4959e-01,  2.2533e-02,\n",
              "         1.9735e-01, -1.8323e-01,  1.0935e-01,  3.8175e-01,  4.8334e-02,\n",
              "         3.1356e-01, -1.2343e-02, -2.3756e-02,  5.9075e-03,  1.1411e-01])"
            ]
          },
          "metadata": {},
          "execution_count": 38
        }
      ]
    },
    {
      "cell_type": "code",
      "source": [
        "word = 'woman'\n",
        "word_indice = vocab[word]\n",
        "word_indices = torch.LongTensor([word_indice])\n",
        "word_embedding = model.embedding(word_indices)\n",
        "print(word_embedding)\n"
      ],
      "metadata": {
        "colab": {
          "base_uri": "https://localhost:8080/"
        },
        "id": "ieAtSn0q_MUl",
        "outputId": "067cf673-455c-4170-f353-f8ed87437195"
      },
      "execution_count": null,
      "outputs": [
        {
          "output_type": "stream",
          "name": "stdout",
          "text": [
            "tensor([[-4.9522e-01,  5.4236e-02, -5.0393e-01, -1.3133e-01,  1.2256e-02,\n",
            "         -1.0218e-01, -3.1242e-01, -2.3171e-01, -8.9845e-02, -1.1338e+00,\n",
            "          3.6012e-02, -5.7678e-02, -1.1260e-03, -2.0130e-01,  1.0831e-02,\n",
            "          1.0961e-01,  8.9021e-02, -2.3213e-01, -5.5097e-01, -4.8091e-01,\n",
            "         -3.5099e-01,  2.5086e-01,  1.0650e-01,  3.7629e-02, -3.3095e-01,\n",
            "         -3.4358e-01,  1.9771e-01, -1.5489e-01,  2.0999e-01,  6.7946e-02,\n",
            "         -6.3542e-01,  4.3214e-01, -3.3779e-01, -3.8021e-01, -8.0202e-01,\n",
            "          6.1406e-01, -4.6447e-01, -7.2326e-03,  3.4433e-01,  7.3681e-01,\n",
            "          8.3443e-01, -3.1540e-01, -1.1676e-01,  1.4687e-01, -2.2914e-01,\n",
            "         -3.3989e-02,  3.3492e-01,  2.3222e-02, -2.5950e-01,  4.1223e-01,\n",
            "         -1.8176e-01,  1.6091e-01,  2.1371e-01, -1.3432e-02, -5.5050e-01,\n",
            "         -2.1122e-01,  1.4358e-01, -3.3444e-01,  4.5205e-01, -3.3141e-01,\n",
            "          1.2067e-01,  4.1253e-02,  4.6401e-01,  2.7334e-01, -6.3929e-01,\n",
            "         -6.4595e-01, -7.2181e-02, -2.9432e-01,  9.1712e-02,  1.6616e-01,\n",
            "          8.1775e-03, -2.1293e-01, -2.7456e-02,  1.7339e-01, -1.6062e-01,\n",
            "          2.7054e-01, -1.1185e-01, -1.8223e-01, -2.3619e-01, -3.2872e-02,\n",
            "         -1.9529e-01,  2.3719e-02,  4.4780e-01,  7.8875e-01, -5.5400e-01,\n",
            "          3.5058e-02, -4.4865e-01,  8.5498e-02,  3.4973e-01,  2.8238e-01,\n",
            "         -6.2344e-01, -1.8638e-01, -6.4876e-02,  3.3809e-01,  5.1546e-01,\n",
            "          1.5108e-01, -4.4181e-01,  2.1809e-02,  1.9703e-02, -1.9700e-01,\n",
            "          1.2620e-02,  3.0732e-01, -8.8581e-02, -9.7737e-02,  1.8658e-01,\n",
            "          2.0177e-01,  6.7153e-01, -1.9146e-01,  3.6580e-01,  3.5813e-02,\n",
            "         -9.3592e-02,  1.1445e+00, -2.4068e-02, -3.3607e-01,  8.0486e-01,\n",
            "          5.1286e-01,  1.9427e-01,  3.9448e-01,  3.9857e-01, -1.6769e-02,\n",
            "          2.0962e-01,  8.2577e-01,  1.6854e-01,  1.7670e-01, -4.9012e-01,\n",
            "          2.8406e-01,  9.9232e-02,  1.7783e-01,  5.8222e-01, -7.5607e-01,\n",
            "          4.3757e-01,  2.1371e-01, -2.6757e-01,  6.6018e-01, -2.0850e-01,\n",
            "          1.4262e-01, -1.2165e-01,  1.1794e-01, -4.0516e-01,  2.7599e-01,\n",
            "          2.2320e-01,  2.9320e-01,  2.6811e-02,  4.8114e-01, -4.7350e-01,\n",
            "         -1.1705e-01,  4.9023e-01,  6.9433e-01, -2.1303e-01,  2.0341e-01,\n",
            "          1.8669e-01, -1.7337e-01,  8.1854e-01,  5.7264e-02, -1.0351e-01,\n",
            "         -4.8217e-03, -1.8223e-01, -2.0327e-01,  3.6060e-01,  6.1026e-01,\n",
            "          8.5923e-02,  1.8818e-01,  4.6945e-01,  6.5159e-02, -3.9482e-02,\n",
            "         -9.6959e-02, -2.6174e-01,  1.2628e-01,  1.8663e-01, -5.6208e-01,\n",
            "          1.5737e-01,  1.9177e-01, -5.6609e-01, -4.0031e-01, -1.1928e-01,\n",
            "         -1.1969e-01, -2.7611e-02,  1.6127e-01, -2.5281e-02,  5.9838e-01,\n",
            "          2.5572e-01, -9.9584e-02,  5.2492e-02, -1.1362e-01,  7.6971e-02,\n",
            "         -2.3963e-01, -4.8028e-02, -2.4001e-01,  1.3605e-01,  1.4063e-01,\n",
            "          2.4143e-01, -3.5520e-01, -8.1126e-02, -3.0136e-01, -5.2454e-01,\n",
            "          9.3474e-02, -4.3113e-01, -5.9134e-01, -1.0530e+00,  2.6214e-01,\n",
            "          1.9079e+00,  2.0508e-01,  3.5164e-01,  5.0043e-01, -2.5069e-01,\n",
            "         -4.7890e-01, -2.2124e-01,  2.8415e-01,  3.4714e-01,  4.1274e-01,\n",
            "         -9.7666e-02, -2.2606e-02, -3.5634e-01,  3.3272e-01,  3.0059e-01,\n",
            "         -1.0662e-01,  3.0321e-01, -3.1554e-01, -1.7999e-01,  1.6588e-01,\n",
            "         -3.8240e-01,  2.5940e-01,  3.8381e-01, -1.9488e-01,  5.0812e-02,\n",
            "          1.8175e-01, -2.1592e-01, -6.9401e-01, -1.4919e-02,  3.9286e-01,\n",
            "          7.0799e-01, -1.3543e-01, -1.5481e-01, -1.3837e-02,  6.9726e-02,\n",
            "          5.1412e-02,  9.6036e-02,  4.5598e-01, -2.5108e-01, -4.2473e-01,\n",
            "          5.4311e-01, -3.9355e-01, -7.7116e-02,  2.9762e-01, -1.5758e-01,\n",
            "          3.3533e-01,  3.8511e-01,  2.1822e-01,  2.0139e-01,  3.3398e-01,\n",
            "         -2.8249e-01, -2.2848e-02, -1.1115e-01, -4.4856e-02,  1.3283e+00,\n",
            "         -1.9961e-01, -1.2939e-01,  4.8928e-01,  3.0235e-01, -2.8994e-01,\n",
            "          2.7291e-01, -5.4000e-01, -2.0291e-01,  3.1577e-01, -2.6082e-01,\n",
            "          5.3693e-02,  4.9163e-01,  1.1266e-01, -4.4822e-01,  1.6179e-01,\n",
            "          6.6030e-02, -5.2172e-01,  4.9852e-01,  3.0383e-02,  1.8393e-02,\n",
            "          8.7151e-02, -1.6971e+00, -6.1421e-02,  1.5456e-01,  1.7518e-01,\n",
            "          1.1751e-02, -1.0936e-01,  5.8015e-01,  1.5341e-01, -6.4913e-01,\n",
            "          5.9451e-01,  1.6859e-01,  4.8024e-01, -4.5215e-01, -1.7529e-01,\n",
            "         -1.4636e-03, -2.0336e-01,  1.6520e-01,  2.8025e-01, -6.2087e-02,\n",
            "         -2.8940e-01, -4.0116e-02,  5.4419e-01, -3.0166e-02,  6.3281e-01]],\n",
            "       grad_fn=<EmbeddingBackward0>)\n"
          ]
        }
      ]
    },
    {
      "cell_type": "code",
      "source": [
        "\n",
        "\n",
        "import torch\n",
        "\n",
        "# Assuming 'model' and 'vocab' are defined from the previous code\n",
        "# and 'model.embedding.weight.data' holds the word embeddings.\n",
        "\n",
        "word = 'women'\n",
        "word_indice = vocab[word]\n",
        "\n",
        "unk_index = vocab[\"<unk>\"]\n",
        "\n",
        "# Find the closest word in the vocabulary based on cosine similarity\n",
        "if word_indice != unk_index: # if word exist\n",
        "    word_embedding = model.embedding(torch.LongTensor([word_indice]))\n",
        "    cosine_similarities = torch.nn.functional.cosine_similarity(word_embedding, model.embedding.weight.data)\n",
        "\n",
        "    # Find the index of the most similar word (excluding the word itself)\n",
        "    most_similar_index = torch.argsort(cosine_similarities, descending=True)[1]  # [1] to exclude itself\n",
        "\n",
        "    most_similar_word = vocab.get_itos()[most_similar_index]\n",
        "    print(f\"The most similar word to '{word}' is '{most_similar_word}'\")\n",
        "else:\n",
        "    print(f\"'{word}' not in vocabulary.\")\n"
      ],
      "metadata": {
        "colab": {
          "base_uri": "https://localhost:8080/"
        },
        "id": "BotXYToH-bgR",
        "outputId": "f057dce8-c9f6-4ae2-b46d-1e1dd372921b"
      },
      "execution_count": null,
      "outputs": [
        {
          "output_type": "stream",
          "name": "stdout",
          "text": [
            "The most similar word to 'women' is 'men'\n"
          ]
        }
      ]
    },
    {
      "cell_type": "code",
      "source": [
        "# prompt: plot the first 100 words embedding after decrease the dimension to 2\n",
        "\n",
        "import matplotlib.pyplot as plt\n",
        "from sklearn.decomposition import PCA\n",
        "\n",
        "# Assuming 'model' and 'vocab' are defined from the previous code\n",
        "# and 'model.embedding.weight.data' holds the word embeddings.\n",
        "\n",
        "# Get the first 100 word embeddings\n",
        "embeddings = model.embedding.weight.data[50:100]\n",
        "\n",
        "# Reduce dimensions to 2 using PCA\n",
        "pca = PCA(n_components=2)\n",
        "embeddings_2d = pca.fit_transform(embeddings.cpu().numpy())\n",
        "\n",
        "# Get the corresponding words\n",
        "words = vocab.get_itos()[50:100]\n",
        "\n",
        "# Create the plot\n",
        "plt.figure(figsize=(10, 8))\n",
        "plt.scatter(embeddings_2d[:, 0], embeddings_2d[:, 1])\n",
        "\n",
        "# Add labels for each point\n",
        "for i, word in enumerate(words):\n",
        "    plt.annotate(word, (embeddings_2d[i, 0], embeddings_2d[i, 1]), fontsize=8)\n",
        "\n",
        "plt.title(\"2D Word Embeddings (First 100 Words)\")\n",
        "plt.xlabel(\"Principal Component 1\")\n",
        "plt.ylabel(\"Principal Component 2\")\n",
        "plt.show()\n"
      ],
      "metadata": {
        "colab": {
          "base_uri": "https://localhost:8080/",
          "height": 718
        },
        "id": "TlpTTnwYBQcr",
        "outputId": "1e143f67-4752-424c-be66-fd3c4cda991f"
      },
      "execution_count": null,
      "outputs": [
        {
          "output_type": "display_data",
          "data": {
            "text/plain": [
              "<Figure size 1000x800 with 1 Axes>"
            ],
            "image/png": "[encoded data removed]"
          },
          "metadata": {}
        }
      ]
    },
    {
      "cell_type": "code",
      "source": [
        "# if I use embedding dimension of 100 and epoch of 10, it generates some interesting results.\n",
        "# with 0.01 as the learning rate\n",
        "\n",
        "# build model\n",
        "class BoWClassifier(nn.Module):\n",
        "    def __init__(self, vocab_size, embed_dim, output_dim, pad_index):\n",
        "        super().__init__()\n",
        "        self.embedding = nn.Embedding(vocab_size, embed_dim, padding_idx=pad_index)\n",
        "        self.fc = nn.Linear(embed_dim, output_dim)\n",
        "        self.relu = nn.ReLU()\n",
        "\n",
        "    def forward(self, ids):\n",
        "        embedded = self.embedding(ids)\n",
        "        # print(embedded.shape, 'here 1')\n",
        "        pooled = embedded.mean(dim=1) # if each data point has only 1 word, i.e. the seq length =1, we dont need this\n",
        "        # print(pooled.shape, 'here 2')\n",
        "        pooled = self.relu(pooled) # use relu\n",
        "        prediction = self.fc(pooled)\n",
        "        return prediction\n",
        "\n",
        "\n",
        "\n",
        "vocab_size = len(vocab)\n",
        "embedding_dim = 100\n",
        "output_dim = len(train_data.unique(\"label\"))\n",
        "\n",
        "model = BoWClassifier(vocab_size, embedding_dim, output_dim, pad_index)\n",
        "\n",
        "\n",
        "def count_parameters(model):\n",
        "    return sum(p.numel() for p in model.parameters() if p.requires_grad)\n",
        "\n",
        "\n",
        "print(f\"The model has {count_parameters(model):,} trainable parameters\")\n",
        "\n",
        "# use existing word embedding as the start points\n",
        "vectors = torchtext.vocab.GloVe(name=\"6B\", dim=\"100\")\n",
        "\n",
        "\n",
        "vectors.get_vecs_by_tokens([\"hello\", \"<pad>\"])\n",
        "\n",
        "\n",
        "pretrained_embedding = vectors.get_vecs_by_tokens(vocab.get_itos())\n",
        "pretrained_embedding.shape\n",
        "\n",
        "\n",
        "model.embedding.weight.data = pretrained_embedding\n",
        "\n",
        "\n",
        "optimizer = optim.Adam(model.parameters())\n",
        "criterion = nn.CrossEntropyLoss()\n",
        "device = torch.device(\"cuda\" if torch.cuda.is_available() else \"cpu\")\n",
        "# this is to move tensor to device to speed up\n",
        "model = model.to(device)\n",
        "criterion = criterion.to(device)\n",
        "\n",
        "def get_accuracy(prediction, label):\n",
        "    batch_size, _ = prediction.shape\n",
        "    predicted_classes = prediction.argmax(dim=-1)\n",
        "    correct_predictions = predicted_classes.eq(label).sum()\n",
        "    accuracy = correct_predictions / batch_size\n",
        "    return accuracy\n",
        "\n",
        "\n",
        "def evaluate(data_loader, model, criterion, device):\n",
        "    model.eval()\n",
        "    epoch_losses = []\n",
        "    epoch_accs = []\n",
        "    # torch.no_grad() is a context manager in PyTorch that disables gradient calculations.\n",
        "    # It's used when you want to perform operations without tracking gradients,\n",
        "    # which can be useful for inference or when you're sure you won't need to call backward() on the resulting tensors.\n",
        "    with torch.no_grad():\n",
        "        for batch in tqdm.tqdm(data_loader, desc=\"evaluating...\"):\n",
        "            ids = batch[\"ids\"].to(device)\n",
        "            label = batch[\"label\"].to(device)\n",
        "            prediction = model(ids)\n",
        "            loss = criterion(prediction, label)\n",
        "            accuracy = get_accuracy(prediction, label)\n",
        "            epoch_losses.append(loss.item())\n",
        "            epoch_accs.append(accuracy.item())\n",
        "    return np.mean(epoch_losses), np.mean(epoch_accs)\n",
        "\n",
        "\n",
        "def train(data_loader, model, criterion, optimizer, device):\n",
        "    model.train()\n",
        "    epoch_losses = []\n",
        "    epoch_accs = []\n",
        "    for batch in tqdm.tqdm(data_loader, desc=\"training...\"):\n",
        "        ids = batch[\"ids\"].to(device)\n",
        "        label = batch[\"label\"].to(device)\n",
        "        # print(ids.shape, 'id shape')\n",
        "        # print(label.shape, 'label shape')\n",
        "        prediction = model(ids)\n",
        "        loss = criterion(prediction, label)\n",
        "        accuracy = get_accuracy(prediction, label)\n",
        "        optimizer.zero_grad() # clean up gradient\n",
        "        loss.backward() # doing backward\n",
        "        optimizer.step()\n",
        "        epoch_losses.append(loss.item())\n",
        "        epoch_accs.append(accuracy.item())\n",
        "    return np.mean(epoch_losses), np.mean(epoch_accs)\n",
        "\n",
        "\n",
        "# train the model\n",
        "\n",
        "# optimizer.zero_grad()is a method in PyTorch used to reset the gradients of all optimized tensors to zero before each training iteration.\n",
        "# By default, gradients in PyTorch accumulate with each backward pass.\n",
        "# Failing to clear them would cause the optimizer to use the accumulated gradients from previous iterations,\n",
        "# leading to incorrect updates of the model's parameters and hindering the training process.\n",
        "# It is called before loss.backward() and optimizer.step()\n",
        "def train(data_loader, model, criterion, optimizer, device):\n",
        "    model.train()\n",
        "    epoch_losses = []\n",
        "    epoch_accs = []\n",
        "    for batch in tqdm.tqdm(data_loader, desc=\"training...\"):\n",
        "        ids = batch[\"ids\"].to(device)\n",
        "        label = batch[\"label\"].to(device)\n",
        "        # print(ids.shape, 'id shape')\n",
        "        # print(label.shape, 'label shape')\n",
        "        prediction = model(ids)\n",
        "        loss = criterion(prediction, label)\n",
        "        accuracy = get_accuracy(prediction, label)\n",
        "        optimizer.zero_grad() # clean up gradient\n",
        "        loss.backward() # doing backward\n",
        "        optimizer.step()\n",
        "        epoch_losses.append(loss.item())\n",
        "        epoch_accs.append(accuracy.item())\n",
        "    return np.mean(epoch_losses), np.mean(epoch_accs)\n",
        "\n",
        "\n",
        "\n",
        "n_epochs = 10\n",
        "best_valid_loss = float(\"inf\")\n",
        "\n",
        "metrics = collections.defaultdict(list)\n",
        "\n",
        "for epoch in range(n_epochs):\n",
        "    train_loss, train_acc = train(\n",
        "        train_data_loader, model, criterion, optimizer, device\n",
        "    )\n",
        "    valid_loss, valid_acc = evaluate(valid_data_loader, model, criterion, device)\n",
        "    metrics[\"train_losses\"].append(train_loss)\n",
        "    metrics[\"train_accs\"].append(train_acc)\n",
        "    metrics[\"valid_losses\"].append(valid_loss)\n",
        "    metrics[\"valid_accs\"].append(valid_acc)\n",
        "    if valid_loss < best_valid_loss:\n",
        "        best_valid_loss = valid_loss\n",
        "        torch.save(model.state_dict(), \"nbow1.pt\")\n",
        "    print(f\"epoch: {epoch}\")\n",
        "    print(f\"train_loss: {train_loss:.3f}, train_acc: {train_acc:.3f}\")\n",
        "    print(f\"valid_loss: {valid_loss:.3f}, valid_acc: {valid_acc:.3f}\")\n",
        "\n",
        "# plots\n",
        "fig = plt.figure(figsize=(10, 6))\n",
        "ax = fig.add_subplot(1, 1, 1)\n",
        "ax.plot(metrics[\"train_losses\"], label=\"train loss\")\n",
        "ax.plot(metrics[\"valid_losses\"], label=\"valid loss\")\n",
        "ax.set_xlabel(\"epoch\")\n",
        "ax.set_ylabel(\"loss\")\n",
        "ax.set_xticks(range(n_epochs))\n",
        "ax.legend()\n",
        "ax.grid()\n",
        "\n",
        "fig = plt.figure(figsize=(10, 6))\n",
        "ax = fig.add_subplot(1, 1, 1)\n",
        "ax.plot(metrics[\"train_accs\"], label=\"train accuracy\")\n",
        "ax.plot(metrics[\"valid_accs\"], label=\"valid accuracy\")\n",
        "ax.set_xlabel(\"epoch\")\n",
        "ax.set_ylabel(\"loss\")\n",
        "ax.set_xticks(range(n_epochs))\n",
        "ax.legend()\n",
        "ax.grid()"
      ],
      "metadata": {
        "id": "qZ8CqTac0kaa",
        "colab": {
          "base_uri": "https://localhost:8080/",
          "height": 1000
        },
        "outputId": "ce913672-faf8-4fbb-ef10-523fa2a795e6"
      },
      "execution_count": null,
      "outputs": [
        {
          "output_type": "stream",
          "name": "stdout",
          "text": [
            "The model has 2,163,702 trainable parameters\n"
          ]
        },
        {
          "output_type": "stream",
          "name": "stderr",
          "text": [
            "training...: 100%|██████████| 37/37 [00:03<00:00, 10.43it/s]\n",
            "evaluating...: 100%|██████████| 13/13 [00:00<00:00, 38.28it/s]\n"
          ]
        },
        {
          "output_type": "stream",
          "name": "stdout",
          "text": [
            "epoch: 0\n",
            "train_loss: 0.690, train_acc: 0.539\n",
            "valid_loss: 0.686, valid_acc: 0.627\n"
          ]
        },
        {
          "output_type": "stream",
          "name": "stderr",
          "text": [
            "training...: 100%|██████████| 37/37 [00:03<00:00, 12.18it/s]\n",
            "evaluating...: 100%|██████████| 13/13 [00:00<00:00, 41.04it/s]\n"
          ]
        },
        {
          "output_type": "stream",
          "name": "stdout",
          "text": [
            "epoch: 1\n",
            "train_loss: 0.681, train_acc: 0.643\n",
            "valid_loss: 0.674, valid_acc: 0.681\n"
          ]
        },
        {
          "output_type": "stream",
          "name": "stderr",
          "text": [
            "training...: 100%|██████████| 37/37 [00:02<00:00, 13.78it/s]\n",
            "evaluating...: 100%|██████████| 13/13 [00:00<00:00, 38.43it/s]\n"
          ]
        },
        {
          "output_type": "stream",
          "name": "stdout",
          "text": [
            "epoch: 2\n",
            "train_loss: 0.665, train_acc: 0.698\n",
            "valid_loss: 0.654, valid_acc: 0.720\n"
          ]
        },
        {
          "output_type": "stream",
          "name": "stderr",
          "text": [
            "training...: 100%|██████████| 37/37 [00:02<00:00, 14.28it/s]\n",
            "evaluating...: 100%|██████████| 13/13 [00:00<00:00, 40.49it/s]\n"
          ]
        },
        {
          "output_type": "stream",
          "name": "stdout",
          "text": [
            "epoch: 3\n",
            "train_loss: 0.638, train_acc: 0.730\n",
            "valid_loss: 0.626, valid_acc: 0.737\n"
          ]
        },
        {
          "output_type": "stream",
          "name": "stderr",
          "text": [
            "training...: 100%|██████████| 37/37 [00:02<00:00, 14.23it/s]\n",
            "evaluating...: 100%|██████████| 13/13 [00:00<00:00, 40.13it/s]\n"
          ]
        },
        {
          "output_type": "stream",
          "name": "stdout",
          "text": [
            "epoch: 4\n",
            "train_loss: 0.605, train_acc: 0.755\n",
            "valid_loss: 0.592, valid_acc: 0.757\n"
          ]
        },
        {
          "output_type": "stream",
          "name": "stderr",
          "text": [
            "training...: 100%|██████████| 37/37 [00:02<00:00, 12.42it/s]\n",
            "evaluating...: 100%|██████████| 13/13 [00:00<00:00, 42.07it/s]\n"
          ]
        },
        {
          "output_type": "stream",
          "name": "stdout",
          "text": [
            "epoch: 5\n",
            "train_loss: 0.566, train_acc: 0.779\n",
            "valid_loss: 0.556, valid_acc: 0.780\n"
          ]
        },
        {
          "output_type": "stream",
          "name": "stderr",
          "text": [
            "training...: 100%|██████████| 37/37 [00:02<00:00, 12.93it/s]\n",
            "evaluating...: 100%|██████████| 13/13 [00:00<00:00, 37.80it/s]\n"
          ]
        },
        {
          "output_type": "stream",
          "name": "stdout",
          "text": [
            "epoch: 6\n",
            "train_loss: 0.527, train_acc: 0.804\n",
            "valid_loss: 0.519, valid_acc: 0.803\n"
          ]
        },
        {
          "output_type": "stream",
          "name": "stderr",
          "text": [
            "training...: 100%|██████████| 37/37 [00:02<00:00, 14.13it/s]\n",
            "evaluating...: 100%|██████████| 13/13 [00:00<00:00, 39.62it/s]\n"
          ]
        },
        {
          "output_type": "stream",
          "name": "stdout",
          "text": [
            "epoch: 7\n",
            "train_loss: 0.488, train_acc: 0.827\n",
            "valid_loss: 0.486, valid_acc: 0.821\n"
          ]
        },
        {
          "output_type": "stream",
          "name": "stderr",
          "text": [
            "training...: 100%|██████████| 37/37 [00:02<00:00, 13.69it/s]\n",
            "evaluating...: 100%|██████████| 13/13 [00:00<00:00, 26.83it/s]\n"
          ]
        },
        {
          "output_type": "stream",
          "name": "stdout",
          "text": [
            "epoch: 8\n",
            "train_loss: 0.452, train_acc: 0.845\n",
            "valid_loss: 0.456, valid_acc: 0.834\n"
          ]
        },
        {
          "output_type": "stream",
          "name": "stderr",
          "text": [
            "training...: 100%|██████████| 37/37 [00:02<00:00, 13.76it/s]\n",
            "evaluating...: 100%|██████████| 13/13 [00:00<00:00, 38.70it/s]\n"
          ]
        },
        {
          "output_type": "stream",
          "name": "stdout",
          "text": [
            "epoch: 9\n",
            "train_loss: 0.419, train_acc: 0.859\n",
            "valid_loss: 0.431, valid_acc: 0.842\n"
          ]
        },
        {
          "output_type": "display_data",
          "data": {
            "text/plain": [
              "<Figure size 1000x600 with 1 Axes>"
            ],
            "image/png": "[encoded data removed]"
          },
          "metadata": {}
        },
        {
          "output_type": "display_data",
          "data": {
            "text/plain": [
              "<Figure size 1000x600 with 1 Axes>"
            ],
            "image/png": "[encoded data removed]"
          },
          "metadata": {}
        }
      ]
    },
    {
      "cell_type": "code",
      "source": [
        "# if I use embedding dimension of 100 and epoch of 10, it generates some interesting results.\n",
        "# with a higher learning rate 0.1\n",
        "\n",
        "# build model\n",
        "class BoWClassifier(nn.Module):\n",
        "    def __init__(self, vocab_size, embed_dim, output_dim, pad_index):\n",
        "        super().__init__()\n",
        "        self.embedding = nn.Embedding(vocab_size, embed_dim, padding_idx=pad_index)\n",
        "        self.fc = nn.Linear(embed_dim, output_dim)\n",
        "        self.relu = nn.ReLU()\n",
        "\n",
        "    def forward(self, ids):\n",
        "        embedded = self.embedding(ids)\n",
        "        # print(embedded.shape, 'here 1')\n",
        "        pooled = embedded.mean(dim=1) # if each data point has only 1 word, i.e. the seq length =1, we dont need this\n",
        "        # print(pooled.shape, 'here 2')\n",
        "        pooled = self.relu(pooled) # use relu\n",
        "        prediction = self.fc(pooled)\n",
        "        return prediction\n",
        "\n",
        "\n",
        "\n",
        "vocab_size = len(vocab)\n",
        "embedding_dim = 100\n",
        "output_dim = len(train_data.unique(\"label\"))\n",
        "\n",
        "model = BoWClassifier(vocab_size, embedding_dim, output_dim, pad_index)\n",
        "\n",
        "\n",
        "def count_parameters(model):\n",
        "    return sum(p.numel() for p in model.parameters() if p.requires_grad)\n",
        "\n",
        "\n",
        "print(f\"The model has {count_parameters(model):,} trainable parameters\")\n",
        "\n",
        "# use existing word embedding as the start points\n",
        "vectors = torchtext.vocab.GloVe(name=\"6B\", dim=\"100\")\n",
        "\n",
        "\n",
        "vectors.get_vecs_by_tokens([\"hello\", \"<pad>\"])\n",
        "\n",
        "\n",
        "pretrained_embedding = vectors.get_vecs_by_tokens(vocab.get_itos())\n",
        "pretrained_embedding.shape\n",
        "\n",
        "\n",
        "model.embedding.weight.data = pretrained_embedding\n",
        "\n",
        "\n",
        "optimizer = optim.Adam(model.parameters(),lr=0.1)\n",
        "# if I change the lr to 0.1, it is likely that the loss is a flat line for valid dataset\n",
        "# since it is overfitting to the training data\n",
        "# and Large weight updates (higher learning rate) may push the neuron's activation permanently\n",
        "# into the negative region. Since the ReLU function outputs zero for any negative value and its derivative is also zero\n",
        "#  in that range,\n",
        "# the neuron stops contributing to learning because it no longer receives meaningful gradient updates.\n",
        "criterion = nn.CrossEntropyLoss()\n",
        "device = torch.device(\"cuda\" if torch.cuda.is_available() else \"cpu\")\n",
        "# this is to move tensor to device to speed up\n",
        "model = model.to(device)\n",
        "criterion = criterion.to(device)\n",
        "\n",
        "def get_accuracy(prediction, label):\n",
        "    batch_size, _ = prediction.shape\n",
        "    predicted_classes = prediction.argmax(dim=-1)\n",
        "    correct_predictions = predicted_classes.eq(label).sum()\n",
        "    accuracy = correct_predictions / batch_size\n",
        "    return accuracy\n",
        "\n",
        "\n",
        "def evaluate(data_loader, model, criterion, device):\n",
        "    model.eval()\n",
        "    epoch_losses = []\n",
        "    epoch_accs = []\n",
        "    # torch.no_grad() is a context manager in PyTorch that disables gradient calculations.\n",
        "    # It's used when you want to perform operations without tracking gradients,\n",
        "    # which can be useful for inference or when you're sure you won't need to call backward() on the resulting tensors.\n",
        "    with torch.no_grad():\n",
        "        for batch in tqdm.tqdm(data_loader, desc=\"evaluating...\"):\n",
        "            ids = batch[\"ids\"].to(device)\n",
        "            label = batch[\"label\"].to(device)\n",
        "            prediction = model(ids)\n",
        "            loss = criterion(prediction, label)\n",
        "            accuracy = get_accuracy(prediction, label)\n",
        "            epoch_losses.append(loss.item())\n",
        "            epoch_accs.append(accuracy.item())\n",
        "    return np.mean(epoch_losses), np.mean(epoch_accs)\n",
        "\n",
        "\n",
        "def train(data_loader, model, criterion, optimizer, device):\n",
        "    model.train()\n",
        "    epoch_losses = []\n",
        "    epoch_accs = []\n",
        "    for batch in tqdm.tqdm(data_loader, desc=\"training...\"):\n",
        "        ids = batch[\"ids\"].to(device)\n",
        "        label = batch[\"label\"].to(device)\n",
        "        # print(ids.shape, 'id shape')\n",
        "        # print(label.shape, 'label shape')\n",
        "        prediction = model(ids)\n",
        "        loss = criterion(prediction, label)\n",
        "        accuracy = get_accuracy(prediction, label)\n",
        "        optimizer.zero_grad() # clean up gradient\n",
        "        loss.backward() # doing backward\n",
        "        optimizer.step()\n",
        "        epoch_losses.append(loss.item())\n",
        "        epoch_accs.append(accuracy.item())\n",
        "    return np.mean(epoch_losses), np.mean(epoch_accs)\n",
        "\n",
        "\n",
        "# train the model\n",
        "\n",
        "# optimizer.zero_grad()is a method in PyTorch used to reset the gradients of all optimized tensors to zero before each training iteration.\n",
        "# By default, gradients in PyTorch accumulate with each backward pass.\n",
        "# Failing to clear them would cause the optimizer to use the accumulated gradients from previous iterations,\n",
        "# leading to incorrect updates of the model's parameters and hindering the training process.\n",
        "# It is called before loss.backward() and optimizer.step()\n",
        "def train(data_loader, model, criterion, optimizer, device):\n",
        "    model.train()\n",
        "    epoch_losses = []\n",
        "    epoch_accs = []\n",
        "    for batch in tqdm.tqdm(data_loader, desc=\"training...\"):\n",
        "        ids = batch[\"ids\"].to(device)\n",
        "        label = batch[\"label\"].to(device)\n",
        "        # print(ids.shape, 'id shape')\n",
        "        # print(label.shape, 'label shape')\n",
        "        prediction = model(ids)\n",
        "        loss = criterion(prediction, label)\n",
        "        accuracy = get_accuracy(prediction, label)\n",
        "        optimizer.zero_grad() # clean up gradient\n",
        "        loss.backward() # doing backward\n",
        "        optimizer.step()\n",
        "        epoch_losses.append(loss.item())\n",
        "        epoch_accs.append(accuracy.item())\n",
        "    return np.mean(epoch_losses), np.mean(epoch_accs)\n",
        "\n",
        "\n",
        "\n",
        "n_epochs = 10\n",
        "best_valid_loss = float(\"inf\")\n",
        "\n",
        "metrics = collections.defaultdict(list)\n",
        "\n",
        "for epoch in range(n_epochs):\n",
        "    train_loss, train_acc = train(\n",
        "        train_data_loader, model, criterion, optimizer, device\n",
        "    )\n",
        "    valid_loss, valid_acc = evaluate(valid_data_loader, model, criterion, device)\n",
        "    metrics[\"train_losses\"].append(train_loss)\n",
        "    metrics[\"train_accs\"].append(train_acc)\n",
        "    metrics[\"valid_losses\"].append(valid_loss)\n",
        "    metrics[\"valid_accs\"].append(valid_acc)\n",
        "    if valid_loss < best_valid_loss:\n",
        "        best_valid_loss = valid_loss\n",
        "        torch.save(model.state_dict(), \"nbow2.pt\")\n",
        "    print(f\"epoch: {epoch}\")\n",
        "    print(f\"train_loss: {train_loss:.3f}, train_acc: {train_acc:.3f}\")\n",
        "    print(f\"valid_loss: {valid_loss:.3f}, valid_acc: {valid_acc:.3f}\")\n",
        "\n",
        "# plots\n",
        "fig = plt.figure(figsize=(10, 6))\n",
        "ax = fig.add_subplot(1, 1, 1)\n",
        "ax.plot(metrics[\"train_losses\"], label=\"train loss\")\n",
        "ax.plot(metrics[\"valid_losses\"], label=\"valid loss\")\n",
        "ax.set_xlabel(\"epoch\")\n",
        "ax.set_ylabel(\"loss\")\n",
        "ax.set_xticks(range(n_epochs))\n",
        "ax.legend()\n",
        "ax.grid()\n",
        "\n",
        "fig = plt.figure(figsize=(10, 6))\n",
        "ax = fig.add_subplot(1, 1, 1)\n",
        "ax.plot(metrics[\"train_accs\"], label=\"train accuracy\")\n",
        "ax.plot(metrics[\"valid_accs\"], label=\"valid accuracy\")\n",
        "ax.set_xlabel(\"epoch\")\n",
        "ax.set_ylabel(\"loss\")\n",
        "ax.set_xticks(range(n_epochs))\n",
        "ax.legend()\n",
        "ax.grid()"
      ],
      "metadata": {
        "colab": {
          "base_uri": "https://localhost:8080/",
          "height": 1000
        },
        "id": "M60lmSiN1Rbo",
        "outputId": "62315e7f-0c8c-4d1a-afab-e559b6f0a707"
      },
      "execution_count": null,
      "outputs": [
        {
          "output_type": "stream",
          "name": "stdout",
          "text": [
            "The model has 2,163,702 trainable parameters\n"
          ]
        },
        {
          "output_type": "stream",
          "name": "stderr",
          "text": [
            "training...: 100%|██████████| 37/37 [00:03<00:00,  9.85it/s]\n",
            "evaluating...: 100%|██████████| 13/13 [00:00<00:00, 39.30it/s]\n"
          ]
        },
        {
          "output_type": "stream",
          "name": "stdout",
          "text": [
            "epoch: 0\n",
            "train_loss: 0.492, train_acc: 0.744\n",
            "valid_loss: 0.317, valid_acc: 0.872\n"
          ]
        },
        {
          "output_type": "stream",
          "name": "stderr",
          "text": [
            "training...: 100%|██████████| 37/37 [00:02<00:00, 13.85it/s]\n",
            "evaluating...: 100%|██████████| 13/13 [00:00<00:00, 37.53it/s]\n"
          ]
        },
        {
          "output_type": "stream",
          "name": "stdout",
          "text": [
            "epoch: 1\n",
            "train_loss: 0.183, train_acc: 0.933\n",
            "valid_loss: 0.304, valid_acc: 0.884\n"
          ]
        },
        {
          "output_type": "stream",
          "name": "stderr",
          "text": [
            "training...: 100%|██████████| 37/37 [00:02<00:00, 13.90it/s]\n",
            "evaluating...: 100%|██████████| 13/13 [00:00<00:00, 38.35it/s]\n"
          ]
        },
        {
          "output_type": "stream",
          "name": "stdout",
          "text": [
            "epoch: 2\n",
            "train_loss: 0.085, train_acc: 0.975\n",
            "valid_loss: 0.361, valid_acc: 0.877\n"
          ]
        },
        {
          "output_type": "stream",
          "name": "stderr",
          "text": [
            "training...: 100%|██████████| 37/37 [00:03<00:00,  9.57it/s]\n",
            "evaluating...: 100%|██████████| 13/13 [00:00<00:00, 36.55it/s]\n"
          ]
        },
        {
          "output_type": "stream",
          "name": "stdout",
          "text": [
            "epoch: 3\n",
            "train_loss: 0.038, train_acc: 0.991\n",
            "valid_loss: 0.444, valid_acc: 0.870\n"
          ]
        },
        {
          "output_type": "stream",
          "name": "stderr",
          "text": [
            "training...: 100%|██████████| 37/37 [00:02<00:00, 13.94it/s]\n",
            "evaluating...: 100%|██████████| 13/13 [00:00<00:00, 40.03it/s]\n"
          ]
        },
        {
          "output_type": "stream",
          "name": "stdout",
          "text": [
            "epoch: 4\n",
            "train_loss: 0.018, train_acc: 0.998\n",
            "valid_loss: 0.490, valid_acc: 0.869\n"
          ]
        },
        {
          "output_type": "stream",
          "name": "stderr",
          "text": [
            "training...: 100%|██████████| 37/37 [00:02<00:00, 13.84it/s]\n",
            "evaluating...: 100%|██████████| 13/13 [00:00<00:00, 39.24it/s]\n"
          ]
        },
        {
          "output_type": "stream",
          "name": "stdout",
          "text": [
            "epoch: 5\n",
            "train_loss: 0.008, train_acc: 0.999\n",
            "valid_loss: 0.536, valid_acc: 0.868\n"
          ]
        },
        {
          "output_type": "stream",
          "name": "stderr",
          "text": [
            "training...: 100%|██████████| 37/37 [00:02<00:00, 13.87it/s]\n",
            "evaluating...: 100%|██████████| 13/13 [00:00<00:00, 38.01it/s]\n"
          ]
        },
        {
          "output_type": "stream",
          "name": "stdout",
          "text": [
            "epoch: 6\n",
            "train_loss: 0.004, train_acc: 1.000\n",
            "valid_loss: 0.575, valid_acc: 0.867\n"
          ]
        },
        {
          "output_type": "stream",
          "name": "stderr",
          "text": [
            "training...: 100%|██████████| 37/37 [00:03<00:00, 11.86it/s]\n",
            "evaluating...: 100%|██████████| 13/13 [00:00<00:00, 36.40it/s]\n"
          ]
        },
        {
          "output_type": "stream",
          "name": "stdout",
          "text": [
            "epoch: 7\n",
            "train_loss: 0.002, train_acc: 1.000\n",
            "valid_loss: 0.600, valid_acc: 0.868\n"
          ]
        },
        {
          "output_type": "stream",
          "name": "stderr",
          "text": [
            "training...: 100%|██████████| 37/37 [00:02<00:00, 13.71it/s]\n",
            "evaluating...: 100%|██████████| 13/13 [00:00<00:00, 36.96it/s]\n"
          ]
        },
        {
          "output_type": "stream",
          "name": "stdout",
          "text": [
            "epoch: 8\n",
            "train_loss: 0.002, train_acc: 1.000\n",
            "valid_loss: 0.622, valid_acc: 0.868\n"
          ]
        },
        {
          "output_type": "stream",
          "name": "stderr",
          "text": [
            "training...: 100%|██████████| 37/37 [00:02<00:00, 12.88it/s]\n",
            "evaluating...: 100%|██████████| 13/13 [00:00<00:00, 35.89it/s]\n"
          ]
        },
        {
          "output_type": "stream",
          "name": "stdout",
          "text": [
            "epoch: 9\n",
            "train_loss: 0.001, train_acc: 1.000\n",
            "valid_loss: 0.641, valid_acc: 0.870\n"
          ]
        },
        {
          "output_type": "display_data",
          "data": {
            "text/plain": [
              "<Figure size 1000x600 with 1 Axes>"
            ],
            "image/png": "[encoded data removed]"
          },
          "metadata": {}
        },
        {
          "output_type": "display_data",
          "data": {
            "text/plain": [
              "<Figure size 1000x600 with 1 Axes>"
            ],
            "image/png": "[encoded data removed]"
          },
          "metadata": {}
        }
      ]
    },
    {
      "cell_type": "code",
      "source": [
        "# if I use embedding dimension of 100 and epoch of 10, it generates some interesting results.\n",
        "# with a higher learning rate 0.1\n",
        "# with a leaky relu\n",
        "\n",
        "# build model\n",
        "class BoWClassifier(nn.Module):\n",
        "    def __init__(self, vocab_size, embed_dim, output_dim, pad_index):\n",
        "        super().__init__()\n",
        "        self.embedding = nn.Embedding(vocab_size, embed_dim, padding_idx=pad_index)\n",
        "        self.fc = nn.Linear(embed_dim, output_dim)\n",
        "        self.relu = nn.LeakyReLU()\n",
        "\n",
        "    def forward(self, ids):\n",
        "        embedded = self.embedding(ids)\n",
        "        # print(embedded.shape, 'here 1')\n",
        "        pooled = embedded.mean(dim=1) # if each data point has only 1 word, i.e. the seq length =1, we dont need this\n",
        "        # print(pooled.shape, 'here 2')\n",
        "        pooled = self.relu(pooled) # use relu\n",
        "        prediction = self.fc(pooled)\n",
        "        return prediction\n",
        "\n",
        "\n",
        "\n",
        "vocab_size = len(vocab)\n",
        "embedding_dim = 100\n",
        "output_dim = len(train_data.unique(\"label\"))\n",
        "\n",
        "model = BoWClassifier(vocab_size, embedding_dim, output_dim, pad_index)\n",
        "\n",
        "\n",
        "def count_parameters(model):\n",
        "    return sum(p.numel() for p in model.parameters() if p.requires_grad)\n",
        "\n",
        "\n",
        "print(f\"The model has {count_parameters(model):,} trainable parameters\")\n",
        "\n",
        "# use existing word embedding as the start points\n",
        "vectors = torchtext.vocab.GloVe(name=\"6B\", dim=\"100\")\n",
        "\n",
        "\n",
        "vectors.get_vecs_by_tokens([\"hello\", \"<pad>\"])\n",
        "\n",
        "\n",
        "pretrained_embedding = vectors.get_vecs_by_tokens(vocab.get_itos())\n",
        "pretrained_embedding.shape\n",
        "\n",
        "\n",
        "model.embedding.weight.data = pretrained_embedding\n",
        "\n",
        "\n",
        "optimizer = optim.Adam(model.parameters())\n",
        "criterion = nn.CrossEntropyLoss()\n",
        "device = torch.device(\"cuda\" if torch.cuda.is_available() else \"cpu\")\n",
        "# this is to move tensor to device to speed up\n",
        "model = model.to(device)\n",
        "criterion = criterion.to(device)\n",
        "\n",
        "def get_accuracy(prediction, label):\n",
        "    batch_size, _ = prediction.shape\n",
        "    predicted_classes = prediction.argmax(dim=-1)\n",
        "    correct_predictions = predicted_classes.eq(label).sum()\n",
        "    accuracy = correct_predictions / batch_size\n",
        "    return accuracy\n",
        "\n",
        "\n",
        "def evaluate(data_loader, model, criterion, device):\n",
        "    model.eval()\n",
        "    epoch_losses = []\n",
        "    epoch_accs = []\n",
        "    # torch.no_grad() is a context manager in PyTorch that disables gradient calculations.\n",
        "    # It's used when you want to perform operations without tracking gradients,\n",
        "    # which can be useful for inference or when you're sure you won't need to call backward() on the resulting tensors.\n",
        "    with torch.no_grad():\n",
        "        for batch in tqdm.tqdm(data_loader, desc=\"evaluating...\"):\n",
        "            ids = batch[\"ids\"].to(device)\n",
        "            label = batch[\"label\"].to(device)\n",
        "            prediction = model(ids)\n",
        "            loss = criterion(prediction, label)\n",
        "            accuracy = get_accuracy(prediction, label)\n",
        "            epoch_losses.append(loss.item())\n",
        "            epoch_accs.append(accuracy.item())\n",
        "    return np.mean(epoch_losses), np.mean(epoch_accs)\n",
        "\n",
        "\n",
        "def train(data_loader, model, criterion, optimizer, device):\n",
        "    model.train()\n",
        "    epoch_losses = []\n",
        "    epoch_accs = []\n",
        "    for batch in tqdm.tqdm(data_loader, desc=\"training...\"):\n",
        "        ids = batch[\"ids\"].to(device)\n",
        "        label = batch[\"label\"].to(device)\n",
        "        # print(ids.shape, 'id shape')\n",
        "        # print(label.shape, 'label shape')\n",
        "        prediction = model(ids)\n",
        "        loss = criterion(prediction, label)\n",
        "        accuracy = get_accuracy(prediction, label)\n",
        "        optimizer.zero_grad() # clean up gradient\n",
        "        loss.backward() # doing backward\n",
        "        optimizer.step()\n",
        "        epoch_losses.append(loss.item())\n",
        "        epoch_accs.append(accuracy.item())\n",
        "    return np.mean(epoch_losses), np.mean(epoch_accs)\n",
        "\n",
        "\n",
        "# train the model\n",
        "\n",
        "# optimizer.zero_grad()is a method in PyTorch used to reset the gradients of all optimized tensors to zero before each training iteration.\n",
        "# By default, gradients in PyTorch accumulate with each backward pass.\n",
        "# Failing to clear them would cause the optimizer to use the accumulated gradients from previous iterations,\n",
        "# leading to incorrect updates of the model's parameters and hindering the training process.\n",
        "# It is called before loss.backward() and optimizer.step()\n",
        "def train(data_loader, model, criterion, optimizer, device):\n",
        "    model.train()\n",
        "    epoch_losses = []\n",
        "    epoch_accs = []\n",
        "    for batch in tqdm.tqdm(data_loader, desc=\"training...\"):\n",
        "        ids = batch[\"ids\"].to(device)\n",
        "        label = batch[\"label\"].to(device)\n",
        "        # print(ids.shape, 'id shape')\n",
        "        # print(label.shape, 'label shape')\n",
        "        prediction = model(ids)\n",
        "        loss = criterion(prediction, label)\n",
        "        accuracy = get_accuracy(prediction, label)\n",
        "        optimizer.zero_grad() # clean up gradient\n",
        "        loss.backward() # doing backward\n",
        "        optimizer.step()\n",
        "        epoch_losses.append(loss.item())\n",
        "        epoch_accs.append(accuracy.item())\n",
        "    return np.mean(epoch_losses), np.mean(epoch_accs)\n",
        "\n",
        "\n",
        "\n",
        "n_epochs = 10\n",
        "best_valid_loss = float(\"inf\")\n",
        "\n",
        "metrics = collections.defaultdict(list)\n",
        "\n",
        "for epoch in range(n_epochs):\n",
        "    train_loss, train_acc = train(\n",
        "        train_data_loader, model, criterion, optimizer, device\n",
        "    )\n",
        "    valid_loss, valid_acc = evaluate(valid_data_loader, model, criterion, device)\n",
        "    metrics[\"train_losses\"].append(train_loss)\n",
        "    metrics[\"train_accs\"].append(train_acc)\n",
        "    metrics[\"valid_losses\"].append(valid_loss)\n",
        "    metrics[\"valid_accs\"].append(valid_acc)\n",
        "    if valid_loss < best_valid_loss:\n",
        "        best_valid_loss = valid_loss\n",
        "        torch.save(model.state_dict(), \"nbow3.pt\")\n",
        "    print(f\"epoch: {epoch}\")\n",
        "    print(f\"train_loss: {train_loss:.3f}, train_acc: {train_acc:.3f}\")\n",
        "    print(f\"valid_loss: {valid_loss:.3f}, valid_acc: {valid_acc:.3f}\")\n",
        "\n",
        "# plots\n",
        "fig = plt.figure(figsize=(10, 6))\n",
        "ax = fig.add_subplot(1, 1, 1)\n",
        "ax.plot(metrics[\"train_losses\"], label=\"train loss\")\n",
        "ax.plot(metrics[\"valid_losses\"], label=\"valid loss\")\n",
        "ax.set_xlabel(\"epoch\")\n",
        "ax.set_ylabel(\"loss\")\n",
        "ax.set_xticks(range(n_epochs))\n",
        "ax.legend()\n",
        "ax.grid()\n",
        "\n",
        "fig = plt.figure(figsize=(10, 6))\n",
        "ax = fig.add_subplot(1, 1, 1)\n",
        "ax.plot(metrics[\"train_accs\"], label=\"train accuracy\")\n",
        "ax.plot(metrics[\"valid_accs\"], label=\"valid accuracy\")\n",
        "ax.set_xlabel(\"epoch\")\n",
        "ax.set_ylabel(\"loss\")\n",
        "ax.set_xticks(range(n_epochs))\n",
        "ax.legend()\n",
        "ax.grid()"
      ],
      "metadata": {
        "colab": {
          "base_uri": "https://localhost:8080/",
          "height": 1000
        },
        "id": "y7wfwTCZ_ZiZ",
        "outputId": "86a81cb2-0e0d-4a44-f52b-10a9dc61bd54"
      },
      "execution_count": null,
      "outputs": [
        {
          "output_type": "stream",
          "name": "stdout",
          "text": [
            "The model has 2,163,702 trainable parameters\n"
          ]
        },
        {
          "output_type": "stream",
          "name": "stderr",
          "text": [
            "training...: 100%|██████████| 37/37 [00:03<00:00, 10.88it/s]\n",
            "evaluating...: 100%|██████████| 13/13 [00:00<00:00, 38.10it/s]\n"
          ]
        },
        {
          "output_type": "stream",
          "name": "stdout",
          "text": [
            "epoch: 0\n",
            "train_loss: 0.691, train_acc: 0.556\n",
            "valid_loss: 0.687, valid_acc: 0.652\n"
          ]
        },
        {
          "output_type": "stream",
          "name": "stderr",
          "text": [
            "training...: 100%|██████████| 37/37 [00:02<00:00, 15.32it/s]\n",
            "evaluating...: 100%|██████████| 13/13 [00:00<00:00, 37.65it/s]\n"
          ]
        },
        {
          "output_type": "stream",
          "name": "stdout",
          "text": [
            "epoch: 1\n",
            "train_loss: 0.682, train_acc: 0.620\n",
            "valid_loss: 0.677, valid_acc: 0.619\n"
          ]
        },
        {
          "output_type": "stream",
          "name": "stderr",
          "text": [
            "training...: 100%|██████████| 37/37 [00:02<00:00, 13.70it/s]\n",
            "evaluating...: 100%|██████████| 13/13 [00:00<00:00, 37.32it/s]\n"
          ]
        },
        {
          "output_type": "stream",
          "name": "stdout",
          "text": [
            "epoch: 2\n",
            "train_loss: 0.668, train_acc: 0.690\n",
            "valid_loss: 0.659, valid_acc: 0.684\n"
          ]
        },
        {
          "output_type": "stream",
          "name": "stderr",
          "text": [
            "training...: 100%|██████████| 37/37 [00:02<00:00, 12.73it/s]\n",
            "evaluating...: 100%|██████████| 13/13 [00:00<00:00, 36.05it/s]\n"
          ]
        },
        {
          "output_type": "stream",
          "name": "stdout",
          "text": [
            "epoch: 3\n",
            "train_loss: 0.643, train_acc: 0.721\n",
            "valid_loss: 0.632, valid_acc: 0.726\n"
          ]
        },
        {
          "output_type": "stream",
          "name": "stderr",
          "text": [
            "training...: 100%|██████████| 37/37 [00:02<00:00, 14.79it/s]\n",
            "evaluating...: 100%|██████████| 13/13 [00:00<00:00, 34.27it/s]\n"
          ]
        },
        {
          "output_type": "stream",
          "name": "stdout",
          "text": [
            "epoch: 4\n",
            "train_loss: 0.613, train_acc: 0.748\n",
            "valid_loss: 0.601, valid_acc: 0.743\n"
          ]
        },
        {
          "output_type": "stream",
          "name": "stderr",
          "text": [
            "training...: 100%|██████████| 37/37 [00:02<00:00, 15.06it/s]\n",
            "evaluating...: 100%|██████████| 13/13 [00:00<00:00, 40.12it/s]\n"
          ]
        },
        {
          "output_type": "stream",
          "name": "stdout",
          "text": [
            "epoch: 5\n",
            "train_loss: 0.576, train_acc: 0.773\n",
            "valid_loss: 0.564, valid_acc: 0.777\n"
          ]
        },
        {
          "output_type": "stream",
          "name": "stderr",
          "text": [
            "training...: 100%|██████████| 37/37 [00:02<00:00, 14.97it/s]\n",
            "evaluating...: 100%|██████████| 13/13 [00:00<00:00, 35.96it/s]\n"
          ]
        },
        {
          "output_type": "stream",
          "name": "stdout",
          "text": [
            "epoch: 6\n",
            "train_loss: 0.536, train_acc: 0.799\n",
            "valid_loss: 0.527, valid_acc: 0.794\n"
          ]
        },
        {
          "output_type": "stream",
          "name": "stderr",
          "text": [
            "training...: 100%|██████████| 37/37 [00:02<00:00, 13.13it/s]\n",
            "evaluating...: 100%|██████████| 13/13 [00:00<00:00, 26.67it/s]\n"
          ]
        },
        {
          "output_type": "stream",
          "name": "stdout",
          "text": [
            "epoch: 7\n",
            "train_loss: 0.494, train_acc: 0.823\n",
            "valid_loss: 0.490, valid_acc: 0.819\n"
          ]
        },
        {
          "output_type": "stream",
          "name": "stderr",
          "text": [
            "training...: 100%|██████████| 37/37 [00:02<00:00, 15.33it/s]\n",
            "evaluating...: 100%|██████████| 13/13 [00:00<00:00, 36.18it/s]\n"
          ]
        },
        {
          "output_type": "stream",
          "name": "stdout",
          "text": [
            "epoch: 8\n",
            "train_loss: 0.455, train_acc: 0.844\n",
            "valid_loss: 0.459, valid_acc: 0.831\n"
          ]
        },
        {
          "output_type": "stream",
          "name": "stderr",
          "text": [
            "training...: 100%|██████████| 37/37 [00:02<00:00, 14.96it/s]\n",
            "evaluating...: 100%|██████████| 13/13 [00:00<00:00, 37.06it/s]\n"
          ]
        },
        {
          "output_type": "stream",
          "name": "stdout",
          "text": [
            "epoch: 9\n",
            "train_loss: 0.420, train_acc: 0.860\n",
            "valid_loss: 0.431, valid_acc: 0.843\n"
          ]
        },
        {
          "output_type": "display_data",
          "data": {
            "text/plain": [
              "<Figure size 1000x600 with 1 Axes>"
            ],
            "image/png": "[encoded data removed]"
          },
          "metadata": {}
        },
        {
          "output_type": "display_data",
          "data": {
            "text/plain": [
              "<Figure size 1000x600 with 1 Axes>"
            ],
            "image/png": "[encoded data removed]"
          },
          "metadata": {}
        }
      ]
    },
    {
      "cell_type": "code",
      "source": [
        "# if I use embedding dimension of 100 and epoch of 10, it generates some interesting results.\n",
        "# with a higher learning rate 0.1, with moment of SGD optimizer\n",
        "# with a leaky relu\n",
        "\n",
        "# build model\n",
        "class BoWClassifier(nn.Module):\n",
        "    def __init__(self, vocab_size, embed_dim, output_dim, pad_index):\n",
        "        super().__init__()\n",
        "        self.embedding = nn.Embedding(vocab_size, embed_dim, padding_idx=pad_index)\n",
        "        self.fc = nn.Linear(embed_dim, output_dim)\n",
        "        self.relu = nn.LeakyReLU()\n",
        "\n",
        "    def forward(self, ids):\n",
        "        embedded = self.embedding(ids)\n",
        "        # print(embedded.shape, 'here 1')\n",
        "        pooled = embedded.mean(dim=1) # if each data point has only 1 word, i.e. the seq length =1, we dont need this\n",
        "        # print(pooled.shape, 'here 2')\n",
        "        pooled = self.relu(pooled) # use relu\n",
        "        prediction = self.fc(pooled)\n",
        "        return prediction\n",
        "\n",
        "\n",
        "\n",
        "vocab_size = len(vocab)\n",
        "embedding_dim = 100\n",
        "output_dim = len(train_data.unique(\"label\"))\n",
        "\n",
        "model = BoWClassifier(vocab_size, embedding_dim, output_dim, pad_index)\n",
        "\n",
        "\n",
        "def count_parameters(model):\n",
        "    return sum(p.numel() for p in model.parameters() if p.requires_grad)\n",
        "\n",
        "\n",
        "print(f\"The model has {count_parameters(model):,} trainable parameters\")\n",
        "\n",
        "# use existing word embedding as the start points\n",
        "# vectors = torchtext.vocab.GloVe(name=\"6B\", dim=\"100\")\n",
        "\n",
        "\n",
        "vectors.get_vecs_by_tokens([\"hello\", \"<pad>\"])\n",
        "\n",
        "\n",
        "pretrained_embedding = vectors.get_vecs_by_tokens(vocab.get_itos())\n",
        "pretrained_embedding.shape\n",
        "\n",
        "\n",
        "model.embedding.weight.data = pretrained_embedding\n",
        "\n",
        "\n",
        "# optimizer = optim.Adam(model.parameters())\n",
        "\n",
        "# # SGD with momentum instead of Adam\n",
        "optimizer = optim.SGD(model.parameters(), lr=0.1, momentum=0.9)\n",
        "criterion = nn.CrossEntropyLoss()\n",
        "device = torch.device(\"cuda\" if torch.cuda.is_available() else \"cpu\")\n",
        "# this is to move tensor to device to speed up\n",
        "model = model.to(device)\n",
        "criterion = criterion.to(device)\n",
        "\n",
        "def get_accuracy(prediction, label):\n",
        "    batch_size, _ = prediction.shape\n",
        "    predicted_classes = prediction.argmax(dim=-1)\n",
        "    correct_predictions = predicted_classes.eq(label).sum()\n",
        "    accuracy = correct_predictions / batch_size\n",
        "    return accuracy\n",
        "\n",
        "\n",
        "def evaluate(data_loader, model, criterion, device):\n",
        "    model.eval()\n",
        "    epoch_losses = []\n",
        "    epoch_accs = []\n",
        "    # torch.no_grad() is a context manager in PyTorch that disables gradient calculations.\n",
        "    # It's used when you want to perform operations without tracking gradients,\n",
        "    # which can be useful for inference or when you're sure you won't need to call backward() on the resulting tensors.\n",
        "    with torch.no_grad():\n",
        "        for batch in tqdm.tqdm(data_loader, desc=\"evaluating...\"):\n",
        "            ids = batch[\"ids\"].to(device)\n",
        "            label = batch[\"label\"].to(device)\n",
        "            prediction = model(ids)\n",
        "            loss = criterion(prediction, label)\n",
        "            accuracy = get_accuracy(prediction, label)\n",
        "            epoch_losses.append(loss.item())\n",
        "            epoch_accs.append(accuracy.item())\n",
        "    return np.mean(epoch_losses), np.mean(epoch_accs)\n",
        "\n",
        "\n",
        "def train(data_loader, model, criterion, optimizer, device):\n",
        "    model.train()\n",
        "    epoch_losses = []\n",
        "    epoch_accs = []\n",
        "    for batch in tqdm.tqdm(data_loader, desc=\"training...\"):\n",
        "        ids = batch[\"ids\"].to(device)\n",
        "        label = batch[\"label\"].to(device)\n",
        "        # print(ids.shape, 'id shape')\n",
        "        # print(label.shape, 'label shape')\n",
        "        prediction = model(ids)\n",
        "        loss = criterion(prediction, label)\n",
        "        accuracy = get_accuracy(prediction, label)\n",
        "        optimizer.zero_grad() # clean up gradient\n",
        "        loss.backward() # doing backward\n",
        "        optimizer.step()\n",
        "        epoch_losses.append(loss.item())\n",
        "        epoch_accs.append(accuracy.item())\n",
        "    return np.mean(epoch_losses), np.mean(epoch_accs)\n",
        "\n",
        "\n",
        "# train the model\n",
        "\n",
        "# optimizer.zero_grad()is a method in PyTorch used to reset the gradients of all optimized tensors to zero before each training iteration.\n",
        "# By default, gradients in PyTorch accumulate with each backward pass.\n",
        "# Failing to clear them would cause the optimizer to use the accumulated gradients from previous iterations,\n",
        "# leading to incorrect updates of the model's parameters and hindering the training process.\n",
        "# It is called before loss.backward() and optimizer.step()\n",
        "def train(data_loader, model, criterion, optimizer, device):\n",
        "    model.train()\n",
        "    epoch_losses = []\n",
        "    epoch_accs = []\n",
        "    for batch in tqdm.tqdm(data_loader, desc=\"training...\"):\n",
        "        ids = batch[\"ids\"].to(device)\n",
        "        label = batch[\"label\"].to(device)\n",
        "        # print(ids.shape, 'id shape')\n",
        "        # print(label.shape, 'label shape')\n",
        "        prediction = model(ids)\n",
        "        loss = criterion(prediction, label)\n",
        "        accuracy = get_accuracy(prediction, label)\n",
        "        optimizer.zero_grad() # clean up gradient\n",
        "        loss.backward() # doing backward\n",
        "        optimizer.step()\n",
        "        epoch_losses.append(loss.item())\n",
        "        epoch_accs.append(accuracy.item())\n",
        "    return np.mean(epoch_losses), np.mean(epoch_accs)\n",
        "\n",
        "\n",
        "\n",
        "n_epochs = 10\n",
        "best_valid_loss = float(\"inf\")\n",
        "\n",
        "metrics = collections.defaultdict(list)\n",
        "\n",
        "for epoch in range(n_epochs):\n",
        "    train_loss, train_acc = train(\n",
        "        train_data_loader, model, criterion, optimizer, device\n",
        "    )\n",
        "    valid_loss, valid_acc = evaluate(valid_data_loader, model, criterion, device)\n",
        "    metrics[\"train_losses\"].append(train_loss)\n",
        "    metrics[\"train_accs\"].append(train_acc)\n",
        "    metrics[\"valid_losses\"].append(valid_loss)\n",
        "    metrics[\"valid_accs\"].append(valid_acc)\n",
        "    if valid_loss < best_valid_loss:\n",
        "        best_valid_loss = valid_loss\n",
        "        torch.save(model.state_dict(), \"nbow4.pt\")\n",
        "    print(f\"epoch: {epoch}\")\n",
        "    print(f\"train_loss: {train_loss:.3f}, train_acc: {train_acc:.3f}\")\n",
        "    print(f\"valid_loss: {valid_loss:.3f}, valid_acc: {valid_acc:.3f}\")\n",
        "\n",
        "# plots\n",
        "fig = plt.figure(figsize=(10, 6))\n",
        "ax = fig.add_subplot(1, 1, 1)\n",
        "ax.plot(metrics[\"train_losses\"], label=\"train loss\")\n",
        "ax.plot(metrics[\"valid_losses\"], label=\"valid loss\")\n",
        "ax.set_xlabel(\"epoch\")\n",
        "ax.set_ylabel(\"loss\")\n",
        "ax.set_xticks(range(n_epochs))\n",
        "ax.legend()\n",
        "ax.grid()\n",
        "\n",
        "fig = plt.figure(figsize=(10, 6))\n",
        "ax = fig.add_subplot(1, 1, 1)\n",
        "ax.plot(metrics[\"train_accs\"], label=\"train accuracy\")\n",
        "ax.plot(metrics[\"valid_accs\"], label=\"valid accuracy\")\n",
        "ax.set_xlabel(\"epoch\")\n",
        "ax.set_ylabel(\"loss\")\n",
        "ax.set_xticks(range(n_epochs))\n",
        "ax.legend()\n",
        "ax.grid()\n",
        "\n"
      ],
      "metadata": {
        "colab": {
          "base_uri": "https://localhost:8080/",
          "height": 1000
        },
        "id": "vVIiRSPeXtOk",
        "outputId": "546c90d7-1582-4add-95ff-453181772ab1"
      },
      "execution_count": null,
      "outputs": [
        {
          "output_type": "stream",
          "name": "stdout",
          "text": [
            "The model has 2,163,702 trainable parameters\n"
          ]
        },
        {
          "output_type": "stream",
          "name": "stderr",
          "text": [
            "training...: 100%|██████████| 37/37 [00:03<00:00, 10.63it/s]\n",
            "evaluating...: 100%|██████████| 13/13 [00:00<00:00, 38.34it/s]\n"
          ]
        },
        {
          "output_type": "stream",
          "name": "stdout",
          "text": [
            "epoch: 0\n",
            "train_loss: 0.688, train_acc: 0.557\n",
            "valid_loss: 0.681, valid_acc: 0.574\n"
          ]
        },
        {
          "output_type": "stream",
          "name": "stderr",
          "text": [
            "training...: 100%|██████████| 37/37 [00:02<00:00, 14.30it/s]\n",
            "evaluating...: 100%|██████████| 13/13 [00:00<00:00, 27.09it/s]\n"
          ]
        },
        {
          "output_type": "stream",
          "name": "stdout",
          "text": [
            "epoch: 1\n",
            "train_loss: 0.678, train_acc: 0.581\n",
            "valid_loss: 0.670, valid_acc: 0.624\n"
          ]
        },
        {
          "output_type": "stream",
          "name": "stderr",
          "text": [
            "training...: 100%|██████████| 37/37 [00:02<00:00, 14.98it/s]\n",
            "evaluating...: 100%|██████████| 13/13 [00:00<00:00, 39.11it/s]\n"
          ]
        },
        {
          "output_type": "stream",
          "name": "stdout",
          "text": [
            "epoch: 2\n",
            "train_loss: 0.667, train_acc: 0.629\n",
            "valid_loss: 0.661, valid_acc: 0.636\n"
          ]
        },
        {
          "output_type": "stream",
          "name": "stderr",
          "text": [
            "training...: 100%|██████████| 37/37 [00:02<00:00, 16.01it/s]\n",
            "evaluating...: 100%|██████████| 13/13 [00:00<00:00, 36.51it/s]\n"
          ]
        },
        {
          "output_type": "stream",
          "name": "stdout",
          "text": [
            "epoch: 3\n",
            "train_loss: 0.660, train_acc: 0.630\n",
            "valid_loss: 0.653, valid_acc: 0.651\n"
          ]
        },
        {
          "output_type": "stream",
          "name": "stderr",
          "text": [
            "training...: 100%|██████████| 37/37 [00:02<00:00, 15.86it/s]\n",
            "evaluating...: 100%|██████████| 13/13 [00:00<00:00, 37.00it/s]\n"
          ]
        },
        {
          "output_type": "stream",
          "name": "stdout",
          "text": [
            "epoch: 4\n",
            "train_loss: 0.651, train_acc: 0.644\n",
            "valid_loss: 0.647, valid_acc: 0.649\n"
          ]
        },
        {
          "output_type": "stream",
          "name": "stderr",
          "text": [
            "training...: 100%|██████████| 37/37 [00:02<00:00, 16.00it/s]\n",
            "evaluating...: 100%|██████████| 13/13 [00:00<00:00, 25.26it/s]\n"
          ]
        },
        {
          "output_type": "stream",
          "name": "stdout",
          "text": [
            "epoch: 5\n",
            "train_loss: 0.644, train_acc: 0.655\n",
            "valid_loss: 0.639, valid_acc: 0.655\n"
          ]
        },
        {
          "output_type": "stream",
          "name": "stderr",
          "text": [
            "training...: 100%|██████████| 37/37 [00:02<00:00, 14.66it/s]\n",
            "evaluating...: 100%|██████████| 13/13 [00:00<00:00, 36.16it/s]\n"
          ]
        },
        {
          "output_type": "stream",
          "name": "stdout",
          "text": [
            "epoch: 6\n",
            "train_loss: 0.639, train_acc: 0.654\n",
            "valid_loss: 0.631, valid_acc: 0.669\n"
          ]
        },
        {
          "output_type": "stream",
          "name": "stderr",
          "text": [
            "training...: 100%|██████████| 37/37 [00:02<00:00, 16.36it/s]\n",
            "evaluating...: 100%|██████████| 13/13 [00:00<00:00, 39.48it/s]\n"
          ]
        },
        {
          "output_type": "stream",
          "name": "stdout",
          "text": [
            "epoch: 7\n",
            "train_loss: 0.631, train_acc: 0.666\n",
            "valid_loss: 0.624, valid_acc: 0.673\n"
          ]
        },
        {
          "output_type": "stream",
          "name": "stderr",
          "text": [
            "training...: 100%|██████████| 37/37 [00:02<00:00, 16.17it/s]\n",
            "evaluating...: 100%|██████████| 13/13 [00:00<00:00, 37.77it/s]\n"
          ]
        },
        {
          "output_type": "stream",
          "name": "stdout",
          "text": [
            "epoch: 8\n",
            "train_loss: 0.624, train_acc: 0.672\n",
            "valid_loss: 0.617, valid_acc: 0.683\n"
          ]
        },
        {
          "output_type": "stream",
          "name": "stderr",
          "text": [
            "training...: 100%|██████████| 37/37 [00:02<00:00, 16.43it/s]\n",
            "evaluating...: 100%|██████████| 13/13 [00:00<00:00, 37.11it/s]\n"
          ]
        },
        {
          "output_type": "stream",
          "name": "stdout",
          "text": [
            "epoch: 9\n",
            "train_loss: 0.618, train_acc: 0.679\n",
            "valid_loss: 0.615, valid_acc: 0.678\n"
          ]
        },
        {
          "output_type": "display_data",
          "data": {
            "text/plain": [
              "<Figure size 1000x600 with 1 Axes>"
            ],
            "image/png": "[encoded data removed]"
          },
          "metadata": {}
        },
        {
          "output_type": "display_data",
          "data": {
            "text/plain": [
              "<Figure size 1000x600 with 1 Axes>"
            ],
            "image/png": "[encoded data removed]"
          },
          "metadata": {}
        }
      ]
    },
    {
      "cell_type": "code",
      "source": [],
      "metadata": {
        "id": "9A1l8P2_cm2e"
      },
      "execution_count": null,
      "outputs": []
    }
  ]
}
