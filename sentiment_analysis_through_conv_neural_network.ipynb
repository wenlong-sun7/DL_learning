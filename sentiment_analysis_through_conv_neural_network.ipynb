{
  "nbformat": 4,
  "nbformat_minor": 0,
  "metadata": {
    "colab": {
      "provenance": [],
      "machine_shape": "hm",
      "gpuType": "A100"
    },
    "kernelspec": {
      "name": "python3",
      "display_name": "Python 3"
    },
    "language_info": {
      "name": "python"
    },
    "accelerator": "GPU",
    "widgets": {
      "application/vnd.jupyter.widget-state+json": {
        "46e0fe90b4934291b136e9c6f5b15b29": {
          "model_module": "@jupyter-widgets/controls",
          "model_name": "HBoxModel",
          "model_module_version": "1.5.0",
          "state": {
            "_dom_classes": [],
            "_model_module": "@jupyter-widgets/controls",
            "_model_module_version": "1.5.0",
            "_model_name": "HBoxModel",
            "_view_count": null,
            "_view_module": "@jupyter-widgets/controls",
            "_view_module_version": "1.5.0",
            "_view_name": "HBoxView",
            "box_style": "",
            "children": [
              "IPY_MODEL_f725b5462787493e988b613808d9bd64",
              "IPY_MODEL_c992defb41b44c44a343754ca6688a1d",
              "IPY_MODEL_7ab4a3181df3472485bcc034ae9a0ec0"
            ],
            "layout": "IPY_MODEL_d0911eacb0a248db969917861c9300e2"
          }
        },
        "f725b5462787493e988b613808d9bd64": {
          "model_module": "@jupyter-widgets/controls",
          "model_name": "HTMLModel",
          "model_module_version": "1.5.0",
          "state": {
            "_dom_classes": [],
            "_model_module": "@jupyter-widgets/controls",
            "_model_module_version": "1.5.0",
            "_model_name": "HTMLModel",
            "_view_count": null,
            "_view_module": "@jupyter-widgets/controls",
            "_view_module_version": "1.5.0",
            "_view_name": "HTMLView",
            "description": "",
            "description_tooltip": null,
            "layout": "IPY_MODEL_8292abf1d7334cad869ec0fc7397495b",
            "placeholder": "​",
            "style": "IPY_MODEL_b0fee9cd2e5041d68d5f30d6dab8b97b",
            "value": "Map: 100%"
          }
        },
        "c992defb41b44c44a343754ca6688a1d": {
          "model_module": "@jupyter-widgets/controls",
          "model_name": "FloatProgressModel",
          "model_module_version": "1.5.0",
          "state": {
            "_dom_classes": [],
            "_model_module": "@jupyter-widgets/controls",
            "_model_module_version": "1.5.0",
            "_model_name": "FloatProgressModel",
            "_view_count": null,
            "_view_module": "@jupyter-widgets/controls",
            "_view_module_version": "1.5.0",
            "_view_name": "ProgressView",
            "bar_style": "success",
            "description": "",
            "description_tooltip": null,
            "layout": "IPY_MODEL_b68c6389b2de4c488e9dbf711074732e",
            "max": 25000,
            "min": 0,
            "orientation": "horizontal",
            "style": "IPY_MODEL_b792ed1b54b24c648a98bde841661539",
            "value": 25000
          }
        },
        "7ab4a3181df3472485bcc034ae9a0ec0": {
          "model_module": "@jupyter-widgets/controls",
          "model_name": "HTMLModel",
          "model_module_version": "1.5.0",
          "state": {
            "_dom_classes": [],
            "_model_module": "@jupyter-widgets/controls",
            "_model_module_version": "1.5.0",
            "_model_name": "HTMLModel",
            "_view_count": null,
            "_view_module": "@jupyter-widgets/controls",
            "_view_module_version": "1.5.0",
            "_view_name": "HTMLView",
            "description": "",
            "description_tooltip": null,
            "layout": "IPY_MODEL_09f301d1d428447fa29cc24d5289abd9",
            "placeholder": "​",
            "style": "IPY_MODEL_eda1b500ae324789931bafbe54e923ec",
            "value": " 25000/25000 [00:05&lt;00:00, 4463.91 examples/s]"
          }
        },
        "d0911eacb0a248db969917861c9300e2": {
          "model_module": "@jupyter-widgets/base",
          "model_name": "LayoutModel",
          "model_module_version": "1.2.0",
          "state": {
            "_model_module": "@jupyter-widgets/base",
            "_model_module_version": "1.2.0",
            "_model_name": "LayoutModel",
            "_view_count": null,
            "_view_module": "@jupyter-widgets/base",
            "_view_module_version": "1.2.0",
            "_view_name": "LayoutView",
            "align_content": null,
            "align_items": null,
            "align_self": null,
            "border": null,
            "bottom": null,
            "display": null,
            "flex": null,
            "flex_flow": null,
            "grid_area": null,
            "grid_auto_columns": null,
            "grid_auto_flow": null,
            "grid_auto_rows": null,
            "grid_column": null,
            "grid_gap": null,
            "grid_row": null,
            "grid_template_areas": null,
            "grid_template_columns": null,
            "grid_template_rows": null,
            "height": null,
            "justify_content": null,
            "justify_items": null,
            "left": null,
            "margin": null,
            "max_height": null,
            "max_width": null,
            "min_height": null,
            "min_width": null,
            "object_fit": null,
            "object_position": null,
            "order": null,
            "overflow": null,
            "overflow_x": null,
            "overflow_y": null,
            "padding": null,
            "right": null,
            "top": null,
            "visibility": null,
            "width": null
          }
        },
        "8292abf1d7334cad869ec0fc7397495b": {
          "model_module": "@jupyter-widgets/base",
          "model_name": "LayoutModel",
          "model_module_version": "1.2.0",
          "state": {
            "_model_module": "@jupyter-widgets/base",
            "_model_module_version": "1.2.0",
            "_model_name": "LayoutModel",
            "_view_count": null,
            "_view_module": "@jupyter-widgets/base",
            "_view_module_version": "1.2.0",
            "_view_name": "LayoutView",
            "align_content": null,
            "align_items": null,
            "align_self": null,
            "border": null,
            "bottom": null,
            "display": null,
            "flex": null,
            "flex_flow": null,
            "grid_area": null,
            "grid_auto_columns": null,
            "grid_auto_flow": null,
            "grid_auto_rows": null,
            "grid_column": null,
            "grid_gap": null,
            "grid_row": null,
            "grid_template_areas": null,
            "grid_template_columns": null,
            "grid_template_rows": null,
            "height": null,
            "justify_content": null,
            "justify_items": null,
            "left": null,
            "margin": null,
            "max_height": null,
            "max_width": null,
            "min_height": null,
            "min_width": null,
            "object_fit": null,
            "object_position": null,
            "order": null,
            "overflow": null,
            "overflow_x": null,
            "overflow_y": null,
            "padding": null,
            "right": null,
            "top": null,
            "visibility": null,
            "width": null
          }
        },
        "b0fee9cd2e5041d68d5f30d6dab8b97b": {
          "model_module": "@jupyter-widgets/controls",
          "model_name": "DescriptionStyleModel",
          "model_module_version": "1.5.0",
          "state": {
            "_model_module": "@jupyter-widgets/controls",
            "_model_module_version": "1.5.0",
            "_model_name": "DescriptionStyleModel",
            "_view_count": null,
            "_view_module": "@jupyter-widgets/base",
            "_view_module_version": "1.2.0",
            "_view_name": "StyleView",
            "description_width": ""
          }
        },
        "b68c6389b2de4c488e9dbf711074732e": {
          "model_module": "@jupyter-widgets/base",
          "model_name": "LayoutModel",
          "model_module_version": "1.2.0",
          "state": {
            "_model_module": "@jupyter-widgets/base",
            "_model_module_version": "1.2.0",
            "_model_name": "LayoutModel",
            "_view_count": null,
            "_view_module": "@jupyter-widgets/base",
            "_view_module_version": "1.2.0",
            "_view_name": "LayoutView",
            "align_content": null,
            "align_items": null,
            "align_self": null,
            "border": null,
            "bottom": null,
            "display": null,
            "flex": null,
            "flex_flow": null,
            "grid_area": null,
            "grid_auto_columns": null,
            "grid_auto_flow": null,
            "grid_auto_rows": null,
            "grid_column": null,
            "grid_gap": null,
            "grid_row": null,
            "grid_template_areas": null,
            "grid_template_columns": null,
            "grid_template_rows": null,
            "height": null,
            "justify_content": null,
            "justify_items": null,
            "left": null,
            "margin": null,
            "max_height": null,
            "max_width": null,
            "min_height": null,
            "min_width": null,
            "object_fit": null,
            "object_position": null,
            "order": null,
            "overflow": null,
            "overflow_x": null,
            "overflow_y": null,
            "padding": null,
            "right": null,
            "top": null,
            "visibility": null,
            "width": null
          }
        },
        "b792ed1b54b24c648a98bde841661539": {
          "model_module": "@jupyter-widgets/controls",
          "model_name": "ProgressStyleModel",
          "model_module_version": "1.5.0",
          "state": {
            "_model_module": "@jupyter-widgets/controls",
            "_model_module_version": "1.5.0",
            "_model_name": "ProgressStyleModel",
            "_view_count": null,
            "_view_module": "@jupyter-widgets/base",
            "_view_module_version": "1.2.0",
            "_view_name": "StyleView",
            "bar_color": null,
            "description_width": ""
          }
        },
        "09f301d1d428447fa29cc24d5289abd9": {
          "model_module": "@jupyter-widgets/base",
          "model_name": "LayoutModel",
          "model_module_version": "1.2.0",
          "state": {
            "_model_module": "@jupyter-widgets/base",
            "_model_module_version": "1.2.0",
            "_model_name": "LayoutModel",
            "_view_count": null,
            "_view_module": "@jupyter-widgets/base",
            "_view_module_version": "1.2.0",
            "_view_name": "LayoutView",
            "align_content": null,
            "align_items": null,
            "align_self": null,
            "border": null,
            "bottom": null,
            "display": null,
            "flex": null,
            "flex_flow": null,
            "grid_area": null,
            "grid_auto_columns": null,
            "grid_auto_flow": null,
            "grid_auto_rows": null,
            "grid_column": null,
            "grid_gap": null,
            "grid_row": null,
            "grid_template_areas": null,
            "grid_template_columns": null,
            "grid_template_rows": null,
            "height": null,
            "justify_content": null,
            "justify_items": null,
            "left": null,
            "margin": null,
            "max_height": null,
            "max_width": null,
            "min_height": null,
            "min_width": null,
            "object_fit": null,
            "object_position": null,
            "order": null,
            "overflow": null,
            "overflow_x": null,
            "overflow_y": null,
            "padding": null,
            "right": null,
            "top": null,
            "visibility": null,
            "width": null
          }
        },
        "eda1b500ae324789931bafbe54e923ec": {
          "model_module": "@jupyter-widgets/controls",
          "model_name": "DescriptionStyleModel",
          "model_module_version": "1.5.0",
          "state": {
            "_model_module": "@jupyter-widgets/controls",
            "_model_module_version": "1.5.0",
            "_model_name": "DescriptionStyleModel",
            "_view_count": null,
            "_view_module": "@jupyter-widgets/base",
            "_view_module_version": "1.2.0",
            "_view_name": "StyleView",
            "description_width": ""
          }
        },
        "e2c3cc67c09244ac8345ac39c25fbca2": {
          "model_module": "@jupyter-widgets/controls",
          "model_name": "HBoxModel",
          "model_module_version": "1.5.0",
          "state": {
            "_dom_classes": [],
            "_model_module": "@jupyter-widgets/controls",
            "_model_module_version": "1.5.0",
            "_model_name": "HBoxModel",
            "_view_count": null,
            "_view_module": "@jupyter-widgets/controls",
            "_view_module_version": "1.5.0",
            "_view_name": "HBoxView",
            "box_style": "",
            "children": [
              "IPY_MODEL_7dc58d5f041548f3bfbe0592b62cee76",
              "IPY_MODEL_f5c6b709cf054ff9976ab9b9b6731b70",
              "IPY_MODEL_93fc198fab9a44d194e9fe416ad10156"
            ],
            "layout": "IPY_MODEL_e8b2b66e2dbd4132a9d494846444d4cb"
          }
        },
        "7dc58d5f041548f3bfbe0592b62cee76": {
          "model_module": "@jupyter-widgets/controls",
          "model_name": "HTMLModel",
          "model_module_version": "1.5.0",
          "state": {
            "_dom_classes": [],
            "_model_module": "@jupyter-widgets/controls",
            "_model_module_version": "1.5.0",
            "_model_name": "HTMLModel",
            "_view_count": null,
            "_view_module": "@jupyter-widgets/controls",
            "_view_module_version": "1.5.0",
            "_view_name": "HTMLView",
            "description": "",
            "description_tooltip": null,
            "layout": "IPY_MODEL_dd785f5897264e48aa56386f574ea110",
            "placeholder": "​",
            "style": "IPY_MODEL_bc72840efedc40e891bd093633f9581b",
            "value": "Map: 100%"
          }
        },
        "f5c6b709cf054ff9976ab9b9b6731b70": {
          "model_module": "@jupyter-widgets/controls",
          "model_name": "FloatProgressModel",
          "model_module_version": "1.5.0",
          "state": {
            "_dom_classes": [],
            "_model_module": "@jupyter-widgets/controls",
            "_model_module_version": "1.5.0",
            "_model_name": "FloatProgressModel",
            "_view_count": null,
            "_view_module": "@jupyter-widgets/controls",
            "_view_module_version": "1.5.0",
            "_view_name": "ProgressView",
            "bar_style": "success",
            "description": "",
            "description_tooltip": null,
            "layout": "IPY_MODEL_21d486af1b714755843e7125ddf78b56",
            "max": 25000,
            "min": 0,
            "orientation": "horizontal",
            "style": "IPY_MODEL_bf7ff0f23ddb48279acfc9c9c55f146b",
            "value": 25000
          }
        },
        "93fc198fab9a44d194e9fe416ad10156": {
          "model_module": "@jupyter-widgets/controls",
          "model_name": "HTMLModel",
          "model_module_version": "1.5.0",
          "state": {
            "_dom_classes": [],
            "_model_module": "@jupyter-widgets/controls",
            "_model_module_version": "1.5.0",
            "_model_name": "HTMLModel",
            "_view_count": null,
            "_view_module": "@jupyter-widgets/controls",
            "_view_module_version": "1.5.0",
            "_view_name": "HTMLView",
            "description": "",
            "description_tooltip": null,
            "layout": "IPY_MODEL_27b0bcd936334bf98cea03a01883f0ad",
            "placeholder": "​",
            "style": "IPY_MODEL_36aed374dd844cbca9f466cc85ee95aa",
            "value": " 25000/25000 [00:05&lt;00:00, 3154.51 examples/s]"
          }
        },
        "e8b2b66e2dbd4132a9d494846444d4cb": {
          "model_module": "@jupyter-widgets/base",
          "model_name": "LayoutModel",
          "model_module_version": "1.2.0",
          "state": {
            "_model_module": "@jupyter-widgets/base",
            "_model_module_version": "1.2.0",
            "_model_name": "LayoutModel",
            "_view_count": null,
            "_view_module": "@jupyter-widgets/base",
            "_view_module_version": "1.2.0",
            "_view_name": "LayoutView",
            "align_content": null,
            "align_items": null,
            "align_self": null,
            "border": null,
            "bottom": null,
            "display": null,
            "flex": null,
            "flex_flow": null,
            "grid_area": null,
            "grid_auto_columns": null,
            "grid_auto_flow": null,
            "grid_auto_rows": null,
            "grid_column": null,
            "grid_gap": null,
            "grid_row": null,
            "grid_template_areas": null,
            "grid_template_columns": null,
            "grid_template_rows": null,
            "height": null,
            "justify_content": null,
            "justify_items": null,
            "left": null,
            "margin": null,
            "max_height": null,
            "max_width": null,
            "min_height": null,
            "min_width": null,
            "object_fit": null,
            "object_position": null,
            "order": null,
            "overflow": null,
            "overflow_x": null,
            "overflow_y": null,
            "padding": null,
            "right": null,
            "top": null,
            "visibility": null,
            "width": null
          }
        },
        "dd785f5897264e48aa56386f574ea110": {
          "model_module": "@jupyter-widgets/base",
          "model_name": "LayoutModel",
          "model_module_version": "1.2.0",
          "state": {
            "_model_module": "@jupyter-widgets/base",
            "_model_module_version": "1.2.0",
            "_model_name": "LayoutModel",
            "_view_count": null,
            "_view_module": "@jupyter-widgets/base",
            "_view_module_version": "1.2.0",
            "_view_name": "LayoutView",
            "align_content": null,
            "align_items": null,
            "align_self": null,
            "border": null,
            "bottom": null,
            "display": null,
            "flex": null,
            "flex_flow": null,
            "grid_area": null,
            "grid_auto_columns": null,
            "grid_auto_flow": null,
            "grid_auto_rows": null,
            "grid_column": null,
            "grid_gap": null,
            "grid_row": null,
            "grid_template_areas": null,
            "grid_template_columns": null,
            "grid_template_rows": null,
            "height": null,
            "justify_content": null,
            "justify_items": null,
            "left": null,
            "margin": null,
            "max_height": null,
            "max_width": null,
            "min_height": null,
            "min_width": null,
            "object_fit": null,
            "object_position": null,
            "order": null,
            "overflow": null,
            "overflow_x": null,
            "overflow_y": null,
            "padding": null,
            "right": null,
            "top": null,
            "visibility": null,
            "width": null
          }
        },
        "bc72840efedc40e891bd093633f9581b": {
          "model_module": "@jupyter-widgets/controls",
          "model_name": "DescriptionStyleModel",
          "model_module_version": "1.5.0",
          "state": {
            "_model_module": "@jupyter-widgets/controls",
            "_model_module_version": "1.5.0",
            "_model_name": "DescriptionStyleModel",
            "_view_count": null,
            "_view_module": "@jupyter-widgets/base",
            "_view_module_version": "1.2.0",
            "_view_name": "StyleView",
            "description_width": ""
          }
        },
        "21d486af1b714755843e7125ddf78b56": {
          "model_module": "@jupyter-widgets/base",
          "model_name": "LayoutModel",
          "model_module_version": "1.2.0",
          "state": {
            "_model_module": "@jupyter-widgets/base",
            "_model_module_version": "1.2.0",
            "_model_name": "LayoutModel",
            "_view_count": null,
            "_view_module": "@jupyter-widgets/base",
            "_view_module_version": "1.2.0",
            "_view_name": "LayoutView",
            "align_content": null,
            "align_items": null,
            "align_self": null,
            "border": null,
            "bottom": null,
            "display": null,
            "flex": null,
            "flex_flow": null,
            "grid_area": null,
            "grid_auto_columns": null,
            "grid_auto_flow": null,
            "grid_auto_rows": null,
            "grid_column": null,
            "grid_gap": null,
            "grid_row": null,
            "grid_template_areas": null,
            "grid_template_columns": null,
            "grid_template_rows": null,
            "height": null,
            "justify_content": null,
            "justify_items": null,
            "left": null,
            "margin": null,
            "max_height": null,
            "max_width": null,
            "min_height": null,
            "min_width": null,
            "object_fit": null,
            "object_position": null,
            "order": null,
            "overflow": null,
            "overflow_x": null,
            "overflow_y": null,
            "padding": null,
            "right": null,
            "top": null,
            "visibility": null,
            "width": null
          }
        },
        "bf7ff0f23ddb48279acfc9c9c55f146b": {
          "model_module": "@jupyter-widgets/controls",
          "model_name": "ProgressStyleModel",
          "model_module_version": "1.5.0",
          "state": {
            "_model_module": "@jupyter-widgets/controls",
            "_model_module_version": "1.5.0",
            "_model_name": "ProgressStyleModel",
            "_view_count": null,
            "_view_module": "@jupyter-widgets/base",
            "_view_module_version": "1.2.0",
            "_view_name": "StyleView",
            "bar_color": null,
            "description_width": ""
          }
        },
        "27b0bcd936334bf98cea03a01883f0ad": {
          "model_module": "@jupyter-widgets/base",
          "model_name": "LayoutModel",
          "model_module_version": "1.2.0",
          "state": {
            "_model_module": "@jupyter-widgets/base",
            "_model_module_version": "1.2.0",
            "_model_name": "LayoutModel",
            "_view_count": null,
            "_view_module": "@jupyter-widgets/base",
            "_view_module_version": "1.2.0",
            "_view_name": "LayoutView",
            "align_content": null,
            "align_items": null,
            "align_self": null,
            "border": null,
            "bottom": null,
            "display": null,
            "flex": null,
            "flex_flow": null,
            "grid_area": null,
            "grid_auto_columns": null,
            "grid_auto_flow": null,
            "grid_auto_rows": null,
            "grid_column": null,
            "grid_gap": null,
            "grid_row": null,
            "grid_template_areas": null,
            "grid_template_columns": null,
            "grid_template_rows": null,
            "height": null,
            "justify_content": null,
            "justify_items": null,
            "left": null,
            "margin": null,
            "max_height": null,
            "max_width": null,
            "min_height": null,
            "min_width": null,
            "object_fit": null,
            "object_position": null,
            "order": null,
            "overflow": null,
            "overflow_x": null,
            "overflow_y": null,
            "padding": null,
            "right": null,
            "top": null,
            "visibility": null,
            "width": null
          }
        },
        "36aed374dd844cbca9f466cc85ee95aa": {
          "model_module": "@jupyter-widgets/controls",
          "model_name": "DescriptionStyleModel",
          "model_module_version": "1.5.0",
          "state": {
            "_model_module": "@jupyter-widgets/controls",
            "_model_module_version": "1.5.0",
            "_model_name": "DescriptionStyleModel",
            "_view_count": null,
            "_view_module": "@jupyter-widgets/base",
            "_view_module_version": "1.2.0",
            "_view_name": "StyleView",
            "description_width": ""
          }
        },
        "376b9098390848fcb17d8bb86a8bb080": {
          "model_module": "@jupyter-widgets/controls",
          "model_name": "HBoxModel",
          "model_module_version": "1.5.0",
          "state": {
            "_dom_classes": [],
            "_model_module": "@jupyter-widgets/controls",
            "_model_module_version": "1.5.0",
            "_model_name": "HBoxModel",
            "_view_count": null,
            "_view_module": "@jupyter-widgets/controls",
            "_view_module_version": "1.5.0",
            "_view_name": "HBoxView",
            "box_style": "",
            "children": [
              "IPY_MODEL_1937878fe1764415bf4f950858a8c7ec",
              "IPY_MODEL_5894d8fb4c5241d996343afa8b40a3e5",
              "IPY_MODEL_4cfcb6069a1a4f5a92795b8106de5c07"
            ],
            "layout": "IPY_MODEL_dcf69fe3d2774de685c7d4485a44c859"
          }
        },
        "1937878fe1764415bf4f950858a8c7ec": {
          "model_module": "@jupyter-widgets/controls",
          "model_name": "HTMLModel",
          "model_module_version": "1.5.0",
          "state": {
            "_dom_classes": [],
            "_model_module": "@jupyter-widgets/controls",
            "_model_module_version": "1.5.0",
            "_model_name": "HTMLModel",
            "_view_count": null,
            "_view_module": "@jupyter-widgets/controls",
            "_view_module_version": "1.5.0",
            "_view_name": "HTMLView",
            "description": "",
            "description_tooltip": null,
            "layout": "IPY_MODEL_eb8cdb905f3f4884972655a7b4fe0893",
            "placeholder": "​",
            "style": "IPY_MODEL_a79fc0e8cc8144e9a7e7ff2e6ebdff02",
            "value": "Map: 100%"
          }
        },
        "5894d8fb4c5241d996343afa8b40a3e5": {
          "model_module": "@jupyter-widgets/controls",
          "model_name": "FloatProgressModel",
          "model_module_version": "1.5.0",
          "state": {
            "_dom_classes": [],
            "_model_module": "@jupyter-widgets/controls",
            "_model_module_version": "1.5.0",
            "_model_name": "FloatProgressModel",
            "_view_count": null,
            "_view_module": "@jupyter-widgets/controls",
            "_view_module_version": "1.5.0",
            "_view_name": "ProgressView",
            "bar_style": "success",
            "description": "",
            "description_tooltip": null,
            "layout": "IPY_MODEL_a7f78c0412ef43a6af2cfbef6dc76de6",
            "max": 20000,
            "min": 0,
            "orientation": "horizontal",
            "style": "IPY_MODEL_e65f1db381ee4d02ace16054b26edd89",
            "value": 20000
          }
        },
        "4cfcb6069a1a4f5a92795b8106de5c07": {
          "model_module": "@jupyter-widgets/controls",
          "model_name": "HTMLModel",
          "model_module_version": "1.5.0",
          "state": {
            "_dom_classes": [],
            "_model_module": "@jupyter-widgets/controls",
            "_model_module_version": "1.5.0",
            "_model_name": "HTMLModel",
            "_view_count": null,
            "_view_module": "@jupyter-widgets/controls",
            "_view_module_version": "1.5.0",
            "_view_name": "HTMLView",
            "description": "",
            "description_tooltip": null,
            "layout": "IPY_MODEL_57526fe5ef9d4152869c91b3bfeb3b43",
            "placeholder": "​",
            "style": "IPY_MODEL_076b204527224a03a543ec327f4ca987",
            "value": " 20000/20000 [00:08&lt;00:00, 2572.61 examples/s]"
          }
        },
        "dcf69fe3d2774de685c7d4485a44c859": {
          "model_module": "@jupyter-widgets/base",
          "model_name": "LayoutModel",
          "model_module_version": "1.2.0",
          "state": {
            "_model_module": "@jupyter-widgets/base",
            "_model_module_version": "1.2.0",
            "_model_name": "LayoutModel",
            "_view_count": null,
            "_view_module": "@jupyter-widgets/base",
            "_view_module_version": "1.2.0",
            "_view_name": "LayoutView",
            "align_content": null,
            "align_items": null,
            "align_self": null,
            "border": null,
            "bottom": null,
            "display": null,
            "flex": null,
            "flex_flow": null,
            "grid_area": null,
            "grid_auto_columns": null,
            "grid_auto_flow": null,
            "grid_auto_rows": null,
            "grid_column": null,
            "grid_gap": null,
            "grid_row": null,
            "grid_template_areas": null,
            "grid_template_columns": null,
            "grid_template_rows": null,
            "height": null,
            "justify_content": null,
            "justify_items": null,
            "left": null,
            "margin": null,
            "max_height": null,
            "max_width": null,
            "min_height": null,
            "min_width": null,
            "object_fit": null,
            "object_position": null,
            "order": null,
            "overflow": null,
            "overflow_x": null,
            "overflow_y": null,
            "padding": null,
            "right": null,
            "top": null,
            "visibility": null,
            "width": null
          }
        },
        "eb8cdb905f3f4884972655a7b4fe0893": {
          "model_module": "@jupyter-widgets/base",
          "model_name": "LayoutModel",
          "model_module_version": "1.2.0",
          "state": {
            "_model_module": "@jupyter-widgets/base",
            "_model_module_version": "1.2.0",
            "_model_name": "LayoutModel",
            "_view_count": null,
            "_view_module": "@jupyter-widgets/base",
            "_view_module_version": "1.2.0",
            "_view_name": "LayoutView",
            "align_content": null,
            "align_items": null,
            "align_self": null,
            "border": null,
            "bottom": null,
            "display": null,
            "flex": null,
            "flex_flow": null,
            "grid_area": null,
            "grid_auto_columns": null,
            "grid_auto_flow": null,
            "grid_auto_rows": null,
            "grid_column": null,
            "grid_gap": null,
            "grid_row": null,
            "grid_template_areas": null,
            "grid_template_columns": null,
            "grid_template_rows": null,
            "height": null,
            "justify_content": null,
            "justify_items": null,
            "left": null,
            "margin": null,
            "max_height": null,
            "max_width": null,
            "min_height": null,
            "min_width": null,
            "object_fit": null,
            "object_position": null,
            "order": null,
            "overflow": null,
            "overflow_x": null,
            "overflow_y": null,
            "padding": null,
            "right": null,
            "top": null,
            "visibility": null,
            "width": null
          }
        },
        "a79fc0e8cc8144e9a7e7ff2e6ebdff02": {
          "model_module": "@jupyter-widgets/controls",
          "model_name": "DescriptionStyleModel",
          "model_module_version": "1.5.0",
          "state": {
            "_model_module": "@jupyter-widgets/controls",
            "_model_module_version": "1.5.0",
            "_model_name": "DescriptionStyleModel",
            "_view_count": null,
            "_view_module": "@jupyter-widgets/base",
            "_view_module_version": "1.2.0",
            "_view_name": "StyleView",
            "description_width": ""
          }
        },
        "a7f78c0412ef43a6af2cfbef6dc76de6": {
          "model_module": "@jupyter-widgets/base",
          "model_name": "LayoutModel",
          "model_module_version": "1.2.0",
          "state": {
            "_model_module": "@jupyter-widgets/base",
            "_model_module_version": "1.2.0",
            "_model_name": "LayoutModel",
            "_view_count": null,
            "_view_module": "@jupyter-widgets/base",
            "_view_module_version": "1.2.0",
            "_view_name": "LayoutView",
            "align_content": null,
            "align_items": null,
            "align_self": null,
            "border": null,
            "bottom": null,
            "display": null,
            "flex": null,
            "flex_flow": null,
            "grid_area": null,
            "grid_auto_columns": null,
            "grid_auto_flow": null,
            "grid_auto_rows": null,
            "grid_column": null,
            "grid_gap": null,
            "grid_row": null,
            "grid_template_areas": null,
            "grid_template_columns": null,
            "grid_template_rows": null,
            "height": null,
            "justify_content": null,
            "justify_items": null,
            "left": null,
            "margin": null,
            "max_height": null,
            "max_width": null,
            "min_height": null,
            "min_width": null,
            "object_fit": null,
            "object_position": null,
            "order": null,
            "overflow": null,
            "overflow_x": null,
            "overflow_y": null,
            "padding": null,
            "right": null,
            "top": null,
            "visibility": null,
            "width": null
          }
        },
        "e65f1db381ee4d02ace16054b26edd89": {
          "model_module": "@jupyter-widgets/controls",
          "model_name": "ProgressStyleModel",
          "model_module_version": "1.5.0",
          "state": {
            "_model_module": "@jupyter-widgets/controls",
            "_model_module_version": "1.5.0",
            "_model_name": "ProgressStyleModel",
            "_view_count": null,
            "_view_module": "@jupyter-widgets/base",
            "_view_module_version": "1.2.0",
            "_view_name": "StyleView",
            "bar_color": null,
            "description_width": ""
          }
        },
        "57526fe5ef9d4152869c91b3bfeb3b43": {
          "model_module": "@jupyter-widgets/base",
          "model_name": "LayoutModel",
          "model_module_version": "1.2.0",
          "state": {
            "_model_module": "@jupyter-widgets/base",
            "_model_module_version": "1.2.0",
            "_model_name": "LayoutModel",
            "_view_count": null,
            "_view_module": "@jupyter-widgets/base",
            "_view_module_version": "1.2.0",
            "_view_name": "LayoutView",
            "align_content": null,
            "align_items": null,
            "align_self": null,
            "border": null,
            "bottom": null,
            "display": null,
            "flex": null,
            "flex_flow": null,
            "grid_area": null,
            "grid_auto_columns": null,
            "grid_auto_flow": null,
            "grid_auto_rows": null,
            "grid_column": null,
            "grid_gap": null,
            "grid_row": null,
            "grid_template_areas": null,
            "grid_template_columns": null,
            "grid_template_rows": null,
            "height": null,
            "justify_content": null,
            "justify_items": null,
            "left": null,
            "margin": null,
            "max_height": null,
            "max_width": null,
            "min_height": null,
            "min_width": null,
            "object_fit": null,
            "object_position": null,
            "order": null,
            "overflow": null,
            "overflow_x": null,
            "overflow_y": null,
            "padding": null,
            "right": null,
            "top": null,
            "visibility": null,
            "width": null
          }
        },
        "076b204527224a03a543ec327f4ca987": {
          "model_module": "@jupyter-widgets/controls",
          "model_name": "DescriptionStyleModel",
          "model_module_version": "1.5.0",
          "state": {
            "_model_module": "@jupyter-widgets/controls",
            "_model_module_version": "1.5.0",
            "_model_name": "DescriptionStyleModel",
            "_view_count": null,
            "_view_module": "@jupyter-widgets/base",
            "_view_module_version": "1.2.0",
            "_view_name": "StyleView",
            "description_width": ""
          }
        },
        "375ebcf8b9e343f08beaa6c8837f4f97": {
          "model_module": "@jupyter-widgets/controls",
          "model_name": "HBoxModel",
          "model_module_version": "1.5.0",
          "state": {
            "_dom_classes": [],
            "_model_module": "@jupyter-widgets/controls",
            "_model_module_version": "1.5.0",
            "_model_name": "HBoxModel",
            "_view_count": null,
            "_view_module": "@jupyter-widgets/controls",
            "_view_module_version": "1.5.0",
            "_view_name": "HBoxView",
            "box_style": "",
            "children": [
              "IPY_MODEL_f21bd1f42cbb4bf3b8ba94b687e8b0b4",
              "IPY_MODEL_19af8dcf515e4159b823fdeb51df3c79",
              "IPY_MODEL_66e5388dd23941a4a051a089cd95b3c4"
            ],
            "layout": "IPY_MODEL_597c94f268894705a9d9c2ea7550d074"
          }
        },
        "f21bd1f42cbb4bf3b8ba94b687e8b0b4": {
          "model_module": "@jupyter-widgets/controls",
          "model_name": "HTMLModel",
          "model_module_version": "1.5.0",
          "state": {
            "_dom_classes": [],
            "_model_module": "@jupyter-widgets/controls",
            "_model_module_version": "1.5.0",
            "_model_name": "HTMLModel",
            "_view_count": null,
            "_view_module": "@jupyter-widgets/controls",
            "_view_module_version": "1.5.0",
            "_view_name": "HTMLView",
            "description": "",
            "description_tooltip": null,
            "layout": "IPY_MODEL_63d615d345794475bfd3d7138c06b57a",
            "placeholder": "​",
            "style": "IPY_MODEL_12c49e28e14245ccb2c093501b177ff6",
            "value": "Map: 100%"
          }
        },
        "19af8dcf515e4159b823fdeb51df3c79": {
          "model_module": "@jupyter-widgets/controls",
          "model_name": "FloatProgressModel",
          "model_module_version": "1.5.0",
          "state": {
            "_dom_classes": [],
            "_model_module": "@jupyter-widgets/controls",
            "_model_module_version": "1.5.0",
            "_model_name": "FloatProgressModel",
            "_view_count": null,
            "_view_module": "@jupyter-widgets/controls",
            "_view_module_version": "1.5.0",
            "_view_name": "ProgressView",
            "bar_style": "success",
            "description": "",
            "description_tooltip": null,
            "layout": "IPY_MODEL_9f9c9bcc47da468695a8b7b84cdcc485",
            "max": 5000,
            "min": 0,
            "orientation": "horizontal",
            "style": "IPY_MODEL_5de695f1bb3048838431434346187cbf",
            "value": 5000
          }
        },
        "66e5388dd23941a4a051a089cd95b3c4": {
          "model_module": "@jupyter-widgets/controls",
          "model_name": "HTMLModel",
          "model_module_version": "1.5.0",
          "state": {
            "_dom_classes": [],
            "_model_module": "@jupyter-widgets/controls",
            "_model_module_version": "1.5.0",
            "_model_name": "HTMLModel",
            "_view_count": null,
            "_view_module": "@jupyter-widgets/controls",
            "_view_module_version": "1.5.0",
            "_view_name": "HTMLView",
            "description": "",
            "description_tooltip": null,
            "layout": "IPY_MODEL_695525703a084ce08994b003c722f7ce",
            "placeholder": "​",
            "style": "IPY_MODEL_bcfd2f41c5ba4608b6c348e930c1fd38",
            "value": " 5000/5000 [00:01&lt;00:00, 2808.64 examples/s]"
          }
        },
        "597c94f268894705a9d9c2ea7550d074": {
          "model_module": "@jupyter-widgets/base",
          "model_name": "LayoutModel",
          "model_module_version": "1.2.0",
          "state": {
            "_model_module": "@jupyter-widgets/base",
            "_model_module_version": "1.2.0",
            "_model_name": "LayoutModel",
            "_view_count": null,
            "_view_module": "@jupyter-widgets/base",
            "_view_module_version": "1.2.0",
            "_view_name": "LayoutView",
            "align_content": null,
            "align_items": null,
            "align_self": null,
            "border": null,
            "bottom": null,
            "display": null,
            "flex": null,
            "flex_flow": null,
            "grid_area": null,
            "grid_auto_columns": null,
            "grid_auto_flow": null,
            "grid_auto_rows": null,
            "grid_column": null,
            "grid_gap": null,
            "grid_row": null,
            "grid_template_areas": null,
            "grid_template_columns": null,
            "grid_template_rows": null,
            "height": null,
            "justify_content": null,
            "justify_items": null,
            "left": null,
            "margin": null,
            "max_height": null,
            "max_width": null,
            "min_height": null,
            "min_width": null,
            "object_fit": null,
            "object_position": null,
            "order": null,
            "overflow": null,
            "overflow_x": null,
            "overflow_y": null,
            "padding": null,
            "right": null,
            "top": null,
            "visibility": null,
            "width": null
          }
        },
        "63d615d345794475bfd3d7138c06b57a": {
          "model_module": "@jupyter-widgets/base",
          "model_name": "LayoutModel",
          "model_module_version": "1.2.0",
          "state": {
            "_model_module": "@jupyter-widgets/base",
            "_model_module_version": "1.2.0",
            "_model_name": "LayoutModel",
            "_view_count": null,
            "_view_module": "@jupyter-widgets/base",
            "_view_module_version": "1.2.0",
            "_view_name": "LayoutView",
            "align_content": null,
            "align_items": null,
            "align_self": null,
            "border": null,
            "bottom": null,
            "display": null,
            "flex": null,
            "flex_flow": null,
            "grid_area": null,
            "grid_auto_columns": null,
            "grid_auto_flow": null,
            "grid_auto_rows": null,
            "grid_column": null,
            "grid_gap": null,
            "grid_row": null,
            "grid_template_areas": null,
            "grid_template_columns": null,
            "grid_template_rows": null,
            "height": null,
            "justify_content": null,
            "justify_items": null,
            "left": null,
            "margin": null,
            "max_height": null,
            "max_width": null,
            "min_height": null,
            "min_width": null,
            "object_fit": null,
            "object_position": null,
            "order": null,
            "overflow": null,
            "overflow_x": null,
            "overflow_y": null,
            "padding": null,
            "right": null,
            "top": null,
            "visibility": null,
            "width": null
          }
        },
        "12c49e28e14245ccb2c093501b177ff6": {
          "model_module": "@jupyter-widgets/controls",
          "model_name": "DescriptionStyleModel",
          "model_module_version": "1.5.0",
          "state": {
            "_model_module": "@jupyter-widgets/controls",
            "_model_module_version": "1.5.0",
            "_model_name": "DescriptionStyleModel",
            "_view_count": null,
            "_view_module": "@jupyter-widgets/base",
            "_view_module_version": "1.2.0",
            "_view_name": "StyleView",
            "description_width": ""
          }
        },
        "9f9c9bcc47da468695a8b7b84cdcc485": {
          "model_module": "@jupyter-widgets/base",
          "model_name": "LayoutModel",
          "model_module_version": "1.2.0",
          "state": {
            "_model_module": "@jupyter-widgets/base",
            "_model_module_version": "1.2.0",
            "_model_name": "LayoutModel",
            "_view_count": null,
            "_view_module": "@jupyter-widgets/base",
            "_view_module_version": "1.2.0",
            "_view_name": "LayoutView",
            "align_content": null,
            "align_items": null,
            "align_self": null,
            "border": null,
            "bottom": null,
            "display": null,
            "flex": null,
            "flex_flow": null,
            "grid_area": null,
            "grid_auto_columns": null,
            "grid_auto_flow": null,
            "grid_auto_rows": null,
            "grid_column": null,
            "grid_gap": null,
            "grid_row": null,
            "grid_template_areas": null,
            "grid_template_columns": null,
            "grid_template_rows": null,
            "height": null,
            "justify_content": null,
            "justify_items": null,
            "left": null,
            "margin": null,
            "max_height": null,
            "max_width": null,
            "min_height": null,
            "min_width": null,
            "object_fit": null,
            "object_position": null,
            "order": null,
            "overflow": null,
            "overflow_x": null,
            "overflow_y": null,
            "padding": null,
            "right": null,
            "top": null,
            "visibility": null,
            "width": null
          }
        },
        "5de695f1bb3048838431434346187cbf": {
          "model_module": "@jupyter-widgets/controls",
          "model_name": "ProgressStyleModel",
          "model_module_version": "1.5.0",
          "state": {
            "_model_module": "@jupyter-widgets/controls",
            "_model_module_version": "1.5.0",
            "_model_name": "ProgressStyleModel",
            "_view_count": null,
            "_view_module": "@jupyter-widgets/base",
            "_view_module_version": "1.2.0",
            "_view_name": "StyleView",
            "bar_color": null,
            "description_width": ""
          }
        },
        "695525703a084ce08994b003c722f7ce": {
          "model_module": "@jupyter-widgets/base",
          "model_name": "LayoutModel",
          "model_module_version": "1.2.0",
          "state": {
            "_model_module": "@jupyter-widgets/base",
            "_model_module_version": "1.2.0",
            "_model_name": "LayoutModel",
            "_view_count": null,
            "_view_module": "@jupyter-widgets/base",
            "_view_module_version": "1.2.0",
            "_view_name": "LayoutView",
            "align_content": null,
            "align_items": null,
            "align_self": null,
            "border": null,
            "bottom": null,
            "display": null,
            "flex": null,
            "flex_flow": null,
            "grid_area": null,
            "grid_auto_columns": null,
            "grid_auto_flow": null,
            "grid_auto_rows": null,
            "grid_column": null,
            "grid_gap": null,
            "grid_row": null,
            "grid_template_areas": null,
            "grid_template_columns": null,
            "grid_template_rows": null,
            "height": null,
            "justify_content": null,
            "justify_items": null,
            "left": null,
            "margin": null,
            "max_height": null,
            "max_width": null,
            "min_height": null,
            "min_width": null,
            "object_fit": null,
            "object_position": null,
            "order": null,
            "overflow": null,
            "overflow_x": null,
            "overflow_y": null,
            "padding": null,
            "right": null,
            "top": null,
            "visibility": null,
            "width": null
          }
        },
        "bcfd2f41c5ba4608b6c348e930c1fd38": {
          "model_module": "@jupyter-widgets/controls",
          "model_name": "DescriptionStyleModel",
          "model_module_version": "1.5.0",
          "state": {
            "_model_module": "@jupyter-widgets/controls",
            "_model_module_version": "1.5.0",
            "_model_name": "DescriptionStyleModel",
            "_view_count": null,
            "_view_module": "@jupyter-widgets/base",
            "_view_module_version": "1.2.0",
            "_view_name": "StyleView",
            "description_width": ""
          }
        },
        "940c866fc5ab4ef2983f6e278a130b2d": {
          "model_module": "@jupyter-widgets/controls",
          "model_name": "HBoxModel",
          "model_module_version": "1.5.0",
          "state": {
            "_dom_classes": [],
            "_model_module": "@jupyter-widgets/controls",
            "_model_module_version": "1.5.0",
            "_model_name": "HBoxModel",
            "_view_count": null,
            "_view_module": "@jupyter-widgets/controls",
            "_view_module_version": "1.5.0",
            "_view_name": "HBoxView",
            "box_style": "",
            "children": [
              "IPY_MODEL_fddced62f3cd4014b156ff269519efe8",
              "IPY_MODEL_aff3d81eef3c4a28bc6e9adecb352be5",
              "IPY_MODEL_e8607534b5d54c369c23a228c04607c2"
            ],
            "layout": "IPY_MODEL_916f8b99a01845dcb701c79eac05e8d6"
          }
        },
        "fddced62f3cd4014b156ff269519efe8": {
          "model_module": "@jupyter-widgets/controls",
          "model_name": "HTMLModel",
          "model_module_version": "1.5.0",
          "state": {
            "_dom_classes": [],
            "_model_module": "@jupyter-widgets/controls",
            "_model_module_version": "1.5.0",
            "_model_name": "HTMLModel",
            "_view_count": null,
            "_view_module": "@jupyter-widgets/controls",
            "_view_module_version": "1.5.0",
            "_view_name": "HTMLView",
            "description": "",
            "description_tooltip": null,
            "layout": "IPY_MODEL_ae0ced53f16243c785788ee1faab1eb6",
            "placeholder": "​",
            "style": "IPY_MODEL_3e8e783dc96545dab84e55b42627a4e9",
            "value": "Map: 100%"
          }
        },
        "aff3d81eef3c4a28bc6e9adecb352be5": {
          "model_module": "@jupyter-widgets/controls",
          "model_name": "FloatProgressModel",
          "model_module_version": "1.5.0",
          "state": {
            "_dom_classes": [],
            "_model_module": "@jupyter-widgets/controls",
            "_model_module_version": "1.5.0",
            "_model_name": "FloatProgressModel",
            "_view_count": null,
            "_view_module": "@jupyter-widgets/controls",
            "_view_module_version": "1.5.0",
            "_view_name": "ProgressView",
            "bar_style": "success",
            "description": "",
            "description_tooltip": null,
            "layout": "IPY_MODEL_450071c831e0476c99b3eb9d748378b7",
            "max": 25000,
            "min": 0,
            "orientation": "horizontal",
            "style": "IPY_MODEL_97494f0a9ac44c7ba809d6c59358a24f",
            "value": 25000
          }
        },
        "e8607534b5d54c369c23a228c04607c2": {
          "model_module": "@jupyter-widgets/controls",
          "model_name": "HTMLModel",
          "model_module_version": "1.5.0",
          "state": {
            "_dom_classes": [],
            "_model_module": "@jupyter-widgets/controls",
            "_model_module_version": "1.5.0",
            "_model_name": "HTMLModel",
            "_view_count": null,
            "_view_module": "@jupyter-widgets/controls",
            "_view_module_version": "1.5.0",
            "_view_name": "HTMLView",
            "description": "",
            "description_tooltip": null,
            "layout": "IPY_MODEL_24b439ab65bf48dfa0511f0afb91f7fd",
            "placeholder": "​",
            "style": "IPY_MODEL_f805762d6b7e46f79de64a5c610c4b7f",
            "value": " 25000/25000 [00:08&lt;00:00, 2546.76 examples/s]"
          }
        },
        "916f8b99a01845dcb701c79eac05e8d6": {
          "model_module": "@jupyter-widgets/base",
          "model_name": "LayoutModel",
          "model_module_version": "1.2.0",
          "state": {
            "_model_module": "@jupyter-widgets/base",
            "_model_module_version": "1.2.0",
            "_model_name": "LayoutModel",
            "_view_count": null,
            "_view_module": "@jupyter-widgets/base",
            "_view_module_version": "1.2.0",
            "_view_name": "LayoutView",
            "align_content": null,
            "align_items": null,
            "align_self": null,
            "border": null,
            "bottom": null,
            "display": null,
            "flex": null,
            "flex_flow": null,
            "grid_area": null,
            "grid_auto_columns": null,
            "grid_auto_flow": null,
            "grid_auto_rows": null,
            "grid_column": null,
            "grid_gap": null,
            "grid_row": null,
            "grid_template_areas": null,
            "grid_template_columns": null,
            "grid_template_rows": null,
            "height": null,
            "justify_content": null,
            "justify_items": null,
            "left": null,
            "margin": null,
            "max_height": null,
            "max_width": null,
            "min_height": null,
            "min_width": null,
            "object_fit": null,
            "object_position": null,
            "order": null,
            "overflow": null,
            "overflow_x": null,
            "overflow_y": null,
            "padding": null,
            "right": null,
            "top": null,
            "visibility": null,
            "width": null
          }
        },
        "ae0ced53f16243c785788ee1faab1eb6": {
          "model_module": "@jupyter-widgets/base",
          "model_name": "LayoutModel",
          "model_module_version": "1.2.0",
          "state": {
            "_model_module": "@jupyter-widgets/base",
            "_model_module_version": "1.2.0",
            "_model_name": "LayoutModel",
            "_view_count": null,
            "_view_module": "@jupyter-widgets/base",
            "_view_module_version": "1.2.0",
            "_view_name": "LayoutView",
            "align_content": null,
            "align_items": null,
            "align_self": null,
            "border": null,
            "bottom": null,
            "display": null,
            "flex": null,
            "flex_flow": null,
            "grid_area": null,
            "grid_auto_columns": null,
            "grid_auto_flow": null,
            "grid_auto_rows": null,
            "grid_column": null,
            "grid_gap": null,
            "grid_row": null,
            "grid_template_areas": null,
            "grid_template_columns": null,
            "grid_template_rows": null,
            "height": null,
            "justify_content": null,
            "justify_items": null,
            "left": null,
            "margin": null,
            "max_height": null,
            "max_width": null,
            "min_height": null,
            "min_width": null,
            "object_fit": null,
            "object_position": null,
            "order": null,
            "overflow": null,
            "overflow_x": null,
            "overflow_y": null,
            "padding": null,
            "right": null,
            "top": null,
            "visibility": null,
            "width": null
          }
        },
        "3e8e783dc96545dab84e55b42627a4e9": {
          "model_module": "@jupyter-widgets/controls",
          "model_name": "DescriptionStyleModel",
          "model_module_version": "1.5.0",
          "state": {
            "_model_module": "@jupyter-widgets/controls",
            "_model_module_version": "1.5.0",
            "_model_name": "DescriptionStyleModel",
            "_view_count": null,
            "_view_module": "@jupyter-widgets/base",
            "_view_module_version": "1.2.0",
            "_view_name": "StyleView",
            "description_width": ""
          }
        },
        "450071c831e0476c99b3eb9d748378b7": {
          "model_module": "@jupyter-widgets/base",
          "model_name": "LayoutModel",
          "model_module_version": "1.2.0",
          "state": {
            "_model_module": "@jupyter-widgets/base",
            "_model_module_version": "1.2.0",
            "_model_name": "LayoutModel",
            "_view_count": null,
            "_view_module": "@jupyter-widgets/base",
            "_view_module_version": "1.2.0",
            "_view_name": "LayoutView",
            "align_content": null,
            "align_items": null,
            "align_self": null,
            "border": null,
            "bottom": null,
            "display": null,
            "flex": null,
            "flex_flow": null,
            "grid_area": null,
            "grid_auto_columns": null,
            "grid_auto_flow": null,
            "grid_auto_rows": null,
            "grid_column": null,
            "grid_gap": null,
            "grid_row": null,
            "grid_template_areas": null,
            "grid_template_columns": null,
            "grid_template_rows": null,
            "height": null,
            "justify_content": null,
            "justify_items": null,
            "left": null,
            "margin": null,
            "max_height": null,
            "max_width": null,
            "min_height": null,
            "min_width": null,
            "object_fit": null,
            "object_position": null,
            "order": null,
            "overflow": null,
            "overflow_x": null,
            "overflow_y": null,
            "padding": null,
            "right": null,
            "top": null,
            "visibility": null,
            "width": null
          }
        },
        "97494f0a9ac44c7ba809d6c59358a24f": {
          "model_module": "@jupyter-widgets/controls",
          "model_name": "ProgressStyleModel",
          "model_module_version": "1.5.0",
          "state": {
            "_model_module": "@jupyter-widgets/controls",
            "_model_module_version": "1.5.0",
            "_model_name": "ProgressStyleModel",
            "_view_count": null,
            "_view_module": "@jupyter-widgets/base",
            "_view_module_version": "1.2.0",
            "_view_name": "StyleView",
            "bar_color": null,
            "description_width": ""
          }
        },
        "24b439ab65bf48dfa0511f0afb91f7fd": {
          "model_module": "@jupyter-widgets/base",
          "model_name": "LayoutModel",
          "model_module_version": "1.2.0",
          "state": {
            "_model_module": "@jupyter-widgets/base",
            "_model_module_version": "1.2.0",
            "_model_name": "LayoutModel",
            "_view_count": null,
            "_view_module": "@jupyter-widgets/base",
            "_view_module_version": "1.2.0",
            "_view_name": "LayoutView",
            "align_content": null,
            "align_items": null,
            "align_self": null,
            "border": null,
            "bottom": null,
            "display": null,
            "flex": null,
            "flex_flow": null,
            "grid_area": null,
            "grid_auto_columns": null,
            "grid_auto_flow": null,
            "grid_auto_rows": null,
            "grid_column": null,
            "grid_gap": null,
            "grid_row": null,
            "grid_template_areas": null,
            "grid_template_columns": null,
            "grid_template_rows": null,
            "height": null,
            "justify_content": null,
            "justify_items": null,
            "left": null,
            "margin": null,
            "max_height": null,
            "max_width": null,
            "min_height": null,
            "min_width": null,
            "object_fit": null,
            "object_position": null,
            "order": null,
            "overflow": null,
            "overflow_x": null,
            "overflow_y": null,
            "padding": null,
            "right": null,
            "top": null,
            "visibility": null,
            "width": null
          }
        },
        "f805762d6b7e46f79de64a5c610c4b7f": {
          "model_module": "@jupyter-widgets/controls",
          "model_name": "DescriptionStyleModel",
          "model_module_version": "1.5.0",
          "state": {
            "_model_module": "@jupyter-widgets/controls",
            "_model_module_version": "1.5.0",
            "_model_name": "DescriptionStyleModel",
            "_view_count": null,
            "_view_module": "@jupyter-widgets/base",
            "_view_module_version": "1.2.0",
            "_view_name": "StyleView",
            "description_width": ""
          }
        }
      }
    }
  },
  "cells": [
    {
      "cell_type": "code",
      "execution_count": null,
      "metadata": {
        "id": "h5ofYe8vD8NW"
      },
      "outputs": [],
      "source": [
        "## This demo is a learning note from this github https://github.com/bentrevett/pytorch-sentiment-analysis/tree/main.\n",
        "\n",
        "### Learn how to retrain a word embedding using existing word embedding."
      ]
    },
    {
      "cell_type": "markdown",
      "source": [
        "Torchtext0.15.1 and Torch2.0.0 are compatible with each other for this demo!!"
      ],
      "metadata": {
        "id": "R0tj8cUREcAd"
      }
    },
    {
      "cell_type": "code",
      "source": [
        "!pip install torchtext==0.15.1 --no-cache-dir\n",
        "!pip install torch==2.0.0 --no-cache-dir\n",
        "!pip install datasets\n",
        "\n",
        "!pip show torchtext\n",
        "!pip show torch"
      ],
      "metadata": {
        "colab": {
          "base_uri": "https://localhost:8080/"
        },
        "id": "M4d7NgH9Ef9H",
        "outputId": "5e36898f-a292-4499-9fe9-7dc3c2c7f34b"
      },
      "execution_count": null,
      "outputs": [
        {
          "output_type": "stream",
          "name": "stdout",
          "text": [
            "Collecting torchtext==0.15.1\n",
            "  Downloading torchtext-0.15.1-cp311-cp311-manylinux1_x86_64.whl.metadata (7.4 kB)\n",
            "Requirement already satisfied: tqdm in /usr/local/lib/python3.11/dist-packages (from torchtext==0.15.1) (4.67.1)\n",
            "Requirement already satisfied: requests in /usr/local/lib/python3.11/dist-packages (from torchtext==0.15.1) (2.32.3)\n",
            "Collecting torch==2.0.0 (from torchtext==0.15.1)\n",
            "  Downloading torch-2.0.0-cp311-cp311-manylinux1_x86_64.whl.metadata (24 kB)\n",
            "Requirement already satisfied: numpy in /usr/local/lib/python3.11/dist-packages (from torchtext==0.15.1) (1.26.4)\n",
            "Collecting torchdata==0.6.0 (from torchtext==0.15.1)\n",
            "  Downloading torchdata-0.6.0-cp311-cp311-manylinux_2_17_x86_64.manylinux2014_x86_64.whl.metadata (892 bytes)\n",
            "Requirement already satisfied: filelock in /usr/local/lib/python3.11/dist-packages (from torch==2.0.0->torchtext==0.15.1) (3.17.0)\n",
            "Requirement already satisfied: typing-extensions in /usr/local/lib/python3.11/dist-packages (from torch==2.0.0->torchtext==0.15.1) (4.12.2)\n",
            "Requirement already satisfied: sympy in /usr/local/lib/python3.11/dist-packages (from torch==2.0.0->torchtext==0.15.1) (1.13.1)\n",
            "Requirement already satisfied: networkx in /usr/local/lib/python3.11/dist-packages (from torch==2.0.0->torchtext==0.15.1) (3.4.2)\n",
            "Requirement already satisfied: jinja2 in /usr/local/lib/python3.11/dist-packages (from torch==2.0.0->torchtext==0.15.1) (3.1.6)\n",
            "Collecting nvidia-cuda-nvrtc-cu11==11.7.99 (from torch==2.0.0->torchtext==0.15.1)\n",
            "  Downloading nvidia_cuda_nvrtc_cu11-11.7.99-2-py3-none-manylinux1_x86_64.whl.metadata (1.5 kB)\n",
            "Collecting nvidia-cuda-runtime-cu11==11.7.99 (from torch==2.0.0->torchtext==0.15.1)\n",
            "  Downloading nvidia_cuda_runtime_cu11-11.7.99-py3-none-manylinux1_x86_64.whl.metadata (1.6 kB)\n",
            "Collecting nvidia-cuda-cupti-cu11==11.7.101 (from torch==2.0.0->torchtext==0.15.1)\n",
            "  Downloading nvidia_cuda_cupti_cu11-11.7.101-py3-none-manylinux1_x86_64.whl.metadata (1.6 kB)\n",
            "Collecting nvidia-cudnn-cu11==8.5.0.96 (from torch==2.0.0->torchtext==0.15.1)\n",
            "  Downloading nvidia_cudnn_cu11-8.5.0.96-2-py3-none-manylinux1_x86_64.whl.metadata (1.6 kB)\n",
            "Collecting nvidia-cublas-cu11==11.10.3.66 (from torch==2.0.0->torchtext==0.15.1)\n",
            "  Downloading nvidia_cublas_cu11-11.10.3.66-py3-none-manylinux1_x86_64.whl.metadata (1.6 kB)\n",
            "Collecting nvidia-cufft-cu11==10.9.0.58 (from torch==2.0.0->torchtext==0.15.1)\n",
            "  Downloading nvidia_cufft_cu11-10.9.0.58-py3-none-manylinux2014_x86_64.whl.metadata (1.5 kB)\n",
            "Collecting nvidia-curand-cu11==10.2.10.91 (from torch==2.0.0->torchtext==0.15.1)\n",
            "  Downloading nvidia_curand_cu11-10.2.10.91-py3-none-manylinux1_x86_64.whl.metadata (1.6 kB)\n",
            "Collecting nvidia-cusolver-cu11==11.4.0.1 (from torch==2.0.0->torchtext==0.15.1)\n",
            "  Downloading nvidia_cusolver_cu11-11.4.0.1-2-py3-none-manylinux1_x86_64.whl.metadata (1.6 kB)\n",
            "Collecting nvidia-cusparse-cu11==11.7.4.91 (from torch==2.0.0->torchtext==0.15.1)\n",
            "  Downloading nvidia_cusparse_cu11-11.7.4.91-py3-none-manylinux1_x86_64.whl.metadata (1.6 kB)\n",
            "Collecting nvidia-nccl-cu11==2.14.3 (from torch==2.0.0->torchtext==0.15.1)\n",
            "  Downloading nvidia_nccl_cu11-2.14.3-py3-none-manylinux1_x86_64.whl.metadata (1.8 kB)\n",
            "Collecting nvidia-nvtx-cu11==11.7.91 (from torch==2.0.0->torchtext==0.15.1)\n",
            "  Downloading nvidia_nvtx_cu11-11.7.91-py3-none-manylinux1_x86_64.whl.metadata (1.7 kB)\n",
            "Collecting triton==2.0.0 (from torch==2.0.0->torchtext==0.15.1)\n",
            "  Downloading triton-2.0.0-1-cp311-cp311-manylinux2014_x86_64.manylinux_2_17_x86_64.whl.metadata (1.0 kB)\n",
            "Requirement already satisfied: urllib3>=1.25 in /usr/local/lib/python3.11/dist-packages (from torchdata==0.6.0->torchtext==0.15.1) (2.3.0)\n",
            "Requirement already satisfied: setuptools in /usr/local/lib/python3.11/dist-packages (from nvidia-cublas-cu11==11.10.3.66->torch==2.0.0->torchtext==0.15.1) (75.1.0)\n",
            "Requirement already satisfied: wheel in /usr/local/lib/python3.11/dist-packages (from nvidia-cublas-cu11==11.10.3.66->torch==2.0.0->torchtext==0.15.1) (0.45.1)\n",
            "Requirement already satisfied: cmake in /usr/local/lib/python3.11/dist-packages (from triton==2.0.0->torch==2.0.0->torchtext==0.15.1) (3.31.6)\n",
            "Collecting lit (from triton==2.0.0->torch==2.0.0->torchtext==0.15.1)\n",
            "  Downloading lit-18.1.8-py3-none-any.whl.metadata (2.5 kB)\n",
            "Requirement already satisfied: charset-normalizer<4,>=2 in /usr/local/lib/python3.11/dist-packages (from requests->torchtext==0.15.1) (3.4.1)\n",
            "Requirement already satisfied: idna<4,>=2.5 in /usr/local/lib/python3.11/dist-packages (from requests->torchtext==0.15.1) (3.10)\n",
            "Requirement already satisfied: certifi>=2017.4.17 in /usr/local/lib/python3.11/dist-packages (from requests->torchtext==0.15.1) (2025.1.31)\n",
            "Requirement already satisfied: MarkupSafe>=2.0 in /usr/local/lib/python3.11/dist-packages (from jinja2->torch==2.0.0->torchtext==0.15.1) (3.0.2)\n",
            "Requirement already satisfied: mpmath<1.4,>=1.1.0 in /usr/local/lib/python3.11/dist-packages (from sympy->torch==2.0.0->torchtext==0.15.1) (1.3.0)\n",
            "Downloading torchtext-0.15.1-cp311-cp311-manylinux1_x86_64.whl (2.0 MB)\n",
            "\u001b[2K   \u001b[90m━━━━━━━━━━━━━━━━━━━━━━━━━━━━━━━━━━━━━━━━\u001b[0m \u001b[32m2.0/2.0 MB\u001b[0m \u001b[31m38.3 MB/s\u001b[0m eta \u001b[36m0:00:00\u001b[0m\n",
            "\u001b[?25hDownloading torch-2.0.0-cp311-cp311-manylinux1_x86_64.whl (619.9 MB)\n",
            "\u001b[2K   \u001b[90m━━━━━━━━━━━━━━━━━━━━━━━━━━━━━━━━━━━━━━━━\u001b[0m \u001b[32m619.9/619.9 MB\u001b[0m \u001b[31m212.9 MB/s\u001b[0m eta \u001b[36m0:00:00\u001b[0m\n",
            "\u001b[?25hDownloading torchdata-0.6.0-cp311-cp311-manylinux_2_17_x86_64.manylinux2014_x86_64.whl (4.6 MB)\n",
            "\u001b[2K   \u001b[90m━━━━━━━━━━━━━━━━━━━━━━━━━━━━━━━━━━━━━━━━\u001b[0m \u001b[32m4.6/4.6 MB\u001b[0m \u001b[31m303.6 MB/s\u001b[0m eta \u001b[36m0:00:00\u001b[0m\n",
            "\u001b[?25hDownloading nvidia_cublas_cu11-11.10.3.66-py3-none-manylinux1_x86_64.whl (317.1 MB)\n",
            "\u001b[2K   \u001b[90m━━━━━━━━━━━━━━━━━━━━━━━━━━━━━━━━━━━━━━━━\u001b[0m \u001b[32m317.1/317.1 MB\u001b[0m \u001b[31m149.5 MB/s\u001b[0m eta \u001b[36m0:00:00\u001b[0m\n",
            "\u001b[?25hDownloading nvidia_cuda_cupti_cu11-11.7.101-py3-none-manylinux1_x86_64.whl (11.8 MB)\n",
            "\u001b[2K   \u001b[90m━━━━━━━━━━━━━━━━━━━━━━━━━━━━━━━━━━━━━━━━\u001b[0m \u001b[32m11.8/11.8 MB\u001b[0m \u001b[31m302.9 MB/s\u001b[0m eta \u001b[36m0:00:00\u001b[0m\n",
            "\u001b[?25hDownloading nvidia_cuda_nvrtc_cu11-11.7.99-2-py3-none-manylinux1_x86_64.whl (21.0 MB)\n",
            "\u001b[2K   \u001b[90m━━━━━━━━━━━━━━━━━━━━━━━━━━━━━━━━━━━━━━━━\u001b[0m \u001b[32m21.0/21.0 MB\u001b[0m \u001b[31m194.8 MB/s\u001b[0m eta \u001b[36m0:00:00\u001b[0m\n",
            "\u001b[?25hDownloading nvidia_cuda_runtime_cu11-11.7.99-py3-none-manylinux1_x86_64.whl (849 kB)\n",
            "\u001b[2K   \u001b[90m━━━━━━━━━━━━━━━━━━━━━━━━━━━━━━━━━━━━━━━━\u001b[0m \u001b[32m849.3/849.3 kB\u001b[0m \u001b[31m334.9 MB/s\u001b[0m eta \u001b[36m0:00:00\u001b[0m\n",
            "\u001b[?25hDownloading nvidia_cudnn_cu11-8.5.0.96-2-py3-none-manylinux1_x86_64.whl (557.1 MB)\n",
            "\u001b[2K   \u001b[90m━━━━━━━━━━━━━━━━━━━━━━━━━━━━━━━━━━━━━━━━\u001b[0m \u001b[32m557.1/557.1 MB\u001b[0m \u001b[31m211.5 MB/s\u001b[0m eta \u001b[36m0:00:00\u001b[0m\n",
            "\u001b[?25hDownloading nvidia_cufft_cu11-10.9.0.58-py3-none-manylinux2014_x86_64.whl (168.4 MB)\n",
            "\u001b[2K   \u001b[90m━━━━━━━━━━━━━━━━━━━━━━━━━━━━━━━━━━━━━━━━\u001b[0m \u001b[32m168.4/168.4 MB\u001b[0m \u001b[31m199.9 MB/s\u001b[0m eta \u001b[36m0:00:00\u001b[0m\n",
            "\u001b[?25hDownloading nvidia_curand_cu11-10.2.10.91-py3-none-manylinux1_x86_64.whl (54.6 MB)\n",
            "\u001b[2K   \u001b[90m━━━━━━━━━━━━━━━━━━━━━━━━━━━━━━━━━━━━━━━━\u001b[0m \u001b[32m54.6/54.6 MB\u001b[0m \u001b[31m158.0 MB/s\u001b[0m eta \u001b[36m0:00:00\u001b[0m\n",
            "\u001b[?25hDownloading nvidia_cusolver_cu11-11.4.0.1-2-py3-none-manylinux1_x86_64.whl (102.6 MB)\n",
            "\u001b[2K   \u001b[90m━━━━━━━━━━━━━━━━━━━━━━━━━━━━━━━━━━━━━━━━\u001b[0m \u001b[32m102.6/102.6 MB\u001b[0m \u001b[31m180.8 MB/s\u001b[0m eta \u001b[36m0:00:00\u001b[0m\n",
            "\u001b[?25hDownloading nvidia_cusparse_cu11-11.7.4.91-py3-none-manylinux1_x86_64.whl (173.2 MB)\n",
            "\u001b[2K   \u001b[90m━━━━━━━━━━━━━━━━━━━━━━━━━━━━━━━━━━━━━━━━\u001b[0m \u001b[32m173.2/173.2 MB\u001b[0m \u001b[31m193.9 MB/s\u001b[0m eta \u001b[36m0:00:00\u001b[0m\n",
            "\u001b[?25hDownloading nvidia_nccl_cu11-2.14.3-py3-none-manylinux1_x86_64.whl (177.1 MB)\n",
            "\u001b[2K   \u001b[90m━━━━━━━━━━━━━━━━━━━━━━━━━━━━━━━━━━━━━━━━\u001b[0m \u001b[32m177.1/177.1 MB\u001b[0m \u001b[31m225.2 MB/s\u001b[0m eta \u001b[36m0:00:00\u001b[0m\n",
            "\u001b[?25hDownloading nvidia_nvtx_cu11-11.7.91-py3-none-manylinux1_x86_64.whl (98 kB)\n",
            "\u001b[2K   \u001b[90m━━━━━━━━━━━━━━━━━━━━━━━━━━━━━━━━━━━━━━━━\u001b[0m \u001b[32m98.6/98.6 kB\u001b[0m \u001b[31m249.0 MB/s\u001b[0m eta \u001b[36m0:00:00\u001b[0m\n",
            "\u001b[?25hDownloading triton-2.0.0-1-cp311-cp311-manylinux2014_x86_64.manylinux_2_17_x86_64.whl (63.3 MB)\n",
            "\u001b[2K   \u001b[90m━━━━━━━━━━━━━━━━━━━━━━━━━━━━━━━━━━━━━━━━\u001b[0m \u001b[32m63.3/63.3 MB\u001b[0m \u001b[31m179.3 MB/s\u001b[0m eta \u001b[36m0:00:00\u001b[0m\n",
            "\u001b[?25hDownloading lit-18.1.8-py3-none-any.whl (96 kB)\n",
            "\u001b[2K   \u001b[90m━━━━━━━━━━━━━━━━━━━━━━━━━━━━━━━━━━━━━━━━\u001b[0m \u001b[32m96.4/96.4 kB\u001b[0m \u001b[31m287.7 MB/s\u001b[0m eta \u001b[36m0:00:00\u001b[0m\n",
            "\u001b[?25hInstalling collected packages: lit, nvidia-nvtx-cu11, nvidia-nccl-cu11, nvidia-cusparse-cu11, nvidia-curand-cu11, nvidia-cufft-cu11, nvidia-cuda-runtime-cu11, nvidia-cuda-nvrtc-cu11, nvidia-cuda-cupti-cu11, nvidia-cublas-cu11, nvidia-cusolver-cu11, nvidia-cudnn-cu11, triton, torch, torchdata, torchtext\n",
            "  Attempting uninstall: triton\n",
            "    Found existing installation: triton 3.2.0\n",
            "    Uninstalling triton-3.2.0:\n",
            "      Successfully uninstalled triton-3.2.0\n",
            "  Attempting uninstall: torch\n",
            "    Found existing installation: torch 2.6.0+cu124\n",
            "    Uninstalling torch-2.6.0+cu124:\n",
            "      Successfully uninstalled torch-2.6.0+cu124\n",
            "\u001b[31mERROR: pip's dependency resolver does not currently take into account all the packages that are installed. This behaviour is the source of the following dependency conflicts.\n",
            "torchaudio 2.6.0+cu124 requires torch==2.6.0, but you have torch 2.0.0 which is incompatible.\n",
            "torchvision 0.21.0+cu124 requires torch==2.6.0, but you have torch 2.0.0 which is incompatible.\u001b[0m\u001b[31m\n",
            "\u001b[0mSuccessfully installed lit-18.1.8 nvidia-cublas-cu11-11.10.3.66 nvidia-cuda-cupti-cu11-11.7.101 nvidia-cuda-nvrtc-cu11-11.7.99 nvidia-cuda-runtime-cu11-11.7.99 nvidia-cudnn-cu11-8.5.0.96 nvidia-cufft-cu11-10.9.0.58 nvidia-curand-cu11-10.2.10.91 nvidia-cusolver-cu11-11.4.0.1 nvidia-cusparse-cu11-11.7.4.91 nvidia-nccl-cu11-2.14.3 nvidia-nvtx-cu11-11.7.91 torch-2.0.0 torchdata-0.6.0 torchtext-0.15.1 triton-2.0.0\n",
            "Requirement already satisfied: torch==2.0.0 in /usr/local/lib/python3.11/dist-packages (2.0.0)\n",
            "Requirement already satisfied: filelock in /usr/local/lib/python3.11/dist-packages (from torch==2.0.0) (3.17.0)\n",
            "Requirement already satisfied: typing-extensions in /usr/local/lib/python3.11/dist-packages (from torch==2.0.0) (4.12.2)\n",
            "Requirement already satisfied: sympy in /usr/local/lib/python3.11/dist-packages (from torch==2.0.0) (1.13.1)\n",
            "Requirement already satisfied: networkx in /usr/local/lib/python3.11/dist-packages (from torch==2.0.0) (3.4.2)\n",
            "Requirement already satisfied: jinja2 in /usr/local/lib/python3.11/dist-packages (from torch==2.0.0) (3.1.6)\n",
            "Requirement already satisfied: nvidia-cuda-nvrtc-cu11==11.7.99 in /usr/local/lib/python3.11/dist-packages (from torch==2.0.0) (11.7.99)\n",
            "Requirement already satisfied: nvidia-cuda-runtime-cu11==11.7.99 in /usr/local/lib/python3.11/dist-packages (from torch==2.0.0) (11.7.99)\n",
            "Requirement already satisfied: nvidia-cuda-cupti-cu11==11.7.101 in /usr/local/lib/python3.11/dist-packages (from torch==2.0.0) (11.7.101)\n",
            "Requirement already satisfied: nvidia-cudnn-cu11==8.5.0.96 in /usr/local/lib/python3.11/dist-packages (from torch==2.0.0) (8.5.0.96)\n",
            "Requirement already satisfied: nvidia-cublas-cu11==11.10.3.66 in /usr/local/lib/python3.11/dist-packages (from torch==2.0.0) (11.10.3.66)\n",
            "Requirement already satisfied: nvidia-cufft-cu11==10.9.0.58 in /usr/local/lib/python3.11/dist-packages (from torch==2.0.0) (10.9.0.58)\n",
            "Requirement already satisfied: nvidia-curand-cu11==10.2.10.91 in /usr/local/lib/python3.11/dist-packages (from torch==2.0.0) (10.2.10.91)\n",
            "Requirement already satisfied: nvidia-cusolver-cu11==11.4.0.1 in /usr/local/lib/python3.11/dist-packages (from torch==2.0.0) (11.4.0.1)\n",
            "Requirement already satisfied: nvidia-cusparse-cu11==11.7.4.91 in /usr/local/lib/python3.11/dist-packages (from torch==2.0.0) (11.7.4.91)\n",
            "Requirement already satisfied: nvidia-nccl-cu11==2.14.3 in /usr/local/lib/python3.11/dist-packages (from torch==2.0.0) (2.14.3)\n",
            "Requirement already satisfied: nvidia-nvtx-cu11==11.7.91 in /usr/local/lib/python3.11/dist-packages (from torch==2.0.0) (11.7.91)\n",
            "Requirement already satisfied: triton==2.0.0 in /usr/local/lib/python3.11/dist-packages (from torch==2.0.0) (2.0.0)\n",
            "Requirement already satisfied: setuptools in /usr/local/lib/python3.11/dist-packages (from nvidia-cublas-cu11==11.10.3.66->torch==2.0.0) (75.1.0)\n",
            "Requirement already satisfied: wheel in /usr/local/lib/python3.11/dist-packages (from nvidia-cublas-cu11==11.10.3.66->torch==2.0.0) (0.45.1)\n",
            "Requirement already satisfied: cmake in /usr/local/lib/python3.11/dist-packages (from triton==2.0.0->torch==2.0.0) (3.31.6)\n",
            "Requirement already satisfied: lit in /usr/local/lib/python3.11/dist-packages (from triton==2.0.0->torch==2.0.0) (18.1.8)\n",
            "Requirement already satisfied: MarkupSafe>=2.0 in /usr/local/lib/python3.11/dist-packages (from jinja2->torch==2.0.0) (3.0.2)\n",
            "Requirement already satisfied: mpmath<1.4,>=1.1.0 in /usr/local/lib/python3.11/dist-packages (from sympy->torch==2.0.0) (1.3.0)\n",
            "Collecting datasets\n",
            "  Downloading datasets-3.4.0-py3-none-any.whl.metadata (19 kB)\n",
            "Requirement already satisfied: filelock in /usr/local/lib/python3.11/dist-packages (from datasets) (3.17.0)\n",
            "Requirement already satisfied: numpy>=1.17 in /usr/local/lib/python3.11/dist-packages (from datasets) (1.26.4)\n",
            "Requirement already satisfied: pyarrow>=15.0.0 in /usr/local/lib/python3.11/dist-packages (from datasets) (18.1.0)\n",
            "Collecting dill<0.3.9,>=0.3.0 (from datasets)\n",
            "  Downloading dill-0.3.8-py3-none-any.whl.metadata (10 kB)\n",
            "Requirement already satisfied: pandas in /usr/local/lib/python3.11/dist-packages (from datasets) (2.2.2)\n",
            "Requirement already satisfied: requests>=2.32.2 in /usr/local/lib/python3.11/dist-packages (from datasets) (2.32.3)\n",
            "Requirement already satisfied: tqdm>=4.66.3 in /usr/local/lib/python3.11/dist-packages (from datasets) (4.67.1)\n",
            "Collecting xxhash (from datasets)\n",
            "  Downloading xxhash-3.5.0-cp311-cp311-manylinux_2_17_x86_64.manylinux2014_x86_64.whl.metadata (12 kB)\n",
            "Collecting multiprocess<0.70.17 (from datasets)\n",
            "  Downloading multiprocess-0.70.16-py311-none-any.whl.metadata (7.2 kB)\n",
            "Requirement already satisfied: fsspec<=2024.12.0,>=2023.1.0 in /usr/local/lib/python3.11/dist-packages (from fsspec[http]<=2024.12.0,>=2023.1.0->datasets) (2024.10.0)\n",
            "Requirement already satisfied: aiohttp in /usr/local/lib/python3.11/dist-packages (from datasets) (3.11.13)\n",
            "Requirement already satisfied: huggingface-hub>=0.24.0 in /usr/local/lib/python3.11/dist-packages (from datasets) (0.28.1)\n",
            "Requirement already satisfied: packaging in /usr/local/lib/python3.11/dist-packages (from datasets) (24.2)\n",
            "Requirement already satisfied: pyyaml>=5.1 in /usr/local/lib/python3.11/dist-packages (from datasets) (6.0.2)\n",
            "Requirement already satisfied: aiohappyeyeballs>=2.3.0 in /usr/local/lib/python3.11/dist-packages (from aiohttp->datasets) (2.6.1)\n",
            "Requirement already satisfied: aiosignal>=1.1.2 in /usr/local/lib/python3.11/dist-packages (from aiohttp->datasets) (1.3.2)\n",
            "Requirement already satisfied: attrs>=17.3.0 in /usr/local/lib/python3.11/dist-packages (from aiohttp->datasets) (25.2.0)\n",
            "Requirement already satisfied: frozenlist>=1.1.1 in /usr/local/lib/python3.11/dist-packages (from aiohttp->datasets) (1.5.0)\n",
            "Requirement already satisfied: multidict<7.0,>=4.5 in /usr/local/lib/python3.11/dist-packages (from aiohttp->datasets) (6.1.0)\n",
            "Requirement already satisfied: propcache>=0.2.0 in /usr/local/lib/python3.11/dist-packages (from aiohttp->datasets) (0.3.0)\n",
            "Requirement already satisfied: yarl<2.0,>=1.17.0 in /usr/local/lib/python3.11/dist-packages (from aiohttp->datasets) (1.18.3)\n",
            "Requirement already satisfied: typing-extensions>=3.7.4.3 in /usr/local/lib/python3.11/dist-packages (from huggingface-hub>=0.24.0->datasets) (4.12.2)\n",
            "Requirement already satisfied: charset-normalizer<4,>=2 in /usr/local/lib/python3.11/dist-packages (from requests>=2.32.2->datasets) (3.4.1)\n",
            "Requirement already satisfied: idna<4,>=2.5 in /usr/local/lib/python3.11/dist-packages (from requests>=2.32.2->datasets) (3.10)\n",
            "Requirement already satisfied: urllib3<3,>=1.21.1 in /usr/local/lib/python3.11/dist-packages (from requests>=2.32.2->datasets) (2.3.0)\n",
            "Requirement already satisfied: certifi>=2017.4.17 in /usr/local/lib/python3.11/dist-packages (from requests>=2.32.2->datasets) (2025.1.31)\n",
            "Requirement already satisfied: python-dateutil>=2.8.2 in /usr/local/lib/python3.11/dist-packages (from pandas->datasets) (2.8.2)\n",
            "Requirement already satisfied: pytz>=2020.1 in /usr/local/lib/python3.11/dist-packages (from pandas->datasets) (2025.1)\n",
            "Requirement already satisfied: tzdata>=2022.7 in /usr/local/lib/python3.11/dist-packages (from pandas->datasets) (2025.1)\n",
            "Requirement already satisfied: six>=1.5 in /usr/local/lib/python3.11/dist-packages (from python-dateutil>=2.8.2->pandas->datasets) (1.17.0)\n",
            "Downloading datasets-3.4.0-py3-none-any.whl (487 kB)\n",
            "\u001b[2K   \u001b[90m━━━━━━━━━━━━━━━━━━━━━━━━━━━━━━━━━━━━━━━━\u001b[0m \u001b[32m487.4/487.4 kB\u001b[0m \u001b[31m10.0 MB/s\u001b[0m eta \u001b[36m0:00:00\u001b[0m\n",
            "\u001b[?25hDownloading dill-0.3.8-py3-none-any.whl (116 kB)\n",
            "\u001b[2K   \u001b[90m━━━━━━━━━━━━━━━━━━━━━━━━━━━━━━━━━━━━━━━━\u001b[0m \u001b[32m116.3/116.3 kB\u001b[0m \u001b[31m10.5 MB/s\u001b[0m eta \u001b[36m0:00:00\u001b[0m\n",
            "\u001b[?25hDownloading multiprocess-0.70.16-py311-none-any.whl (143 kB)\n",
            "\u001b[2K   \u001b[90m━━━━━━━━━━━━━━━━━━━━━━━━━━━━━━━━━━━━━━━━\u001b[0m \u001b[32m143.5/143.5 kB\u001b[0m \u001b[31m11.6 MB/s\u001b[0m eta \u001b[36m0:00:00\u001b[0m\n",
            "\u001b[?25hDownloading xxhash-3.5.0-cp311-cp311-manylinux_2_17_x86_64.manylinux2014_x86_64.whl (194 kB)\n",
            "\u001b[2K   \u001b[90m━━━━━━━━━━━━━━━━━━━━━━━━━━━━━━━━━━━━━━━━\u001b[0m \u001b[32m194.8/194.8 kB\u001b[0m \u001b[31m17.5 MB/s\u001b[0m eta \u001b[36m0:00:00\u001b[0m\n",
            "\u001b[?25hInstalling collected packages: xxhash, dill, multiprocess, datasets\n",
            "Successfully installed datasets-3.4.0 dill-0.3.8 multiprocess-0.70.16 xxhash-3.5.0\n",
            "Name: torchtext\n",
            "Version: 0.15.1\n",
            "Summary: Text utilities and datasets for PyTorch\n",
            "Home-page: https://github.com/pytorch/text\n",
            "Author: PyTorch core devs and James Bradbury\n",
            "Author-email: jekbradbury@gmail.com\n",
            "License: BSD\n",
            "Location: /usr/local/lib/python3.11/dist-packages\n",
            "Requires: numpy, requests, torch, torchdata, tqdm\n",
            "Required-by: \n",
            "Name: torch\n",
            "Version: 2.0.0\n",
            "Summary: Tensors and Dynamic neural networks in Python with strong GPU acceleration\n",
            "Home-page: https://pytorch.org/\n",
            "Author: PyTorch Team\n",
            "Author-email: packages@pytorch.org\n",
            "License: BSD-3\n",
            "Location: /usr/local/lib/python3.11/dist-packages\n",
            "Requires: filelock, jinja2, networkx, nvidia-cublas-cu11, nvidia-cuda-cupti-cu11, nvidia-cuda-nvrtc-cu11, nvidia-cuda-runtime-cu11, nvidia-cudnn-cu11, nvidia-cufft-cu11, nvidia-curand-cu11, nvidia-cusolver-cu11, nvidia-cusparse-cu11, nvidia-nccl-cu11, nvidia-nvtx-cu11, sympy, triton, typing-extensions\n",
            "Required-by: accelerate, fastai, peft, sentence-transformers, timm, torchaudio, torchdata, torchtext, torchvision, triton\n"
          ]
        }
      ]
    },
    {
      "cell_type": "code",
      "source": [
        "# check GPU info\n",
        "gpu_info = !nvidia-smi\n",
        "gpu_info = '\\n'.join(gpu_info)\n",
        "if gpu_info.find('failed') >= 0:\n",
        "  print('Not connected to a GPU')\n",
        "else:\n",
        "  print(gpu_info)"
      ],
      "metadata": {
        "colab": {
          "base_uri": "https://localhost:8080/"
        },
        "id": "ncj_kAczELw_",
        "outputId": "169289c0-0b8f-4119-8526-3da7a7b81463"
      },
      "execution_count": null,
      "outputs": [
        {
          "output_type": "stream",
          "name": "stdout",
          "text": [
            "Mon Mar 17 03:37:58 2025       \n",
            "+-----------------------------------------------------------------------------------------+\n",
            "| NVIDIA-SMI 550.54.15              Driver Version: 550.54.15      CUDA Version: 12.4     |\n",
            "|-----------------------------------------+------------------------+----------------------+\n",
            "| GPU  Name                 Persistence-M | Bus-Id          Disp.A | Volatile Uncorr. ECC |\n",
            "| Fan  Temp   Perf          Pwr:Usage/Cap |           Memory-Usage | GPU-Util  Compute M. |\n",
            "|                                         |                        |               MIG M. |\n",
            "|=========================================+========================+======================|\n",
            "|   0  NVIDIA A100-SXM4-40GB          Off |   00000000:00:04.0 Off |                    0 |\n",
            "| N/A   29C    P0             42W /  400W |       0MiB /  40960MiB |      0%      Default |\n",
            "|                                         |                        |             Disabled |\n",
            "+-----------------------------------------+------------------------+----------------------+\n",
            "                                                                                         \n",
            "+-----------------------------------------------------------------------------------------+\n",
            "| Processes:                                                                              |\n",
            "|  GPU   GI   CI        PID   Type   Process name                              GPU Memory |\n",
            "|        ID   ID                                                               Usage      |\n",
            "|=========================================================================================|\n",
            "|  No running processes found                                                             |\n",
            "+-----------------------------------------------------------------------------------------+\n"
          ]
        }
      ]
    },
    {
      "cell_type": "code",
      "source": [
        "import io\n",
        "import os\n",
        "import re\n",
        "import shutil\n",
        "import string\n",
        "import torch\n",
        "import torchtext\n",
        "import numpy as np\n",
        "# check whether gpu is available\n",
        "torch.cuda.is_available()"
      ],
      "metadata": {
        "colab": {
          "base_uri": "https://localhost:8080/"
        },
        "id": "E6CgrVEmEnBA",
        "outputId": "8eddae99-4c5a-4cf6-c586-7b1130512a90"
      },
      "execution_count": null,
      "outputs": [
        {
          "output_type": "execute_result",
          "data": {
            "text/plain": [
              "True"
            ]
          },
          "metadata": {},
          "execution_count": 4
        }
      ]
    },
    {
      "cell_type": "code",
      "source": [
        "seed = 1234\n",
        "np.random.seed(seed)\n",
        "torch.manual_seed(seed)\n",
        "torch.cuda.manual_seed(seed)"
      ],
      "metadata": {
        "id": "StGTKMYgG6PE"
      },
      "execution_count": null,
      "outputs": []
    },
    {
      "cell_type": "code",
      "source": [
        "\n",
        "from datasets import load_dataset\n",
        "\n",
        "# load imdb dataset\n",
        "train, test = load_dataset(\"imdb\",split=['train','test'])"
      ],
      "metadata": {
        "id": "JFOSXIQvEoPc"
      },
      "execution_count": null,
      "outputs": []
    },
    {
      "cell_type": "code",
      "source": [
        "from torchtext.data.utils import get_tokenizer\n",
        "tokenizer = get_tokenizer(\"basic_english\")\n",
        "\n",
        "def example_tokneizer(example, tokenizer, max_length):\n",
        "  example['tokens'] = tokenizer(example['text'])[:max_length]\n",
        "  return example\n",
        "\n",
        "max_length = 256\n",
        "train = train.map(example_tokneizer,fn_kwargs={'tokenizer':tokenizer, 'max_length':max_length})\n",
        "test = test.map(example_tokneizer, fn_kwargs={'tokenizer':tokenizer, 'max_length':max_length})\n",
        "\n",
        "test_size=0.2\n",
        "tra = train.train_test_split(test_size=test_size,shuffle=True,seed=seed)\n",
        "train_dataset = tra['train']\n",
        "valid_dataset = tra['test']\n",
        "\n",
        "# build vocab\n",
        "from torchtext.vocab import build_vocab_from_iterator\n",
        "\n",
        "min_freq=5\n",
        "vocab = build_vocab_from_iterator(\n",
        "    train_dataset['tokens'],\n",
        "    min_freq=min_freq,\n",
        "    specials=[\"<unk>\",\"<pad>\"])\n",
        "\n",
        "vocab.set_default_index(vocab[\"<unk>\"])\n",
        "\n",
        "pad_sequence = vocab[\"<pad>\"]\n",
        "\n",
        "\n",
        "def numerize_tokens(example,vocab):\n",
        "  example['ids'] = vocab.lookup_indices(example['tokens'])\n",
        "  return example\n",
        "\n",
        "train_dataset = train_dataset.map(numerize_tokens,fn_kwargs={'vocab':vocab})\n",
        "valid_dataset = valid_dataset.map(numerize_tokens,fn_kwargs={'vocab':vocab})\n",
        "test_dataset = test.map(numerize_tokens,fn_kwargs={'vocab':vocab})\n",
        "\n",
        "# convert to tensor\n",
        "train_dataset = train_dataset.with_format(type='torch',columns=['ids','label'])\n",
        "valid_dataset = valid_dataset.with_format(type='torch',columns=['ids','label'])\n",
        "test_dataset = test_dataset.with_format(type='torch',columns=['ids','label'])\n",
        "\n",
        "\n",
        "# build collate function\n",
        "def collate_batch(pad_index):\n",
        "\n",
        "  def collate_fn(batch):\n",
        "    ids = [item['ids'] for item in batch]\n",
        "    labels = [item['label'] for item in batch]\n",
        "    ids = torch.nn.utils.rnn.pad_sequence(ids, padding_value=pad_index,batch_first=True, )\n",
        "    labels = torch.stack(labels)\n",
        "    return {'ids':ids, 'labels':labels}\n",
        "\n",
        "  return collate_fn\n",
        "\n",
        "def data_loader(dataset, batch_size, pad_sequence,shuffle=False):\n",
        "  collate_fn = collate_batch(pad_sequence)\n",
        "  loader = torch.utils.data.DataLoader(dataset = dataset, batch_size=batch_size, shuffle=shuffle, collate_fn=collate_fn)\n",
        "  return loader\n",
        "\n",
        "# initialize dataloader\n",
        "batch_size = 512\n",
        "train_loader = data_loader(train_dataset, batch_size, pad_sequence,shuffle=True)\n",
        "valid_loader = data_loader(valid_dataset, batch_size, pad_sequence)\n",
        "test_loader = data_loader(test_dataset, batch_size,  pad_sequence)\n"
      ],
      "metadata": {
        "colab": {
          "base_uri": "https://localhost:8080/",
          "height": 177,
          "referenced_widgets": [
            "46e0fe90b4934291b136e9c6f5b15b29",
            "f725b5462787493e988b613808d9bd64",
            "c992defb41b44c44a343754ca6688a1d",
            "7ab4a3181df3472485bcc034ae9a0ec0",
            "d0911eacb0a248db969917861c9300e2",
            "8292abf1d7334cad869ec0fc7397495b",
            "b0fee9cd2e5041d68d5f30d6dab8b97b",
            "b68c6389b2de4c488e9dbf711074732e",
            "b792ed1b54b24c648a98bde841661539",
            "09f301d1d428447fa29cc24d5289abd9",
            "eda1b500ae324789931bafbe54e923ec",
            "e2c3cc67c09244ac8345ac39c25fbca2",
            "7dc58d5f041548f3bfbe0592b62cee76",
            "f5c6b709cf054ff9976ab9b9b6731b70",
            "93fc198fab9a44d194e9fe416ad10156",
            "e8b2b66e2dbd4132a9d494846444d4cb",
            "dd785f5897264e48aa56386f574ea110",
            "bc72840efedc40e891bd093633f9581b",
            "21d486af1b714755843e7125ddf78b56",
            "bf7ff0f23ddb48279acfc9c9c55f146b",
            "27b0bcd936334bf98cea03a01883f0ad",
            "36aed374dd844cbca9f466cc85ee95aa",
            "376b9098390848fcb17d8bb86a8bb080",
            "1937878fe1764415bf4f950858a8c7ec",
            "5894d8fb4c5241d996343afa8b40a3e5",
            "4cfcb6069a1a4f5a92795b8106de5c07",
            "dcf69fe3d2774de685c7d4485a44c859",
            "eb8cdb905f3f4884972655a7b4fe0893",
            "a79fc0e8cc8144e9a7e7ff2e6ebdff02",
            "a7f78c0412ef43a6af2cfbef6dc76de6",
            "e65f1db381ee4d02ace16054b26edd89",
            "57526fe5ef9d4152869c91b3bfeb3b43",
            "076b204527224a03a543ec327f4ca987",
            "375ebcf8b9e343f08beaa6c8837f4f97",
            "f21bd1f42cbb4bf3b8ba94b687e8b0b4",
            "19af8dcf515e4159b823fdeb51df3c79",
            "66e5388dd23941a4a051a089cd95b3c4",
            "597c94f268894705a9d9c2ea7550d074",
            "63d615d345794475bfd3d7138c06b57a",
            "12c49e28e14245ccb2c093501b177ff6",
            "9f9c9bcc47da468695a8b7b84cdcc485",
            "5de695f1bb3048838431434346187cbf",
            "695525703a084ce08994b003c722f7ce",
            "bcfd2f41c5ba4608b6c348e930c1fd38",
            "940c866fc5ab4ef2983f6e278a130b2d",
            "fddced62f3cd4014b156ff269519efe8",
            "aff3d81eef3c4a28bc6e9adecb352be5",
            "e8607534b5d54c369c23a228c04607c2",
            "916f8b99a01845dcb701c79eac05e8d6",
            "ae0ced53f16243c785788ee1faab1eb6",
            "3e8e783dc96545dab84e55b42627a4e9",
            "450071c831e0476c99b3eb9d748378b7",
            "97494f0a9ac44c7ba809d6c59358a24f",
            "24b439ab65bf48dfa0511f0afb91f7fd",
            "f805762d6b7e46f79de64a5c610c4b7f"
          ]
        },
        "id": "Om-6cpmnFn09",
        "outputId": "1dd9924e-4535-4c6b-dff9-ad956457c552"
      },
      "execution_count": null,
      "outputs": [
        {
          "output_type": "display_data",
          "data": {
            "text/plain": [
              "Map:   0%|          | 0/25000 [00:00<?, ? examples/s]"
            ],
            "application/vnd.jupyter.widget-view+json": {
              "version_major": 2,
              "version_minor": 0,
              "model_id": "46e0fe90b4934291b136e9c6f5b15b29"
            }
          },
          "metadata": {}
        },
        {
          "output_type": "display_data",
          "data": {
            "text/plain": [
              "Map:   0%|          | 0/25000 [00:00<?, ? examples/s]"
            ],
            "application/vnd.jupyter.widget-view+json": {
              "version_major": 2,
              "version_minor": 0,
              "model_id": "e2c3cc67c09244ac8345ac39c25fbca2"
            }
          },
          "metadata": {}
        },
        {
          "output_type": "display_data",
          "data": {
            "text/plain": [
              "Map:   0%|          | 0/20000 [00:00<?, ? examples/s]"
            ],
            "application/vnd.jupyter.widget-view+json": {
              "version_major": 2,
              "version_minor": 0,
              "model_id": "376b9098390848fcb17d8bb86a8bb080"
            }
          },
          "metadata": {}
        },
        {
          "output_type": "display_data",
          "data": {
            "text/plain": [
              "Map:   0%|          | 0/5000 [00:00<?, ? examples/s]"
            ],
            "application/vnd.jupyter.widget-view+json": {
              "version_major": 2,
              "version_minor": 0,
              "model_id": "375ebcf8b9e343f08beaa6c8837f4f97"
            }
          },
          "metadata": {}
        },
        {
          "output_type": "display_data",
          "data": {
            "text/plain": [
              "Map:   0%|          | 0/25000 [00:00<?, ? examples/s]"
            ],
            "application/vnd.jupyter.widget-view+json": {
              "version_major": 2,
              "version_minor": 0,
              "model_id": "940c866fc5ab4ef2983f6e278a130b2d"
            }
          },
          "metadata": {}
        }
      ]
    },
    {
      "cell_type": "code",
      "source": [
        "train_dataset.features"
      ],
      "metadata": {
        "colab": {
          "base_uri": "https://localhost:8080/"
        },
        "id": "Ym-YuhzMQdWp",
        "outputId": "8afcc37c-7afd-4d3d-db3d-f7f3c6a076ca"
      },
      "execution_count": null,
      "outputs": [
        {
          "output_type": "execute_result",
          "data": {
            "text/plain": [
              "{'text': Value(dtype='string', id=None),\n",
              " 'label': ClassLabel(names=['neg', 'pos'], id=None),\n",
              " 'tokens': Sequence(feature=Value(dtype='string', id=None), length=-1, id=None),\n",
              " 'ids': Sequence(feature=Value(dtype='int64', id=None), length=-1, id=None)}"
            ]
          },
          "metadata": {},
          "execution_count": 8
        }
      ]
    },
    {
      "cell_type": "code",
      "source": [
        "batch_size = 512\n",
        "train_loader = data_loader(train_dataset, batch_size, pad_sequence,shuffle=True)\n",
        "valid_loader = data_loader(valid_dataset, batch_size, pad_sequence)\n",
        "test_loader = data_loader(test_dataset, batch_size,  pad_sequence)\n",
        "\n",
        "print(f\"length of vocab: {len(vocab)}\")\n",
        "\n",
        "\n",
        "# build CNN\n",
        "class myCNN(torch.nn.Module):\n",
        "  def __init__(self, vocab_size, embedding_dim, n_filters, filter_sizes, output_dim, dropout, pad_idx):\n",
        "    super().__init__()\n",
        "    self.embedding = torch.nn.Embedding(vocab_size, embedding_dim,padding_idx=pad_idx)\n",
        "    self.conv0 = torch.nn.Conv2d(in_channels=1, out_channels=n_filters, kernel_size=(filter_sizes[0], embedding_dim))\n",
        "    self.conv1 = torch.nn.Conv2d(in_channels=1, out_channels=n_filters, kernel_size=(filter_sizes[1], embedding_dim))\n",
        "    self.fc = torch.nn.Linear(len(filter_sizes) * n_filters, output_dim)\n",
        "    self.dropout = torch.nn.Dropout(dropout)\n",
        "\n",
        "  def forward(self, ids):\n",
        "    # [batch_size, seq_len] at beginning\n",
        "    embedded = self.dropout(self.embedding(ids))\n",
        "    print(f\"first embedded shape {embedded.shape}\")\n",
        "    # [batch_size,seq_len, embed_dimsion]\n",
        "    embedded = embedded.unsqueeze(1) # In PyTorch, unsqueeze(dim) adds a new dimension of size one at the specified dim. For unsqueeze(1), 256*300 becomes 1*256*300\n",
        "    print(f\"embedded shape {embedded.shape}\")\n",
        "    # [batch_size, 1, seq_len, dimension]\n",
        "    conved0 = torch.relu(self.conv0(embedded).squeeze(3)) # torch.relu(self.conv0(embedded) will return [batch-size, n_filters, seq-filter_size+1, 1]\n",
        "    print(f\"conved0 shape {conved0.shape}\") ## note there will also bias randomly initialized!!!!\n",
        "    # [batch_size, n_filters, seq_len - filter_size+1]\n",
        "    conved1 = torch.relu(self.conv1(embedded).squeeze(3))\n",
        "    print(f\"conved1 shape {conved1.shape}\")\n",
        "    pooled0 = torch.nn.functional.max_pool1d(conved0, conved0.shape[2]).squeeze(2)\n",
        "    print(f\"pooled0 shape {pooled0.shape}\")\n",
        "    # [batch_size,n_filters]\n",
        "    pooled1 = torch.nn.functional.max_pool1d(conved1, conved1.shape[2]).squeeze(2)\n",
        "    print(f\"pooled1 shape {pooled1.shape}\")\n",
        "    cat = self.dropout(torch.cat((pooled0, pooled1), dim=1))\n",
        "    print(f\"cat shape {cat.shape}\")\n",
        "    prediction = self.fc(cat)\n",
        "    print(f\"prediction shape {prediction.shape}\")\n",
        "    return prediction\n",
        "\n",
        "vocab_size = len(vocab)\n",
        "embed_dim = 300\n",
        "n_filters = 100\n",
        "filter_sizes = [8,16] # this actually means a filter with 8*embed_dimension, 16*embed_dimension\n",
        "# this is saying that we are looking at 8-gram, 16-gram, so these values usually  are 2,3,4\n",
        "# note we can also use something like [(8,8),(16,16)]\n",
        "output_dim = len(train_dataset.unique(\"label\"))\n",
        "dropout = 0.25\n",
        "pad_idx = vocab[\"<pad>\"]\n",
        "\n",
        "model = myCNN(vocab_size, embed_dim, n_filters, filter_sizes, output_dim, dropout, pad_idx)\n",
        "\n",
        "vectors = torchtext.vocab.GloVe(name='6B',dim=300)\n",
        "pretrained_embedding = vectors.get_vecs_by_tokens(vocab.get_itos())\n",
        "model.embedding.weight.data = pretrained_embedding\n",
        "\n",
        "import torch.nn as nn\n",
        "import torch.optim as optim\n",
        "\n",
        "\n",
        "def accuracy(prediction, label):\n",
        "    batch_size, _ = prediction.shape\n",
        "    predicted_classes = prediction.argmax(dim=-1)\n",
        "    correct_predictions = predicted_classes.eq(label).sum()\n",
        "    accuracy = correct_predictions / batch_size\n",
        "    return accuracy\n",
        "#\n",
        "\n",
        "optim = optim.Adam(model.parameters(), lr=0.001)\n",
        "criterion = nn.CrossEntropyLoss()\n",
        "\n",
        "device = torch.device(\"cuda\" if torch.cuda.is_available() else \"cpu\")\n",
        "\n",
        "criterion.to(device)\n",
        "model.to(device)\n",
        "\n",
        "# define train function with batch\n",
        "def train(model, data_loader, optimizer, criterion):\n",
        "  epoch_loss = 0\n",
        "  epoch_acc = 0\n",
        "  model.train()\n",
        "  for batch in tqdm.tqdm(data_loader, desc=\"training...\"):\n",
        "    ids = batch['ids'].to(device)\n",
        "    labels = batch['labels'].to(device)\n",
        "    optimizer.zero_grad()\n",
        "    predictions = model(ids).squeeze(1)\n",
        "    loss = criterion(predictions, labels)\n",
        "    acc = accuracy(predictions, labels)\n",
        "    loss.backward()\n",
        "    optimizer.step()\n",
        "    epoch_loss += loss.item()\n",
        "    epoch_acc += acc.item()\n",
        "  return epoch_loss / len(data_loader), epoch_acc / len(data_loader)\n",
        "\n",
        "def evaluate(model, data_loader, criterion):\n",
        "  epoch_loss = 0\n",
        "  epoch_acc = 0\n",
        "  model.eval()\n",
        "  with torch.no_grad():\n",
        "    for batch in data_loader:\n",
        "      ids = batch['ids'].to(device)\n",
        "      labels = batch['labels'].to(device)\n",
        "      predictions = model(ids).squeeze(1)\n",
        "      loss = criterion(predictions, labels)\n",
        "      acc = accuracy(predictions, labels)\n",
        "      epoch_loss += loss.item()\n",
        "      epoch_acc += acc.item()\n",
        "\n",
        "  return epoch_loss / len(data_loader), epoch_acc / len(data_loader)\n",
        "\n",
        "\n",
        "epochs= 5\n",
        "# loop through epoch and record train and valid loss and accurcay\n",
        "from collections import defaultdict\n",
        "import tqdm\n",
        "\n",
        "train_loss = defaultdict(list)\n",
        "train_acc = defaultdict(list)\n",
        "valid_loss = defaultdict(list)\n",
        "valid_acc = defaultdict(list)\n",
        "best_valid_loss = float('inf')\n",
        "for epoch in tqdm.tqdm(range(epochs)):\n",
        "  train_loss_epoch, train_acc_epoch = train(model, train_loader, optim, criterion)\n",
        "  valid_loss_epoch, valid_acc_epoch = evaluate(model, valid_loader, criterion)\n",
        "  train_loss[epoch].append(train_loss_epoch)\n",
        "  train_acc[epoch].append(train_acc_epoch)\n",
        "  valid_loss[epoch].append(valid_loss_epoch)\n",
        "  valid_acc[epoch].append(valid_acc_epoch)\n",
        "  if valid_loss_epoch < best_valid_loss:\n",
        "        best_valid_loss = valid_loss_epoch\n",
        "        torch.save(model.state_dict(), \"cnn.pt\")\n",
        "  print(f\"epoch: {epoch}\")\n",
        "  print(f\"train_loss: {train_loss_epoch:.3f}, train_acc: {train_acc_epoch:.3f}\")\n",
        "  print(f\"valid_loss: {valid_loss_epoch:.3f}, valid_acc: {valid_acc_epoch:.3f}\")\n",
        "\n",
        "# plot train and valid loss\n",
        "import matplotlib.pyplot as plt\n",
        "plt.plot(train_loss.values(), label='train loss')\n",
        "plt.plot(valid_loss.values(), label='valid loss')\n",
        "plt.legend()\n",
        "plt.show()\n",
        "\n",
        "# plot train and valid accuracy\n",
        "plt.plot(train_acc.values(), label='train acc')\n",
        "plt.plot(valid_acc.values(), label='valid acc')\n",
        "plt.legend()\n",
        "plt.show()\n",
        "\n",
        "\n",
        "\n"
      ],
      "metadata": {
        "colab": {
          "base_uri": "https://localhost:8080/",
          "height": 1000
        },
        "id": "AayW5oUlQxag",
        "outputId": "ec9e57fb-2db2-44a5-fa1e-0c7edf8afb52"
      },
      "execution_count": null,
      "outputs": [
        {
          "output_type": "stream",
          "name": "stdout",
          "text": [
            "length of vocab: 22293\n"
          ]
        },
        {
          "output_type": "stream",
          "name": "stderr",
          "text": [
            "  0%|          | 0/5 [00:00<?, ?it/s]\n",
            "training...:   0%|          | 0/40 [00:00<?, ?it/s]\u001b[A\n",
            "training...:   2%|▎         | 1/40 [00:00<00:03,  9.82it/s]\u001b[A"
          ]
        },
        {
          "output_type": "stream",
          "name": "stdout",
          "text": [
            "first embedded shape torch.Size([512, 256, 300])\n",
            "embedded shape torch.Size([512, 1, 256, 300])\n",
            "conved0 shape torch.Size([512, 100, 249])\n",
            "conved1 shape torch.Size([512, 100, 241])\n",
            "pooled0 shape torch.Size([512, 100])\n",
            "pooled1 shape torch.Size([512, 100])\n",
            "cat shape torch.Size([512, 200])\n",
            "prediction shape torch.Size([512, 2])\n",
            "first embedded shape torch.Size([512, 256, 300])\n",
            "embedded shape torch.Size([512, 1, 256, 300])\n",
            "conved0 shape torch.Size([512, 100, 249])\n",
            "conved1 shape torch.Size([512, 100, 241])\n",
            "pooled0 shape torch.Size([512, 100])\n",
            "pooled1 shape torch.Size([512, 100])\n",
            "cat shape torch.Size([512, 200])\n",
            "prediction shape torch.Size([512, 2])\n",
            "first embedded shape torch.Size([512, 256, 300])\n",
            "embedded shape torch.Size([512, 1, 256, 300])\n",
            "conved0 shape torch.Size([512, 100, 249])\n",
            "conved1 shape torch.Size([512, 100, 241])\n",
            "pooled0 shape torch.Size([512, 100])\n",
            "pooled1 shape torch.Size([512, 100])\n",
            "cat shape torch.Size([512, 200])\n",
            "prediction shape torch.Size([512, 2])\n"
          ]
        },
        {
          "output_type": "stream",
          "name": "stderr",
          "text": [
            "\n",
            "training...:   8%|▊         | 3/40 [00:00<00:03, 10.66it/s]\u001b[A\n",
            "training...:  12%|█▎        | 5/40 [00:00<00:03, 11.18it/s]\u001b[A"
          ]
        },
        {
          "output_type": "stream",
          "name": "stdout",
          "text": [
            "first embedded shape torch.Size([512, 256, 300])\n",
            "embedded shape torch.Size([512, 1, 256, 300])\n",
            "conved0 shape torch.Size([512, 100, 249])\n",
            "conved1 shape torch.Size([512, 100, 241])\n",
            "pooled0 shape torch.Size([512, 100])\n",
            "pooled1 shape torch.Size([512, 100])\n",
            "cat shape torch.Size([512, 200])\n",
            "prediction shape torch.Size([512, 2])\n",
            "first embedded shape torch.Size([512, 256, 300])\n",
            "embedded shape torch.Size([512, 1, 256, 300])\n",
            "conved0 shape torch.Size([512, 100, 249])\n",
            "conved1 shape torch.Size([512, 100, 241])\n",
            "pooled0 shape torch.Size([512, 100])\n",
            "pooled1 shape torch.Size([512, 100])\n",
            "cat shape torch.Size([512, 200])\n",
            "prediction shape torch.Size([512, 2])\n",
            "first embedded shape torch.Size([512, 256, 300])\n",
            "embedded shape torch.Size([512, 1, 256, 300])\n",
            "conved0 shape torch.Size([512, 100, 249])\n",
            "conved1 shape torch.Size([512, 100, 241])\n",
            "pooled0 shape torch.Size([512, 100])\n",
            "pooled1 shape torch.Size([512, 100])\n",
            "cat shape torch.Size([512, 200])\n",
            "prediction shape torch.Size([512, 2])\n"
          ]
        },
        {
          "output_type": "stream",
          "name": "stderr",
          "text": [
            "\n",
            "training...:  18%|█▊        | 7/40 [00:00<00:02, 11.46it/s]\u001b[A"
          ]
        },
        {
          "output_type": "stream",
          "name": "stdout",
          "text": [
            "first embedded shape torch.Size([512, 256, 300])\n",
            "embedded shape torch.Size([512, 1, 256, 300])\n",
            "conved0 shape torch.Size([512, 100, 249])\n",
            "conved1 shape torch.Size([512, 100, 241])\n",
            "pooled0 shape torch.Size([512, 100])\n",
            "pooled1 shape torch.Size([512, 100])\n",
            "cat shape torch.Size([512, 200])\n",
            "prediction shape torch.Size([512, 2])\n",
            "first embedded shape torch.Size([512, 256, 300])\n",
            "embedded shape torch.Size([512, 1, 256, 300])\n",
            "conved0 shape torch.Size([512, 100, 249])\n",
            "conved1 shape torch.Size([512, 100, 241])\n",
            "pooled0 shape torch.Size([512, 100])\n",
            "pooled1 shape torch.Size([512, 100])\n",
            "cat shape torch.Size([512, 200])\n",
            "prediction shape torch.Size([512, 2])\n",
            "first embedded shape torch.Size([512, 256, 300])\n",
            "embedded shape torch.Size([512, 1, 256, 300])\n",
            "conved0 shape torch.Size([512, 100, 249])\n",
            "conved1 shape torch.Size([512, 100, 241])\n",
            "pooled0 shape torch.Size([512, 100])\n",
            "pooled1 shape torch.Size([512, 100])\n",
            "cat shape torch.Size([512, 200])\n",
            "prediction shape torch.Size([512, 2])\n"
          ]
        },
        {
          "output_type": "stream",
          "name": "stderr",
          "text": [
            "\n",
            "training...:  22%|██▎       | 9/40 [00:00<00:02, 11.61it/s]\u001b[A\n",
            "training...:  28%|██▊       | 11/40 [00:00<00:02, 11.69it/s]\u001b[A"
          ]
        },
        {
          "output_type": "stream",
          "name": "stdout",
          "text": [
            "first embedded shape torch.Size([512, 256, 300])\n",
            "embedded shape torch.Size([512, 1, 256, 300])\n",
            "conved0 shape torch.Size([512, 100, 249])\n",
            "conved1 shape torch.Size([512, 100, 241])\n",
            "pooled0 shape torch.Size([512, 100])\n",
            "pooled1 shape torch.Size([512, 100])\n",
            "cat shape torch.Size([512, 200])\n",
            "prediction shape torch.Size([512, 2])\n",
            "first embedded shape torch.Size([512, 256, 300])\n",
            "embedded shape torch.Size([512, 1, 256, 300])\n",
            "conved0 shape torch.Size([512, 100, 249])\n",
            "conved1 shape torch.Size([512, 100, 241])\n",
            "pooled0 shape torch.Size([512, 100])\n",
            "pooled1 shape torch.Size([512, 100])\n",
            "cat shape torch.Size([512, 200])\n",
            "prediction shape torch.Size([512, 2])\n",
            "first embedded shape torch.Size([512, 256, 300])\n",
            "embedded shape torch.Size([512, 1, 256, 300])\n",
            "conved0 shape torch.Size([512, 100, 249])\n",
            "conved1 shape torch.Size([512, 100, 241])\n",
            "pooled0 shape torch.Size([512, 100])\n",
            "pooled1 shape torch.Size([512, 100])\n",
            "cat shape torch.Size([512, 200])\n",
            "prediction shape torch.Size([512, 2])\n"
          ]
        },
        {
          "output_type": "stream",
          "name": "stderr",
          "text": [
            "\n",
            "training...:  32%|███▎      | 13/40 [00:01<00:02, 11.72it/s]\u001b[A"
          ]
        },
        {
          "output_type": "stream",
          "name": "stdout",
          "text": [
            "first embedded shape torch.Size([512, 256, 300])\n",
            "embedded shape torch.Size([512, 1, 256, 300])\n",
            "conved0 shape torch.Size([512, 100, 249])\n",
            "conved1 shape torch.Size([512, 100, 241])\n",
            "pooled0 shape torch.Size([512, 100])\n",
            "pooled1 shape torch.Size([512, 100])\n",
            "cat shape torch.Size([512, 200])\n",
            "prediction shape torch.Size([512, 2])\n",
            "first embedded shape torch.Size([512, 256, 300])\n",
            "embedded shape torch.Size([512, 1, 256, 300])\n",
            "conved0 shape torch.Size([512, 100, 249])\n",
            "conved1 shape torch.Size([512, 100, 241])\n",
            "pooled0 shape torch.Size([512, 100])\n",
            "pooled1 shape torch.Size([512, 100])\n",
            "cat shape torch.Size([512, 200])\n",
            "prediction shape torch.Size([512, 2])\n",
            "first embedded shape torch.Size([512, 256, 300])\n",
            "embedded shape torch.Size([512, 1, 256, 300])\n",
            "conved0 shape torch.Size([512, 100, 249])\n",
            "conved1 shape torch.Size([512, 100, 241])\n",
            "pooled0 shape torch.Size([512, 100])\n",
            "pooled1 shape torch.Size([512, 100])\n",
            "cat shape torch.Size([512, 200])\n",
            "prediction shape torch.Size([512, 2])\n"
          ]
        },
        {
          "output_type": "stream",
          "name": "stderr",
          "text": [
            "\n",
            "training...:  38%|███▊      | 15/40 [00:01<00:02, 11.73it/s]\u001b[A\n",
            "training...:  42%|████▎     | 17/40 [00:01<00:01, 11.76it/s]\u001b[A"
          ]
        },
        {
          "output_type": "stream",
          "name": "stdout",
          "text": [
            "first embedded shape torch.Size([512, 256, 300])\n",
            "embedded shape torch.Size([512, 1, 256, 300])\n",
            "conved0 shape torch.Size([512, 100, 249])\n",
            "conved1 shape torch.Size([512, 100, 241])\n",
            "pooled0 shape torch.Size([512, 100])\n",
            "pooled1 shape torch.Size([512, 100])\n",
            "cat shape torch.Size([512, 200])\n",
            "prediction shape torch.Size([512, 2])\n",
            "first embedded shape torch.Size([512, 256, 300])\n",
            "embedded shape torch.Size([512, 1, 256, 300])\n",
            "conved0 shape torch.Size([512, 100, 249])\n",
            "conved1 shape torch.Size([512, 100, 241])\n",
            "pooled0 shape torch.Size([512, 100])\n",
            "pooled1 shape torch.Size([512, 100])\n",
            "cat shape torch.Size([512, 200])\n",
            "prediction shape torch.Size([512, 2])\n",
            "first embedded shape torch.Size([512, 256, 300])\n",
            "embedded shape torch.Size([512, 1, 256, 300])\n",
            "conved0 shape torch.Size([512, 100, 249])\n",
            "conved1 shape torch.Size([512, 100, 241])\n",
            "pooled0 shape torch.Size([512, 100])\n",
            "pooled1 shape torch.Size([512, 100])\n",
            "cat shape torch.Size([512, 200])\n",
            "prediction shape torch.Size([512, 2])\n"
          ]
        },
        {
          "output_type": "stream",
          "name": "stderr",
          "text": [
            "\n",
            "training...:  48%|████▊     | 19/40 [00:01<00:01, 11.77it/s]\u001b[A"
          ]
        },
        {
          "output_type": "stream",
          "name": "stdout",
          "text": [
            "first embedded shape torch.Size([512, 256, 300])\n",
            "embedded shape torch.Size([512, 1, 256, 300])\n",
            "conved0 shape torch.Size([512, 100, 249])\n",
            "conved1 shape torch.Size([512, 100, 241])\n",
            "pooled0 shape torch.Size([512, 100])\n",
            "pooled1 shape torch.Size([512, 100])\n",
            "cat shape torch.Size([512, 200])\n",
            "prediction shape torch.Size([512, 2])\n",
            "first embedded shape torch.Size([512, 256, 300])\n",
            "embedded shape torch.Size([512, 1, 256, 300])\n",
            "conved0 shape torch.Size([512, 100, 249])\n",
            "conved1 shape torch.Size([512, 100, 241])\n",
            "pooled0 shape torch.Size([512, 100])\n",
            "pooled1 shape torch.Size([512, 100])\n",
            "cat shape torch.Size([512, 200])\n",
            "prediction shape torch.Size([512, 2])\n",
            "first embedded shape torch.Size([512, 256, 300])\n",
            "embedded shape torch.Size([512, 1, 256, 300])\n",
            "conved0 shape torch.Size([512, 100, 249])\n",
            "conved1 shape torch.Size([512, 100, 241])\n",
            "pooled0 shape torch.Size([512, 100])\n",
            "pooled1 shape torch.Size([512, 100])\n",
            "cat shape torch.Size([512, 200])\n",
            "prediction shape torch.Size([512, 2])\n"
          ]
        },
        {
          "output_type": "stream",
          "name": "stderr",
          "text": [
            "\n",
            "training...:  52%|█████▎    | 21/40 [00:01<00:01, 11.78it/s]\u001b[A\n",
            "training...:  57%|█████▊    | 23/40 [00:01<00:01, 11.84it/s]\u001b[A"
          ]
        },
        {
          "output_type": "stream",
          "name": "stdout",
          "text": [
            "first embedded shape torch.Size([512, 256, 300])\n",
            "embedded shape torch.Size([512, 1, 256, 300])\n",
            "conved0 shape torch.Size([512, 100, 249])\n",
            "conved1 shape torch.Size([512, 100, 241])\n",
            "pooled0 shape torch.Size([512, 100])\n",
            "pooled1 shape torch.Size([512, 100])\n",
            "cat shape torch.Size([512, 200])\n",
            "prediction shape torch.Size([512, 2])\n",
            "first embedded shape torch.Size([512, 256, 300])\n",
            "embedded shape torch.Size([512, 1, 256, 300])\n",
            "conved0 shape torch.Size([512, 100, 249])\n",
            "conved1 shape torch.Size([512, 100, 241])\n",
            "pooled0 shape torch.Size([512, 100])\n",
            "pooled1 shape torch.Size([512, 100])\n",
            "cat shape torch.Size([512, 200])\n",
            "prediction shape torch.Size([512, 2])\n",
            "first embedded shape torch.Size([512, 256, 300])\n",
            "embedded shape torch.Size([512, 1, 256, 300])\n",
            "conved0 shape torch.Size([512, 100, 249])\n",
            "conved1 shape torch.Size([512, 100, 241])\n",
            "pooled0 shape torch.Size([512, 100])\n",
            "pooled1 shape torch.Size([512, 100])\n",
            "cat shape torch.Size([512, 200])\n",
            "prediction shape torch.Size([512, 2])\n"
          ]
        },
        {
          "output_type": "stream",
          "name": "stderr",
          "text": [
            "\n",
            "training...:  62%|██████▎   | 25/40 [00:02<00:01, 11.84it/s]\u001b[A"
          ]
        },
        {
          "output_type": "stream",
          "name": "stdout",
          "text": [
            "first embedded shape torch.Size([512, 256, 300])\n",
            "embedded shape torch.Size([512, 1, 256, 300])\n",
            "conved0 shape torch.Size([512, 100, 249])\n",
            "conved1 shape torch.Size([512, 100, 241])\n",
            "pooled0 shape torch.Size([512, 100])\n",
            "pooled1 shape torch.Size([512, 100])\n",
            "cat shape torch.Size([512, 200])\n",
            "prediction shape torch.Size([512, 2])\n",
            "first embedded shape torch.Size([512, 256, 300])\n",
            "embedded shape torch.Size([512, 1, 256, 300])\n",
            "conved0 shape torch.Size([512, 100, 249])\n",
            "conved1 shape torch.Size([512, 100, 241])\n",
            "pooled0 shape torch.Size([512, 100])\n",
            "pooled1 shape torch.Size([512, 100])\n",
            "cat shape torch.Size([512, 200])\n",
            "prediction shape torch.Size([512, 2])\n",
            "first embedded shape torch.Size([512, 256, 300])\n",
            "embedded shape torch.Size([512, 1, 256, 300])\n",
            "conved0 shape torch.Size([512, 100, 249])\n",
            "conved1 shape torch.Size([512, 100, 241])\n",
            "pooled0 shape torch.Size([512, 100])\n",
            "pooled1 shape torch.Size([512, 100])\n",
            "cat shape torch.Size([512, 200])\n",
            "prediction shape torch.Size([512, 2])\n"
          ]
        },
        {
          "output_type": "stream",
          "name": "stderr",
          "text": [
            "\n",
            "training...:  68%|██████▊   | 27/40 [00:02<00:01, 11.85it/s]\u001b[A\n",
            "training...:  72%|███████▎  | 29/40 [00:02<00:00, 11.80it/s]\u001b[A"
          ]
        },
        {
          "output_type": "stream",
          "name": "stdout",
          "text": [
            "first embedded shape torch.Size([512, 256, 300])\n",
            "embedded shape torch.Size([512, 1, 256, 300])\n",
            "conved0 shape torch.Size([512, 100, 249])\n",
            "conved1 shape torch.Size([512, 100, 241])\n",
            "pooled0 shape torch.Size([512, 100])\n",
            "pooled1 shape torch.Size([512, 100])\n",
            "cat shape torch.Size([512, 200])\n",
            "prediction shape torch.Size([512, 2])\n",
            "first embedded shape torch.Size([512, 256, 300])\n",
            "embedded shape torch.Size([512, 1, 256, 300])\n",
            "conved0 shape torch.Size([512, 100, 249])\n",
            "conved1 shape torch.Size([512, 100, 241])\n",
            "pooled0 shape torch.Size([512, 100])\n",
            "pooled1 shape torch.Size([512, 100])\n",
            "cat shape torch.Size([512, 200])\n",
            "prediction shape torch.Size([512, 2])\n",
            "first embedded shape torch.Size([512, 256, 300])\n",
            "embedded shape torch.Size([512, 1, 256, 300])\n",
            "conved0 shape torch.Size([512, 100, 249])\n",
            "conved1 shape torch.Size([512, 100, 241])\n",
            "pooled0 shape torch.Size([512, 100])\n",
            "pooled1 shape torch.Size([512, 100])\n",
            "cat shape torch.Size([512, 200])\n",
            "prediction shape torch.Size([512, 2])\n"
          ]
        },
        {
          "output_type": "stream",
          "name": "stderr",
          "text": [
            "\n",
            "training...:  78%|███████▊  | 31/40 [00:02<00:00, 11.81it/s]\u001b[A"
          ]
        },
        {
          "output_type": "stream",
          "name": "stdout",
          "text": [
            "first embedded shape torch.Size([512, 256, 300])\n",
            "embedded shape torch.Size([512, 1, 256, 300])\n",
            "conved0 shape torch.Size([512, 100, 249])\n",
            "conved1 shape torch.Size([512, 100, 241])\n",
            "pooled0 shape torch.Size([512, 100])\n",
            "pooled1 shape torch.Size([512, 100])\n",
            "cat shape torch.Size([512, 200])\n",
            "prediction shape torch.Size([512, 2])\n",
            "first embedded shape torch.Size([512, 256, 300])\n",
            "embedded shape torch.Size([512, 1, 256, 300])\n",
            "conved0 shape torch.Size([512, 100, 249])\n",
            "conved1 shape torch.Size([512, 100, 241])\n",
            "pooled0 shape torch.Size([512, 100])\n",
            "pooled1 shape torch.Size([512, 100])\n",
            "cat shape torch.Size([512, 200])\n",
            "prediction shape torch.Size([512, 2])\n",
            "first embedded shape torch.Size([512, 256, 300])\n",
            "embedded shape torch.Size([512, 1, 256, 300])\n",
            "conved0 shape torch.Size([512, 100, 249])\n",
            "conved1 shape torch.Size([512, 100, 241])\n",
            "pooled0 shape torch.Size([512, 100])\n",
            "pooled1 shape torch.Size([512, 100])\n",
            "cat shape torch.Size([512, 200])\n",
            "prediction shape torch.Size([512, 2])\n"
          ]
        },
        {
          "output_type": "stream",
          "name": "stderr",
          "text": [
            "\n",
            "training...:  82%|████████▎ | 33/40 [00:02<00:00, 11.81it/s]\u001b[A\n",
            "training...:  88%|████████▊ | 35/40 [00:02<00:00, 11.81it/s]\u001b[A"
          ]
        },
        {
          "output_type": "stream",
          "name": "stdout",
          "text": [
            "first embedded shape torch.Size([512, 256, 300])\n",
            "embedded shape torch.Size([512, 1, 256, 300])\n",
            "conved0 shape torch.Size([512, 100, 249])\n",
            "conved1 shape torch.Size([512, 100, 241])\n",
            "pooled0 shape torch.Size([512, 100])\n",
            "pooled1 shape torch.Size([512, 100])\n",
            "cat shape torch.Size([512, 200])\n",
            "prediction shape torch.Size([512, 2])\n",
            "first embedded shape torch.Size([512, 256, 300])\n",
            "embedded shape torch.Size([512, 1, 256, 300])\n",
            "conved0 shape torch.Size([512, 100, 249])\n",
            "conved1 shape torch.Size([512, 100, 241])\n",
            "pooled0 shape torch.Size([512, 100])\n",
            "pooled1 shape torch.Size([512, 100])\n",
            "cat shape torch.Size([512, 200])\n",
            "prediction shape torch.Size([512, 2])\n",
            "first embedded shape torch.Size([512, 256, 300])\n",
            "embedded shape torch.Size([512, 1, 256, 300])\n",
            "conved0 shape torch.Size([512, 100, 249])\n",
            "conved1 shape torch.Size([512, 100, 241])\n",
            "pooled0 shape torch.Size([512, 100])\n",
            "pooled1 shape torch.Size([512, 100])\n",
            "cat shape torch.Size([512, 200])\n",
            "prediction shape torch.Size([512, 2])\n"
          ]
        },
        {
          "output_type": "stream",
          "name": "stderr",
          "text": [
            "\n",
            "training...:  92%|█████████▎| 37/40 [00:03<00:00, 11.81it/s]\u001b[A"
          ]
        },
        {
          "output_type": "stream",
          "name": "stdout",
          "text": [
            "first embedded shape torch.Size([512, 256, 300])\n",
            "embedded shape torch.Size([512, 1, 256, 300])\n",
            "conved0 shape torch.Size([512, 100, 249])\n",
            "conved1 shape torch.Size([512, 100, 241])\n",
            "pooled0 shape torch.Size([512, 100])\n",
            "pooled1 shape torch.Size([512, 100])\n",
            "cat shape torch.Size([512, 200])\n",
            "prediction shape torch.Size([512, 2])\n",
            "first embedded shape torch.Size([512, 256, 300])\n",
            "embedded shape torch.Size([512, 1, 256, 300])\n",
            "conved0 shape torch.Size([512, 100, 249])\n",
            "conved1 shape torch.Size([512, 100, 241])\n",
            "pooled0 shape torch.Size([512, 100])\n",
            "pooled1 shape torch.Size([512, 100])\n",
            "cat shape torch.Size([512, 200])\n",
            "prediction shape torch.Size([512, 2])\n",
            "first embedded shape torch.Size([512, 256, 300])\n",
            "embedded shape torch.Size([512, 1, 256, 300])\n",
            "conved0 shape torch.Size([512, 100, 249])\n",
            "conved1 shape torch.Size([512, 100, 241])\n",
            "pooled0 shape torch.Size([512, 100])\n",
            "pooled1 shape torch.Size([512, 100])\n",
            "cat shape torch.Size([512, 200])\n",
            "prediction shape torch.Size([512, 2])\n"
          ]
        },
        {
          "output_type": "stream",
          "name": "stderr",
          "text": [
            "\n",
            "training...: 100%|██████████| 40/40 [00:03<00:00, 11.97it/s]\n"
          ]
        },
        {
          "output_type": "stream",
          "name": "stdout",
          "text": [
            "first embedded shape torch.Size([32, 256, 300])\n",
            "embedded shape torch.Size([32, 1, 256, 300])\n",
            "conved0 shape torch.Size([32, 100, 249])\n",
            "conved1 shape torch.Size([32, 100, 241])\n",
            "pooled0 shape torch.Size([32, 100])\n",
            "pooled1 shape torch.Size([32, 100])\n",
            "cat shape torch.Size([32, 200])\n",
            "prediction shape torch.Size([32, 2])\n",
            "first embedded shape torch.Size([512, 256, 300])\n",
            "embedded shape torch.Size([512, 1, 256, 300])\n",
            "conved0 shape torch.Size([512, 100, 249])\n",
            "conved1 shape torch.Size([512, 100, 241])\n",
            "pooled0 shape torch.Size([512, 100])\n",
            "pooled1 shape torch.Size([512, 100])\n",
            "cat shape torch.Size([512, 200])\n",
            "prediction shape torch.Size([512, 2])\n",
            "first embedded shape torch.Size([512, 256, 300])\n",
            "embedded shape torch.Size([512, 1, 256, 300])\n",
            "conved0 shape torch.Size([512, 100, 249])\n",
            "conved1 shape torch.Size([512, 100, 241])\n",
            "pooled0 shape torch.Size([512, 100])\n",
            "pooled1 shape torch.Size([512, 100])\n",
            "cat shape torch.Size([512, 200])\n",
            "prediction shape torch.Size([512, 2])\n",
            "first embedded shape torch.Size([512, 256, 300])\n",
            "embedded shape torch.Size([512, 1, 256, 300])\n",
            "conved0 shape torch.Size([512, 100, 249])\n",
            "conved1 shape torch.Size([512, 100, 241])\n",
            "pooled0 shape torch.Size([512, 100])\n",
            "pooled1 shape torch.Size([512, 100])\n",
            "cat shape torch.Size([512, 200])\n",
            "prediction shape torch.Size([512, 2])\n",
            "first embedded shape torch.Size([512, 256, 300])\n",
            "embedded shape torch.Size([512, 1, 256, 300])\n",
            "conved0 shape torch.Size([512, 100, 249])\n",
            "conved1 shape torch.Size([512, 100, 241])\n",
            "pooled0 shape torch.Size([512, 100])\n",
            "pooled1 shape torch.Size([512, 100])\n",
            "cat shape torch.Size([512, 200])\n",
            "prediction shape torch.Size([512, 2])\n",
            "first embedded shape torch.Size([512, 256, 300])\n",
            "embedded shape torch.Size([512, 1, 256, 300])\n",
            "conved0 shape torch.Size([512, 100, 249])\n",
            "conved1 shape torch.Size([512, 100, 241])\n",
            "pooled0 shape torch.Size([512, 100])\n",
            "pooled1 shape torch.Size([512, 100])\n",
            "cat shape torch.Size([512, 200])\n",
            "prediction shape torch.Size([512, 2])\n",
            "first embedded shape torch.Size([512, 256, 300])\n",
            "embedded shape torch.Size([512, 1, 256, 300])\n",
            "conved0 shape torch.Size([512, 100, 249])\n",
            "conved1 shape torch.Size([512, 100, 241])\n",
            "pooled0 shape torch.Size([512, 100])\n",
            "pooled1 shape torch.Size([512, 100])\n",
            "cat shape torch.Size([512, 200])\n",
            "prediction shape torch.Size([512, 2])\n",
            "first embedded shape torch.Size([512, 256, 300])\n",
            "embedded shape torch.Size([512, 1, 256, 300])\n",
            "conved0 shape torch.Size([512, 100, 249])\n",
            "conved1 shape torch.Size([512, 100, 241])\n",
            "pooled0 shape torch.Size([512, 100])\n",
            "pooled1 shape torch.Size([512, 100])\n",
            "cat shape torch.Size([512, 200])\n",
            "prediction shape torch.Size([512, 2])\n",
            "first embedded shape torch.Size([512, 256, 300])\n",
            "embedded shape torch.Size([512, 1, 256, 300])\n",
            "conved0 shape torch.Size([512, 100, 249])\n",
            "conved1 shape torch.Size([512, 100, 241])\n",
            "pooled0 shape torch.Size([512, 100])\n",
            "pooled1 shape torch.Size([512, 100])\n",
            "cat shape torch.Size([512, 200])\n",
            "prediction shape torch.Size([512, 2])\n",
            "first embedded shape torch.Size([512, 256, 300])\n",
            "embedded shape torch.Size([512, 1, 256, 300])\n",
            "conved0 shape torch.Size([512, 100, 249])\n",
            "conved1 shape torch.Size([512, 100, 241])\n",
            "pooled0 shape torch.Size([512, 100])\n",
            "pooled1 shape torch.Size([512, 100])\n",
            "cat shape torch.Size([512, 200])\n",
            "prediction shape torch.Size([512, 2])\n"
          ]
        },
        {
          "output_type": "stream",
          "name": "stderr",
          "text": [
            "\r 20%|██        | 1/5 [00:03<00:15,  3.83s/it]"
          ]
        },
        {
          "output_type": "stream",
          "name": "stdout",
          "text": [
            "first embedded shape torch.Size([392, 256, 300])\n",
            "embedded shape torch.Size([392, 1, 256, 300])\n",
            "conved0 shape torch.Size([392, 100, 249])\n",
            "conved1 shape torch.Size([392, 100, 241])\n",
            "pooled0 shape torch.Size([392, 100])\n",
            "pooled1 shape torch.Size([392, 100])\n",
            "cat shape torch.Size([392, 200])\n",
            "prediction shape torch.Size([392, 2])\n",
            "epoch: 0\n",
            "train_loss: 0.642, train_acc: 0.651\n",
            "valid_loss: 0.472, valid_acc: 0.809\n"
          ]
        },
        {
          "output_type": "stream",
          "name": "stderr",
          "text": [
            "\n",
            "training...:   0%|          | 0/40 [00:00<?, ?it/s]\u001b[A\n",
            "training...:   5%|▌         | 2/40 [00:00<00:03, 12.03it/s]\u001b[A"
          ]
        },
        {
          "output_type": "stream",
          "name": "stdout",
          "text": [
            "first embedded shape torch.Size([512, 256, 300])\n",
            "embedded shape torch.Size([512, 1, 256, 300])\n",
            "conved0 shape torch.Size([512, 100, 249])\n",
            "conved1 shape torch.Size([512, 100, 241])\n",
            "pooled0 shape torch.Size([512, 100])\n",
            "pooled1 shape torch.Size([512, 100])\n",
            "cat shape torch.Size([512, 200])\n",
            "prediction shape torch.Size([512, 2])\n",
            "first embedded shape torch.Size([512, 256, 300])\n",
            "embedded shape torch.Size([512, 1, 256, 300])\n",
            "conved0 shape torch.Size([512, 100, 249])\n",
            "conved1 shape torch.Size([512, 100, 241])\n",
            "pooled0 shape torch.Size([512, 100])\n",
            "pooled1 shape torch.Size([512, 100])\n",
            "cat shape torch.Size([512, 200])\n",
            "prediction shape torch.Size([512, 2])\n",
            "first embedded shape torch.Size([512, 256, 300])\n",
            "embedded shape torch.Size([512, 1, 256, 300])\n",
            "conved0 shape torch.Size([512, 100, 249])\n",
            "conved1 shape torch.Size([512, 100, 241])\n",
            "pooled0 shape torch.Size([512, 100])\n",
            "pooled1 shape torch.Size([512, 100])\n",
            "cat shape torch.Size([512, 200])\n",
            "prediction shape torch.Size([512, 2])\n"
          ]
        },
        {
          "output_type": "stream",
          "name": "stderr",
          "text": [
            "\n",
            "training...:  10%|█         | 4/40 [00:00<00:03, 11.94it/s]\u001b[A"
          ]
        },
        {
          "output_type": "stream",
          "name": "stdout",
          "text": [
            "first embedded shape torch.Size([512, 256, 300])\n",
            "embedded shape torch.Size([512, 1, 256, 300])\n",
            "conved0 shape torch.Size([512, 100, 249])\n",
            "conved1 shape torch.Size([512, 100, 241])\n",
            "pooled0 shape torch.Size([512, 100])\n",
            "pooled1 shape torch.Size([512, 100])\n",
            "cat shape torch.Size([512, 200])\n",
            "prediction shape torch.Size([512, 2])\n",
            "first embedded shape torch.Size([512, 256, 300])\n",
            "embedded shape torch.Size([512, 1, 256, 300])\n",
            "conved0 shape torch.Size([512, 100, 249])\n",
            "conved1 shape torch.Size([512, 100, 241])\n",
            "pooled0 shape torch.Size([512, 100])\n",
            "pooled1 shape torch.Size([512, 100])\n",
            "cat shape torch.Size([512, 200])\n",
            "prediction shape torch.Size([512, 2])\n",
            "first embedded shape torch.Size([512, 256, 300])\n",
            "embedded shape torch.Size([512, 1, 256, 300])\n",
            "conved0 shape torch.Size([512, 100, 249])\n",
            "conved1 shape torch.Size([512, 100, 241])\n",
            "pooled0 shape torch.Size([512, 100])\n",
            "pooled1 shape torch.Size([512, 100])\n",
            "cat shape torch.Size([512, 200])\n",
            "prediction shape torch.Size([512, 2])\n"
          ]
        },
        {
          "output_type": "stream",
          "name": "stderr",
          "text": [
            "\n",
            "training...:  15%|█▌        | 6/40 [00:00<00:02, 11.93it/s]\u001b[A"
          ]
        },
        {
          "output_type": "stream",
          "name": "stdout",
          "text": [
            "first embedded shape torch.Size([512, 256, 300])\n",
            "embedded shape torch.Size([512, 1, 256, 300])\n",
            "conved0 shape torch.Size([512, 100, 249])\n",
            "conved1 shape torch.Size([512, 100, 241])\n",
            "pooled0 shape torch.Size([512, 100])\n",
            "pooled1 shape torch.Size([512, 100])\n",
            "cat shape torch.Size([512, 200])\n",
            "prediction shape torch.Size([512, 2])\n",
            "first embedded shape torch.Size([512, 256, 300])\n",
            "embedded shape torch.Size([512, 1, 256, 300])\n",
            "conved0 shape torch.Size([512, 100, 249])\n",
            "conved1 shape torch.Size([512, 100, 241])\n",
            "pooled0 shape torch.Size([512, 100])\n",
            "pooled1 shape torch.Size([512, 100])\n",
            "cat shape torch.Size([512, 200])\n",
            "prediction shape torch.Size([512, 2])\n"
          ]
        },
        {
          "output_type": "stream",
          "name": "stderr",
          "text": [
            "\n",
            "training...:  20%|██        | 8/40 [00:00<00:02, 11.94it/s]\u001b[A"
          ]
        },
        {
          "output_type": "stream",
          "name": "stdout",
          "text": [
            "first embedded shape torch.Size([512, 256, 300])\n",
            "embedded shape torch.Size([512, 1, 256, 300])\n",
            "conved0 shape torch.Size([512, 100, 249])\n",
            "conved1 shape torch.Size([512, 100, 241])\n",
            "pooled0 shape torch.Size([512, 100])\n",
            "pooled1 shape torch.Size([512, 100])\n",
            "cat shape torch.Size([512, 200])\n",
            "prediction shape torch.Size([512, 2])\n"
          ]
        },
        {
          "output_type": "stream",
          "name": "stderr",
          "text": [
            "\n",
            "training...:  25%|██▌       | 10/40 [00:00<00:02, 11.96it/s]\u001b[A"
          ]
        },
        {
          "output_type": "stream",
          "name": "stdout",
          "text": [
            "first embedded shape torch.Size([512, 256, 300])\n",
            "embedded shape torch.Size([512, 1, 256, 300])\n",
            "conved0 shape torch.Size([512, 100, 249])\n",
            "conved1 shape torch.Size([512, 100, 241])\n",
            "pooled0 shape torch.Size([512, 100])\n",
            "pooled1 shape torch.Size([512, 100])\n",
            "cat shape torch.Size([512, 200])\n",
            "prediction shape torch.Size([512, 2])\n",
            "first embedded shape torch.Size([512, 256, 300])\n",
            "embedded shape torch.Size([512, 1, 256, 300])\n",
            "conved0 shape torch.Size([512, 100, 249])\n",
            "conved1 shape torch.Size([512, 100, 241])\n",
            "pooled0 shape torch.Size([512, 100])\n",
            "pooled1 shape torch.Size([512, 100])\n",
            "cat shape torch.Size([512, 200])\n",
            "prediction shape torch.Size([512, 2])\n",
            "first embedded shape torch.Size([512, 256, 300])\n",
            "embedded shape torch.Size([512, 1, 256, 300])\n",
            "conved0 shape torch.Size([512, 100, 249])\n",
            "conved1 shape torch.Size([512, 100, 241])\n",
            "pooled0 shape torch.Size([512, 100])\n",
            "pooled1 shape torch.Size([512, 100])\n",
            "cat shape torch.Size([512, 200])\n",
            "prediction shape torch.Size([512, 2])\n"
          ]
        },
        {
          "output_type": "stream",
          "name": "stderr",
          "text": [
            "\n",
            "training...:  30%|███       | 12/40 [00:01<00:02, 11.95it/s]\u001b[A"
          ]
        },
        {
          "output_type": "stream",
          "name": "stdout",
          "text": [
            "first embedded shape torch.Size([512, 256, 300])\n",
            "embedded shape torch.Size([512, 1, 256, 300])\n",
            "conved0 shape torch.Size([512, 100, 249])\n",
            "conved1 shape torch.Size([512, 100, 241])\n",
            "pooled0 shape torch.Size([512, 100])\n",
            "pooled1 shape torch.Size([512, 100])\n",
            "cat shape torch.Size([512, 200])\n",
            "prediction shape torch.Size([512, 2])\n",
            "first embedded shape torch.Size([512, 256, 300])\n",
            "embedded shape torch.Size([512, 1, 256, 300])\n",
            "conved0 shape torch.Size([512, 100, 249])\n",
            "conved1 shape torch.Size([512, 100, 241])\n",
            "pooled0 shape torch.Size([512, 100])\n",
            "pooled1 shape torch.Size([512, 100])\n",
            "cat shape torch.Size([512, 200])\n",
            "prediction shape torch.Size([512, 2])\n"
          ]
        },
        {
          "output_type": "stream",
          "name": "stderr",
          "text": [
            "\n",
            "training...:  35%|███▌      | 14/40 [00:01<00:02, 11.96it/s]\u001b[A"
          ]
        },
        {
          "output_type": "stream",
          "name": "stdout",
          "text": [
            "first embedded shape torch.Size([512, 256, 300])\n",
            "embedded shape torch.Size([512, 1, 256, 300])\n",
            "conved0 shape torch.Size([512, 100, 249])\n",
            "conved1 shape torch.Size([512, 100, 241])\n",
            "pooled0 shape torch.Size([512, 100])\n",
            "pooled1 shape torch.Size([512, 100])\n",
            "cat shape torch.Size([512, 200])\n",
            "prediction shape torch.Size([512, 2])\n"
          ]
        },
        {
          "output_type": "stream",
          "name": "stderr",
          "text": [
            "\n",
            "training...:  40%|████      | 16/40 [00:01<00:02, 11.95it/s]\u001b[A"
          ]
        },
        {
          "output_type": "stream",
          "name": "stdout",
          "text": [
            "first embedded shape torch.Size([512, 256, 300])\n",
            "embedded shape torch.Size([512, 1, 256, 300])\n",
            "conved0 shape torch.Size([512, 100, 249])\n",
            "conved1 shape torch.Size([512, 100, 241])\n",
            "pooled0 shape torch.Size([512, 100])\n",
            "pooled1 shape torch.Size([512, 100])\n",
            "cat shape torch.Size([512, 200])\n",
            "prediction shape torch.Size([512, 2])\n",
            "first embedded shape torch.Size([512, 256, 300])\n",
            "embedded shape torch.Size([512, 1, 256, 300])\n",
            "conved0 shape torch.Size([512, 100, 249])\n",
            "conved1 shape torch.Size([512, 100, 241])\n",
            "pooled0 shape torch.Size([512, 100])\n",
            "pooled1 shape torch.Size([512, 100])\n",
            "cat shape torch.Size([512, 200])\n",
            "prediction shape torch.Size([512, 2])\n",
            "first embedded shape torch.Size([512, 256, 300])\n",
            "embedded shape torch.Size([512, 1, 256, 300])\n",
            "conved0 shape torch.Size([512, 100, 249])\n",
            "conved1 shape torch.Size([512, 100, 241])\n",
            "pooled0 shape torch.Size([512, 100])\n",
            "pooled1 shape torch.Size([512, 100])\n",
            "cat shape torch.Size([512, 200])\n",
            "prediction shape torch.Size([512, 2])\n"
          ]
        },
        {
          "output_type": "stream",
          "name": "stderr",
          "text": [
            "\n",
            "training...:  45%|████▌     | 18/40 [00:01<00:01, 11.95it/s]\u001b[A"
          ]
        },
        {
          "output_type": "stream",
          "name": "stdout",
          "text": [
            "first embedded shape torch.Size([512, 256, 300])\n",
            "embedded shape torch.Size([512, 1, 256, 300])\n",
            "conved0 shape torch.Size([512, 100, 249])\n",
            "conved1 shape torch.Size([512, 100, 241])\n",
            "pooled0 shape torch.Size([512, 100])\n",
            "pooled1 shape torch.Size([512, 100])\n",
            "cat shape torch.Size([512, 200])\n",
            "prediction shape torch.Size([512, 2])\n",
            "first embedded shape torch.Size([512, 256, 300])\n",
            "embedded shape torch.Size([512, 1, 256, 300])\n",
            "conved0 shape torch.Size([512, 100, 249])\n",
            "conved1 shape torch.Size([512, 100, 241])\n",
            "pooled0 shape torch.Size([512, 100])\n",
            "pooled1 shape torch.Size([512, 100])\n",
            "cat shape torch.Size([512, 200])\n",
            "prediction shape torch.Size([512, 2])\n"
          ]
        },
        {
          "output_type": "stream",
          "name": "stderr",
          "text": [
            "\n",
            "training...:  50%|█████     | 20/40 [00:01<00:01, 11.96it/s]\u001b[A"
          ]
        },
        {
          "output_type": "stream",
          "name": "stdout",
          "text": [
            "first embedded shape torch.Size([512, 256, 300])\n",
            "embedded shape torch.Size([512, 1, 256, 300])\n",
            "conved0 shape torch.Size([512, 100, 249])\n",
            "conved1 shape torch.Size([512, 100, 241])\n",
            "pooled0 shape torch.Size([512, 100])\n",
            "pooled1 shape torch.Size([512, 100])\n",
            "cat shape torch.Size([512, 200])\n",
            "prediction shape torch.Size([512, 2])\n"
          ]
        },
        {
          "output_type": "stream",
          "name": "stderr",
          "text": [
            "\n",
            "training...:  55%|█████▌    | 22/40 [00:01<00:01, 11.95it/s]\u001b[A"
          ]
        },
        {
          "output_type": "stream",
          "name": "stdout",
          "text": [
            "first embedded shape torch.Size([512, 256, 300])\n",
            "embedded shape torch.Size([512, 1, 256, 300])\n",
            "conved0 shape torch.Size([512, 100, 249])\n",
            "conved1 shape torch.Size([512, 100, 241])\n",
            "pooled0 shape torch.Size([512, 100])\n",
            "pooled1 shape torch.Size([512, 100])\n",
            "cat shape torch.Size([512, 200])\n",
            "prediction shape torch.Size([512, 2])\n",
            "first embedded shape torch.Size([512, 256, 300])\n",
            "embedded shape torch.Size([512, 1, 256, 300])\n",
            "conved0 shape torch.Size([512, 100, 249])\n",
            "conved1 shape torch.Size([512, 100, 241])\n",
            "pooled0 shape torch.Size([512, 100])\n",
            "pooled1 shape torch.Size([512, 100])\n",
            "cat shape torch.Size([512, 200])\n",
            "prediction shape torch.Size([512, 2])\n",
            "first embedded shape torch.Size([512, 256, 300])\n",
            "embedded shape torch.Size([512, 1, 256, 300])\n",
            "conved0 shape torch.Size([512, 100, 249])\n",
            "conved1 shape torch.Size([512, 100, 241])\n",
            "pooled0 shape torch.Size([512, 100])\n",
            "pooled1 shape torch.Size([512, 100])\n",
            "cat shape torch.Size([512, 200])\n",
            "prediction shape torch.Size([512, 2])\n"
          ]
        },
        {
          "output_type": "stream",
          "name": "stderr",
          "text": [
            "\n",
            "training...:  60%|██████    | 24/40 [00:02<00:01, 11.97it/s]\u001b[A"
          ]
        },
        {
          "output_type": "stream",
          "name": "stdout",
          "text": [
            "first embedded shape torch.Size([512, 256, 300])\n",
            "embedded shape torch.Size([512, 1, 256, 300])\n",
            "conved0 shape torch.Size([512, 100, 249])\n",
            "conved1 shape torch.Size([512, 100, 241])\n",
            "pooled0 shape torch.Size([512, 100])\n",
            "pooled1 shape torch.Size([512, 100])\n",
            "cat shape torch.Size([512, 200])\n",
            "prediction shape torch.Size([512, 2])\n",
            "first embedded shape torch.Size([512, 256, 300])\n",
            "embedded shape torch.Size([512, 1, 256, 300])\n",
            "conved0 shape torch.Size([512, 100, 249])\n",
            "conved1 shape torch.Size([512, 100, 241])\n",
            "pooled0 shape torch.Size([512, 100])\n",
            "pooled1 shape torch.Size([512, 100])\n",
            "cat shape torch.Size([512, 200])\n",
            "prediction shape torch.Size([512, 2])\n"
          ]
        },
        {
          "output_type": "stream",
          "name": "stderr",
          "text": [
            "\n",
            "training...:  65%|██████▌   | 26/40 [00:02<00:01, 11.98it/s]\u001b[A"
          ]
        },
        {
          "output_type": "stream",
          "name": "stdout",
          "text": [
            "first embedded shape torch.Size([512, 256, 300])\n",
            "embedded shape torch.Size([512, 1, 256, 300])\n",
            "conved0 shape torch.Size([512, 100, 249])\n",
            "conved1 shape torch.Size([512, 100, 241])\n",
            "pooled0 shape torch.Size([512, 100])\n",
            "pooled1 shape torch.Size([512, 100])\n",
            "cat shape torch.Size([512, 200])\n",
            "prediction shape torch.Size([512, 2])\n"
          ]
        },
        {
          "output_type": "stream",
          "name": "stderr",
          "text": [
            "\n",
            "training...:  70%|███████   | 28/40 [00:02<00:01, 11.96it/s]\u001b[A"
          ]
        },
        {
          "output_type": "stream",
          "name": "stdout",
          "text": [
            "first embedded shape torch.Size([512, 256, 300])\n",
            "embedded shape torch.Size([512, 1, 256, 300])\n",
            "conved0 shape torch.Size([512, 100, 249])\n",
            "conved1 shape torch.Size([512, 100, 241])\n",
            "pooled0 shape torch.Size([512, 100])\n",
            "pooled1 shape torch.Size([512, 100])\n",
            "cat shape torch.Size([512, 200])\n",
            "prediction shape torch.Size([512, 2])\n",
            "first embedded shape torch.Size([512, 256, 300])\n",
            "embedded shape torch.Size([512, 1, 256, 300])\n",
            "conved0 shape torch.Size([512, 100, 249])\n",
            "conved1 shape torch.Size([512, 100, 241])\n",
            "pooled0 shape torch.Size([512, 100])\n",
            "pooled1 shape torch.Size([512, 100])\n",
            "cat shape torch.Size([512, 200])\n",
            "prediction shape torch.Size([512, 2])\n",
            "first embedded shape torch.Size([512, 256, 300])\n",
            "embedded shape torch.Size([512, 1, 256, 300])\n",
            "conved0 shape torch.Size([512, 100, 249])\n",
            "conved1 shape torch.Size([512, 100, 241])\n",
            "pooled0 shape torch.Size([512, 100])\n",
            "pooled1 shape torch.Size([512, 100])\n",
            "cat shape torch.Size([512, 200])\n",
            "prediction shape torch.Size([512, 2])\n"
          ]
        },
        {
          "output_type": "stream",
          "name": "stderr",
          "text": [
            "\n",
            "training...:  75%|███████▌  | 30/40 [00:02<00:00, 11.92it/s]\u001b[A"
          ]
        },
        {
          "output_type": "stream",
          "name": "stdout",
          "text": [
            "first embedded shape torch.Size([512, 256, 300])\n",
            "embedded shape torch.Size([512, 1, 256, 300])\n",
            "conved0 shape torch.Size([512, 100, 249])\n",
            "conved1 shape torch.Size([512, 100, 241])\n",
            "pooled0 shape torch.Size([512, 100])\n",
            "pooled1 shape torch.Size([512, 100])\n",
            "cat shape torch.Size([512, 200])\n",
            "prediction shape torch.Size([512, 2])\n",
            "first embedded shape torch.Size([512, 256, 300])\n",
            "embedded shape torch.Size([512, 1, 256, 300])\n",
            "conved0 shape torch.Size([512, 100, 249])\n",
            "conved1 shape torch.Size([512, 100, 241])\n",
            "pooled0 shape torch.Size([512, 100])\n",
            "pooled1 shape torch.Size([512, 100])\n",
            "cat shape torch.Size([512, 200])\n",
            "prediction shape torch.Size([512, 2])\n"
          ]
        },
        {
          "output_type": "stream",
          "name": "stderr",
          "text": [
            "\n",
            "training...:  80%|████████  | 32/40 [00:02<00:00, 11.93it/s]\u001b[A"
          ]
        },
        {
          "output_type": "stream",
          "name": "stdout",
          "text": [
            "first embedded shape torch.Size([512, 256, 300])\n",
            "embedded shape torch.Size([512, 1, 256, 300])\n",
            "conved0 shape torch.Size([512, 100, 249])\n",
            "conved1 shape torch.Size([512, 100, 241])\n",
            "pooled0 shape torch.Size([512, 100])\n",
            "pooled1 shape torch.Size([512, 100])\n",
            "cat shape torch.Size([512, 200])\n",
            "prediction shape torch.Size([512, 2])\n"
          ]
        },
        {
          "output_type": "stream",
          "name": "stderr",
          "text": [
            "\n",
            "training...:  85%|████████▌ | 34/40 [00:02<00:00, 11.95it/s]\u001b[A"
          ]
        },
        {
          "output_type": "stream",
          "name": "stdout",
          "text": [
            "first embedded shape torch.Size([512, 256, 300])\n",
            "embedded shape torch.Size([512, 1, 256, 300])\n",
            "conved0 shape torch.Size([512, 100, 249])\n",
            "conved1 shape torch.Size([512, 100, 241])\n",
            "pooled0 shape torch.Size([512, 100])\n",
            "pooled1 shape torch.Size([512, 100])\n",
            "cat shape torch.Size([512, 200])\n",
            "prediction shape torch.Size([512, 2])\n",
            "first embedded shape torch.Size([512, 256, 300])\n",
            "embedded shape torch.Size([512, 1, 256, 300])\n",
            "conved0 shape torch.Size([512, 100, 249])\n",
            "conved1 shape torch.Size([512, 100, 241])\n",
            "pooled0 shape torch.Size([512, 100])\n",
            "pooled1 shape torch.Size([512, 100])\n",
            "cat shape torch.Size([512, 200])\n",
            "prediction shape torch.Size([512, 2])\n",
            "first embedded shape torch.Size([512, 256, 300])\n",
            "embedded shape torch.Size([512, 1, 256, 300])\n",
            "conved0 shape torch.Size([512, 100, 249])\n",
            "conved1 shape torch.Size([512, 100, 241])\n",
            "pooled0 shape torch.Size([512, 100])\n",
            "pooled1 shape torch.Size([512, 100])\n",
            "cat shape torch.Size([512, 200])\n",
            "prediction shape torch.Size([512, 2])\n"
          ]
        },
        {
          "output_type": "stream",
          "name": "stderr",
          "text": [
            "\n",
            "training...:  90%|█████████ | 36/40 [00:03<00:00, 11.98it/s]\u001b[A"
          ]
        },
        {
          "output_type": "stream",
          "name": "stdout",
          "text": [
            "first embedded shape torch.Size([512, 256, 300])\n",
            "embedded shape torch.Size([512, 1, 256, 300])\n",
            "conved0 shape torch.Size([512, 100, 249])\n",
            "conved1 shape torch.Size([512, 100, 241])\n",
            "pooled0 shape torch.Size([512, 100])\n",
            "pooled1 shape torch.Size([512, 100])\n",
            "cat shape torch.Size([512, 200])\n",
            "prediction shape torch.Size([512, 2])\n",
            "first embedded shape torch.Size([512, 256, 300])\n",
            "embedded shape torch.Size([512, 1, 256, 300])\n",
            "conved0 shape torch.Size([512, 100, 249])\n",
            "conved1 shape torch.Size([512, 100, 241])\n",
            "pooled0 shape torch.Size([512, 100])\n",
            "pooled1 shape torch.Size([512, 100])\n",
            "cat shape torch.Size([512, 200])\n",
            "prediction shape torch.Size([512, 2])\n"
          ]
        },
        {
          "output_type": "stream",
          "name": "stderr",
          "text": [
            "\n",
            "training...:  95%|█████████▌| 38/40 [00:03<00:00, 11.98it/s]\u001b[A"
          ]
        },
        {
          "output_type": "stream",
          "name": "stdout",
          "text": [
            "first embedded shape torch.Size([512, 256, 300])\n",
            "embedded shape torch.Size([512, 1, 256, 300])\n",
            "conved0 shape torch.Size([512, 100, 249])\n",
            "conved1 shape torch.Size([512, 100, 241])\n",
            "pooled0 shape torch.Size([512, 100])\n",
            "pooled1 shape torch.Size([512, 100])\n",
            "cat shape torch.Size([512, 200])\n",
            "prediction shape torch.Size([512, 2])\n"
          ]
        },
        {
          "output_type": "stream",
          "name": "stderr",
          "text": [
            "\rtraining...: 100%|██████████| 40/40 [00:03<00:00, 12.22it/s]\n"
          ]
        },
        {
          "output_type": "stream",
          "name": "stdout",
          "text": [
            "first embedded shape torch.Size([32, 256, 300])\n",
            "embedded shape torch.Size([32, 1, 256, 300])\n",
            "conved0 shape torch.Size([32, 100, 249])\n",
            "conved1 shape torch.Size([32, 100, 241])\n",
            "pooled0 shape torch.Size([32, 100])\n",
            "pooled1 shape torch.Size([32, 100])\n",
            "cat shape torch.Size([32, 200])\n",
            "prediction shape torch.Size([32, 2])\n",
            "first embedded shape torch.Size([512, 256, 300])\n",
            "embedded shape torch.Size([512, 1, 256, 300])\n",
            "conved0 shape torch.Size([512, 100, 249])\n",
            "conved1 shape torch.Size([512, 100, 241])\n",
            "pooled0 shape torch.Size([512, 100])\n",
            "pooled1 shape torch.Size([512, 100])\n",
            "cat shape torch.Size([512, 200])\n",
            "prediction shape torch.Size([512, 2])\n",
            "first embedded shape torch.Size([512, 256, 300])\n",
            "embedded shape torch.Size([512, 1, 256, 300])\n",
            "conved0 shape torch.Size([512, 100, 249])\n",
            "conved1 shape torch.Size([512, 100, 241])\n",
            "pooled0 shape torch.Size([512, 100])\n",
            "pooled1 shape torch.Size([512, 100])\n",
            "cat shape torch.Size([512, 200])\n",
            "prediction shape torch.Size([512, 2])\n",
            "first embedded shape torch.Size([512, 256, 300])\n",
            "embedded shape torch.Size([512, 1, 256, 300])\n",
            "conved0 shape torch.Size([512, 100, 249])\n",
            "conved1 shape torch.Size([512, 100, 241])\n",
            "pooled0 shape torch.Size([512, 100])\n",
            "pooled1 shape torch.Size([512, 100])\n",
            "cat shape torch.Size([512, 200])\n",
            "prediction shape torch.Size([512, 2])\n",
            "first embedded shape torch.Size([512, 256, 300])\n",
            "embedded shape torch.Size([512, 1, 256, 300])\n",
            "conved0 shape torch.Size([512, 100, 249])\n",
            "conved1 shape torch.Size([512, 100, 241])\n",
            "pooled0 shape torch.Size([512, 100])\n",
            "pooled1 shape torch.Size([512, 100])\n",
            "cat shape torch.Size([512, 200])\n",
            "prediction shape torch.Size([512, 2])\n",
            "first embedded shape torch.Size([512, 256, 300])\n",
            "embedded shape torch.Size([512, 1, 256, 300])\n",
            "conved0 shape torch.Size([512, 100, 249])\n",
            "conved1 shape torch.Size([512, 100, 241])\n",
            "pooled0 shape torch.Size([512, 100])\n",
            "pooled1 shape torch.Size([512, 100])\n",
            "cat shape torch.Size([512, 200])\n",
            "prediction shape torch.Size([512, 2])\n",
            "first embedded shape torch.Size([512, 256, 300])\n",
            "embedded shape torch.Size([512, 1, 256, 300])\n",
            "conved0 shape torch.Size([512, 100, 249])\n",
            "conved1 shape torch.Size([512, 100, 241])\n",
            "pooled0 shape torch.Size([512, 100])\n",
            "pooled1 shape torch.Size([512, 100])\n",
            "cat shape torch.Size([512, 200])\n",
            "prediction shape torch.Size([512, 2])\n",
            "first embedded shape torch.Size([512, 256, 300])\n",
            "embedded shape torch.Size([512, 1, 256, 300])\n",
            "conved0 shape torch.Size([512, 100, 249])\n",
            "conved1 shape torch.Size([512, 100, 241])\n",
            "pooled0 shape torch.Size([512, 100])\n",
            "pooled1 shape torch.Size([512, 100])\n",
            "cat shape torch.Size([512, 200])\n",
            "prediction shape torch.Size([512, 2])\n",
            "first embedded shape torch.Size([512, 256, 300])\n",
            "embedded shape torch.Size([512, 1, 256, 300])\n",
            "conved0 shape torch.Size([512, 100, 249])\n",
            "conved1 shape torch.Size([512, 100, 241])\n",
            "pooled0 shape torch.Size([512, 100])\n",
            "pooled1 shape torch.Size([512, 100])\n",
            "cat shape torch.Size([512, 200])\n",
            "prediction shape torch.Size([512, 2])\n",
            "first embedded shape torch.Size([512, 256, 300])\n",
            "embedded shape torch.Size([512, 1, 256, 300])\n",
            "conved0 shape torch.Size([512, 100, 249])\n",
            "conved1 shape torch.Size([512, 100, 241])\n",
            "pooled0 shape torch.Size([512, 100])\n",
            "pooled1 shape torch.Size([512, 100])\n",
            "cat shape torch.Size([512, 200])\n",
            "prediction shape torch.Size([512, 2])\n"
          ]
        },
        {
          "output_type": "stream",
          "name": "stderr",
          "text": [
            "\r 40%|████      | 2/5 [00:07<00:11,  3.79s/it]"
          ]
        },
        {
          "output_type": "stream",
          "name": "stdout",
          "text": [
            "first embedded shape torch.Size([392, 256, 300])\n",
            "embedded shape torch.Size([392, 1, 256, 300])\n",
            "conved0 shape torch.Size([392, 100, 249])\n",
            "conved1 shape torch.Size([392, 100, 241])\n",
            "pooled0 shape torch.Size([392, 100])\n",
            "pooled1 shape torch.Size([392, 100])\n",
            "cat shape torch.Size([392, 200])\n",
            "prediction shape torch.Size([392, 2])\n",
            "epoch: 1\n",
            "train_loss: 0.399, train_acc: 0.827\n",
            "valid_loss: 0.352, valid_acc: 0.847\n"
          ]
        },
        {
          "output_type": "stream",
          "name": "stderr",
          "text": [
            "\n",
            "training...:   0%|          | 0/40 [00:00<?, ?it/s]\u001b[A"
          ]
        },
        {
          "output_type": "stream",
          "name": "stdout",
          "text": [
            "first embedded shape torch.Size([512, 256, 300])\n",
            "embedded shape torch.Size([512, 1, 256, 300])\n",
            "conved0 shape torch.Size([512, 100, 249])\n",
            "conved1 shape torch.Size([512, 100, 241])\n",
            "pooled0 shape torch.Size([512, 100])\n",
            "pooled1 shape torch.Size([512, 100])\n",
            "cat shape torch.Size([512, 200])\n",
            "prediction shape torch.Size([512, 2])\n",
            "first embedded shape torch.Size([512, 256, 300])\n",
            "embedded shape torch.Size([512, 1, 256, 300])\n",
            "conved0 shape torch.Size([512, 100, 249])\n",
            "conved1 shape torch.Size([512, 100, 241])\n",
            "pooled0 shape torch.Size([512, 100])\n",
            "pooled1 shape torch.Size([512, 100])\n",
            "cat shape torch.Size([512, 200])\n",
            "prediction shape torch.Size([512, 2])\n"
          ]
        },
        {
          "output_type": "stream",
          "name": "stderr",
          "text": [
            "\n",
            "training...:   5%|▌         | 2/40 [00:00<00:03, 12.09it/s]\u001b[A"
          ]
        },
        {
          "output_type": "stream",
          "name": "stdout",
          "text": [
            "first embedded shape torch.Size([512, 256, 300])\n",
            "embedded shape torch.Size([512, 1, 256, 300])\n",
            "conved0 shape torch.Size([512, 100, 249])\n",
            "conved1 shape torch.Size([512, 100, 241])\n",
            "pooled0 shape torch.Size([512, 100])\n",
            "pooled1 shape torch.Size([512, 100])\n",
            "cat shape torch.Size([512, 200])\n",
            "prediction shape torch.Size([512, 2])\n"
          ]
        },
        {
          "output_type": "stream",
          "name": "stderr",
          "text": [
            "\n",
            "training...:  10%|█         | 4/40 [00:00<00:03, 11.97it/s]\u001b[A"
          ]
        },
        {
          "output_type": "stream",
          "name": "stdout",
          "text": [
            "first embedded shape torch.Size([512, 256, 300])\n",
            "embedded shape torch.Size([512, 1, 256, 300])\n",
            "conved0 shape torch.Size([512, 100, 249])\n",
            "conved1 shape torch.Size([512, 100, 241])\n",
            "pooled0 shape torch.Size([512, 100])\n",
            "pooled1 shape torch.Size([512, 100])\n",
            "cat shape torch.Size([512, 200])\n",
            "prediction shape torch.Size([512, 2])\n",
            "first embedded shape torch.Size([512, 256, 300])\n",
            "embedded shape torch.Size([512, 1, 256, 300])\n",
            "conved0 shape torch.Size([512, 100, 249])\n",
            "conved1 shape torch.Size([512, 100, 241])\n",
            "pooled0 shape torch.Size([512, 100])\n",
            "pooled1 shape torch.Size([512, 100])\n",
            "cat shape torch.Size([512, 200])\n",
            "prediction shape torch.Size([512, 2])\n",
            "first embedded shape torch.Size([512, 256, 300])\n",
            "embedded shape torch.Size([512, 1, 256, 300])\n",
            "conved0 shape torch.Size([512, 100, 249])\n",
            "conved1 shape torch.Size([512, 100, 241])\n",
            "pooled0 shape torch.Size([512, 100])\n",
            "pooled1 shape torch.Size([512, 100])\n",
            "cat shape torch.Size([512, 200])\n",
            "prediction shape torch.Size([512, 2])\n"
          ]
        },
        {
          "output_type": "stream",
          "name": "stderr",
          "text": [
            "\n",
            "training...:  15%|█▌        | 6/40 [00:00<00:02, 11.99it/s]\u001b[A"
          ]
        },
        {
          "output_type": "stream",
          "name": "stdout",
          "text": [
            "first embedded shape torch.Size([512, 256, 300])\n",
            "embedded shape torch.Size([512, 1, 256, 300])\n",
            "conved0 shape torch.Size([512, 100, 249])\n",
            "conved1 shape torch.Size([512, 100, 241])\n",
            "pooled0 shape torch.Size([512, 100])\n",
            "pooled1 shape torch.Size([512, 100])\n",
            "cat shape torch.Size([512, 200])\n",
            "prediction shape torch.Size([512, 2])\n",
            "first embedded shape torch.Size([512, 256, 300])\n",
            "embedded shape torch.Size([512, 1, 256, 300])\n",
            "conved0 shape torch.Size([512, 100, 249])\n",
            "conved1 shape torch.Size([512, 100, 241])\n",
            "pooled0 shape torch.Size([512, 100])\n",
            "pooled1 shape torch.Size([512, 100])\n",
            "cat shape torch.Size([512, 200])\n",
            "prediction shape torch.Size([512, 2])\n"
          ]
        },
        {
          "output_type": "stream",
          "name": "stderr",
          "text": [
            "\n",
            "training...:  20%|██        | 8/40 [00:00<00:02, 11.95it/s]\u001b[A"
          ]
        },
        {
          "output_type": "stream",
          "name": "stdout",
          "text": [
            "first embedded shape torch.Size([512, 256, 300])\n",
            "embedded shape torch.Size([512, 1, 256, 300])\n",
            "conved0 shape torch.Size([512, 100, 249])\n",
            "conved1 shape torch.Size([512, 100, 241])\n",
            "pooled0 shape torch.Size([512, 100])\n",
            "pooled1 shape torch.Size([512, 100])\n",
            "cat shape torch.Size([512, 200])\n",
            "prediction shape torch.Size([512, 2])\n"
          ]
        },
        {
          "output_type": "stream",
          "name": "stderr",
          "text": [
            "\n",
            "training...:  25%|██▌       | 10/40 [00:00<00:02, 11.92it/s]\u001b[A"
          ]
        },
        {
          "output_type": "stream",
          "name": "stdout",
          "text": [
            "first embedded shape torch.Size([512, 256, 300])\n",
            "embedded shape torch.Size([512, 1, 256, 300])\n",
            "conved0 shape torch.Size([512, 100, 249])\n",
            "conved1 shape torch.Size([512, 100, 241])\n",
            "pooled0 shape torch.Size([512, 100])\n",
            "pooled1 shape torch.Size([512, 100])\n",
            "cat shape torch.Size([512, 200])\n",
            "prediction shape torch.Size([512, 2])\n",
            "first embedded shape torch.Size([512, 256, 300])\n",
            "embedded shape torch.Size([512, 1, 256, 300])\n",
            "conved0 shape torch.Size([512, 100, 249])\n",
            "conved1 shape torch.Size([512, 100, 241])\n",
            "pooled0 shape torch.Size([512, 100])\n",
            "pooled1 shape torch.Size([512, 100])\n",
            "cat shape torch.Size([512, 200])\n",
            "prediction shape torch.Size([512, 2])\n",
            "first embedded shape torch.Size([512, 256, 300])\n",
            "embedded shape torch.Size([512, 1, 256, 300])\n",
            "conved0 shape torch.Size([512, 100, 249])\n",
            "conved1 shape torch.Size([512, 100, 241])\n",
            "pooled0 shape torch.Size([512, 100])\n",
            "pooled1 shape torch.Size([512, 100])\n",
            "cat shape torch.Size([512, 200])\n",
            "prediction shape torch.Size([512, 2])\n"
          ]
        },
        {
          "output_type": "stream",
          "name": "stderr",
          "text": [
            "\n",
            "training...:  30%|███       | 12/40 [00:01<00:02, 11.87it/s]\u001b[A"
          ]
        },
        {
          "output_type": "stream",
          "name": "stdout",
          "text": [
            "first embedded shape torch.Size([512, 256, 300])\n",
            "embedded shape torch.Size([512, 1, 256, 300])\n",
            "conved0 shape torch.Size([512, 100, 249])\n",
            "conved1 shape torch.Size([512, 100, 241])\n",
            "pooled0 shape torch.Size([512, 100])\n",
            "pooled1 shape torch.Size([512, 100])\n",
            "cat shape torch.Size([512, 200])\n",
            "prediction shape torch.Size([512, 2])\n",
            "first embedded shape torch.Size([512, 256, 300])\n",
            "embedded shape torch.Size([512, 1, 256, 300])\n",
            "conved0 shape torch.Size([512, 100, 249])\n",
            "conved1 shape torch.Size([512, 100, 241])\n",
            "pooled0 shape torch.Size([512, 100])\n",
            "pooled1 shape torch.Size([512, 100])\n",
            "cat shape torch.Size([512, 200])\n",
            "prediction shape torch.Size([512, 2])\n"
          ]
        },
        {
          "output_type": "stream",
          "name": "stderr",
          "text": [
            "\n",
            "training...:  35%|███▌      | 14/40 [00:01<00:02, 11.86it/s]\u001b[A"
          ]
        },
        {
          "output_type": "stream",
          "name": "stdout",
          "text": [
            "first embedded shape torch.Size([512, 256, 300])\n",
            "embedded shape torch.Size([512, 1, 256, 300])\n",
            "conved0 shape torch.Size([512, 100, 249])\n",
            "conved1 shape torch.Size([512, 100, 241])\n",
            "pooled0 shape torch.Size([512, 100])\n",
            "pooled1 shape torch.Size([512, 100])\n",
            "cat shape torch.Size([512, 200])\n",
            "prediction shape torch.Size([512, 2])\n"
          ]
        },
        {
          "output_type": "stream",
          "name": "stderr",
          "text": [
            "\n",
            "training...:  40%|████      | 16/40 [00:01<00:02, 11.87it/s]\u001b[A"
          ]
        },
        {
          "output_type": "stream",
          "name": "stdout",
          "text": [
            "first embedded shape torch.Size([512, 256, 300])\n",
            "embedded shape torch.Size([512, 1, 256, 300])\n",
            "conved0 shape torch.Size([512, 100, 249])\n",
            "conved1 shape torch.Size([512, 100, 241])\n",
            "pooled0 shape torch.Size([512, 100])\n",
            "pooled1 shape torch.Size([512, 100])\n",
            "cat shape torch.Size([512, 200])\n",
            "prediction shape torch.Size([512, 2])\n",
            "first embedded shape torch.Size([512, 256, 300])\n",
            "embedded shape torch.Size([512, 1, 256, 300])\n",
            "conved0 shape torch.Size([512, 100, 249])\n",
            "conved1 shape torch.Size([512, 100, 241])\n",
            "pooled0 shape torch.Size([512, 100])\n",
            "pooled1 shape torch.Size([512, 100])\n",
            "cat shape torch.Size([512, 200])\n",
            "prediction shape torch.Size([512, 2])\n",
            "first embedded shape torch.Size([512, 256, 300])\n",
            "embedded shape torch.Size([512, 1, 256, 300])\n",
            "conved0 shape torch.Size([512, 100, 249])\n",
            "conved1 shape torch.Size([512, 100, 241])\n",
            "pooled0 shape torch.Size([512, 100])\n",
            "pooled1 shape torch.Size([512, 100])\n",
            "cat shape torch.Size([512, 200])\n",
            "prediction shape torch.Size([512, 2])\n"
          ]
        },
        {
          "output_type": "stream",
          "name": "stderr",
          "text": [
            "\n",
            "training...:  45%|████▌     | 18/40 [00:01<00:01, 11.85it/s]\u001b[A"
          ]
        },
        {
          "output_type": "stream",
          "name": "stdout",
          "text": [
            "first embedded shape torch.Size([512, 256, 300])\n",
            "embedded shape torch.Size([512, 1, 256, 300])\n",
            "conved0 shape torch.Size([512, 100, 249])\n",
            "conved1 shape torch.Size([512, 100, 241])\n",
            "pooled0 shape torch.Size([512, 100])\n",
            "pooled1 shape torch.Size([512, 100])\n",
            "cat shape torch.Size([512, 200])\n",
            "prediction shape torch.Size([512, 2])\n",
            "first embedded shape torch.Size([512, 256, 300])\n",
            "embedded shape torch.Size([512, 1, 256, 300])\n",
            "conved0 shape torch.Size([512, 100, 249])\n",
            "conved1 shape torch.Size([512, 100, 241])\n",
            "pooled0 shape torch.Size([512, 100])\n",
            "pooled1 shape torch.Size([512, 100])\n",
            "cat shape torch.Size([512, 200])\n",
            "prediction shape torch.Size([512, 2])\n"
          ]
        },
        {
          "output_type": "stream",
          "name": "stderr",
          "text": [
            "\n",
            "training...:  50%|█████     | 20/40 [00:01<00:01, 11.80it/s]\u001b[A"
          ]
        },
        {
          "output_type": "stream",
          "name": "stdout",
          "text": [
            "first embedded shape torch.Size([512, 256, 300])\n",
            "embedded shape torch.Size([512, 1, 256, 300])\n",
            "conved0 shape torch.Size([512, 100, 249])\n",
            "conved1 shape torch.Size([512, 100, 241])\n",
            "pooled0 shape torch.Size([512, 100])\n",
            "pooled1 shape torch.Size([512, 100])\n",
            "cat shape torch.Size([512, 200])\n",
            "prediction shape torch.Size([512, 2])\n"
          ]
        },
        {
          "output_type": "stream",
          "name": "stderr",
          "text": [
            "\n",
            "training...:  55%|█████▌    | 22/40 [00:01<00:01, 11.82it/s]\u001b[A"
          ]
        },
        {
          "output_type": "stream",
          "name": "stdout",
          "text": [
            "first embedded shape torch.Size([512, 256, 300])\n",
            "embedded shape torch.Size([512, 1, 256, 300])\n",
            "conved0 shape torch.Size([512, 100, 249])\n",
            "conved1 shape torch.Size([512, 100, 241])\n",
            "pooled0 shape torch.Size([512, 100])\n",
            "pooled1 shape torch.Size([512, 100])\n",
            "cat shape torch.Size([512, 200])\n",
            "prediction shape torch.Size([512, 2])\n",
            "first embedded shape torch.Size([512, 256, 300])\n",
            "embedded shape torch.Size([512, 1, 256, 300])\n",
            "conved0 shape torch.Size([512, 100, 249])\n",
            "conved1 shape torch.Size([512, 100, 241])\n",
            "pooled0 shape torch.Size([512, 100])\n",
            "pooled1 shape torch.Size([512, 100])\n",
            "cat shape torch.Size([512, 200])\n",
            "prediction shape torch.Size([512, 2])\n",
            "first embedded shape torch.Size([512, 256, 300])\n",
            "embedded shape torch.Size([512, 1, 256, 300])\n",
            "conved0 shape torch.Size([512, 100, 249])\n",
            "conved1 shape torch.Size([512, 100, 241])\n",
            "pooled0 shape torch.Size([512, 100])\n",
            "pooled1 shape torch.Size([512, 100])\n",
            "cat shape torch.Size([512, 200])\n",
            "prediction shape torch.Size([512, 2])\n"
          ]
        },
        {
          "output_type": "stream",
          "name": "stderr",
          "text": [
            "\n",
            "training...:  60%|██████    | 24/40 [00:02<00:01, 11.83it/s]\u001b[A"
          ]
        },
        {
          "output_type": "stream",
          "name": "stdout",
          "text": [
            "first embedded shape torch.Size([512, 256, 300])\n",
            "embedded shape torch.Size([512, 1, 256, 300])\n",
            "conved0 shape torch.Size([512, 100, 249])\n",
            "conved1 shape torch.Size([512, 100, 241])\n",
            "pooled0 shape torch.Size([512, 100])\n",
            "pooled1 shape torch.Size([512, 100])\n",
            "cat shape torch.Size([512, 200])\n",
            "prediction shape torch.Size([512, 2])\n",
            "first embedded shape torch.Size([512, 256, 300])\n",
            "embedded shape torch.Size([512, 1, 256, 300])\n",
            "conved0 shape torch.Size([512, 100, 249])\n",
            "conved1 shape torch.Size([512, 100, 241])\n",
            "pooled0 shape torch.Size([512, 100])\n",
            "pooled1 shape torch.Size([512, 100])\n",
            "cat shape torch.Size([512, 200])\n",
            "prediction shape torch.Size([512, 2])\n"
          ]
        },
        {
          "output_type": "stream",
          "name": "stderr",
          "text": [
            "\n",
            "training...:  65%|██████▌   | 26/40 [00:02<00:01, 11.88it/s]\u001b[A"
          ]
        },
        {
          "output_type": "stream",
          "name": "stdout",
          "text": [
            "first embedded shape torch.Size([512, 256, 300])\n",
            "embedded shape torch.Size([512, 1, 256, 300])\n",
            "conved0 shape torch.Size([512, 100, 249])\n",
            "conved1 shape torch.Size([512, 100, 241])\n",
            "pooled0 shape torch.Size([512, 100])\n",
            "pooled1 shape torch.Size([512, 100])\n",
            "cat shape torch.Size([512, 200])\n",
            "prediction shape torch.Size([512, 2])\n"
          ]
        },
        {
          "output_type": "stream",
          "name": "stderr",
          "text": [
            "\n",
            "training...:  70%|███████   | 28/40 [00:02<00:01, 11.47it/s]\u001b[A"
          ]
        },
        {
          "output_type": "stream",
          "name": "stdout",
          "text": [
            "first embedded shape torch.Size([512, 256, 300])\n",
            "embedded shape torch.Size([512, 1, 256, 300])\n",
            "conved0 shape torch.Size([512, 100, 249])\n",
            "conved1 shape torch.Size([512, 100, 241])\n",
            "pooled0 shape torch.Size([512, 100])\n",
            "pooled1 shape torch.Size([512, 100])\n",
            "cat shape torch.Size([512, 200])\n",
            "prediction shape torch.Size([512, 2])\n",
            "first embedded shape torch.Size([512, 256, 300])\n",
            "embedded shape torch.Size([512, 1, 256, 300])\n",
            "conved0 shape torch.Size([512, 100, 249])\n",
            "conved1 shape torch.Size([512, 100, 241])\n",
            "pooled0 shape torch.Size([512, 100])\n",
            "pooled1 shape torch.Size([512, 100])\n",
            "cat shape torch.Size([512, 200])\n",
            "prediction shape torch.Size([512, 2])\n",
            "first embedded shape torch.Size([512, 256, 300])\n",
            "embedded shape torch.Size([512, 1, 256, 300])\n",
            "conved0 shape torch.Size([512, 100, 249])\n",
            "conved1 shape torch.Size([512, 100, 241])\n",
            "pooled0 shape torch.Size([512, 100])\n",
            "pooled1 shape torch.Size([512, 100])\n",
            "cat shape torch.Size([512, 200])\n",
            "prediction shape torch.Size([512, 2])\n"
          ]
        },
        {
          "output_type": "stream",
          "name": "stderr",
          "text": [
            "\n",
            "training...:  75%|███████▌  | 30/40 [00:02<00:00, 11.20it/s]\u001b[A"
          ]
        },
        {
          "output_type": "stream",
          "name": "stdout",
          "text": [
            "first embedded shape torch.Size([512, 256, 300])\n",
            "embedded shape torch.Size([512, 1, 256, 300])\n",
            "conved0 shape torch.Size([512, 100, 249])\n",
            "conved1 shape torch.Size([512, 100, 241])\n",
            "pooled0 shape torch.Size([512, 100])\n",
            "pooled1 shape torch.Size([512, 100])\n",
            "cat shape torch.Size([512, 200])\n",
            "prediction shape torch.Size([512, 2])\n",
            "first embedded shape torch.Size([512, 256, 300])\n",
            "embedded shape torch.Size([512, 1, 256, 300])\n",
            "conved0 shape torch.Size([512, 100, 249])\n",
            "conved1 shape torch.Size([512, 100, 241])\n",
            "pooled0 shape torch.Size([512, 100])\n",
            "pooled1 shape torch.Size([512, 100])\n",
            "cat shape torch.Size([512, 200])\n",
            "prediction shape torch.Size([512, 2])\n"
          ]
        },
        {
          "output_type": "stream",
          "name": "stderr",
          "text": [
            "\n",
            "training...:  80%|████████  | 32/40 [00:02<00:00, 11.37it/s]\u001b[A"
          ]
        },
        {
          "output_type": "stream",
          "name": "stdout",
          "text": [
            "first embedded shape torch.Size([512, 256, 300])\n",
            "embedded shape torch.Size([512, 1, 256, 300])\n",
            "conved0 shape torch.Size([512, 100, 249])\n",
            "conved1 shape torch.Size([512, 100, 241])\n",
            "pooled0 shape torch.Size([512, 100])\n",
            "pooled1 shape torch.Size([512, 100])\n",
            "cat shape torch.Size([512, 200])\n",
            "prediction shape torch.Size([512, 2])\n"
          ]
        },
        {
          "output_type": "stream",
          "name": "stderr",
          "text": [
            "\n",
            "training...:  85%|████████▌ | 34/40 [00:02<00:00, 11.50it/s]\u001b[A"
          ]
        },
        {
          "output_type": "stream",
          "name": "stdout",
          "text": [
            "first embedded shape torch.Size([512, 256, 300])\n",
            "embedded shape torch.Size([512, 1, 256, 300])\n",
            "conved0 shape torch.Size([512, 100, 249])\n",
            "conved1 shape torch.Size([512, 100, 241])\n",
            "pooled0 shape torch.Size([512, 100])\n",
            "pooled1 shape torch.Size([512, 100])\n",
            "cat shape torch.Size([512, 200])\n",
            "prediction shape torch.Size([512, 2])\n",
            "first embedded shape torch.Size([512, 256, 300])\n",
            "embedded shape torch.Size([512, 1, 256, 300])\n",
            "conved0 shape torch.Size([512, 100, 249])\n",
            "conved1 shape torch.Size([512, 100, 241])\n",
            "pooled0 shape torch.Size([512, 100])\n",
            "pooled1 shape torch.Size([512, 100])\n",
            "cat shape torch.Size([512, 200])\n",
            "prediction shape torch.Size([512, 2])\n",
            "first embedded shape torch.Size([512, 256, 300])\n",
            "embedded shape torch.Size([512, 1, 256, 300])\n",
            "conved0 shape torch.Size([512, 100, 249])\n",
            "conved1 shape torch.Size([512, 100, 241])\n",
            "pooled0 shape torch.Size([512, 100])\n",
            "pooled1 shape torch.Size([512, 100])\n",
            "cat shape torch.Size([512, 200])\n",
            "prediction shape torch.Size([512, 2])\n"
          ]
        },
        {
          "output_type": "stream",
          "name": "stderr",
          "text": [
            "\n",
            "training...:  90%|█████████ | 36/40 [00:03<00:00, 11.63it/s]\u001b[A"
          ]
        },
        {
          "output_type": "stream",
          "name": "stdout",
          "text": [
            "first embedded shape torch.Size([512, 256, 300])\n",
            "embedded shape torch.Size([512, 1, 256, 300])\n",
            "conved0 shape torch.Size([512, 100, 249])\n",
            "conved1 shape torch.Size([512, 100, 241])\n",
            "pooled0 shape torch.Size([512, 100])\n",
            "pooled1 shape torch.Size([512, 100])\n",
            "cat shape torch.Size([512, 200])\n",
            "prediction shape torch.Size([512, 2])\n",
            "first embedded shape torch.Size([512, 256, 300])\n",
            "embedded shape torch.Size([512, 1, 256, 300])\n",
            "conved0 shape torch.Size([512, 100, 249])\n",
            "conved1 shape torch.Size([512, 100, 241])\n",
            "pooled0 shape torch.Size([512, 100])\n",
            "pooled1 shape torch.Size([512, 100])\n",
            "cat shape torch.Size([512, 200])\n",
            "prediction shape torch.Size([512, 2])\n"
          ]
        },
        {
          "output_type": "stream",
          "name": "stderr",
          "text": [
            "\n",
            "training...:  95%|█████████▌| 38/40 [00:03<00:00, 11.68it/s]\u001b[A"
          ]
        },
        {
          "output_type": "stream",
          "name": "stdout",
          "text": [
            "first embedded shape torch.Size([512, 256, 300])\n",
            "embedded shape torch.Size([512, 1, 256, 300])\n",
            "conved0 shape torch.Size([512, 100, 249])\n",
            "conved1 shape torch.Size([512, 100, 241])\n",
            "pooled0 shape torch.Size([512, 100])\n",
            "pooled1 shape torch.Size([512, 100])\n",
            "cat shape torch.Size([512, 200])\n",
            "prediction shape torch.Size([512, 2])\n"
          ]
        },
        {
          "output_type": "stream",
          "name": "stderr",
          "text": [
            "\rtraining...: 100%|██████████| 40/40 [00:03<00:00, 11.98it/s]\n"
          ]
        },
        {
          "output_type": "stream",
          "name": "stdout",
          "text": [
            "first embedded shape torch.Size([32, 256, 300])\n",
            "embedded shape torch.Size([32, 1, 256, 300])\n",
            "conved0 shape torch.Size([32, 100, 249])\n",
            "conved1 shape torch.Size([32, 100, 241])\n",
            "pooled0 shape torch.Size([32, 100])\n",
            "pooled1 shape torch.Size([32, 100])\n",
            "cat shape torch.Size([32, 200])\n",
            "prediction shape torch.Size([32, 2])\n",
            "first embedded shape torch.Size([512, 256, 300])\n",
            "embedded shape torch.Size([512, 1, 256, 300])\n",
            "conved0 shape torch.Size([512, 100, 249])\n",
            "conved1 shape torch.Size([512, 100, 241])\n",
            "pooled0 shape torch.Size([512, 100])\n",
            "pooled1 shape torch.Size([512, 100])\n",
            "cat shape torch.Size([512, 200])\n",
            "prediction shape torch.Size([512, 2])\n",
            "first embedded shape torch.Size([512, 256, 300])\n",
            "embedded shape torch.Size([512, 1, 256, 300])\n",
            "conved0 shape torch.Size([512, 100, 249])\n",
            "conved1 shape torch.Size([512, 100, 241])\n",
            "pooled0 shape torch.Size([512, 100])\n",
            "pooled1 shape torch.Size([512, 100])\n",
            "cat shape torch.Size([512, 200])\n",
            "prediction shape torch.Size([512, 2])\n",
            "first embedded shape torch.Size([512, 256, 300])\n",
            "embedded shape torch.Size([512, 1, 256, 300])\n",
            "conved0 shape torch.Size([512, 100, 249])\n",
            "conved1 shape torch.Size([512, 100, 241])\n",
            "pooled0 shape torch.Size([512, 100])\n",
            "pooled1 shape torch.Size([512, 100])\n",
            "cat shape torch.Size([512, 200])\n",
            "prediction shape torch.Size([512, 2])\n",
            "first embedded shape torch.Size([512, 256, 300])\n",
            "embedded shape torch.Size([512, 1, 256, 300])\n",
            "conved0 shape torch.Size([512, 100, 249])\n",
            "conved1 shape torch.Size([512, 100, 241])\n",
            "pooled0 shape torch.Size([512, 100])\n",
            "pooled1 shape torch.Size([512, 100])\n",
            "cat shape torch.Size([512, 200])\n",
            "prediction shape torch.Size([512, 2])\n",
            "first embedded shape torch.Size([512, 256, 300])\n",
            "embedded shape torch.Size([512, 1, 256, 300])\n",
            "conved0 shape torch.Size([512, 100, 249])\n",
            "conved1 shape torch.Size([512, 100, 241])\n",
            "pooled0 shape torch.Size([512, 100])\n",
            "pooled1 shape torch.Size([512, 100])\n",
            "cat shape torch.Size([512, 200])\n",
            "prediction shape torch.Size([512, 2])\n",
            "first embedded shape torch.Size([512, 256, 300])\n",
            "embedded shape torch.Size([512, 1, 256, 300])\n",
            "conved0 shape torch.Size([512, 100, 249])\n",
            "conved1 shape torch.Size([512, 100, 241])\n",
            "pooled0 shape torch.Size([512, 100])\n",
            "pooled1 shape torch.Size([512, 100])\n",
            "cat shape torch.Size([512, 200])\n",
            "prediction shape torch.Size([512, 2])\n",
            "first embedded shape torch.Size([512, 256, 300])\n",
            "embedded shape torch.Size([512, 1, 256, 300])\n",
            "conved0 shape torch.Size([512, 100, 249])\n",
            "conved1 shape torch.Size([512, 100, 241])\n",
            "pooled0 shape torch.Size([512, 100])\n",
            "pooled1 shape torch.Size([512, 100])\n",
            "cat shape torch.Size([512, 200])\n",
            "prediction shape torch.Size([512, 2])\n",
            "first embedded shape torch.Size([512, 256, 300])\n",
            "embedded shape torch.Size([512, 1, 256, 300])\n",
            "conved0 shape torch.Size([512, 100, 249])\n",
            "conved1 shape torch.Size([512, 100, 241])\n",
            "pooled0 shape torch.Size([512, 100])\n",
            "pooled1 shape torch.Size([512, 100])\n",
            "cat shape torch.Size([512, 200])\n",
            "prediction shape torch.Size([512, 2])\n",
            "first embedded shape torch.Size([512, 256, 300])\n",
            "embedded shape torch.Size([512, 1, 256, 300])\n",
            "conved0 shape torch.Size([512, 100, 249])\n",
            "conved1 shape torch.Size([512, 100, 241])\n",
            "pooled0 shape torch.Size([512, 100])\n",
            "pooled1 shape torch.Size([512, 100])\n",
            "cat shape torch.Size([512, 200])\n",
            "prediction shape torch.Size([512, 2])\n"
          ]
        },
        {
          "output_type": "stream",
          "name": "stderr",
          "text": [
            "\r 60%|██████    | 3/5 [00:11<00:07,  3.81s/it]"
          ]
        },
        {
          "output_type": "stream",
          "name": "stdout",
          "text": [
            "first embedded shape torch.Size([392, 256, 300])\n",
            "embedded shape torch.Size([392, 1, 256, 300])\n",
            "conved0 shape torch.Size([392, 100, 249])\n",
            "conved1 shape torch.Size([392, 100, 241])\n",
            "pooled0 shape torch.Size([392, 100])\n",
            "pooled1 shape torch.Size([392, 100])\n",
            "cat shape torch.Size([392, 200])\n",
            "prediction shape torch.Size([392, 2])\n",
            "epoch: 2\n",
            "train_loss: 0.298, train_acc: 0.877\n",
            "valid_loss: 0.301, valid_acc: 0.872\n"
          ]
        },
        {
          "output_type": "stream",
          "name": "stderr",
          "text": [
            "\n",
            "training...:   0%|          | 0/40 [00:00<?, ?it/s]\u001b[A"
          ]
        },
        {
          "output_type": "stream",
          "name": "stdout",
          "text": [
            "first embedded shape torch.Size([512, 256, 300])\n",
            "embedded shape torch.Size([512, 1, 256, 300])\n",
            "conved0 shape torch.Size([512, 100, 249])\n",
            "conved1 shape torch.Size([512, 100, 241])\n",
            "pooled0 shape torch.Size([512, 100])\n",
            "pooled1 shape torch.Size([512, 100])\n",
            "cat shape torch.Size([512, 200])\n",
            "prediction shape torch.Size([512, 2])\n",
            "first embedded shape torch.Size([512, 256, 300])\n",
            "embedded shape torch.Size([512, 1, 256, 300])\n",
            "conved0 shape torch.Size([512, 100, 249])\n",
            "conved1 shape torch.Size([512, 100, 241])\n",
            "pooled0 shape torch.Size([512, 100])\n",
            "pooled1 shape torch.Size([512, 100])\n",
            "cat shape torch.Size([512, 200])\n",
            "prediction shape torch.Size([512, 2])\n"
          ]
        },
        {
          "output_type": "stream",
          "name": "stderr",
          "text": [
            "\n",
            "training...:   5%|▌         | 2/40 [00:00<00:03, 12.04it/s]\u001b[A"
          ]
        },
        {
          "output_type": "stream",
          "name": "stdout",
          "text": [
            "first embedded shape torch.Size([512, 256, 300])\n",
            "embedded shape torch.Size([512, 1, 256, 300])\n",
            "conved0 shape torch.Size([512, 100, 249])\n",
            "conved1 shape torch.Size([512, 100, 241])\n",
            "pooled0 shape torch.Size([512, 100])\n",
            "pooled1 shape torch.Size([512, 100])\n",
            "cat shape torch.Size([512, 200])\n",
            "prediction shape torch.Size([512, 2])\n"
          ]
        },
        {
          "output_type": "stream",
          "name": "stderr",
          "text": [
            "\n",
            "training...:  10%|█         | 4/40 [00:00<00:03, 11.99it/s]\u001b[A"
          ]
        },
        {
          "output_type": "stream",
          "name": "stdout",
          "text": [
            "first embedded shape torch.Size([512, 256, 300])\n",
            "embedded shape torch.Size([512, 1, 256, 300])\n",
            "conved0 shape torch.Size([512, 100, 249])\n",
            "conved1 shape torch.Size([512, 100, 241])\n",
            "pooled0 shape torch.Size([512, 100])\n",
            "pooled1 shape torch.Size([512, 100])\n",
            "cat shape torch.Size([512, 200])\n",
            "prediction shape torch.Size([512, 2])\n",
            "first embedded shape torch.Size([512, 256, 300])\n",
            "embedded shape torch.Size([512, 1, 256, 300])\n",
            "conved0 shape torch.Size([512, 100, 249])\n",
            "conved1 shape torch.Size([512, 100, 241])\n",
            "pooled0 shape torch.Size([512, 100])\n",
            "pooled1 shape torch.Size([512, 100])\n",
            "cat shape torch.Size([512, 200])\n",
            "prediction shape torch.Size([512, 2])\n",
            "first embedded shape torch.Size([512, 256, 300])\n",
            "embedded shape torch.Size([512, 1, 256, 300])\n",
            "conved0 shape torch.Size([512, 100, 249])\n",
            "conved1 shape torch.Size([512, 100, 241])\n",
            "pooled0 shape torch.Size([512, 100])\n",
            "pooled1 shape torch.Size([512, 100])\n",
            "cat shape torch.Size([512, 200])\n",
            "prediction shape torch.Size([512, 2])\n"
          ]
        },
        {
          "output_type": "stream",
          "name": "stderr",
          "text": [
            "\n",
            "training...:  15%|█▌        | 6/40 [00:00<00:02, 11.99it/s]\u001b[A"
          ]
        },
        {
          "output_type": "stream",
          "name": "stdout",
          "text": [
            "first embedded shape torch.Size([512, 256, 300])\n",
            "embedded shape torch.Size([512, 1, 256, 300])\n",
            "conved0 shape torch.Size([512, 100, 249])\n",
            "conved1 shape torch.Size([512, 100, 241])\n",
            "pooled0 shape torch.Size([512, 100])\n",
            "pooled1 shape torch.Size([512, 100])\n",
            "cat shape torch.Size([512, 200])\n",
            "prediction shape torch.Size([512, 2])\n",
            "first embedded shape torch.Size([512, 256, 300])\n",
            "embedded shape torch.Size([512, 1, 256, 300])\n",
            "conved0 shape torch.Size([512, 100, 249])\n",
            "conved1 shape torch.Size([512, 100, 241])\n",
            "pooled0 shape torch.Size([512, 100])\n",
            "pooled1 shape torch.Size([512, 100])\n",
            "cat shape torch.Size([512, 200])\n",
            "prediction shape torch.Size([512, 2])\n"
          ]
        },
        {
          "output_type": "stream",
          "name": "stderr",
          "text": [
            "\n",
            "training...:  20%|██        | 8/40 [00:00<00:02, 12.00it/s]\u001b[A"
          ]
        },
        {
          "output_type": "stream",
          "name": "stdout",
          "text": [
            "first embedded shape torch.Size([512, 256, 300])\n",
            "embedded shape torch.Size([512, 1, 256, 300])\n",
            "conved0 shape torch.Size([512, 100, 249])\n",
            "conved1 shape torch.Size([512, 100, 241])\n",
            "pooled0 shape torch.Size([512, 100])\n",
            "pooled1 shape torch.Size([512, 100])\n",
            "cat shape torch.Size([512, 200])\n",
            "prediction shape torch.Size([512, 2])\n"
          ]
        },
        {
          "output_type": "stream",
          "name": "stderr",
          "text": [
            "\n",
            "training...:  25%|██▌       | 10/40 [00:00<00:02, 11.93it/s]\u001b[A"
          ]
        },
        {
          "output_type": "stream",
          "name": "stdout",
          "text": [
            "first embedded shape torch.Size([512, 256, 300])\n",
            "embedded shape torch.Size([512, 1, 256, 300])\n",
            "conved0 shape torch.Size([512, 100, 249])\n",
            "conved1 shape torch.Size([512, 100, 241])\n",
            "pooled0 shape torch.Size([512, 100])\n",
            "pooled1 shape torch.Size([512, 100])\n",
            "cat shape torch.Size([512, 200])\n",
            "prediction shape torch.Size([512, 2])\n",
            "first embedded shape torch.Size([512, 256, 300])\n",
            "embedded shape torch.Size([512, 1, 256, 300])\n",
            "conved0 shape torch.Size([512, 100, 249])\n",
            "conved1 shape torch.Size([512, 100, 241])\n",
            "pooled0 shape torch.Size([512, 100])\n",
            "pooled1 shape torch.Size([512, 100])\n",
            "cat shape torch.Size([512, 200])\n",
            "prediction shape torch.Size([512, 2])\n",
            "first embedded shape torch.Size([512, 256, 300])\n",
            "embedded shape torch.Size([512, 1, 256, 300])\n",
            "conved0 shape torch.Size([512, 100, 249])\n",
            "conved1 shape torch.Size([512, 100, 241])\n",
            "pooled0 shape torch.Size([512, 100])\n",
            "pooled1 shape torch.Size([512, 100])\n",
            "cat shape torch.Size([512, 200])\n",
            "prediction shape torch.Size([512, 2])\n"
          ]
        },
        {
          "output_type": "stream",
          "name": "stderr",
          "text": [
            "\n",
            "training...:  30%|███       | 12/40 [00:01<00:02, 11.87it/s]\u001b[A"
          ]
        },
        {
          "output_type": "stream",
          "name": "stdout",
          "text": [
            "first embedded shape torch.Size([512, 256, 300])\n",
            "embedded shape torch.Size([512, 1, 256, 300])\n",
            "conved0 shape torch.Size([512, 100, 249])\n",
            "conved1 shape torch.Size([512, 100, 241])\n",
            "pooled0 shape torch.Size([512, 100])\n",
            "pooled1 shape torch.Size([512, 100])\n",
            "cat shape torch.Size([512, 200])\n",
            "prediction shape torch.Size([512, 2])\n",
            "first embedded shape torch.Size([512, 256, 300])\n",
            "embedded shape torch.Size([512, 1, 256, 300])\n",
            "conved0 shape torch.Size([512, 100, 249])\n",
            "conved1 shape torch.Size([512, 100, 241])\n",
            "pooled0 shape torch.Size([512, 100])\n",
            "pooled1 shape torch.Size([512, 100])\n",
            "cat shape torch.Size([512, 200])\n",
            "prediction shape torch.Size([512, 2])\n"
          ]
        },
        {
          "output_type": "stream",
          "name": "stderr",
          "text": [
            "\n",
            "training...:  35%|███▌      | 14/40 [00:01<00:02, 11.90it/s]\u001b[A"
          ]
        },
        {
          "output_type": "stream",
          "name": "stdout",
          "text": [
            "first embedded shape torch.Size([512, 256, 300])\n",
            "embedded shape torch.Size([512, 1, 256, 300])\n",
            "conved0 shape torch.Size([512, 100, 249])\n",
            "conved1 shape torch.Size([512, 100, 241])\n",
            "pooled0 shape torch.Size([512, 100])\n",
            "pooled1 shape torch.Size([512, 100])\n",
            "cat shape torch.Size([512, 200])\n",
            "prediction shape torch.Size([512, 2])\n"
          ]
        },
        {
          "output_type": "stream",
          "name": "stderr",
          "text": [
            "\n",
            "training...:  40%|████      | 16/40 [00:01<00:02, 11.90it/s]\u001b[A"
          ]
        },
        {
          "output_type": "stream",
          "name": "stdout",
          "text": [
            "first embedded shape torch.Size([512, 256, 300])\n",
            "embedded shape torch.Size([512, 1, 256, 300])\n",
            "conved0 shape torch.Size([512, 100, 249])\n",
            "conved1 shape torch.Size([512, 100, 241])\n",
            "pooled0 shape torch.Size([512, 100])\n",
            "pooled1 shape torch.Size([512, 100])\n",
            "cat shape torch.Size([512, 200])\n",
            "prediction shape torch.Size([512, 2])\n",
            "first embedded shape torch.Size([512, 256, 300])\n",
            "embedded shape torch.Size([512, 1, 256, 300])\n",
            "conved0 shape torch.Size([512, 100, 249])\n",
            "conved1 shape torch.Size([512, 100, 241])\n",
            "pooled0 shape torch.Size([512, 100])\n",
            "pooled1 shape torch.Size([512, 100])\n",
            "cat shape torch.Size([512, 200])\n",
            "prediction shape torch.Size([512, 2])\n",
            "first embedded shape torch.Size([512, 256, 300])\n",
            "embedded shape torch.Size([512, 1, 256, 300])\n",
            "conved0 shape torch.Size([512, 100, 249])\n",
            "conved1 shape torch.Size([512, 100, 241])\n",
            "pooled0 shape torch.Size([512, 100])\n",
            "pooled1 shape torch.Size([512, 100])\n",
            "cat shape torch.Size([512, 200])\n",
            "prediction shape torch.Size([512, 2])\n"
          ]
        },
        {
          "output_type": "stream",
          "name": "stderr",
          "text": [
            "\n",
            "training...:  45%|████▌     | 18/40 [00:01<00:01, 11.86it/s]\u001b[A"
          ]
        },
        {
          "output_type": "stream",
          "name": "stdout",
          "text": [
            "first embedded shape torch.Size([512, 256, 300])\n",
            "embedded shape torch.Size([512, 1, 256, 300])\n",
            "conved0 shape torch.Size([512, 100, 249])\n",
            "conved1 shape torch.Size([512, 100, 241])\n",
            "pooled0 shape torch.Size([512, 100])\n",
            "pooled1 shape torch.Size([512, 100])\n",
            "cat shape torch.Size([512, 200])\n",
            "prediction shape torch.Size([512, 2])\n",
            "first embedded shape torch.Size([512, 256, 300])\n",
            "embedded shape torch.Size([512, 1, 256, 300])\n",
            "conved0 shape torch.Size([512, 100, 249])\n",
            "conved1 shape torch.Size([512, 100, 241])\n",
            "pooled0 shape torch.Size([512, 100])\n",
            "pooled1 shape torch.Size([512, 100])\n",
            "cat shape torch.Size([512, 200])\n",
            "prediction shape torch.Size([512, 2])\n"
          ]
        },
        {
          "output_type": "stream",
          "name": "stderr",
          "text": [
            "\n",
            "training...:  50%|█████     | 20/40 [00:01<00:01, 11.83it/s]\u001b[A"
          ]
        },
        {
          "output_type": "stream",
          "name": "stdout",
          "text": [
            "first embedded shape torch.Size([512, 256, 300])\n",
            "embedded shape torch.Size([512, 1, 256, 300])\n",
            "conved0 shape torch.Size([512, 100, 249])\n",
            "conved1 shape torch.Size([512, 100, 241])\n",
            "pooled0 shape torch.Size([512, 100])\n",
            "pooled1 shape torch.Size([512, 100])\n",
            "cat shape torch.Size([512, 200])\n",
            "prediction shape torch.Size([512, 2])\n"
          ]
        },
        {
          "output_type": "stream",
          "name": "stderr",
          "text": [
            "\n",
            "training...:  55%|█████▌    | 22/40 [00:01<00:01, 11.85it/s]\u001b[A"
          ]
        },
        {
          "output_type": "stream",
          "name": "stdout",
          "text": [
            "first embedded shape torch.Size([512, 256, 300])\n",
            "embedded shape torch.Size([512, 1, 256, 300])\n",
            "conved0 shape torch.Size([512, 100, 249])\n",
            "conved1 shape torch.Size([512, 100, 241])\n",
            "pooled0 shape torch.Size([512, 100])\n",
            "pooled1 shape torch.Size([512, 100])\n",
            "cat shape torch.Size([512, 200])\n",
            "prediction shape torch.Size([512, 2])\n",
            "first embedded shape torch.Size([512, 256, 300])\n",
            "embedded shape torch.Size([512, 1, 256, 300])\n",
            "conved0 shape torch.Size([512, 100, 249])\n",
            "conved1 shape torch.Size([512, 100, 241])\n",
            "pooled0 shape torch.Size([512, 100])\n",
            "pooled1 shape torch.Size([512, 100])\n",
            "cat shape torch.Size([512, 200])\n",
            "prediction shape torch.Size([512, 2])\n",
            "first embedded shape torch.Size([512, 256, 300])\n",
            "embedded shape torch.Size([512, 1, 256, 300])\n",
            "conved0 shape torch.Size([512, 100, 249])\n",
            "conved1 shape torch.Size([512, 100, 241])\n",
            "pooled0 shape torch.Size([512, 100])\n",
            "pooled1 shape torch.Size([512, 100])\n",
            "cat shape torch.Size([512, 200])\n",
            "prediction shape torch.Size([512, 2])\n"
          ]
        },
        {
          "output_type": "stream",
          "name": "stderr",
          "text": [
            "\n",
            "training...:  60%|██████    | 24/40 [00:02<00:01, 11.86it/s]\u001b[A"
          ]
        },
        {
          "output_type": "stream",
          "name": "stdout",
          "text": [
            "first embedded shape torch.Size([512, 256, 300])\n",
            "embedded shape torch.Size([512, 1, 256, 300])\n",
            "conved0 shape torch.Size([512, 100, 249])\n",
            "conved1 shape torch.Size([512, 100, 241])\n",
            "pooled0 shape torch.Size([512, 100])\n",
            "pooled1 shape torch.Size([512, 100])\n",
            "cat shape torch.Size([512, 200])\n",
            "prediction shape torch.Size([512, 2])\n",
            "first embedded shape torch.Size([512, 256, 300])\n",
            "embedded shape torch.Size([512, 1, 256, 300])\n",
            "conved0 shape torch.Size([512, 100, 249])\n",
            "conved1 shape torch.Size([512, 100, 241])\n",
            "pooled0 shape torch.Size([512, 100])\n",
            "pooled1 shape torch.Size([512, 100])\n",
            "cat shape torch.Size([512, 200])\n",
            "prediction shape torch.Size([512, 2])\n"
          ]
        },
        {
          "output_type": "stream",
          "name": "stderr",
          "text": [
            "\n",
            "training...:  65%|██████▌   | 26/40 [00:02<00:01, 11.88it/s]\u001b[A"
          ]
        },
        {
          "output_type": "stream",
          "name": "stdout",
          "text": [
            "first embedded shape torch.Size([512, 256, 300])\n",
            "embedded shape torch.Size([512, 1, 256, 300])\n",
            "conved0 shape torch.Size([512, 100, 249])\n",
            "conved1 shape torch.Size([512, 100, 241])\n",
            "pooled0 shape torch.Size([512, 100])\n",
            "pooled1 shape torch.Size([512, 100])\n",
            "cat shape torch.Size([512, 200])\n",
            "prediction shape torch.Size([512, 2])\n"
          ]
        },
        {
          "output_type": "stream",
          "name": "stderr",
          "text": [
            "\n",
            "training...:  70%|███████   | 28/40 [00:02<00:01, 11.90it/s]\u001b[A"
          ]
        },
        {
          "output_type": "stream",
          "name": "stdout",
          "text": [
            "first embedded shape torch.Size([512, 256, 300])\n",
            "embedded shape torch.Size([512, 1, 256, 300])\n",
            "conved0 shape torch.Size([512, 100, 249])\n",
            "conved1 shape torch.Size([512, 100, 241])\n",
            "pooled0 shape torch.Size([512, 100])\n",
            "pooled1 shape torch.Size([512, 100])\n",
            "cat shape torch.Size([512, 200])\n",
            "prediction shape torch.Size([512, 2])\n",
            "first embedded shape torch.Size([512, 256, 300])\n",
            "embedded shape torch.Size([512, 1, 256, 300])\n",
            "conved0 shape torch.Size([512, 100, 249])\n",
            "conved1 shape torch.Size([512, 100, 241])\n",
            "pooled0 shape torch.Size([512, 100])\n",
            "pooled1 shape torch.Size([512, 100])\n",
            "cat shape torch.Size([512, 200])\n",
            "prediction shape torch.Size([512, 2])\n",
            "first embedded shape torch.Size([512, 256, 300])\n",
            "embedded shape torch.Size([512, 1, 256, 300])\n",
            "conved0 shape torch.Size([512, 100, 249])\n",
            "conved1 shape torch.Size([512, 100, 241])\n",
            "pooled0 shape torch.Size([512, 100])\n",
            "pooled1 shape torch.Size([512, 100])\n",
            "cat shape torch.Size([512, 200])\n",
            "prediction shape torch.Size([512, 2])\n"
          ]
        },
        {
          "output_type": "stream",
          "name": "stderr",
          "text": [
            "\n",
            "training...:  75%|███████▌  | 30/40 [00:02<00:00, 11.94it/s]\u001b[A"
          ]
        },
        {
          "output_type": "stream",
          "name": "stdout",
          "text": [
            "first embedded shape torch.Size([512, 256, 300])\n",
            "embedded shape torch.Size([512, 1, 256, 300])\n",
            "conved0 shape torch.Size([512, 100, 249])\n",
            "conved1 shape torch.Size([512, 100, 241])\n",
            "pooled0 shape torch.Size([512, 100])\n",
            "pooled1 shape torch.Size([512, 100])\n",
            "cat shape torch.Size([512, 200])\n",
            "prediction shape torch.Size([512, 2])\n",
            "first embedded shape torch.Size([512, 256, 300])\n",
            "embedded shape torch.Size([512, 1, 256, 300])\n",
            "conved0 shape torch.Size([512, 100, 249])\n",
            "conved1 shape torch.Size([512, 100, 241])\n",
            "pooled0 shape torch.Size([512, 100])\n",
            "pooled1 shape torch.Size([512, 100])\n",
            "cat shape torch.Size([512, 200])\n",
            "prediction shape torch.Size([512, 2])\n"
          ]
        },
        {
          "output_type": "stream",
          "name": "stderr",
          "text": [
            "\n",
            "training...:  80%|████████  | 32/40 [00:02<00:00, 11.91it/s]\u001b[A"
          ]
        },
        {
          "output_type": "stream",
          "name": "stdout",
          "text": [
            "first embedded shape torch.Size([512, 256, 300])\n",
            "embedded shape torch.Size([512, 1, 256, 300])\n",
            "conved0 shape torch.Size([512, 100, 249])\n",
            "conved1 shape torch.Size([512, 100, 241])\n",
            "pooled0 shape torch.Size([512, 100])\n",
            "pooled1 shape torch.Size([512, 100])\n",
            "cat shape torch.Size([512, 200])\n",
            "prediction shape torch.Size([512, 2])\n"
          ]
        },
        {
          "output_type": "stream",
          "name": "stderr",
          "text": [
            "\n",
            "training...:  85%|████████▌ | 34/40 [00:02<00:00, 11.89it/s]\u001b[A"
          ]
        },
        {
          "output_type": "stream",
          "name": "stdout",
          "text": [
            "first embedded shape torch.Size([512, 256, 300])\n",
            "embedded shape torch.Size([512, 1, 256, 300])\n",
            "conved0 shape torch.Size([512, 100, 249])\n",
            "conved1 shape torch.Size([512, 100, 241])\n",
            "pooled0 shape torch.Size([512, 100])\n",
            "pooled1 shape torch.Size([512, 100])\n",
            "cat shape torch.Size([512, 200])\n",
            "prediction shape torch.Size([512, 2])\n",
            "first embedded shape torch.Size([512, 256, 300])\n",
            "embedded shape torch.Size([512, 1, 256, 300])\n",
            "conved0 shape torch.Size([512, 100, 249])\n",
            "conved1 shape torch.Size([512, 100, 241])\n",
            "pooled0 shape torch.Size([512, 100])\n",
            "pooled1 shape torch.Size([512, 100])\n",
            "cat shape torch.Size([512, 200])\n",
            "prediction shape torch.Size([512, 2])\n",
            "first embedded shape torch.Size([512, 256, 300])\n",
            "embedded shape torch.Size([512, 1, 256, 300])\n",
            "conved0 shape torch.Size([512, 100, 249])\n",
            "conved1 shape torch.Size([512, 100, 241])\n",
            "pooled0 shape torch.Size([512, 100])\n",
            "pooled1 shape torch.Size([512, 100])\n",
            "cat shape torch.Size([512, 200])\n",
            "prediction shape torch.Size([512, 2])\n"
          ]
        },
        {
          "output_type": "stream",
          "name": "stderr",
          "text": [
            "\n",
            "training...:  90%|█████████ | 36/40 [00:03<00:00, 11.86it/s]\u001b[A"
          ]
        },
        {
          "output_type": "stream",
          "name": "stdout",
          "text": [
            "first embedded shape torch.Size([512, 256, 300])\n",
            "embedded shape torch.Size([512, 1, 256, 300])\n",
            "conved0 shape torch.Size([512, 100, 249])\n",
            "conved1 shape torch.Size([512, 100, 241])\n",
            "pooled0 shape torch.Size([512, 100])\n",
            "pooled1 shape torch.Size([512, 100])\n",
            "cat shape torch.Size([512, 200])\n",
            "prediction shape torch.Size([512, 2])\n",
            "first embedded shape torch.Size([512, 256, 300])\n",
            "embedded shape torch.Size([512, 1, 256, 300])\n",
            "conved0 shape torch.Size([512, 100, 249])\n",
            "conved1 shape torch.Size([512, 100, 241])\n",
            "pooled0 shape torch.Size([512, 100])\n",
            "pooled1 shape torch.Size([512, 100])\n",
            "cat shape torch.Size([512, 200])\n",
            "prediction shape torch.Size([512, 2])\n"
          ]
        },
        {
          "output_type": "stream",
          "name": "stderr",
          "text": [
            "\n",
            "training...:  95%|█████████▌| 38/40 [00:03<00:00, 11.85it/s]\u001b[A"
          ]
        },
        {
          "output_type": "stream",
          "name": "stdout",
          "text": [
            "first embedded shape torch.Size([512, 256, 300])\n",
            "embedded shape torch.Size([512, 1, 256, 300])\n",
            "conved0 shape torch.Size([512, 100, 249])\n",
            "conved1 shape torch.Size([512, 100, 241])\n",
            "pooled0 shape torch.Size([512, 100])\n",
            "pooled1 shape torch.Size([512, 100])\n",
            "cat shape torch.Size([512, 200])\n",
            "prediction shape torch.Size([512, 2])\n"
          ]
        },
        {
          "output_type": "stream",
          "name": "stderr",
          "text": [
            "\rtraining...: 100%|██████████| 40/40 [00:03<00:00, 12.14it/s]\n"
          ]
        },
        {
          "output_type": "stream",
          "name": "stdout",
          "text": [
            "first embedded shape torch.Size([32, 256, 300])\n",
            "embedded shape torch.Size([32, 1, 256, 300])\n",
            "conved0 shape torch.Size([32, 100, 249])\n",
            "conved1 shape torch.Size([32, 100, 241])\n",
            "pooled0 shape torch.Size([32, 100])\n",
            "pooled1 shape torch.Size([32, 100])\n",
            "cat shape torch.Size([32, 200])\n",
            "prediction shape torch.Size([32, 2])\n",
            "first embedded shape torch.Size([512, 256, 300])\n",
            "embedded shape torch.Size([512, 1, 256, 300])\n",
            "conved0 shape torch.Size([512, 100, 249])\n",
            "conved1 shape torch.Size([512, 100, 241])\n",
            "pooled0 shape torch.Size([512, 100])\n",
            "pooled1 shape torch.Size([512, 100])\n",
            "cat shape torch.Size([512, 200])\n",
            "prediction shape torch.Size([512, 2])\n",
            "first embedded shape torch.Size([512, 256, 300])\n",
            "embedded shape torch.Size([512, 1, 256, 300])\n",
            "conved0 shape torch.Size([512, 100, 249])\n",
            "conved1 shape torch.Size([512, 100, 241])\n",
            "pooled0 shape torch.Size([512, 100])\n",
            "pooled1 shape torch.Size([512, 100])\n",
            "cat shape torch.Size([512, 200])\n",
            "prediction shape torch.Size([512, 2])\n",
            "first embedded shape torch.Size([512, 256, 300])\n",
            "embedded shape torch.Size([512, 1, 256, 300])\n",
            "conved0 shape torch.Size([512, 100, 249])\n",
            "conved1 shape torch.Size([512, 100, 241])\n",
            "pooled0 shape torch.Size([512, 100])\n",
            "pooled1 shape torch.Size([512, 100])\n",
            "cat shape torch.Size([512, 200])\n",
            "prediction shape torch.Size([512, 2])\n",
            "first embedded shape torch.Size([512, 256, 300])\n",
            "embedded shape torch.Size([512, 1, 256, 300])\n",
            "conved0 shape torch.Size([512, 100, 249])\n",
            "conved1 shape torch.Size([512, 100, 241])\n",
            "pooled0 shape torch.Size([512, 100])\n",
            "pooled1 shape torch.Size([512, 100])\n",
            "cat shape torch.Size([512, 200])\n",
            "prediction shape torch.Size([512, 2])\n",
            "first embedded shape torch.Size([512, 256, 300])\n",
            "embedded shape torch.Size([512, 1, 256, 300])\n",
            "conved0 shape torch.Size([512, 100, 249])\n",
            "conved1 shape torch.Size([512, 100, 241])\n",
            "pooled0 shape torch.Size([512, 100])\n",
            "pooled1 shape torch.Size([512, 100])\n",
            "cat shape torch.Size([512, 200])\n",
            "prediction shape torch.Size([512, 2])\n",
            "first embedded shape torch.Size([512, 256, 300])\n",
            "embedded shape torch.Size([512, 1, 256, 300])\n",
            "conved0 shape torch.Size([512, 100, 249])\n",
            "conved1 shape torch.Size([512, 100, 241])\n",
            "pooled0 shape torch.Size([512, 100])\n",
            "pooled1 shape torch.Size([512, 100])\n",
            "cat shape torch.Size([512, 200])\n",
            "prediction shape torch.Size([512, 2])\n",
            "first embedded shape torch.Size([512, 256, 300])\n",
            "embedded shape torch.Size([512, 1, 256, 300])\n",
            "conved0 shape torch.Size([512, 100, 249])\n",
            "conved1 shape torch.Size([512, 100, 241])\n",
            "pooled0 shape torch.Size([512, 100])\n",
            "pooled1 shape torch.Size([512, 100])\n",
            "cat shape torch.Size([512, 200])\n",
            "prediction shape torch.Size([512, 2])\n",
            "first embedded shape torch.Size([512, 256, 300])\n",
            "embedded shape torch.Size([512, 1, 256, 300])\n",
            "conved0 shape torch.Size([512, 100, 249])\n",
            "conved1 shape torch.Size([512, 100, 241])\n",
            "pooled0 shape torch.Size([512, 100])\n",
            "pooled1 shape torch.Size([512, 100])\n",
            "cat shape torch.Size([512, 200])\n",
            "prediction shape torch.Size([512, 2])\n"
          ]
        },
        {
          "output_type": "stream",
          "name": "stderr",
          "text": [
            "\r 80%|████████  | 4/5 [00:15<00:03,  3.80s/it]"
          ]
        },
        {
          "output_type": "stream",
          "name": "stdout",
          "text": [
            "first embedded shape torch.Size([512, 256, 300])\n",
            "embedded shape torch.Size([512, 1, 256, 300])\n",
            "conved0 shape torch.Size([512, 100, 249])\n",
            "conved1 shape torch.Size([512, 100, 241])\n",
            "pooled0 shape torch.Size([512, 100])\n",
            "pooled1 shape torch.Size([512, 100])\n",
            "cat shape torch.Size([512, 200])\n",
            "prediction shape torch.Size([512, 2])\n",
            "first embedded shape torch.Size([392, 256, 300])\n",
            "embedded shape torch.Size([392, 1, 256, 300])\n",
            "conved0 shape torch.Size([392, 100, 249])\n",
            "conved1 shape torch.Size([392, 100, 241])\n",
            "pooled0 shape torch.Size([392, 100])\n",
            "pooled1 shape torch.Size([392, 100])\n",
            "cat shape torch.Size([392, 200])\n",
            "prediction shape torch.Size([392, 2])\n",
            "epoch: 3\n",
            "train_loss: 0.231, train_acc: 0.910\n",
            "valid_loss: 0.286, valid_acc: 0.882\n"
          ]
        },
        {
          "output_type": "stream",
          "name": "stderr",
          "text": [
            "\n",
            "training...:   0%|          | 0/40 [00:00<?, ?it/s]\u001b[A"
          ]
        },
        {
          "output_type": "stream",
          "name": "stdout",
          "text": [
            "first embedded shape torch.Size([512, 256, 300])\n",
            "embedded shape torch.Size([512, 1, 256, 300])\n",
            "conved0 shape torch.Size([512, 100, 249])\n",
            "conved1 shape torch.Size([512, 100, 241])\n",
            "pooled0 shape torch.Size([512, 100])\n",
            "pooled1 shape torch.Size([512, 100])\n",
            "cat shape torch.Size([512, 200])\n",
            "prediction shape torch.Size([512, 2])\n",
            "first embedded shape torch.Size([512, 256, 300])\n",
            "embedded shape torch.Size([512, 1, 256, 300])\n",
            "conved0 shape torch.Size([512, 100, 249])\n",
            "conved1 shape torch.Size([512, 100, 241])\n",
            "pooled0 shape torch.Size([512, 100])\n",
            "pooled1 shape torch.Size([512, 100])\n",
            "cat shape torch.Size([512, 200])\n",
            "prediction shape torch.Size([512, 2])\n"
          ]
        },
        {
          "output_type": "stream",
          "name": "stderr",
          "text": [
            "\n",
            "training...:   5%|▌         | 2/40 [00:00<00:03, 11.83it/s]\u001b[A"
          ]
        },
        {
          "output_type": "stream",
          "name": "stdout",
          "text": [
            "first embedded shape torch.Size([512, 256, 300])\n",
            "embedded shape torch.Size([512, 1, 256, 300])\n",
            "conved0 shape torch.Size([512, 100, 249])\n",
            "conved1 shape torch.Size([512, 100, 241])\n",
            "pooled0 shape torch.Size([512, 100])\n",
            "pooled1 shape torch.Size([512, 100])\n",
            "cat shape torch.Size([512, 200])\n",
            "prediction shape torch.Size([512, 2])\n",
            "first embedded shape torch.Size([512, 256, 300])\n",
            "embedded shape torch.Size([512, 1, 256, 300])\n",
            "conved0 shape torch.Size([512, 100, 249])\n",
            "conved1 shape torch.Size([512, 100, 241])\n",
            "pooled0 shape torch.Size([512, 100])\n",
            "pooled1 shape torch.Size([512, 100])\n",
            "cat shape torch.Size([512, 200])\n",
            "prediction shape torch.Size([512, 2])\n"
          ]
        },
        {
          "output_type": "stream",
          "name": "stderr",
          "text": [
            "\n",
            "training...:  10%|█         | 4/40 [00:00<00:03, 11.74it/s]\u001b[A"
          ]
        },
        {
          "output_type": "stream",
          "name": "stdout",
          "text": [
            "first embedded shape torch.Size([512, 256, 300])\n",
            "embedded shape torch.Size([512, 1, 256, 300])\n",
            "conved0 shape torch.Size([512, 100, 249])\n",
            "conved1 shape torch.Size([512, 100, 241])\n",
            "pooled0 shape torch.Size([512, 100])\n",
            "pooled1 shape torch.Size([512, 100])\n",
            "cat shape torch.Size([512, 200])\n",
            "prediction shape torch.Size([512, 2])\n",
            "first embedded shape torch.Size([512, 256, 300])\n",
            "embedded shape torch.Size([512, 1, 256, 300])\n",
            "conved0 shape torch.Size([512, 100, 249])\n",
            "conved1 shape torch.Size([512, 100, 241])\n",
            "pooled0 shape torch.Size([512, 100])\n",
            "pooled1 shape torch.Size([512, 100])\n",
            "cat shape torch.Size([512, 200])\n",
            "prediction shape torch.Size([512, 2])\n"
          ]
        },
        {
          "output_type": "stream",
          "name": "stderr",
          "text": [
            "\n",
            "training...:  15%|█▌        | 6/40 [00:00<00:02, 11.77it/s]\u001b[A"
          ]
        },
        {
          "output_type": "stream",
          "name": "stdout",
          "text": [
            "first embedded shape torch.Size([512, 256, 300])\n",
            "embedded shape torch.Size([512, 1, 256, 300])\n",
            "conved0 shape torch.Size([512, 100, 249])\n",
            "conved1 shape torch.Size([512, 100, 241])\n",
            "pooled0 shape torch.Size([512, 100])\n",
            "pooled1 shape torch.Size([512, 100])\n",
            "cat shape torch.Size([512, 200])\n",
            "prediction shape torch.Size([512, 2])\n",
            "first embedded shape torch.Size([512, 256, 300])\n",
            "embedded shape torch.Size([512, 1, 256, 300])\n",
            "conved0 shape torch.Size([512, 100, 249])\n",
            "conved1 shape torch.Size([512, 100, 241])\n",
            "pooled0 shape torch.Size([512, 100])\n",
            "pooled1 shape torch.Size([512, 100])\n",
            "cat shape torch.Size([512, 200])\n",
            "prediction shape torch.Size([512, 2])\n"
          ]
        },
        {
          "output_type": "stream",
          "name": "stderr",
          "text": [
            "\n",
            "training...:  20%|██        | 8/40 [00:00<00:02, 11.84it/s]\u001b[A"
          ]
        },
        {
          "output_type": "stream",
          "name": "stdout",
          "text": [
            "first embedded shape torch.Size([512, 256, 300])\n",
            "embedded shape torch.Size([512, 1, 256, 300])\n",
            "conved0 shape torch.Size([512, 100, 249])\n",
            "conved1 shape torch.Size([512, 100, 241])\n",
            "pooled0 shape torch.Size([512, 100])\n",
            "pooled1 shape torch.Size([512, 100])\n",
            "cat shape torch.Size([512, 200])\n",
            "prediction shape torch.Size([512, 2])\n",
            "first embedded shape torch.Size([512, 256, 300])\n",
            "embedded shape torch.Size([512, 1, 256, 300])\n",
            "conved0 shape torch.Size([512, 100, 249])\n",
            "conved1 shape torch.Size([512, 100, 241])\n",
            "pooled0 shape torch.Size([512, 100])\n",
            "pooled1 shape torch.Size([512, 100])\n",
            "cat shape torch.Size([512, 200])\n",
            "prediction shape torch.Size([512, 2])\n"
          ]
        },
        {
          "output_type": "stream",
          "name": "stderr",
          "text": [
            "\n",
            "training...:  25%|██▌       | 10/40 [00:00<00:02, 11.88it/s]\u001b[A"
          ]
        },
        {
          "output_type": "stream",
          "name": "stdout",
          "text": [
            "first embedded shape torch.Size([512, 256, 300])\n",
            "embedded shape torch.Size([512, 1, 256, 300])\n",
            "conved0 shape torch.Size([512, 100, 249])\n",
            "conved1 shape torch.Size([512, 100, 241])\n",
            "pooled0 shape torch.Size([512, 100])\n",
            "pooled1 shape torch.Size([512, 100])\n",
            "cat shape torch.Size([512, 200])\n",
            "prediction shape torch.Size([512, 2])\n",
            "first embedded shape torch.Size([512, 256, 300])\n",
            "embedded shape torch.Size([512, 1, 256, 300])\n",
            "conved0 shape torch.Size([512, 100, 249])\n",
            "conved1 shape torch.Size([512, 100, 241])\n",
            "pooled0 shape torch.Size([512, 100])\n",
            "pooled1 shape torch.Size([512, 100])\n",
            "cat shape torch.Size([512, 200])\n",
            "prediction shape torch.Size([512, 2])\n"
          ]
        },
        {
          "output_type": "stream",
          "name": "stderr",
          "text": [
            "\n",
            "training...:  30%|███       | 12/40 [00:01<00:02, 11.86it/s]\u001b[A"
          ]
        },
        {
          "output_type": "stream",
          "name": "stdout",
          "text": [
            "first embedded shape torch.Size([512, 256, 300])\n",
            "embedded shape torch.Size([512, 1, 256, 300])\n",
            "conved0 shape torch.Size([512, 100, 249])\n",
            "conved1 shape torch.Size([512, 100, 241])\n",
            "pooled0 shape torch.Size([512, 100])\n",
            "pooled1 shape torch.Size([512, 100])\n",
            "cat shape torch.Size([512, 200])\n",
            "prediction shape torch.Size([512, 2])\n",
            "first embedded shape torch.Size([512, 256, 300])\n",
            "embedded shape torch.Size([512, 1, 256, 300])\n",
            "conved0 shape torch.Size([512, 100, 249])\n",
            "conved1 shape torch.Size([512, 100, 241])\n",
            "pooled0 shape torch.Size([512, 100])\n",
            "pooled1 shape torch.Size([512, 100])\n",
            "cat shape torch.Size([512, 200])\n",
            "prediction shape torch.Size([512, 2])\n"
          ]
        },
        {
          "output_type": "stream",
          "name": "stderr",
          "text": [
            "\n",
            "training...:  35%|███▌      | 14/40 [00:01<00:02, 11.91it/s]\u001b[A"
          ]
        },
        {
          "output_type": "stream",
          "name": "stdout",
          "text": [
            "first embedded shape torch.Size([512, 256, 300])\n",
            "embedded shape torch.Size([512, 1, 256, 300])\n",
            "conved0 shape torch.Size([512, 100, 249])\n",
            "conved1 shape torch.Size([512, 100, 241])\n",
            "pooled0 shape torch.Size([512, 100])\n",
            "pooled1 shape torch.Size([512, 100])\n",
            "cat shape torch.Size([512, 200])\n",
            "prediction shape torch.Size([512, 2])\n",
            "first embedded shape torch.Size([512, 256, 300])\n",
            "embedded shape torch.Size([512, 1, 256, 300])\n",
            "conved0 shape torch.Size([512, 100, 249])\n",
            "conved1 shape torch.Size([512, 100, 241])\n",
            "pooled0 shape torch.Size([512, 100])\n",
            "pooled1 shape torch.Size([512, 100])\n",
            "cat shape torch.Size([512, 200])\n",
            "prediction shape torch.Size([512, 2])\n"
          ]
        },
        {
          "output_type": "stream",
          "name": "stderr",
          "text": [
            "\n",
            "training...:  40%|████      | 16/40 [00:01<00:02, 11.87it/s]\u001b[A"
          ]
        },
        {
          "output_type": "stream",
          "name": "stdout",
          "text": [
            "first embedded shape torch.Size([512, 256, 300])\n",
            "embedded shape torch.Size([512, 1, 256, 300])\n",
            "conved0 shape torch.Size([512, 100, 249])\n",
            "conved1 shape torch.Size([512, 100, 241])\n",
            "pooled0 shape torch.Size([512, 100])\n",
            "pooled1 shape torch.Size([512, 100])\n",
            "cat shape torch.Size([512, 200])\n",
            "prediction shape torch.Size([512, 2])\n",
            "first embedded shape torch.Size([512, 256, 300])\n",
            "embedded shape torch.Size([512, 1, 256, 300])\n",
            "conved0 shape torch.Size([512, 100, 249])\n",
            "conved1 shape torch.Size([512, 100, 241])\n",
            "pooled0 shape torch.Size([512, 100])\n",
            "pooled1 shape torch.Size([512, 100])\n",
            "cat shape torch.Size([512, 200])\n",
            "prediction shape torch.Size([512, 2])\n"
          ]
        },
        {
          "output_type": "stream",
          "name": "stderr",
          "text": [
            "\n",
            "training...:  45%|████▌     | 18/40 [00:01<00:01, 11.82it/s]\u001b[A"
          ]
        },
        {
          "output_type": "stream",
          "name": "stdout",
          "text": [
            "first embedded shape torch.Size([512, 256, 300])\n",
            "embedded shape torch.Size([512, 1, 256, 300])\n",
            "conved0 shape torch.Size([512, 100, 249])\n",
            "conved1 shape torch.Size([512, 100, 241])\n",
            "pooled0 shape torch.Size([512, 100])\n",
            "pooled1 shape torch.Size([512, 100])\n",
            "cat shape torch.Size([512, 200])\n",
            "prediction shape torch.Size([512, 2])\n",
            "first embedded shape torch.Size([512, 256, 300])\n",
            "embedded shape torch.Size([512, 1, 256, 300])\n",
            "conved0 shape torch.Size([512, 100, 249])\n",
            "conved1 shape torch.Size([512, 100, 241])\n",
            "pooled0 shape torch.Size([512, 100])\n",
            "pooled1 shape torch.Size([512, 100])\n",
            "cat shape torch.Size([512, 200])\n",
            "prediction shape torch.Size([512, 2])\n"
          ]
        },
        {
          "output_type": "stream",
          "name": "stderr",
          "text": [
            "\n",
            "training...:  50%|█████     | 20/40 [00:01<00:01, 11.83it/s]\u001b[A"
          ]
        },
        {
          "output_type": "stream",
          "name": "stdout",
          "text": [
            "first embedded shape torch.Size([512, 256, 300])\n",
            "embedded shape torch.Size([512, 1, 256, 300])\n",
            "conved0 shape torch.Size([512, 100, 249])\n",
            "conved1 shape torch.Size([512, 100, 241])\n",
            "pooled0 shape torch.Size([512, 100])\n",
            "pooled1 shape torch.Size([512, 100])\n",
            "cat shape torch.Size([512, 200])\n",
            "prediction shape torch.Size([512, 2])\n",
            "first embedded shape torch.Size([512, 256, 300])\n",
            "embedded shape torch.Size([512, 1, 256, 300])\n",
            "conved0 shape torch.Size([512, 100, 249])\n",
            "conved1 shape torch.Size([512, 100, 241])\n",
            "pooled0 shape torch.Size([512, 100])\n",
            "pooled1 shape torch.Size([512, 100])\n",
            "cat shape torch.Size([512, 200])\n",
            "prediction shape torch.Size([512, 2])\n"
          ]
        },
        {
          "output_type": "stream",
          "name": "stderr",
          "text": [
            "\n",
            "training...:  55%|█████▌    | 22/40 [00:01<00:01, 11.85it/s]\u001b[A"
          ]
        },
        {
          "output_type": "stream",
          "name": "stdout",
          "text": [
            "first embedded shape torch.Size([512, 256, 300])\n",
            "embedded shape torch.Size([512, 1, 256, 300])\n",
            "conved0 shape torch.Size([512, 100, 249])\n",
            "conved1 shape torch.Size([512, 100, 241])\n",
            "pooled0 shape torch.Size([512, 100])\n",
            "pooled1 shape torch.Size([512, 100])\n",
            "cat shape torch.Size([512, 200])\n",
            "prediction shape torch.Size([512, 2])\n",
            "first embedded shape torch.Size([512, 256, 300])\n",
            "embedded shape torch.Size([512, 1, 256, 300])\n",
            "conved0 shape torch.Size([512, 100, 249])\n",
            "conved1 shape torch.Size([512, 100, 241])\n",
            "pooled0 shape torch.Size([512, 100])\n",
            "pooled1 shape torch.Size([512, 100])\n",
            "cat shape torch.Size([512, 200])\n",
            "prediction shape torch.Size([512, 2])\n"
          ]
        },
        {
          "output_type": "stream",
          "name": "stderr",
          "text": [
            "\n",
            "training...:  60%|██████    | 24/40 [00:02<00:01, 11.87it/s]\u001b[A"
          ]
        },
        {
          "output_type": "stream",
          "name": "stdout",
          "text": [
            "first embedded shape torch.Size([512, 256, 300])\n",
            "embedded shape torch.Size([512, 1, 256, 300])\n",
            "conved0 shape torch.Size([512, 100, 249])\n",
            "conved1 shape torch.Size([512, 100, 241])\n",
            "pooled0 shape torch.Size([512, 100])\n",
            "pooled1 shape torch.Size([512, 100])\n",
            "cat shape torch.Size([512, 200])\n",
            "prediction shape torch.Size([512, 2])\n",
            "first embedded shape torch.Size([512, 256, 300])\n",
            "embedded shape torch.Size([512, 1, 256, 300])\n",
            "conved0 shape torch.Size([512, 100, 249])\n",
            "conved1 shape torch.Size([512, 100, 241])\n",
            "pooled0 shape torch.Size([512, 100])\n",
            "pooled1 shape torch.Size([512, 100])\n",
            "cat shape torch.Size([512, 200])\n",
            "prediction shape torch.Size([512, 2])\n"
          ]
        },
        {
          "output_type": "stream",
          "name": "stderr",
          "text": [
            "\n",
            "training...:  65%|██████▌   | 26/40 [00:02<00:01, 11.89it/s]\u001b[A"
          ]
        },
        {
          "output_type": "stream",
          "name": "stdout",
          "text": [
            "first embedded shape torch.Size([512, 256, 300])\n",
            "embedded shape torch.Size([512, 1, 256, 300])\n",
            "conved0 shape torch.Size([512, 100, 249])\n",
            "conved1 shape torch.Size([512, 100, 241])\n",
            "pooled0 shape torch.Size([512, 100])\n",
            "pooled1 shape torch.Size([512, 100])\n",
            "cat shape torch.Size([512, 200])\n",
            "prediction shape torch.Size([512, 2])\n",
            "first embedded shape torch.Size([512, 256, 300])\n",
            "embedded shape torch.Size([512, 1, 256, 300])\n",
            "conved0 shape torch.Size([512, 100, 249])\n",
            "conved1 shape torch.Size([512, 100, 241])\n",
            "pooled0 shape torch.Size([512, 100])\n",
            "pooled1 shape torch.Size([512, 100])\n",
            "cat shape torch.Size([512, 200])\n",
            "prediction shape torch.Size([512, 2])\n"
          ]
        },
        {
          "output_type": "stream",
          "name": "stderr",
          "text": [
            "\n",
            "training...:  70%|███████   | 28/40 [00:02<00:01, 11.90it/s]\u001b[A"
          ]
        },
        {
          "output_type": "stream",
          "name": "stdout",
          "text": [
            "first embedded shape torch.Size([512, 256, 300])\n",
            "embedded shape torch.Size([512, 1, 256, 300])\n",
            "conved0 shape torch.Size([512, 100, 249])\n",
            "conved1 shape torch.Size([512, 100, 241])\n",
            "pooled0 shape torch.Size([512, 100])\n",
            "pooled1 shape torch.Size([512, 100])\n",
            "cat shape torch.Size([512, 200])\n",
            "prediction shape torch.Size([512, 2])\n",
            "first embedded shape torch.Size([512, 256, 300])\n",
            "embedded shape torch.Size([512, 1, 256, 300])\n",
            "conved0 shape torch.Size([512, 100, 249])\n",
            "conved1 shape torch.Size([512, 100, 241])\n",
            "pooled0 shape torch.Size([512, 100])\n",
            "pooled1 shape torch.Size([512, 100])\n",
            "cat shape torch.Size([512, 200])\n",
            "prediction shape torch.Size([512, 2])\n"
          ]
        },
        {
          "output_type": "stream",
          "name": "stderr",
          "text": [
            "\n",
            "training...:  75%|███████▌  | 30/40 [00:02<00:00, 11.91it/s]\u001b[A"
          ]
        },
        {
          "output_type": "stream",
          "name": "stdout",
          "text": [
            "first embedded shape torch.Size([512, 256, 300])\n",
            "embedded shape torch.Size([512, 1, 256, 300])\n",
            "conved0 shape torch.Size([512, 100, 249])\n",
            "conved1 shape torch.Size([512, 100, 241])\n",
            "pooled0 shape torch.Size([512, 100])\n",
            "pooled1 shape torch.Size([512, 100])\n",
            "cat shape torch.Size([512, 200])\n",
            "prediction shape torch.Size([512, 2])\n",
            "first embedded shape torch.Size([512, 256, 300])\n",
            "embedded shape torch.Size([512, 1, 256, 300])\n",
            "conved0 shape torch.Size([512, 100, 249])\n",
            "conved1 shape torch.Size([512, 100, 241])\n",
            "pooled0 shape torch.Size([512, 100])\n",
            "pooled1 shape torch.Size([512, 100])\n",
            "cat shape torch.Size([512, 200])\n",
            "prediction shape torch.Size([512, 2])\n"
          ]
        },
        {
          "output_type": "stream",
          "name": "stderr",
          "text": [
            "\n",
            "training...:  80%|████████  | 32/40 [00:02<00:00, 11.91it/s]\u001b[A"
          ]
        },
        {
          "output_type": "stream",
          "name": "stdout",
          "text": [
            "first embedded shape torch.Size([512, 256, 300])\n",
            "embedded shape torch.Size([512, 1, 256, 300])\n",
            "conved0 shape torch.Size([512, 100, 249])\n",
            "conved1 shape torch.Size([512, 100, 241])\n",
            "pooled0 shape torch.Size([512, 100])\n",
            "pooled1 shape torch.Size([512, 100])\n",
            "cat shape torch.Size([512, 200])\n",
            "prediction shape torch.Size([512, 2])\n",
            "first embedded shape torch.Size([512, 256, 300])\n",
            "embedded shape torch.Size([512, 1, 256, 300])\n",
            "conved0 shape torch.Size([512, 100, 249])\n",
            "conved1 shape torch.Size([512, 100, 241])\n",
            "pooled0 shape torch.Size([512, 100])\n",
            "pooled1 shape torch.Size([512, 100])\n",
            "cat shape torch.Size([512, 200])\n",
            "prediction shape torch.Size([512, 2])\n"
          ]
        },
        {
          "output_type": "stream",
          "name": "stderr",
          "text": [
            "\n",
            "training...:  85%|████████▌ | 34/40 [00:02<00:00, 11.94it/s]\u001b[A"
          ]
        },
        {
          "output_type": "stream",
          "name": "stdout",
          "text": [
            "first embedded shape torch.Size([512, 256, 300])\n",
            "embedded shape torch.Size([512, 1, 256, 300])\n",
            "conved0 shape torch.Size([512, 100, 249])\n",
            "conved1 shape torch.Size([512, 100, 241])\n",
            "pooled0 shape torch.Size([512, 100])\n",
            "pooled1 shape torch.Size([512, 100])\n",
            "cat shape torch.Size([512, 200])\n",
            "prediction shape torch.Size([512, 2])\n",
            "first embedded shape torch.Size([512, 256, 300])\n",
            "embedded shape torch.Size([512, 1, 256, 300])\n",
            "conved0 shape torch.Size([512, 100, 249])\n",
            "conved1 shape torch.Size([512, 100, 241])\n",
            "pooled0 shape torch.Size([512, 100])\n",
            "pooled1 shape torch.Size([512, 100])\n",
            "cat shape torch.Size([512, 200])\n",
            "prediction shape torch.Size([512, 2])\n"
          ]
        },
        {
          "output_type": "stream",
          "name": "stderr",
          "text": [
            "\n",
            "training...:  90%|█████████ | 36/40 [00:03<00:00, 11.95it/s]\u001b[A"
          ]
        },
        {
          "output_type": "stream",
          "name": "stdout",
          "text": [
            "first embedded shape torch.Size([512, 256, 300])\n",
            "embedded shape torch.Size([512, 1, 256, 300])\n",
            "conved0 shape torch.Size([512, 100, 249])\n",
            "conved1 shape torch.Size([512, 100, 241])\n",
            "pooled0 shape torch.Size([512, 100])\n",
            "pooled1 shape torch.Size([512, 100])\n",
            "cat shape torch.Size([512, 200])\n",
            "prediction shape torch.Size([512, 2])\n",
            "first embedded shape torch.Size([512, 256, 300])\n",
            "embedded shape torch.Size([512, 1, 256, 300])\n",
            "conved0 shape torch.Size([512, 100, 249])\n",
            "conved1 shape torch.Size([512, 100, 241])\n",
            "pooled0 shape torch.Size([512, 100])\n",
            "pooled1 shape torch.Size([512, 100])\n",
            "cat shape torch.Size([512, 200])\n",
            "prediction shape torch.Size([512, 2])\n"
          ]
        },
        {
          "output_type": "stream",
          "name": "stderr",
          "text": [
            "\n",
            "training...:  95%|█████████▌| 38/40 [00:03<00:00, 11.95it/s]\u001b[A"
          ]
        },
        {
          "output_type": "stream",
          "name": "stdout",
          "text": [
            "first embedded shape torch.Size([512, 256, 300])\n",
            "embedded shape torch.Size([512, 1, 256, 300])\n",
            "conved0 shape torch.Size([512, 100, 249])\n",
            "conved1 shape torch.Size([512, 100, 241])\n",
            "pooled0 shape torch.Size([512, 100])\n",
            "pooled1 shape torch.Size([512, 100])\n",
            "cat shape torch.Size([512, 200])\n",
            "prediction shape torch.Size([512, 2])\n"
          ]
        },
        {
          "output_type": "stream",
          "name": "stderr",
          "text": [
            "\rtraining...: 100%|██████████| 40/40 [00:03<00:00, 12.14it/s]"
          ]
        },
        {
          "output_type": "stream",
          "name": "stdout",
          "text": [
            "first embedded shape torch.Size([32, 256, 300])\n",
            "embedded shape torch.Size([32, 1, 256, 300])\n",
            "conved0 shape torch.Size([32, 100, 249])\n",
            "conved1 shape torch.Size([32, 100, 241])\n",
            "pooled0 shape torch.Size([32, 100])\n",
            "pooled1 shape torch.Size([32, 100])\n",
            "cat shape torch.Size([32, 200])\n",
            "prediction shape torch.Size([32, 2])\n",
            "first embedded shape torch.Size([512, 256, 300])\n",
            "embedded shape torch.Size([512, 1, 256, 300])\n",
            "conved0 shape torch.Size([512, 100, 249])\n",
            "conved1 shape torch.Size([512, 100, 241])\n",
            "pooled0 shape torch.Size([512, 100])\n",
            "pooled1 shape torch.Size([512, 100])\n",
            "cat shape torch.Size([512, 200])\n",
            "prediction shape torch.Size([512, 2])\n"
          ]
        },
        {
          "output_type": "stream",
          "name": "stderr",
          "text": [
            "\n"
          ]
        },
        {
          "output_type": "stream",
          "name": "stdout",
          "text": [
            "first embedded shape torch.Size([512, 256, 300])\n",
            "embedded shape torch.Size([512, 1, 256, 300])\n",
            "conved0 shape torch.Size([512, 100, 249])\n",
            "conved1 shape torch.Size([512, 100, 241])\n",
            "pooled0 shape torch.Size([512, 100])\n",
            "pooled1 shape torch.Size([512, 100])\n",
            "cat shape torch.Size([512, 200])\n",
            "prediction shape torch.Size([512, 2])\n",
            "first embedded shape torch.Size([512, 256, 300])\n",
            "embedded shape torch.Size([512, 1, 256, 300])\n",
            "conved0 shape torch.Size([512, 100, 249])\n",
            "conved1 shape torch.Size([512, 100, 241])\n",
            "pooled0 shape torch.Size([512, 100])\n",
            "pooled1 shape torch.Size([512, 100])\n",
            "cat shape torch.Size([512, 200])\n",
            "prediction shape torch.Size([512, 2])\n",
            "first embedded shape torch.Size([512, 256, 300])\n",
            "embedded shape torch.Size([512, 1, 256, 300])\n",
            "conved0 shape torch.Size([512, 100, 249])\n",
            "conved1 shape torch.Size([512, 100, 241])\n",
            "pooled0 shape torch.Size([512, 100])\n",
            "pooled1 shape torch.Size([512, 100])\n",
            "cat shape torch.Size([512, 200])\n",
            "prediction shape torch.Size([512, 2])\n",
            "first embedded shape torch.Size([512, 256, 300])\n",
            "embedded shape torch.Size([512, 1, 256, 300])\n",
            "conved0 shape torch.Size([512, 100, 249])\n",
            "conved1 shape torch.Size([512, 100, 241])\n",
            "pooled0 shape torch.Size([512, 100])\n",
            "pooled1 shape torch.Size([512, 100])\n",
            "cat shape torch.Size([512, 200])\n",
            "prediction shape torch.Size([512, 2])\n",
            "first embedded shape torch.Size([512, 256, 300])\n",
            "embedded shape torch.Size([512, 1, 256, 300])\n",
            "conved0 shape torch.Size([512, 100, 249])\n",
            "conved1 shape torch.Size([512, 100, 241])\n",
            "pooled0 shape torch.Size([512, 100])\n",
            "pooled1 shape torch.Size([512, 100])\n",
            "cat shape torch.Size([512, 200])\n",
            "prediction shape torch.Size([512, 2])\n",
            "first embedded shape torch.Size([512, 256, 300])\n",
            "embedded shape torch.Size([512, 1, 256, 300])\n",
            "conved0 shape torch.Size([512, 100, 249])\n",
            "conved1 shape torch.Size([512, 100, 241])\n",
            "pooled0 shape torch.Size([512, 100])\n",
            "pooled1 shape torch.Size([512, 100])\n",
            "cat shape torch.Size([512, 200])\n",
            "prediction shape torch.Size([512, 2])\n",
            "first embedded shape torch.Size([512, 256, 300])\n",
            "embedded shape torch.Size([512, 1, 256, 300])\n",
            "conved0 shape torch.Size([512, 100, 249])\n",
            "conved1 shape torch.Size([512, 100, 241])\n",
            "pooled0 shape torch.Size([512, 100])\n",
            "pooled1 shape torch.Size([512, 100])\n",
            "cat shape torch.Size([512, 200])\n",
            "prediction shape torch.Size([512, 2])\n",
            "first embedded shape torch.Size([512, 256, 300])\n",
            "embedded shape torch.Size([512, 1, 256, 300])\n",
            "conved0 shape torch.Size([512, 100, 249])\n",
            "conved1 shape torch.Size([512, 100, 241])\n",
            "pooled0 shape torch.Size([512, 100])\n",
            "pooled1 shape torch.Size([512, 100])\n",
            "cat shape torch.Size([512, 200])\n",
            "prediction shape torch.Size([512, 2])\n",
            "first embedded shape torch.Size([392, 256, 300])\n",
            "embedded shape torch.Size([392, 1, 256, 300])\n",
            "conved0 shape torch.Size([392, 100, 249])\n",
            "conved1 shape torch.Size([392, 100, 241])\n",
            "pooled0 shape torch.Size([392, 100])\n",
            "pooled1 shape torch.Size([392, 100])\n",
            "cat shape torch.Size([392, 200])\n",
            "prediction shape torch.Size([392, 2])\n"
          ]
        },
        {
          "output_type": "stream",
          "name": "stderr",
          "text": [
            "100%|██████████| 5/5 [00:19<00:00,  3.80s/it]"
          ]
        },
        {
          "output_type": "stream",
          "name": "stdout",
          "text": [
            "epoch: 4\n",
            "train_loss: 0.175, train_acc: 0.938\n",
            "valid_loss: 0.282, valid_acc: 0.886\n"
          ]
        },
        {
          "output_type": "stream",
          "name": "stderr",
          "text": [
            "\n"
          ]
        },
        {
          "output_type": "display_data",
          "data": {
            "text/plain": [
              "<Figure size 640x480 with 1 Axes>"
            ],
            "image/png": "[encoded data removed]"
          },
          "metadata": {}
        },
        {
          "output_type": "display_data",
          "data": {
            "text/plain": [
              "<Figure size 640x480 with 1 Axes>"
            ],
            "image/png": "[encoded data removed]"
          },
          "metadata": {}
        }
      ]
    },
    {
      "cell_type": "code",
      "source": [
        "# batch_size = 128\n",
        "# train_loader = data_loader(train_dataset, batch_size, pad_sequence,shuffle=True)\n",
        "# valid_loader = data_loader(valid_dataset, batch_size, pad_sequence)\n",
        "# test_loader = data_loader(test_dataset, batch_size,  pad_sequence)\n",
        "\n",
        "# print(f\"length of vocab: {len(vocab)}\")\n",
        "\n",
        "\n",
        "# # build CNN using a predefined kernel size, not necessily use all the embed dimension, very computationally expensive!!!!\n",
        "# # also because need to eventually reduce dimension, it is not learning any better neither\n",
        "# class myCNN(torch.nn.Module):\n",
        "#   def __init__(self, vocab_size, embedding_dim, n_filters, filter_sizes, output_dim, dropout, pad_idx):\n",
        "#     super().__init__()\n",
        "#     self.embedding = torch.nn.Embedding(vocab_size, embedding_dim,padding_idx=pad_idx)\n",
        "#     self.conv0 = torch.nn.Conv2d(in_channels=1, out_channels=n_filters, kernel_size=filter_sizes[0])\n",
        "#     self.conv1 = torch.nn.Conv2d(in_channels=1, out_channels=n_filters, kernel_size=filter_sizes[1])\n",
        "#     self.fc = torch.nn.Linear(len(filter_sizes) * n_filters, output_dim)\n",
        "#     self.dropout = torch.nn.Dropout(dropout)\n",
        "\n",
        "#   def forward(self, ids):\n",
        "#     # [batch_size, seq_len] at beginning\n",
        "#     embedded = self.dropout(self.embedding(ids))\n",
        "#     print(f\"first embedded shape {embedded.shape}\")\n",
        "#     # [batch_size,seq_len, embed_dimsion]\n",
        "#     embedded = embedded.unsqueeze(1) # In PyTorch, unsqueeze(dim) adds a new dimension of size one at the specified dim. For unsqueeze(1), 256*300 becomes 1*256*300\n",
        "#     print(f\"embedded shape {embedded.shape}\")\n",
        "#     # [batch_size, 1, seq_len, dimension]\n",
        "#     conved0 = torch.relu(self.conv0(embedded).squeeze(3)) # in\n",
        "#     print(f\"conved0 shape {conved0.shape}\")\n",
        "#     # [batch_size, n_filters, seq_len - filter_size+1]\n",
        "#     conved1 = torch.relu(self.conv1(embedded).squeeze(3))\n",
        "#     print(f\"conved1 shape {conved1.shape}\")\n",
        "#     output, _ = torch.max(conved0, dim=-1, keepdim=True) # max pooling by get the max of last dim\n",
        "#     pooled0 = output.squeeze(3)\n",
        "#     print(f\"middle pooled0 shape {pooled0.shape}\")\n",
        "#     output, _ = torch.max(pooled0, dim=-1, keepdim=True) # max pooling by get the max of last dim\n",
        "#     pooled0 = output.squeeze(2)\n",
        "#     print(f\"pooled0 shape {pooled0.shape}\")\n",
        "#     # [batch_size,n_filters]\n",
        "#     output, _ = torch.max(conved1, dim=-1, keepdim=True)\n",
        "#     pooled1 = output.squeeze(3)\n",
        "#     print(f\"middle pooled1 shape {pooled0.shape}\")\n",
        "#     output, _ = torch.max(pooled1, dim=-1, keepdim=True) # max pooling by get the max of last dim\n",
        "#     pooled1 = output.squeeze(2)\n",
        "#     print(f\"pooled1 shape {pooled1.shape}\")\n",
        "#     cat = self.dropout(torch.cat((pooled0, pooled1), dim=1))\n",
        "#     print(f\"cat shape {cat.shape}\")\n",
        "#     prediction = self.fc(cat)\n",
        "#     print(f\"prediction shape {prediction.shape}\")\n",
        "#     return prediction\n",
        "\n",
        "# vocab_size = len(vocab)\n",
        "# embed_dim = 300\n",
        "# n_filters = 100\n",
        "# filter_sizes = [(8,200),(16,200)] # this actually means a filter with 8*embed_dimension, 16*embed_dimension\n",
        "# # this is saying that we are looking at 8-gram, 16-gram, so these values usually  are 2,3,4\n",
        "# # note we can also use something like [(8,8),(16,16)]\n",
        "# output_dim = len(train_dataset.unique(\"label\"))\n",
        "# dropout = 0.25\n",
        "# pad_idx = vocab[\"<pad>\"]\n",
        "\n",
        "# model = myCNN(vocab_size, embed_dim, n_filters, filter_sizes, output_dim, dropout, pad_idx)\n",
        "\n",
        "# vectors = torchtext.vocab.GloVe(name='6B',dim=300)\n",
        "# pretrained_embedding = vectors.get_vecs_by_tokens(vocab.get_itos())\n",
        "# model.embedding.weight.data = pretrained_embedding\n",
        "\n",
        "\n",
        "# def count_parameters(model):\n",
        "#     return sum(p.numel() for p in model.parameters() if p.requires_grad)\n",
        "\n",
        "\n",
        "# print(f\"The model has {count_parameters(model):,} trainable parameters\")\n",
        "\n",
        "# import torch.nn as nn\n",
        "# import torch.optim as optim\n",
        "\n",
        "\n",
        "# def accuracy(prediction, label):\n",
        "#     batch_size, _ = prediction.shape\n",
        "#     predicted_classes = prediction.argmax(dim=-1)\n",
        "#     correct_predictions = predicted_classes.eq(label).sum()\n",
        "#     accuracy = correct_predictions / batch_size\n",
        "#     return accuracy\n",
        "# #\n",
        "\n",
        "# optim = optim.Adam(model.parameters(), lr=0.001)\n",
        "# criterion = nn.CrossEntropyLoss()\n",
        "\n",
        "# device = torch.device(\"cuda\" if torch.cuda.is_available() else \"cpu\")\n",
        "\n",
        "# criterion.to(device)\n",
        "# model.to(device)\n",
        "\n",
        "# # define train function with batch\n",
        "# def train(model, data_loader, optimizer, criterion):\n",
        "#   epoch_loss = 0\n",
        "#   epoch_acc = 0\n",
        "#   model.train()\n",
        "#   for batch in tqdm.tqdm(data_loader, desc=\"training...\"):\n",
        "#     ids = batch['ids'].to(device)\n",
        "#     labels = batch['labels'].to(device)\n",
        "#     optimizer.zero_grad()\n",
        "#     predictions = model(ids).squeeze(1)\n",
        "#     loss = criterion(predictions, labels)\n",
        "#     acc = accuracy(predictions, labels)\n",
        "#     loss.backward()\n",
        "#     optimizer.step()\n",
        "#     epoch_loss += loss.item()\n",
        "#     epoch_acc += acc.item()\n",
        "#   return epoch_loss / len(data_loader), epoch_acc / len(data_loader)\n",
        "\n",
        "# def evaluate(model, data_loader, criterion):\n",
        "#   epoch_loss = 0\n",
        "#   epoch_acc = 0\n",
        "#   model.eval()\n",
        "#   with torch.no_grad():\n",
        "#     for batch in data_loader:\n",
        "#       ids = batch['ids'].to(device)\n",
        "#       labels = batch['labels'].to(device)\n",
        "#       predictions = model(ids).squeeze(1)\n",
        "#       loss = criterion(predictions, labels)\n",
        "#       acc = accuracy(predictions, labels)\n",
        "#       epoch_loss += loss.item()\n",
        "#       epoch_acc += acc.item()\n",
        "\n",
        "#   return epoch_loss / len(data_loader), epoch_acc / len(data_loader)\n",
        "\n",
        "\n",
        "# epochs= 1\n",
        "# # loop through epoch and record train and valid loss and accurcay\n",
        "# from collections import defaultdict\n",
        "# import tqdm\n",
        "\n",
        "# train_loss = defaultdict(list)\n",
        "# train_acc = defaultdict(list)\n",
        "# valid_loss = defaultdict(list)\n",
        "# valid_acc = defaultdict(list)\n",
        "# for epoch in tqdm.tqdm(range(epochs)):\n",
        "#   train_loss_epoch, train_acc_epoch = train(model, train_loader, optim, criterion)\n",
        "#   valid_loss_epoch, valid_acc_epoch = evaluate(model, valid_loader, criterion)\n",
        "#   train_loss[epoch].append(train_loss_epoch)\n",
        "#   train_acc[epoch].append(train_acc_epoch)\n",
        "#   valid_loss[epoch].append(valid_loss_epoch)\n",
        "#   valid_acc[epoch].append(valid_acc_epoch)\n",
        "#   print(f\"epoch: {epoch}\")\n",
        "#   print(f\"train_loss: {train_loss_epoch:.3f}, train_acc: {train_acc_epoch:.3f}\")\n",
        "#   print(f\"valid_loss: {valid_loss_epoch:.3f}, valid_acc: {valid_acc_epoch:.3f}\")\n",
        "\n",
        "# # plot train and valid loss\n",
        "# import matplotlib.pyplot as plt\n",
        "# plt.plot(train_loss.values(), label='train loss')\n",
        "# plt.plot(valid_loss.values(), label='valid loss')\n",
        "# plt.legend()\n",
        "# plt.show()\n",
        "\n",
        "# # plot train and valid accuracy\n",
        "# plt.plot(train_acc.values(), label='train acc')\n",
        "# plt.plot(valid_acc.values(), label='valid acc')\n",
        "# plt.legend()\n",
        "# plt.show()\n",
        "\n",
        "\n",
        "\n"
      ],
      "metadata": {
        "id": "S5caSIzqNOK0"
      },
      "execution_count": null,
      "outputs": []
    },
    {
      "cell_type": "code",
      "source": [],
      "metadata": {
        "id": "FygitOmfdbKs"
      },
      "execution_count": null,
      "outputs": []
    }
  ]
}