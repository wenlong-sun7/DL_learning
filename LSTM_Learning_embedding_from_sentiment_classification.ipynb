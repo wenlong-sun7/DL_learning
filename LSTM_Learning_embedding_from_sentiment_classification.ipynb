{
  "cells": [
    {
      "cell_type": "markdown",
      "metadata": {
        "id": "3iEBvAE4gQ8e"
      },
      "source": [
        "## This demo is a learning note from this github https://github.com/bentrevett/pytorch-sentiment-analysis/tree/main.\n",
        "\n",
        "### Learn how to retrain a word embedding using existing word embedding."
      ]
    },
    {
      "cell_type": "markdown",
      "metadata": {
        "id": "m2nvkFNPGvJE"
      },
      "source": [
        "Torchtext0.15.1 and Torch2.0.0 are compatible with each other for this demo!!"
      ]
    },
    {
      "cell_type": "code",
      "source": [
        "gpu_info = !nvidia-smi\n",
        "gpu_info = '\\n'.join(gpu_info)\n",
        "if gpu_info.find('failed') >= 0:\n",
        "  print('Not connected to a GPU')\n",
        "else:\n",
        "  print(gpu_info)"
      ],
      "metadata": {
        "colab": {
          "base_uri": "https://localhost:8080/"
        },
        "id": "3JwCqph1p0bK",
        "outputId": "7a5a01db-5b1d-42c9-ee3f-94d54eb7a916"
      },
      "execution_count": null,
      "outputs": [
        {
          "output_type": "stream",
          "name": "stdout",
          "text": [
            "Sat Mar 15 17:03:54 2025       \n",
            "+-----------------------------------------------------------------------------------------+\n",
            "| NVIDIA-SMI 550.54.15              Driver Version: 550.54.15      CUDA Version: 12.4     |\n",
            "|-----------------------------------------+------------------------+----------------------+\n",
            "| GPU  Name                 Persistence-M | Bus-Id          Disp.A | Volatile Uncorr. ECC |\n",
            "| Fan  Temp   Perf          Pwr:Usage/Cap |           Memory-Usage | GPU-Util  Compute M. |\n",
            "|                                         |                        |               MIG M. |\n",
            "|=========================================+========================+======================|\n",
            "|   0  NVIDIA A100-SXM4-40GB          Off |   00000000:00:04.0 Off |                    0 |\n",
            "| N/A   35C    P0             49W /  400W |       0MiB /  40960MiB |      0%      Default |\n",
            "|                                         |                        |             Disabled |\n",
            "+-----------------------------------------+------------------------+----------------------+\n",
            "                                                                                         \n",
            "+-----------------------------------------------------------------------------------------+\n",
            "| Processes:                                                                              |\n",
            "|  GPU   GI   CI        PID   Type   Process name                              GPU Memory |\n",
            "|        ID   ID                                                               Usage      |\n",
            "|=========================================================================================|\n",
            "|  No running processes found                                                             |\n",
            "+-----------------------------------------------------------------------------------------+\n"
          ]
        }
      ]
    },
    {
      "cell_type": "code",
      "execution_count": null,
      "metadata": {
        "colab": {
          "base_uri": "https://localhost:8080/"
        },
        "id": "l82XEYpjd-Nc",
        "outputId": "5f356cd6-0968-4f5e-df3c-a19e90e39442"
      },
      "outputs": [
        {
          "output_type": "stream",
          "name": "stdout",
          "text": [
            "Collecting torchtext==0.15.1\n",
            "  Downloading torchtext-0.15.1-cp311-cp311-manylinux1_x86_64.whl.metadata (7.4 kB)\n",
            "Requirement already satisfied: tqdm in /usr/local/lib/python3.11/dist-packages (from torchtext==0.15.1) (4.67.1)\n",
            "Requirement already satisfied: requests in /usr/local/lib/python3.11/dist-packages (from torchtext==0.15.1) (2.32.3)\n",
            "Collecting torch==2.0.0 (from torchtext==0.15.1)\n",
            "  Downloading torch-2.0.0-cp311-cp311-manylinux1_x86_64.whl.metadata (24 kB)\n",
            "Requirement already satisfied: numpy in /usr/local/lib/python3.11/dist-packages (from torchtext==0.15.1) (1.26.4)\n",
            "Collecting torchdata==0.6.0 (from torchtext==0.15.1)\n",
            "  Downloading torchdata-0.6.0-cp311-cp311-manylinux_2_17_x86_64.manylinux2014_x86_64.whl.metadata (892 bytes)\n",
            "Requirement already satisfied: filelock in /usr/local/lib/python3.11/dist-packages (from torch==2.0.0->torchtext==0.15.1) (3.17.0)\n",
            "Requirement already satisfied: typing-extensions in /usr/local/lib/python3.11/dist-packages (from torch==2.0.0->torchtext==0.15.1) (4.12.2)\n",
            "Requirement already satisfied: sympy in /usr/local/lib/python3.11/dist-packages (from torch==2.0.0->torchtext==0.15.1) (1.13.1)\n",
            "Requirement already satisfied: networkx in /usr/local/lib/python3.11/dist-packages (from torch==2.0.0->torchtext==0.15.1) (3.4.2)\n",
            "Requirement already satisfied: jinja2 in /usr/local/lib/python3.11/dist-packages (from torch==2.0.0->torchtext==0.15.1) (3.1.6)\n",
            "Collecting nvidia-cuda-nvrtc-cu11==11.7.99 (from torch==2.0.0->torchtext==0.15.1)\n",
            "  Downloading nvidia_cuda_nvrtc_cu11-11.7.99-2-py3-none-manylinux1_x86_64.whl.metadata (1.5 kB)\n",
            "Collecting nvidia-cuda-runtime-cu11==11.7.99 (from torch==2.0.0->torchtext==0.15.1)\n",
            "  Downloading nvidia_cuda_runtime_cu11-11.7.99-py3-none-manylinux1_x86_64.whl.metadata (1.6 kB)\n",
            "Collecting nvidia-cuda-cupti-cu11==11.7.101 (from torch==2.0.0->torchtext==0.15.1)\n",
            "  Downloading nvidia_cuda_cupti_cu11-11.7.101-py3-none-manylinux1_x86_64.whl.metadata (1.6 kB)\n",
            "Collecting nvidia-cudnn-cu11==8.5.0.96 (from torch==2.0.0->torchtext==0.15.1)\n",
            "  Downloading nvidia_cudnn_cu11-8.5.0.96-2-py3-none-manylinux1_x86_64.whl.metadata (1.6 kB)\n",
            "Collecting nvidia-cublas-cu11==11.10.3.66 (from torch==2.0.0->torchtext==0.15.1)\n",
            "  Downloading nvidia_cublas_cu11-11.10.3.66-py3-none-manylinux1_x86_64.whl.metadata (1.6 kB)\n",
            "Collecting nvidia-cufft-cu11==10.9.0.58 (from torch==2.0.0->torchtext==0.15.1)\n",
            "  Downloading nvidia_cufft_cu11-10.9.0.58-py3-none-manylinux2014_x86_64.whl.metadata (1.5 kB)\n",
            "Collecting nvidia-curand-cu11==10.2.10.91 (from torch==2.0.0->torchtext==0.15.1)\n",
            "  Downloading nvidia_curand_cu11-10.2.10.91-py3-none-manylinux1_x86_64.whl.metadata (1.6 kB)\n",
            "Collecting nvidia-cusolver-cu11==11.4.0.1 (from torch==2.0.0->torchtext==0.15.1)\n",
            "  Downloading nvidia_cusolver_cu11-11.4.0.1-2-py3-none-manylinux1_x86_64.whl.metadata (1.6 kB)\n",
            "Collecting nvidia-cusparse-cu11==11.7.4.91 (from torch==2.0.0->torchtext==0.15.1)\n",
            "  Downloading nvidia_cusparse_cu11-11.7.4.91-py3-none-manylinux1_x86_64.whl.metadata (1.6 kB)\n",
            "Collecting nvidia-nccl-cu11==2.14.3 (from torch==2.0.0->torchtext==0.15.1)\n",
            "  Downloading nvidia_nccl_cu11-2.14.3-py3-none-manylinux1_x86_64.whl.metadata (1.8 kB)\n",
            "Collecting nvidia-nvtx-cu11==11.7.91 (from torch==2.0.0->torchtext==0.15.1)\n",
            "  Downloading nvidia_nvtx_cu11-11.7.91-py3-none-manylinux1_x86_64.whl.metadata (1.7 kB)\n",
            "Collecting triton==2.0.0 (from torch==2.0.0->torchtext==0.15.1)\n",
            "  Downloading triton-2.0.0-1-cp311-cp311-manylinux2014_x86_64.manylinux_2_17_x86_64.whl.metadata (1.0 kB)\n",
            "Requirement already satisfied: urllib3>=1.25 in /usr/local/lib/python3.11/dist-packages (from torchdata==0.6.0->torchtext==0.15.1) (2.3.0)\n",
            "Requirement already satisfied: setuptools in /usr/local/lib/python3.11/dist-packages (from nvidia-cublas-cu11==11.10.3.66->torch==2.0.0->torchtext==0.15.1) (75.1.0)\n",
            "Requirement already satisfied: wheel in /usr/local/lib/python3.11/dist-packages (from nvidia-cublas-cu11==11.10.3.66->torch==2.0.0->torchtext==0.15.1) (0.45.1)\n",
            "Requirement already satisfied: cmake in /usr/local/lib/python3.11/dist-packages (from triton==2.0.0->torch==2.0.0->torchtext==0.15.1) (3.31.6)\n",
            "Collecting lit (from triton==2.0.0->torch==2.0.0->torchtext==0.15.1)\n",
            "  Downloading lit-18.1.8-py3-none-any.whl.metadata (2.5 kB)\n",
            "Requirement already satisfied: charset-normalizer<4,>=2 in /usr/local/lib/python3.11/dist-packages (from requests->torchtext==0.15.1) (3.4.1)\n",
            "Requirement already satisfied: idna<4,>=2.5 in /usr/local/lib/python3.11/dist-packages (from requests->torchtext==0.15.1) (3.10)\n",
            "Requirement already satisfied: certifi>=2017.4.17 in /usr/local/lib/python3.11/dist-packages (from requests->torchtext==0.15.1) (2025.1.31)\n",
            "Requirement already satisfied: MarkupSafe>=2.0 in /usr/local/lib/python3.11/dist-packages (from jinja2->torch==2.0.0->torchtext==0.15.1) (3.0.2)\n",
            "Requirement already satisfied: mpmath<1.4,>=1.1.0 in /usr/local/lib/python3.11/dist-packages (from sympy->torch==2.0.0->torchtext==0.15.1) (1.3.0)\n",
            "Downloading torchtext-0.15.1-cp311-cp311-manylinux1_x86_64.whl (2.0 MB)\n",
            "\u001b[2K   \u001b[90m━━━━━━━━━━━━━━━━━━━━━━━━━━━━━━━━━━━━━━━━\u001b[0m \u001b[32m2.0/2.0 MB\u001b[0m \u001b[31m182.7 MB/s\u001b[0m eta \u001b[36m0:00:00\u001b[0m\n",
            "\u001b[?25hDownloading torch-2.0.0-cp311-cp311-manylinux1_x86_64.whl (619.9 MB)\n",
            "\u001b[2K   \u001b[90m━━━━━━━━━━━━━━━━━━━━━━━━━━━━━━━━━━━━━━━━\u001b[0m \u001b[32m619.9/619.9 MB\u001b[0m \u001b[31m185.6 MB/s\u001b[0m eta \u001b[36m0:00:00\u001b[0m\n",
            "\u001b[?25hDownloading torchdata-0.6.0-cp311-cp311-manylinux_2_17_x86_64.manylinux2014_x86_64.whl (4.6 MB)\n",
            "\u001b[2K   \u001b[90m━━━━━━━━━━━━━━━━━━━━━━━━━━━━━━━━━━━━━━━━\u001b[0m \u001b[32m4.6/4.6 MB\u001b[0m \u001b[31m248.3 MB/s\u001b[0m eta \u001b[36m0:00:00\u001b[0m\n",
            "\u001b[?25hDownloading nvidia_cublas_cu11-11.10.3.66-py3-none-manylinux1_x86_64.whl (317.1 MB)\n",
            "\u001b[2K   \u001b[90m━━━━━━━━━━━━━━━━━━━━━━━━━━━━━━━━━━━━━━━━\u001b[0m \u001b[32m317.1/317.1 MB\u001b[0m \u001b[31m188.7 MB/s\u001b[0m eta \u001b[36m0:00:00\u001b[0m\n",
            "\u001b[?25hDownloading nvidia_cuda_cupti_cu11-11.7.101-py3-none-manylinux1_x86_64.whl (11.8 MB)\n",
            "\u001b[2K   \u001b[90m━━━━━━━━━━━━━━━━━━━━━━━━━━━━━━━━━━━━━━━━\u001b[0m \u001b[32m11.8/11.8 MB\u001b[0m \u001b[31m228.0 MB/s\u001b[0m eta \u001b[36m0:00:00\u001b[0m\n",
            "\u001b[?25hDownloading nvidia_cuda_nvrtc_cu11-11.7.99-2-py3-none-manylinux1_x86_64.whl (21.0 MB)\n",
            "\u001b[2K   \u001b[90m━━━━━━━━━━━━━━━━━━━━━━━━━━━━━━━━━━━━━━━━\u001b[0m \u001b[32m21.0/21.0 MB\u001b[0m \u001b[31m155.0 MB/s\u001b[0m eta \u001b[36m0:00:00\u001b[0m\n",
            "\u001b[?25hDownloading nvidia_cuda_runtime_cu11-11.7.99-py3-none-manylinux1_x86_64.whl (849 kB)\n",
            "\u001b[2K   \u001b[90m━━━━━━━━━━━━━━━━━━━━━━━━━━━━━━━━━━━━━━━━\u001b[0m \u001b[32m849.3/849.3 kB\u001b[0m \u001b[31m341.2 MB/s\u001b[0m eta \u001b[36m0:00:00\u001b[0m\n",
            "\u001b[?25hDownloading nvidia_cudnn_cu11-8.5.0.96-2-py3-none-manylinux1_x86_64.whl (557.1 MB)\n",
            "\u001b[2K   \u001b[90m━━━━━━━━━━━━━━━━━━━━━━━━━━━━━━━━━━━━━━━━\u001b[0m \u001b[32m557.1/557.1 MB\u001b[0m \u001b[31m253.9 MB/s\u001b[0m eta \u001b[36m0:00:00\u001b[0m\n",
            "\u001b[?25hDownloading nvidia_cufft_cu11-10.9.0.58-py3-none-manylinux2014_x86_64.whl (168.4 MB)\n",
            "\u001b[2K   \u001b[90m━━━━━━━━━━━━━━━━━━━━━━━━━━━━━━━━━━━━━━━━\u001b[0m \u001b[32m168.4/168.4 MB\u001b[0m \u001b[31m271.8 MB/s\u001b[0m eta \u001b[36m0:00:00\u001b[0m\n",
            "\u001b[?25hDownloading nvidia_curand_cu11-10.2.10.91-py3-none-manylinux1_x86_64.whl (54.6 MB)\n",
            "\u001b[2K   \u001b[90m━━━━━━━━━━━━━━━━━━━━━━━━━━━━━━━━━━━━━━━━\u001b[0m \u001b[32m54.6/54.6 MB\u001b[0m \u001b[31m231.6 MB/s\u001b[0m eta \u001b[36m0:00:00\u001b[0m\n",
            "\u001b[?25hDownloading nvidia_cusolver_cu11-11.4.0.1-2-py3-none-manylinux1_x86_64.whl (102.6 MB)\n",
            "\u001b[2K   \u001b[90m━━━━━━━━━━━━━━━━━━━━━━━━━━━━━━━━━━━━━━━━\u001b[0m \u001b[32m102.6/102.6 MB\u001b[0m \u001b[31m274.1 MB/s\u001b[0m eta \u001b[36m0:00:00\u001b[0m\n",
            "\u001b[?25hDownloading nvidia_cusparse_cu11-11.7.4.91-py3-none-manylinux1_x86_64.whl (173.2 MB)\n",
            "\u001b[2K   \u001b[90m━━━━━━━━━━━━━━━━━━━━━━━━━━━━━━━━━━━━━━━━\u001b[0m \u001b[32m173.2/173.2 MB\u001b[0m \u001b[31m227.2 MB/s\u001b[0m eta \u001b[36m0:00:00\u001b[0m\n",
            "\u001b[?25hDownloading nvidia_nccl_cu11-2.14.3-py3-none-manylinux1_x86_64.whl (177.1 MB)\n",
            "\u001b[2K   \u001b[90m━━━━━━━━━━━━━━━━━━━━━━━━━━━━━━━━━━━━━━━━\u001b[0m \u001b[32m177.1/177.1 MB\u001b[0m \u001b[31m300.6 MB/s\u001b[0m eta \u001b[36m0:00:00\u001b[0m\n",
            "\u001b[?25hDownloading nvidia_nvtx_cu11-11.7.91-py3-none-manylinux1_x86_64.whl (98 kB)\n",
            "\u001b[2K   \u001b[90m━━━━━━━━━━━━━━━━━━━━━━━━━━━━━━━━━━━━━━━━\u001b[0m \u001b[32m98.6/98.6 kB\u001b[0m \u001b[31m280.7 MB/s\u001b[0m eta \u001b[36m0:00:00\u001b[0m\n",
            "\u001b[?25hDownloading triton-2.0.0-1-cp311-cp311-manylinux2014_x86_64.manylinux_2_17_x86_64.whl (63.3 MB)\n",
            "\u001b[2K   \u001b[90m━━━━━━━━━━━━━━━━━━━━━━━━━━━━━━━━━━━━━━━━\u001b[0m \u001b[32m63.3/63.3 MB\u001b[0m \u001b[31m242.9 MB/s\u001b[0m eta \u001b[36m0:00:00\u001b[0m\n",
            "\u001b[?25hDownloading lit-18.1.8-py3-none-any.whl (96 kB)\n",
            "\u001b[2K   \u001b[90m━━━━━━━━━━━━━━━━━━━━━━━━━━━━━━━━━━━━━━━━\u001b[0m \u001b[32m96.4/96.4 kB\u001b[0m \u001b[31m265.3 MB/s\u001b[0m eta \u001b[36m0:00:00\u001b[0m\n",
            "\u001b[?25hInstalling collected packages: lit, nvidia-nvtx-cu11, nvidia-nccl-cu11, nvidia-cusparse-cu11, nvidia-curand-cu11, nvidia-cufft-cu11, nvidia-cuda-runtime-cu11, nvidia-cuda-nvrtc-cu11, nvidia-cuda-cupti-cu11, nvidia-cublas-cu11, nvidia-cusolver-cu11, nvidia-cudnn-cu11, triton, torch, torchdata, torchtext\n",
            "  Attempting uninstall: triton\n",
            "    Found existing installation: triton 3.2.0\n",
            "    Uninstalling triton-3.2.0:\n",
            "      Successfully uninstalled triton-3.2.0\n",
            "  Attempting uninstall: torch\n",
            "    Found existing installation: torch 2.6.0+cu124\n",
            "    Uninstalling torch-2.6.0+cu124:\n",
            "      Successfully uninstalled torch-2.6.0+cu124\n",
            "\u001b[31mERROR: pip's dependency resolver does not currently take into account all the packages that are installed. This behaviour is the source of the following dependency conflicts.\n",
            "torchaudio 2.6.0+cu124 requires torch==2.6.0, but you have torch 2.0.0 which is incompatible.\n",
            "torchvision 0.21.0+cu124 requires torch==2.6.0, but you have torch 2.0.0 which is incompatible.\u001b[0m\u001b[31m\n",
            "\u001b[0mSuccessfully installed lit-18.1.8 nvidia-cublas-cu11-11.10.3.66 nvidia-cuda-cupti-cu11-11.7.101 nvidia-cuda-nvrtc-cu11-11.7.99 nvidia-cuda-runtime-cu11-11.7.99 nvidia-cudnn-cu11-8.5.0.96 nvidia-cufft-cu11-10.9.0.58 nvidia-curand-cu11-10.2.10.91 nvidia-cusolver-cu11-11.4.0.1 nvidia-cusparse-cu11-11.7.4.91 nvidia-nccl-cu11-2.14.3 nvidia-nvtx-cu11-11.7.91 torch-2.0.0 torchdata-0.6.0 torchtext-0.15.1 triton-2.0.0\n",
            "Requirement already satisfied: torch==2.0.0 in /usr/local/lib/python3.11/dist-packages (2.0.0)\n",
            "Requirement already satisfied: filelock in /usr/local/lib/python3.11/dist-packages (from torch==2.0.0) (3.17.0)\n",
            "Requirement already satisfied: typing-extensions in /usr/local/lib/python3.11/dist-packages (from torch==2.0.0) (4.12.2)\n",
            "Requirement already satisfied: sympy in /usr/local/lib/python3.11/dist-packages (from torch==2.0.0) (1.13.1)\n",
            "Requirement already satisfied: networkx in /usr/local/lib/python3.11/dist-packages (from torch==2.0.0) (3.4.2)\n",
            "Requirement already satisfied: jinja2 in /usr/local/lib/python3.11/dist-packages (from torch==2.0.0) (3.1.6)\n",
            "Requirement already satisfied: nvidia-cuda-nvrtc-cu11==11.7.99 in /usr/local/lib/python3.11/dist-packages (from torch==2.0.0) (11.7.99)\n",
            "Requirement already satisfied: nvidia-cuda-runtime-cu11==11.7.99 in /usr/local/lib/python3.11/dist-packages (from torch==2.0.0) (11.7.99)\n",
            "Requirement already satisfied: nvidia-cuda-cupti-cu11==11.7.101 in /usr/local/lib/python3.11/dist-packages (from torch==2.0.0) (11.7.101)\n",
            "Requirement already satisfied: nvidia-cudnn-cu11==8.5.0.96 in /usr/local/lib/python3.11/dist-packages (from torch==2.0.0) (8.5.0.96)\n",
            "Requirement already satisfied: nvidia-cublas-cu11==11.10.3.66 in /usr/local/lib/python3.11/dist-packages (from torch==2.0.0) (11.10.3.66)\n",
            "Requirement already satisfied: nvidia-cufft-cu11==10.9.0.58 in /usr/local/lib/python3.11/dist-packages (from torch==2.0.0) (10.9.0.58)\n",
            "Requirement already satisfied: nvidia-curand-cu11==10.2.10.91 in /usr/local/lib/python3.11/dist-packages (from torch==2.0.0) (10.2.10.91)\n",
            "Requirement already satisfied: nvidia-cusolver-cu11==11.4.0.1 in /usr/local/lib/python3.11/dist-packages (from torch==2.0.0) (11.4.0.1)\n",
            "Requirement already satisfied: nvidia-cusparse-cu11==11.7.4.91 in /usr/local/lib/python3.11/dist-packages (from torch==2.0.0) (11.7.4.91)\n",
            "Requirement already satisfied: nvidia-nccl-cu11==2.14.3 in /usr/local/lib/python3.11/dist-packages (from torch==2.0.0) (2.14.3)\n",
            "Requirement already satisfied: nvidia-nvtx-cu11==11.7.91 in /usr/local/lib/python3.11/dist-packages (from torch==2.0.0) (11.7.91)\n",
            "Requirement already satisfied: triton==2.0.0 in /usr/local/lib/python3.11/dist-packages (from torch==2.0.0) (2.0.0)\n",
            "Requirement already satisfied: setuptools in /usr/local/lib/python3.11/dist-packages (from nvidia-cublas-cu11==11.10.3.66->torch==2.0.0) (75.1.0)\n",
            "Requirement already satisfied: wheel in /usr/local/lib/python3.11/dist-packages (from nvidia-cublas-cu11==11.10.3.66->torch==2.0.0) (0.45.1)\n",
            "Requirement already satisfied: cmake in /usr/local/lib/python3.11/dist-packages (from triton==2.0.0->torch==2.0.0) (3.31.6)\n",
            "Requirement already satisfied: lit in /usr/local/lib/python3.11/dist-packages (from triton==2.0.0->torch==2.0.0) (18.1.8)\n",
            "Requirement already satisfied: MarkupSafe>=2.0 in /usr/local/lib/python3.11/dist-packages (from jinja2->torch==2.0.0) (3.0.2)\n",
            "Requirement already satisfied: mpmath<1.4,>=1.1.0 in /usr/local/lib/python3.11/dist-packages (from sympy->torch==2.0.0) (1.3.0)\n",
            "Collecting datasets\n",
            "  Downloading datasets-3.4.0-py3-none-any.whl.metadata (19 kB)\n",
            "Requirement already satisfied: filelock in /usr/local/lib/python3.11/dist-packages (from datasets) (3.17.0)\n",
            "Requirement already satisfied: numpy>=1.17 in /usr/local/lib/python3.11/dist-packages (from datasets) (1.26.4)\n",
            "Requirement already satisfied: pyarrow>=15.0.0 in /usr/local/lib/python3.11/dist-packages (from datasets) (18.1.0)\n",
            "Collecting dill<0.3.9,>=0.3.0 (from datasets)\n",
            "  Downloading dill-0.3.8-py3-none-any.whl.metadata (10 kB)\n",
            "Requirement already satisfied: pandas in /usr/local/lib/python3.11/dist-packages (from datasets) (2.2.2)\n",
            "Requirement already satisfied: requests>=2.32.2 in /usr/local/lib/python3.11/dist-packages (from datasets) (2.32.3)\n",
            "Requirement already satisfied: tqdm>=4.66.3 in /usr/local/lib/python3.11/dist-packages (from datasets) (4.67.1)\n",
            "Collecting xxhash (from datasets)\n",
            "  Downloading xxhash-3.5.0-cp311-cp311-manylinux_2_17_x86_64.manylinux2014_x86_64.whl.metadata (12 kB)\n",
            "Collecting multiprocess<0.70.17 (from datasets)\n",
            "  Downloading multiprocess-0.70.16-py311-none-any.whl.metadata (7.2 kB)\n",
            "Requirement already satisfied: fsspec<=2024.12.0,>=2023.1.0 in /usr/local/lib/python3.11/dist-packages (from fsspec[http]<=2024.12.0,>=2023.1.0->datasets) (2024.10.0)\n",
            "Requirement already satisfied: aiohttp in /usr/local/lib/python3.11/dist-packages (from datasets) (3.11.13)\n",
            "Requirement already satisfied: huggingface-hub>=0.24.0 in /usr/local/lib/python3.11/dist-packages (from datasets) (0.28.1)\n",
            "Requirement already satisfied: packaging in /usr/local/lib/python3.11/dist-packages (from datasets) (24.2)\n",
            "Requirement already satisfied: pyyaml>=5.1 in /usr/local/lib/python3.11/dist-packages (from datasets) (6.0.2)\n",
            "Requirement already satisfied: aiohappyeyeballs>=2.3.0 in /usr/local/lib/python3.11/dist-packages (from aiohttp->datasets) (2.6.1)\n",
            "Requirement already satisfied: aiosignal>=1.1.2 in /usr/local/lib/python3.11/dist-packages (from aiohttp->datasets) (1.3.2)\n",
            "Requirement already satisfied: attrs>=17.3.0 in /usr/local/lib/python3.11/dist-packages (from aiohttp->datasets) (25.2.0)\n",
            "Requirement already satisfied: frozenlist>=1.1.1 in /usr/local/lib/python3.11/dist-packages (from aiohttp->datasets) (1.5.0)\n",
            "Requirement already satisfied: multidict<7.0,>=4.5 in /usr/local/lib/python3.11/dist-packages (from aiohttp->datasets) (6.1.0)\n",
            "Requirement already satisfied: propcache>=0.2.0 in /usr/local/lib/python3.11/dist-packages (from aiohttp->datasets) (0.3.0)\n",
            "Requirement already satisfied: yarl<2.0,>=1.17.0 in /usr/local/lib/python3.11/dist-packages (from aiohttp->datasets) (1.18.3)\n",
            "Requirement already satisfied: typing-extensions>=3.7.4.3 in /usr/local/lib/python3.11/dist-packages (from huggingface-hub>=0.24.0->datasets) (4.12.2)\n",
            "Requirement already satisfied: charset-normalizer<4,>=2 in /usr/local/lib/python3.11/dist-packages (from requests>=2.32.2->datasets) (3.4.1)\n",
            "Requirement already satisfied: idna<4,>=2.5 in /usr/local/lib/python3.11/dist-packages (from requests>=2.32.2->datasets) (3.10)\n",
            "Requirement already satisfied: urllib3<3,>=1.21.1 in /usr/local/lib/python3.11/dist-packages (from requests>=2.32.2->datasets) (2.3.0)\n",
            "Requirement already satisfied: certifi>=2017.4.17 in /usr/local/lib/python3.11/dist-packages (from requests>=2.32.2->datasets) (2025.1.31)\n",
            "Requirement already satisfied: python-dateutil>=2.8.2 in /usr/local/lib/python3.11/dist-packages (from pandas->datasets) (2.8.2)\n",
            "Requirement already satisfied: pytz>=2020.1 in /usr/local/lib/python3.11/dist-packages (from pandas->datasets) (2025.1)\n",
            "Requirement already satisfied: tzdata>=2022.7 in /usr/local/lib/python3.11/dist-packages (from pandas->datasets) (2025.1)\n",
            "Requirement already satisfied: six>=1.5 in /usr/local/lib/python3.11/dist-packages (from python-dateutil>=2.8.2->pandas->datasets) (1.17.0)\n",
            "Downloading datasets-3.4.0-py3-none-any.whl (487 kB)\n",
            "\u001b[2K   \u001b[90m━━━━━━━━━━━━━━━━━━━━━━━━━━━━━━━━━━━━━━━━\u001b[0m \u001b[32m487.4/487.4 kB\u001b[0m \u001b[31m22.6 MB/s\u001b[0m eta \u001b[36m0:00:00\u001b[0m\n",
            "\u001b[?25hDownloading dill-0.3.8-py3-none-any.whl (116 kB)\n",
            "\u001b[2K   \u001b[90m━━━━━━━━━━━━━━━━━━━━━━━━━━━━━━━━━━━━━━━━\u001b[0m \u001b[32m116.3/116.3 kB\u001b[0m \u001b[31m8.1 MB/s\u001b[0m eta \u001b[36m0:00:00\u001b[0m\n",
            "\u001b[?25hDownloading multiprocess-0.70.16-py311-none-any.whl (143 kB)\n",
            "\u001b[2K   \u001b[90m━━━━━━━━━━━━━━━━━━━━━━━━━━━━━━━━━━━━━━━━\u001b[0m \u001b[32m143.5/143.5 kB\u001b[0m \u001b[31m13.3 MB/s\u001b[0m eta \u001b[36m0:00:00\u001b[0m\n",
            "\u001b[?25hDownloading xxhash-3.5.0-cp311-cp311-manylinux_2_17_x86_64.manylinux2014_x86_64.whl (194 kB)\n",
            "\u001b[2K   \u001b[90m━━━━━━━━━━━━━━━━━━━━━━━━━━━━━━━━━━━━━━━━\u001b[0m \u001b[32m194.8/194.8 kB\u001b[0m \u001b[31m19.0 MB/s\u001b[0m eta \u001b[36m0:00:00\u001b[0m\n",
            "\u001b[?25hInstalling collected packages: xxhash, dill, multiprocess, datasets\n",
            "Successfully installed datasets-3.4.0 dill-0.3.8 multiprocess-0.70.16 xxhash-3.5.0\n",
            "Name: torchtext\n",
            "Version: 0.15.1\n",
            "Summary: Text utilities and datasets for PyTorch\n",
            "Home-page: https://github.com/pytorch/text\n",
            "Author: PyTorch core devs and James Bradbury\n",
            "Author-email: jekbradbury@gmail.com\n",
            "License: BSD\n",
            "Location: /usr/local/lib/python3.11/dist-packages\n",
            "Requires: numpy, requests, torch, torchdata, tqdm\n",
            "Required-by: \n",
            "Name: torch\n",
            "Version: 2.0.0\n",
            "Summary: Tensors and Dynamic neural networks in Python with strong GPU acceleration\n",
            "Home-page: https://pytorch.org/\n",
            "Author: PyTorch Team\n",
            "Author-email: packages@pytorch.org\n",
            "License: BSD-3\n",
            "Location: /usr/local/lib/python3.11/dist-packages\n",
            "Requires: filelock, jinja2, networkx, nvidia-cublas-cu11, nvidia-cuda-cupti-cu11, nvidia-cuda-nvrtc-cu11, nvidia-cuda-runtime-cu11, nvidia-cudnn-cu11, nvidia-cufft-cu11, nvidia-curand-cu11, nvidia-cusolver-cu11, nvidia-cusparse-cu11, nvidia-nccl-cu11, nvidia-nvtx-cu11, sympy, triton, typing-extensions\n",
            "Required-by: accelerate, fastai, peft, sentence-transformers, timm, torchaudio, torchdata, torchtext, torchvision, triton\n"
          ]
        }
      ],
      "source": [
        "!pip install torchtext==0.15.1 --no-cache-dir\n",
        "!pip install torch==2.0.0 --no-cache-dir\n",
        "!pip install datasets\n",
        "\n",
        "!pip show torchtext\n",
        "!pip show torch"
      ]
    },
    {
      "cell_type": "code",
      "execution_count": null,
      "metadata": {
        "id": "1Pk-k4Q9eSc-"
      },
      "outputs": [],
      "source": [
        "\n",
        "import io\n",
        "import os\n",
        "import re\n",
        "import shutil\n",
        "import string\n",
        "import torch\n",
        "import torchtext"
      ]
    },
    {
      "cell_type": "code",
      "source": [
        "# check whether gpu is available\n",
        "torch.cuda.is_available()"
      ],
      "metadata": {
        "id": "9cRWqhUIepJ3",
        "colab": {
          "base_uri": "https://localhost:8080/"
        },
        "outputId": "d3bafd4f-d003-48d6-d2b5-08c8e57ac8aa"
      },
      "execution_count": null,
      "outputs": [
        {
          "output_type": "execute_result",
          "data": {
            "text/plain": [
              "True"
            ]
          },
          "metadata": {},
          "execution_count": 4
        }
      ]
    },
    {
      "cell_type": "code",
      "execution_count": null,
      "metadata": {
        "id": "fyMOdKKPeny7",
        "colab": {
          "base_uri": "https://localhost:8080/",
          "height": 368,
          "referenced_widgets": [
            "5bab6a7eda7444d0b53cb6581b225a0f",
            "b37f2a96a3424c38bfe487ea0177c420",
            "33e7668f4b41464093dbee1d11a96ac3",
            "365d247d2b7047f1bf476666c1c8aba5",
            "f041e4116d584904afa5a1283d878349",
            "39f19645bf2f4d36ad6f899ed1f38522",
            "d1b901eb727149d2b7389c0cdbfe7cee",
            "da1fac9b75d3485c8a146e3f1b84c865",
            "77cd935ac7254ceab72deb76cc709091",
            "3a5209e824a84cc08db8558ca48c902f",
            "aaa207ecaed6445ea113bb96ebbe2dc5",
            "3734b165152746d6a62e640dd4e0e87f",
            "b559cfa63c4c4b9f8b6f31cf404c5aa2",
            "12f4207f64e34565989b43a08dcb77f0",
            "cc090090f6ad45379f39786114bfb672",
            "c9d06f76161c4a1586ff7a0b7ef3fdda",
            "5b1db881780d4fa4a5d3cf405a976103",
            "94a16ee59a1a4978a5b7310eb307f19a",
            "a65bb54000c64567be7dc5a1c880a256",
            "75276ffd3a4d4e6499ae57c0ae1abace",
            "076763b2293e456aaee9201fee33fa91",
            "7d564d92b6a34442a5759c90388097fe",
            "a139d4979f034635afed3553dd112447",
            "f44e29a1329f447c9ab5e057dafd1698",
            "30f52a1c2b344d148a86875777a96b93",
            "a89a1cd63456451d98badab5cdd2b327",
            "c66c8cebc184465ba4c9f89b5192010d",
            "847d095aa61b42b2912f5c486d9a2595",
            "b70849d543e644d3bff94a3896e0306b",
            "b3f7759be92d4734ba3184e01b63a0df",
            "8f3cc1465aa04db38070ab037cc169b0",
            "8bf746ecaa47489b896430e961f46fcd",
            "635d254ec19c47ba915f92a957f136ae",
            "6ce68fb347f746faaffb7bb52c73f3e2",
            "565004337f5c4fbc9df2ee75e905d9a7",
            "56f717cb3b184b4394763efa5a2a1a5e",
            "ed829bb68f0a4b7896d8e04ba979ea2c",
            "e1757f5122bb448ba52bbbc4cff4014f",
            "cf1b9c96f48242e4a9b4032cb617f8ac",
            "18a1fe67f26a449cb6419420b294946a",
            "1b7a2789a1ce4860ad09002f95fec35d",
            "09b7bd72c7234cc0861f1209249b3f4f",
            "bc219f8474704c4c900c46443f030f8b",
            "145657f6c7d9490b866485ca94235e99",
            "c5a50baed79644c4994c1be7f3de824d",
            "ae5b159772bb40d9a6c05c3391003ed4",
            "1a2be8d8182845b0806bda635af22dc8",
            "95ccdce5b9da4f1784ee5c9aedc23d2e",
            "f5f71437fc4241d79924f9d13647ba2a",
            "2a68a0dcaa4043a79d65c18fc2252e1d",
            "3e527ea672e2464390e1abf850893b51",
            "6ed9d6b7aa0f402d8cd463ea61a7b191",
            "985b2c86ee704eb8bc28630d218205f6",
            "d9f607d4f04040a8ab97b37b7fd04635",
            "c54f83077028466c8d9cce0e06ca0214",
            "d935c7aefeea49fb8b0dcef1b8cfc787",
            "a8bd712784f64acc89dace70c66d4957",
            "d663419dd7f645d7af873d73419062cd",
            "be242aa645be4c00ad3e4ec5e59f1241",
            "b97ec40bb9b74628baafb5ae4a75599c",
            "23ee603a142c4508b4cc983070468404",
            "479dc23ae83f4cf8aee53e89957dabb6",
            "c58fd36c47e94a5e96dc15260edff09b",
            "a3f651e9a03a412899b495e485f3f6d6",
            "7118c1a912d34d20b840edd57c215bfe",
            "1278423b85f045a096e5de5b18e9fd3c",
            "09369b9647f848f98d7c24cc336fd006",
            "d76ac7032b774ce39e66629ff59724ed",
            "7524b875c77c44b48cfada9cfb37d7ae",
            "a5f5470173944290a6752e7912e4c4b9",
            "93249dbde7f5423e95e5355aab399d52",
            "dbe8a67065634f50a62829e69109e68a",
            "ba7958c761804b6ebe116b1ec71f8e72",
            "d2d2db42e79e41e7a2ba4384e052dc51",
            "886b178657de424b99753edddaee351b",
            "d3b3e127eb674f3ebbe4ad4723b98849",
            "4b085058a57a4affa46adab5bca0a092"
          ]
        },
        "outputId": "bb205457-9e6a-470c-c20e-0345ca9f1d20"
      },
      "outputs": [
        {
          "output_type": "stream",
          "name": "stderr",
          "text": [
            "/usr/local/lib/python3.11/dist-packages/huggingface_hub/utils/_auth.py:94: UserWarning: \n",
            "The secret `HF_TOKEN` does not exist in your Colab secrets.\n",
            "To authenticate with the Hugging Face Hub, create a token in your settings tab (https://huggingface.co/settings/tokens), set it as secret in your Google Colab and restart your session.\n",
            "You will be able to reuse this secret in all of your notebooks.\n",
            "Please note that authentication is recommended but still optional to access public models or datasets.\n",
            "  warnings.warn(\n"
          ]
        },
        {
          "output_type": "display_data",
          "data": {
            "text/plain": [
              "README.md:   0%|          | 0.00/7.81k [00:00<?, ?B/s]"
            ],
            "application/vnd.jupyter.widget-view+json": {
              "version_major": 2,
              "version_minor": 0,
              "model_id": "5bab6a7eda7444d0b53cb6581b225a0f"
            }
          },
          "metadata": {}
        },
        {
          "output_type": "display_data",
          "data": {
            "text/plain": [
              "train-00000-of-00001.parquet:   0%|          | 0.00/21.0M [00:00<?, ?B/s]"
            ],
            "application/vnd.jupyter.widget-view+json": {
              "version_major": 2,
              "version_minor": 0,
              "model_id": "3734b165152746d6a62e640dd4e0e87f"
            }
          },
          "metadata": {}
        },
        {
          "output_type": "display_data",
          "data": {
            "text/plain": [
              "test-00000-of-00001.parquet:   0%|          | 0.00/20.5M [00:00<?, ?B/s]"
            ],
            "application/vnd.jupyter.widget-view+json": {
              "version_major": 2,
              "version_minor": 0,
              "model_id": "a139d4979f034635afed3553dd112447"
            }
          },
          "metadata": {}
        },
        {
          "output_type": "display_data",
          "data": {
            "text/plain": [
              "unsupervised-00000-of-00001.parquet:   0%|          | 0.00/42.0M [00:00<?, ?B/s]"
            ],
            "application/vnd.jupyter.widget-view+json": {
              "version_major": 2,
              "version_minor": 0,
              "model_id": "6ce68fb347f746faaffb7bb52c73f3e2"
            }
          },
          "metadata": {}
        },
        {
          "output_type": "display_data",
          "data": {
            "text/plain": [
              "Generating train split:   0%|          | 0/25000 [00:00<?, ? examples/s]"
            ],
            "application/vnd.jupyter.widget-view+json": {
              "version_major": 2,
              "version_minor": 0,
              "model_id": "c5a50baed79644c4994c1be7f3de824d"
            }
          },
          "metadata": {}
        },
        {
          "output_type": "display_data",
          "data": {
            "text/plain": [
              "Generating test split:   0%|          | 0/25000 [00:00<?, ? examples/s]"
            ],
            "application/vnd.jupyter.widget-view+json": {
              "version_major": 2,
              "version_minor": 0,
              "model_id": "d935c7aefeea49fb8b0dcef1b8cfc787"
            }
          },
          "metadata": {}
        },
        {
          "output_type": "display_data",
          "data": {
            "text/plain": [
              "Generating unsupervised split:   0%|          | 0/50000 [00:00<?, ? examples/s]"
            ],
            "application/vnd.jupyter.widget-view+json": {
              "version_major": 2,
              "version_minor": 0,
              "model_id": "09369b9647f848f98d7c24cc336fd006"
            }
          },
          "metadata": {}
        }
      ],
      "source": [
        "\n",
        "from datasets import load_dataset\n",
        "\n",
        "imdb = load_dataset(\"imdb\")\n",
        "\n",
        "train_dataset = imdb[\"train\"]\n",
        "test_dataset = imdb[\"test\"]\n"
      ]
    },
    {
      "cell_type": "code",
      "execution_count": null,
      "metadata": {
        "colab": {
          "base_uri": "https://localhost:8080/"
        },
        "id": "9n4R4Og3hiGG",
        "outputId": "4d78b7ef-d890-4bb7-9b94-6297df5a5dfd"
      },
      "outputs": [
        {
          "output_type": "execute_result",
          "data": {
            "text/plain": [
              "{'text': 'I rented I AM CURIOUS-YELLOW from my video store because of all the controversy that surrounded it when it was first released in 1967. I also heard that at first it was seized by U.S. customs if it ever tried to enter this country, therefore being a fan of films considered \"controversial\" I really had to see this for myself.<br /><br />The plot is centered around a young Swedish drama student named Lena who wants to learn everything she can about life. In particular she wants to focus her attentions to making some sort of documentary on what the average Swede thought about certain political issues such as the Vietnam War and race issues in the United States. In between asking politicians and ordinary denizens of Stockholm about their opinions on politics, she has sex with her drama teacher, classmates, and married men.<br /><br />What kills me about I AM CURIOUS-YELLOW is that 40 years ago, this was considered pornographic. Really, the sex and nudity scenes are few and far between, even then it\\'s not shot like some cheaply made porno. While my countrymen mind find it shocking, in reality sex and nudity are a major staple in Swedish cinema. Even Ingmar Bergman, arguably their answer to good old boy John Ford, had sex scenes in his films.<br /><br />I do commend the filmmakers for the fact that any sex shown in the film is shown for artistic purposes rather than just to shock people and make money to be shown in pornographic theaters in America. I AM CURIOUS-YELLOW is a good film for anyone wanting to study the meat and potatoes (no pun intended) of Swedish cinema. But really, this film doesn\\'t have much of a plot.',\n",
              " 'label': 0}"
            ]
          },
          "metadata": {},
          "execution_count": 6
        }
      ],
      "source": [
        "train_dataset[0]"
      ]
    },
    {
      "cell_type": "code",
      "execution_count": null,
      "metadata": {
        "colab": {
          "base_uri": "https://localhost:8080/"
        },
        "id": "8X6ogJhyF5en",
        "outputId": "2755d7ea-929a-4911-ba01-ca3062c6726c"
      },
      "outputs": [
        {
          "output_type": "execute_result",
          "data": {
            "text/plain": [
              "{'text': Value(dtype='string', id=None),\n",
              " 'label': ClassLabel(names=['neg', 'pos'], id=None)}"
            ]
          },
          "metadata": {},
          "execution_count": 7
        }
      ],
      "source": [
        "train_dataset.features"
      ]
    },
    {
      "cell_type": "code",
      "execution_count": null,
      "metadata": {
        "colab": {
          "base_uri": "https://localhost:8080/"
        },
        "id": "HieUieQlDurv",
        "outputId": "27801212-6888-4e87-cdb7-051fe8960108"
      },
      "outputs": [
        {
          "output_type": "execute_result",
          "data": {
            "text/plain": [
              "(Dataset({\n",
              "     features: ['text', 'label'],\n",
              "     num_rows: 25000\n",
              " }),\n",
              " Dataset({\n",
              "     features: ['text', 'label'],\n",
              "     num_rows: 25000\n",
              " }))"
            ]
          },
          "metadata": {},
          "execution_count": 8
        }
      ],
      "source": [
        "train_dataset, test_dataset"
      ]
    },
    {
      "cell_type": "code",
      "execution_count": null,
      "metadata": {
        "colab": {
          "base_uri": "https://localhost:8080/"
        },
        "id": "OQM8CzkDEE3N",
        "outputId": "59b5c21c-f994-41ab-e8a0-ab0b4d1c03c1"
      },
      "outputs": [
        {
          "output_type": "execute_result",
          "data": {
            "text/plain": [
              "{'text': Value(dtype='string', id=None),\n",
              " 'label': ClassLabel(names=['neg', 'pos'], id=None)}"
            ]
          },
          "metadata": {},
          "execution_count": 9
        }
      ],
      "source": [
        "train_dataset.features"
      ]
    },
    {
      "cell_type": "code",
      "execution_count": null,
      "metadata": {
        "colab": {
          "base_uri": "https://localhost:8080/"
        },
        "id": "Y8JksdmPh4WU",
        "outputId": "d2f13a6f-881a-492c-bfed-dcbd918b3f90"
      },
      "outputs": [
        {
          "output_type": "execute_result",
          "data": {
            "text/plain": [
              "<torch._C.Generator at 0x7d18004a6cb0>"
            ]
          },
          "metadata": {},
          "execution_count": 10
        }
      ],
      "source": [
        "import numpy as np\n",
        "\n",
        "seed = 1234\n",
        "\n",
        "# for reproductibility\n",
        "np.random.seed(seed)\n",
        "torch.manual_seed(seed)\n",
        "# torch.cuda.manual_seed(seed) # Set the seed for generating random numbers for the current GPU\n",
        "# torch.backends.cudnn.deterministic = True\n",
        "# lets you configure PyTorch to use deterministic algorithms instead of nondeterministic ones\n",
        "# where available,\n",
        "# and to throw an error if an operation is known to be nondeterministic"
      ]
    },
    {
      "cell_type": "code",
      "execution_count": null,
      "metadata": {
        "id": "w9qRoDgqqZBw"
      },
      "outputs": [],
      "source": [
        "# tokenization\n",
        "import torchtext\n",
        "tokenizer = torchtext.data.utils.get_tokenizer(\"basic_english\")"
      ]
    },
    {
      "cell_type": "code",
      "execution_count": null,
      "metadata": {
        "id": "xLEPIc3ozGFC"
      },
      "outputs": [],
      "source": [
        "def text_tokenizer_example(example, tokenizer, max_length):\n",
        "  tokens = tokenizer(example[\"text\"])\n",
        "  tokens = tokens[:max_length] # we only get all the words upto index max_length\n",
        "  length = len(tokens)\n",
        "  out = {\"tokens\": tokens, \"length\": length}\n",
        "  return out"
      ]
    },
    {
      "cell_type": "code",
      "execution_count": null,
      "metadata": {
        "id": "tMeml_mAT6Yj",
        "colab": {
          "base_uri": "https://localhost:8080/",
          "height": 49,
          "referenced_widgets": [
            "1ff137d6ff404ee9be14270230a1dcae",
            "3b01cce62cc34126bbcdf083d917ee17",
            "5e84e736b4214fc882da1995ae7321fa",
            "80650aa344764f2bb66244943d5aa7ae",
            "f2534f993a0948fd91fecbe6ecd777e6",
            "9e3f657342f34124b54c11690d72580d",
            "c376eab7c10f46ffae035ad610d0c3a0",
            "c6b4d50e4acf40948b3e4a4e07a7f059",
            "0fa4ac4cb05b4cf381373a06a33c8704",
            "e6b80d6c7add432e843d5761db980117",
            "963cd52d5b964d72ac72254346cfd6f3"
          ]
        },
        "outputId": "6d64298e-1c65-40f2-94f9-9a8f7619e178"
      },
      "outputs": [
        {
          "output_type": "display_data",
          "data": {
            "text/plain": [
              "Map:   0%|          | 0/25000 [00:00<?, ? examples/s]"
            ],
            "application/vnd.jupyter.widget-view+json": {
              "version_major": 2,
              "version_minor": 0,
              "model_id": "1ff137d6ff404ee9be14270230a1dcae"
            }
          },
          "metadata": {}
        }
      ],
      "source": [
        "max_length = 256\n",
        "train_dataset = train_dataset.map(text_tokenizer_example, fn_kwargs={\"tokenizer\": tokenizer, \"max_length\": max_length})"
      ]
    },
    {
      "cell_type": "code",
      "execution_count": null,
      "metadata": {
        "id": "OtBv4G4eUkE1",
        "colab": {
          "base_uri": "https://localhost:8080/",
          "height": 49,
          "referenced_widgets": [
            "153ab587a84540b98919f9daf66f5c03",
            "46180fb2cead44c585f60f7d48209948",
            "00f6bb94aef24847b70450b64b12fa43",
            "1d142d2994384956a063d60b62a888b2",
            "c532574a35a345d3a7b18136649dde6a",
            "ddb71f6800b94f6086ebe3013dae49a5",
            "16e7faaa329e46d297b0302d40681560",
            "937a5070f5a745fdbfdaf63604902eda",
            "ec100c9cf829405eafb51cf50d461c4d",
            "1381a9a7f6564296bb37eca1244b4705",
            "9a06daebebad46dcbdd608c2f22a5294"
          ]
        },
        "outputId": "2336d5fe-be6f-426d-8577-4d05540061a4"
      },
      "outputs": [
        {
          "output_type": "display_data",
          "data": {
            "text/plain": [
              "Map:   0%|          | 0/25000 [00:00<?, ? examples/s]"
            ],
            "application/vnd.jupyter.widget-view+json": {
              "version_major": 2,
              "version_minor": 0,
              "model_id": "153ab587a84540b98919f9daf66f5c03"
            }
          },
          "metadata": {}
        }
      ],
      "source": [
        "test_dataset = test_dataset.map(text_tokenizer_example, fn_kwargs={\"tokenizer\": tokenizer, \"max_length\": max_length})"
      ]
    },
    {
      "cell_type": "code",
      "execution_count": null,
      "metadata": {
        "colab": {
          "base_uri": "https://localhost:8080/"
        },
        "id": "1j0SGjMRDRLA",
        "outputId": "0da8c3d5-1703-4a9e-e522-e86207bce5af"
      },
      "outputs": [
        {
          "output_type": "execute_result",
          "data": {
            "text/plain": [
              "{'text': Value(dtype='string', id=None),\n",
              " 'label': ClassLabel(names=['neg', 'pos'], id=None),\n",
              " 'tokens': Sequence(feature=Value(dtype='string', id=None), length=-1, id=None),\n",
              " 'length': Value(dtype='int64', id=None)}"
            ]
          },
          "metadata": {},
          "execution_count": 15
        }
      ],
      "source": [
        "train_dataset.features"
      ]
    },
    {
      "cell_type": "code",
      "execution_count": null,
      "metadata": {
        "id": "9cxTSGhB-jce"
      },
      "outputs": [],
      "source": [
        "# create validation set\n",
        "\n",
        "ratio =0.25\n",
        "\n",
        "tra_data = train_dataset.train_test_split(test_size=ratio)\n",
        "train_dataset = tra_data[\"train\"]\n",
        "valid_dataset = tra_data['test']"
      ]
    },
    {
      "cell_type": "code",
      "execution_count": null,
      "metadata": {
        "colab": {
          "base_uri": "https://localhost:8080/"
        },
        "id": "T4ocuc05hMIZ",
        "outputId": "5f42983d-35a4-4b33-b63f-52e624f8e34a"
      },
      "outputs": [
        {
          "output_type": "execute_result",
          "data": {
            "text/plain": [
              "[1, 0, 0, 1, 0, 1, 0, 0, 0, 1, 0, 0, 0, 0, 1, 0, 1, 0, 1, 0]"
            ]
          },
          "metadata": {},
          "execution_count": 17
        }
      ],
      "source": [
        "train_dataset['label'][:20]"
      ]
    },
    {
      "cell_type": "code",
      "execution_count": null,
      "metadata": {
        "colab": {
          "base_uri": "https://localhost:8080/"
        },
        "id": "npYeCgQp1ZTp",
        "outputId": "74cc038d-6a86-4a19-d73f-54a62af920f6"
      },
      "outputs": [
        {
          "output_type": "execute_result",
          "data": {
            "text/plain": [
              "{'text': Value(dtype='string', id=None),\n",
              " 'label': ClassLabel(names=['neg', 'pos'], id=None),\n",
              " 'tokens': Sequence(feature=Value(dtype='string', id=None), length=-1, id=None),\n",
              " 'length': Value(dtype='int64', id=None)}"
            ]
          },
          "metadata": {},
          "execution_count": 18
        }
      ],
      "source": [
        "train_dataset.features"
      ]
    },
    {
      "cell_type": "code",
      "execution_count": null,
      "metadata": {
        "id": "5xKM24-8Uzz1"
      },
      "outputs": [],
      "source": [
        "# build vocabulary\n",
        "\n",
        "min_freq = 5 # retrive words that appears at least 5 times in the entire dataset\n",
        "special_tokens = [\"<unk>\", \"<pad>\"]\n",
        "\n",
        "vocab = torchtext.vocab.build_vocab_from_iterator(\n",
        "    train_dataset[\"tokens\"],\n",
        "    min_freq=min_freq,\n",
        "    specials=special_tokens,\n",
        ")"
      ]
    },
    {
      "cell_type": "code",
      "execution_count": null,
      "metadata": {
        "colab": {
          "base_uri": "https://localhost:8080/"
        },
        "id": "Qnm7CxhoVNiZ",
        "outputId": "c6b24a90-b6d0-48c9-a52b-6955a482275d"
      },
      "outputs": [
        {
          "output_type": "execute_result",
          "data": {
            "text/plain": [
              "21635"
            ]
          },
          "metadata": {},
          "execution_count": 20
        }
      ],
      "source": [
        "len(vocab)"
      ]
    },
    {
      "cell_type": "code",
      "execution_count": null,
      "metadata": {
        "id": "AolaqmgeiBC7"
      },
      "outputs": [],
      "source": [
        "unk_index = vocab[\"<unk>\"]\n",
        "pad_index = vocab[\"<pad>\"]"
      ]
    },
    {
      "cell_type": "code",
      "execution_count": null,
      "metadata": {
        "colab": {
          "base_uri": "https://localhost:8080/"
        },
        "id": "aUdByDv9iUJd",
        "outputId": "62fa0322-ddbe-4e06-f547-7eecf4dd7356"
      },
      "outputs": [
        {
          "output_type": "execute_result",
          "data": {
            "text/plain": [
              "[5516, 184, 2810, 1]"
            ]
          },
          "metadata": {},
          "execution_count": 22
        }
      ],
      "source": [
        "# set the default token if words that are not in this vocab\n",
        "vocab.set_default_index(unk_index)\n",
        "vocab['some_tokens']\n",
        "\n",
        "# to look up the indices of some words\n",
        "vocab.lookup_indices([\"hello\", \"world\", \"views\", \"<pad>\"])"
      ]
    },
    {
      "cell_type": "code",
      "execution_count": null,
      "metadata": {
        "colab": {
          "base_uri": "https://localhost:8080/"
        },
        "id": "7tG8HJ-v9oYH",
        "outputId": "01a55732-af10-4af8-d89f-f8672b0e508c"
      },
      "outputs": [
        {
          "output_type": "execute_result",
          "data": {
            "text/plain": [
              "(18750, 6250, 25000)"
            ]
          },
          "metadata": {},
          "execution_count": 23
        }
      ],
      "source": [
        "len(train_dataset), len(valid_dataset), len(test_dataset)"
      ]
    },
    {
      "cell_type": "code",
      "execution_count": null,
      "metadata": {
        "colab": {
          "base_uri": "https://localhost:8080/",
          "height": 113,
          "referenced_widgets": [
            "c3cebb739ccf4f3197f80e1e0f5e2c3e",
            "9b50b18cf3f54c44a97ba0d792a8ff4b",
            "7547e6d7b6464f85954fce862862e05c",
            "6ecf108215b74d528fd4f5044b569730",
            "2bf5a7b64ccf433a8cd27d950da3a9bf",
            "49802bb4289e4ee28d0f811137af3e1a",
            "a016378b1d874aba88b3d98044514a37",
            "c74fd4bdc6154edd94c5a72124a992dd",
            "d76958c041524198bbd504ded2c673c1",
            "daaf9574fe194bc2912fa5bde44a8466",
            "db3b164149a741feadacc812ca743d5e",
            "56057295a93641bf8286f6d4d798c855",
            "f7297c4fb37447d9814a1b6d66c10c7c",
            "47d8ad3bcd314ee59aa84dc512390d98",
            "e946e57fcc0b4d9dabb83891fd9efd1d",
            "9e61513863dd4cd6b64aa168f189c398",
            "91c353ae89ea4ebea553f740820fc2d2",
            "570e6d99580e4447922861d4d328befe",
            "9d5948cfd26d4f58b043aa26ef382bfa",
            "a8c2cbc7d1f04f1dad18899ba5d323a2",
            "874b3381930e4b0a899a126759d767ec",
            "b8bab75b561042f286ce4b438f3dbc91",
            "4488e8a5126b418a8f25a4e20ee45093",
            "14e26a180dee4181a5e4e6f6c950e2e7",
            "6f13d69a412a442eb855b645b41f2553",
            "a0375b6419d241bf8af11c2820038abb",
            "e5bdff3b496f44458698e4c69aafdf80",
            "42dbc150f66a4c02b5a106a06201b5a5",
            "225e3b3957a242dbb21076ac1dda3063",
            "c4a37a7184104295afd0bd479f8f7eea",
            "5cb8bbb474884a4d90d8937f69cbbfa8",
            "482190d3e69b47c5ac9f1d9ceb6279f7",
            "06275f75054f435c891fd3617e0603b6"
          ]
        },
        "id": "TjhqmIo8jFeo",
        "outputId": "688b1948-3c4e-487a-a070-c6776034180e"
      },
      "outputs": [
        {
          "output_type": "display_data",
          "data": {
            "text/plain": [
              "Map:   0%|          | 0/18750 [00:00<?, ? examples/s]"
            ],
            "application/vnd.jupyter.widget-view+json": {
              "version_major": 2,
              "version_minor": 0,
              "model_id": "c3cebb739ccf4f3197f80e1e0f5e2c3e"
            }
          },
          "metadata": {}
        },
        {
          "output_type": "display_data",
          "data": {
            "text/plain": [
              "Map:   0%|          | 0/6250 [00:00<?, ? examples/s]"
            ],
            "application/vnd.jupyter.widget-view+json": {
              "version_major": 2,
              "version_minor": 0,
              "model_id": "56057295a93641bf8286f6d4d798c855"
            }
          },
          "metadata": {}
        },
        {
          "output_type": "display_data",
          "data": {
            "text/plain": [
              "Map:   0%|          | 0/25000 [00:00<?, ? examples/s]"
            ],
            "application/vnd.jupyter.widget-view+json": {
              "version_major": 2,
              "version_minor": 0,
              "model_id": "4488e8a5126b418a8f25a4e20ee45093"
            }
          },
          "metadata": {}
        }
      ],
      "source": [
        "# make sure all datasets have the same features sets and same mapping\n",
        "# get the token ids for each sample\n",
        "def numericalize_example(example, vocab):\n",
        "    ids = vocab.lookup_indices(example[\"tokens\"])\n",
        "    return {\"ids\": ids}\n",
        "\n",
        "\n",
        "train_data = train_dataset.map(numericalize_example, fn_kwargs={\"vocab\": vocab})\n",
        "valid_data = valid_dataset.map(numericalize_example, fn_kwargs={\"vocab\": vocab})\n",
        "test_data = test_dataset.map(numericalize_example, fn_kwargs={\"vocab\": vocab})\n"
      ]
    },
    {
      "cell_type": "code",
      "execution_count": null,
      "metadata": {
        "colab": {
          "base_uri": "https://localhost:8080/"
        },
        "id": "gHqaMk70oLLA",
        "outputId": "0e85f721-13f3-43db-a702-1785c8f6b2d5"
      },
      "outputs": [
        {
          "output_type": "stream",
          "name": "stdout",
          "text": [
            "[180, 4, 14, 10, 191, 841, 34, 7, 2, 121]\n",
            "135\n"
          ]
        }
      ],
      "source": [
        "print(train_data[0]['ids'][:10])\n",
        "print(len(train_data[0]['ids']))"
      ]
    },
    {
      "cell_type": "code",
      "execution_count": null,
      "metadata": {
        "colab": {
          "base_uri": "https://localhost:8080/"
        },
        "id": "QEGyhYsE1fYg",
        "outputId": "529d41a7-caf0-4058-f217-e0f00c1319dc"
      },
      "outputs": [
        {
          "output_type": "execute_result",
          "data": {
            "text/plain": [
              "{'text': Value(dtype='string', id=None),\n",
              " 'label': ClassLabel(names=['neg', 'pos'], id=None),\n",
              " 'tokens': Sequence(feature=Value(dtype='string', id=None), length=-1, id=None),\n",
              " 'length': Value(dtype='int64', id=None),\n",
              " 'ids': Sequence(feature=Value(dtype='int64', id=None), length=-1, id=None)}"
            ]
          },
          "metadata": {},
          "execution_count": 26
        }
      ],
      "source": [
        "train_data.features"
      ]
    },
    {
      "cell_type": "code",
      "execution_count": null,
      "metadata": {
        "colab": {
          "base_uri": "https://localhost:8080/"
        },
        "id": "3UJwPPPgob45",
        "outputId": "326d89b5-495c-4f54-ba09-5dc44398053c"
      },
      "outputs": [
        {
          "output_type": "execute_result",
          "data": {
            "text/plain": [
              "['look', ',', 'this', 'is', 'quite', 'possibly', 'one', 'of', 'the', 'best']"
            ]
          },
          "metadata": {},
          "execution_count": 27
        }
      ],
      "source": [
        "vocab.lookup_tokens(train_data[0][\"ids\"][:10])"
      ]
    },
    {
      "cell_type": "code",
      "execution_count": null,
      "metadata": {
        "id": "4pFXG9PbojEY"
      },
      "outputs": [],
      "source": [
        "# convert the data into tensors\n",
        "train_data = train_data.with_format(type=\"torch\", columns=[\"ids\", \"label\",\"length\"])\n",
        "valid_data = valid_data.with_format(type=\"torch\", columns=[\"ids\", \"label\", \"length\"])\n",
        "test_data = test_data.with_format(type=\"torch\", columns=[\"ids\", \"label\",\"length\"])"
      ]
    },
    {
      "cell_type": "code",
      "source": [
        "train_data[0]"
      ],
      "metadata": {
        "colab": {
          "base_uri": "https://localhost:8080/"
        },
        "id": "OHrMuZiKZ6dm",
        "outputId": "b2979e58-3b9f-4007-8f98-c64b17e77472"
      },
      "execution_count": null,
      "outputs": [
        {
          "output_type": "execute_result",
          "data": {
            "text/plain": [
              "{'label': tensor(1),\n",
              " 'length': tensor(135),\n",
              " 'ids': tensor([  180,     4,    14,    10,   191,   841,    34,     7,     2,   121,\n",
              "            98,   816,    50,     8,  1516,     2,   380,     7,     2,   184,\n",
              "             3,     8,   805,    14,    18,    10,     8,   805,  2246,   429,\n",
              "             3,    12,   347,    15,     2,   388,  1025,     9,    16,    76,\n",
              "             5,    64,     7, 11198,     3,     2,  9212,    17,   761,     4,\n",
              "          7812,  5460,   198,    37,     4,     6,  3653,  3683,    17,   226,\n",
              "             5, 11893,     3,    53,     7,    15,  3310,   354,     5,   689,\n",
              "             4,     0,  5471,     3,  2706,  3826,     9,    16,   246,    13,\n",
              "            14,    18,  1111,    33,    17,   126,   188,     8,    35,   597,\n",
              "           181,    19,     5,    34,  3942,  1381,    13,     2,  5370,     3,\n",
              "            32,  4228,    10,    41,  2825,     8,    37,     3,     2,  4411,\n",
              "          1141,   213,  2655,     6, 16946,  3729,   590,  4845,     8,  2416,\n",
              "             6,  1953,     3,  1159, 20751,    10,     5,  8718,     3,   149,\n",
              "            74,    14,    18,  4292,    36])}"
            ]
          },
          "metadata": {},
          "execution_count": 29
        }
      ]
    },
    {
      "cell_type": "code",
      "execution_count": null,
      "metadata": {
        "id": "_EXzSFjcnjZy"
      },
      "outputs": [],
      "source": [
        "\n",
        "import collections\n",
        "import matplotlib.pyplot as plt\n",
        "import numpy as np\n",
        "import torch.nn as nn\n",
        "import torch.optim as optim\n",
        "import tqdm\n",
        "# the next is to create data loaders, we can get batch samples when training, we also need to do padding\n",
        "def get_collate_fn(pad_index):\n",
        "    def collate_fn(batch):\n",
        "        batch_ids = [i[\"ids\"] for i in batch]\n",
        "        batch_ids = nn.utils.rnn.pad_sequence(\n",
        "            batch_ids, padding_value=pad_index, batch_first=True\n",
        "        )\n",
        "        batch_length = [i[\"length\"] for i in batch]\n",
        "        batch_length = torch.stack(batch_length)\n",
        "        batch_label = [i[\"label\"] for i in batch]\n",
        "        batch_label = torch.stack(batch_label)\n",
        "        batch = {\"ids\": batch_ids, \"length\": batch_length, \"label\": batch_label}\n",
        "\n",
        "        return batch\n",
        "\n",
        "    return collate_fn\n",
        "\n",
        "def get_data_loader(dataset, batch_size, pad_index, shuffle=False):\n",
        "    collate_fn = get_collate_fn(pad_index)\n",
        "    data_loader = torch.utils.data.DataLoader(\n",
        "        dataset=dataset,\n",
        "        batch_size=batch_size,\n",
        "        collate_fn=collate_fn,\n",
        "        shuffle=shuffle,\n",
        "    )\n",
        "    return data_loader"
      ]
    },
    {
      "cell_type": "code",
      "execution_count": null,
      "metadata": {
        "id": "uKu4AYCztX4x"
      },
      "outputs": [],
      "source": [
        "batch_size = 512\n",
        "\n",
        "train_data_loader = get_data_loader(train_data, batch_size, pad_index, shuffle=True)\n",
        "valid_data_loader = get_data_loader(valid_data, batch_size, pad_index)\n",
        "test_data_loader = get_data_loader(test_data, batch_size, pad_index)"
      ]
    },
    {
      "cell_type": "code",
      "execution_count": null,
      "metadata": {
        "colab": {
          "base_uri": "https://localhost:8080/",
          "height": 1000
        },
        "id": "gEssjsrczDCB",
        "outputId": "4c69f190-b48c-4457-b331-856437a2f596"
      },
      "outputs": [
        {
          "output_type": "stream",
          "name": "stderr",
          "text": [
            "training...: 100%|██████████| 37/37 [00:03<00:00, 10.04it/s]\n",
            "evaluating...: 100%|██████████| 13/13 [00:00<00:00, 21.14it/s]\n"
          ]
        },
        {
          "output_type": "stream",
          "name": "stdout",
          "text": [
            "epoch: 0\n",
            "train_loss: 0.629, train_acc: 0.636\n",
            "valid_loss: 0.495, valid_acc: 0.756\n"
          ]
        },
        {
          "output_type": "stream",
          "name": "stderr",
          "text": [
            "training...: 100%|██████████| 37/37 [00:03<00:00, 10.01it/s]\n",
            "evaluating...: 100%|██████████| 13/13 [00:00<00:00, 21.05it/s]\n"
          ]
        },
        {
          "output_type": "stream",
          "name": "stdout",
          "text": [
            "epoch: 1\n",
            "train_loss: 0.469, train_acc: 0.780\n",
            "valid_loss: 0.399, valid_acc: 0.829\n"
          ]
        },
        {
          "output_type": "stream",
          "name": "stderr",
          "text": [
            "training...: 100%|██████████| 37/37 [00:03<00:00, 10.08it/s]\n",
            "evaluating...: 100%|██████████| 13/13 [00:00<00:00, 21.12it/s]\n"
          ]
        },
        {
          "output_type": "stream",
          "name": "stdout",
          "text": [
            "epoch: 2\n",
            "train_loss: 0.412, train_acc: 0.813\n",
            "valid_loss: 0.364, valid_acc: 0.847\n"
          ]
        },
        {
          "output_type": "stream",
          "name": "stderr",
          "text": [
            "training...: 100%|██████████| 37/37 [00:03<00:00, 10.04it/s]\n",
            "evaluating...: 100%|██████████| 13/13 [00:00<00:00, 21.19it/s]\n"
          ]
        },
        {
          "output_type": "stream",
          "name": "stdout",
          "text": [
            "epoch: 3\n",
            "train_loss: 0.368, train_acc: 0.840\n",
            "valid_loss: 0.348, valid_acc: 0.848\n"
          ]
        },
        {
          "output_type": "stream",
          "name": "stderr",
          "text": [
            "training...: 100%|██████████| 37/37 [00:03<00:00,  9.84it/s]\n",
            "evaluating...: 100%|██████████| 13/13 [00:00<00:00, 21.15it/s]\n"
          ]
        },
        {
          "output_type": "stream",
          "name": "stdout",
          "text": [
            "epoch: 4\n",
            "train_loss: 0.327, train_acc: 0.860\n",
            "valid_loss: 0.323, valid_acc: 0.870\n"
          ]
        },
        {
          "output_type": "stream",
          "name": "stderr",
          "text": [
            "training...: 100%|██████████| 37/37 [00:03<00:00, 10.14it/s]\n",
            "evaluating...: 100%|██████████| 13/13 [00:00<00:00, 20.92it/s]\n"
          ]
        },
        {
          "output_type": "stream",
          "name": "stdout",
          "text": [
            "epoch: 5\n",
            "train_loss: 0.290, train_acc: 0.883\n",
            "valid_loss: 0.316, valid_acc: 0.877\n"
          ]
        },
        {
          "output_type": "stream",
          "name": "stderr",
          "text": [
            "training...: 100%|██████████| 37/37 [00:03<00:00, 10.01it/s]\n",
            "evaluating...: 100%|██████████| 13/13 [00:00<00:00, 20.79it/s]\n"
          ]
        },
        {
          "output_type": "stream",
          "name": "stdout",
          "text": [
            "epoch: 6\n",
            "train_loss: 0.282, train_acc: 0.883\n",
            "valid_loss: 0.313, valid_acc: 0.883\n"
          ]
        },
        {
          "output_type": "stream",
          "name": "stderr",
          "text": [
            "training...: 100%|██████████| 37/37 [00:03<00:00, 10.06it/s]\n",
            "evaluating...: 100%|██████████| 13/13 [00:00<00:00, 21.11it/s]\n"
          ]
        },
        {
          "output_type": "stream",
          "name": "stdout",
          "text": [
            "epoch: 7\n",
            "train_loss: 0.249, train_acc: 0.898\n",
            "valid_loss: 0.296, valid_acc: 0.887\n"
          ]
        },
        {
          "output_type": "stream",
          "name": "stderr",
          "text": [
            "training...: 100%|██████████| 37/37 [00:03<00:00,  9.96it/s]\n",
            "evaluating...: 100%|██████████| 13/13 [00:00<00:00, 20.02it/s]\n"
          ]
        },
        {
          "output_type": "stream",
          "name": "stdout",
          "text": [
            "epoch: 8\n",
            "train_loss: 0.228, train_acc: 0.910\n",
            "valid_loss: 0.295, valid_acc: 0.884\n"
          ]
        },
        {
          "output_type": "stream",
          "name": "stderr",
          "text": [
            "training...: 100%|██████████| 37/37 [00:03<00:00,  9.75it/s]\n",
            "evaluating...: 100%|██████████| 13/13 [00:00<00:00, 20.83it/s]\n"
          ]
        },
        {
          "output_type": "stream",
          "name": "stdout",
          "text": [
            "epoch: 9\n",
            "train_loss: 0.225, train_acc: 0.912\n",
            "valid_loss: 0.300, valid_acc: 0.881\n"
          ]
        },
        {
          "output_type": "display_data",
          "data": {
            "text/plain": [
              "<Figure size 1000x600 with 1 Axes>"
            ],
            "image/png": "[encoded data removed]"
          },
          "metadata": {}
        },
        {
          "output_type": "display_data",
          "data": {
            "text/plain": [
              "<Figure size 1000x600 with 1 Axes>"
            ],
            "image/png": "[encoded data removed]"
          },
          "metadata": {}
        }
      ],
      "source": [
        "# build model use embedding dimension 300, and hidden state 300, and\n",
        "class myLSTM(nn.Module):\n",
        "    def __init__(self, vocab_size, embed_dim,hidden_dim, output_dim,n_layers, bidirectional, dropout_rate,pad_index):\n",
        "        super().__init__()\n",
        "        self.embedding = nn.Embedding(vocab_size, embed_dim,padding_idx=pad_index)\n",
        "        self.lstm = nn.LSTM(\n",
        "            input_size=embed_dim,\n",
        "            hidden_size=hidden_dim,\n",
        "            num_layers=2,\n",
        "            bidirectional=bidirectional,\n",
        "            dropout=dropout_rate,\n",
        "            batch_first=True,\n",
        "        )\n",
        "        self.fc = nn.Linear(\n",
        "            hidden_dim * 2 if bidirectional else hidden_dim, output_dim\n",
        "        )\n",
        "        self.dropout = nn.Dropout(dropout_rate)\n",
        "        self.bidirectional =bidirectional\n",
        "\n",
        "    def forward(self, ids, length):\n",
        "        embedded_with_dropout = self.dropout(self.embedding(ids))\n",
        "        # print('embedded_with_dropout shape: ', embedded_with_dropout.shape)\n",
        "        packed_embedded = nn.utils.rnn.pack_padded_sequence(\n",
        "            embedded_with_dropout,\n",
        "            length,\n",
        "            batch_first=True,\n",
        "            enforce_sorted=False,\n",
        "        )\n",
        "        # print('packed embedded shape: ', embedded_with_dropout.shape)\n",
        "        packed_output, (hidden, cell) = self.lstm(packed_embedded)\n",
        "        # print( 'Hidden shape: ',hidden.shape)\n",
        "        # print( 'Cell shape: ',cell.shape)\n",
        "        output, output_length = nn.utils.rnn.pad_packed_sequence(packed_output)\n",
        "        if self.bidirectional:\n",
        "            hidden = torch.cat([hidden[-1], hidden[-2]], dim=-1)\n",
        "        else:\n",
        "            hidden = self.dropout(hidden[-1])\n",
        "        # print('hidden shape: ', hidden.shape)\n",
        "        prediction = self.fc(hidden)\n",
        "        return prediction\n",
        "\n",
        "\n",
        "vocab_size = len(vocab)\n",
        "embedding_dim = 300\n",
        "hidden_dim = 300\n",
        "output_dim = len(train_data.unique(\"label\"))\n",
        "n_layers = 2\n",
        "bidirectional = True\n",
        "dropout_rate = 0.5\n",
        "\n",
        "model = myLSTM(\n",
        "    vocab_size, embedding_dim,hidden_dim,\n",
        "    output_dim,n_layers, bidirectional,\n",
        "    dropout_rate,pad_index)\n",
        "\n",
        "\n",
        "def count_parameters(model):\n",
        "    return sum(p.numel() for p in model.parameters() if p.requires_grad)\n",
        "\n",
        "\n",
        "# print(f\"The model has {count_parameters(model):,} trainable parameters\")\n",
        "\n",
        "# def initialize_weights(m):\n",
        "#     if isinstance(m, nn.Linear):\n",
        "#         nn.init.xavier_normal_(m.weight)\n",
        "#         nn.init.zeros_(m.bias)\n",
        "#     elif isinstance(m, nn.LSTM):\n",
        "#         for name, param in m.named_parameters():\n",
        "#             if \"bias\" in name:\n",
        "#                 nn.init.zeros_(param)\n",
        "#             elif \"weight\" in name:\n",
        "#                 nn.init.orthogonal_(param)\n",
        "\n",
        "# print(model.apply(initialize_weights))\n",
        "\n",
        "# use existing word embedding as the start points\n",
        "vectors = torchtext.vocab.GloVe(name=\"6B\", dim=\"300\")\n",
        "# vectors = torchtext.vocab.GloVe()\n",
        "\n",
        "\n",
        "vectors.get_vecs_by_tokens([\"hello\", \"<pad>\"])\n",
        "\n",
        "\n",
        "pretrained_embedding = vectors.get_vecs_by_tokens(vocab.get_itos())\n",
        "pretrained_embedding.shape\n",
        "\n",
        "\n",
        "model.embedding.weight.data = pretrained_embedding\n",
        "\n",
        "\n",
        "optimizer = optim.Adam(model.parameters(), lr=5e-4)\n",
        "criterion = nn.CrossEntropyLoss()\n",
        "device = torch.device(\"cuda\" if torch.cuda.is_available() else \"cpu\")\n",
        "# this is to move tensor to device to speed up\n",
        "model = model.to(device)\n",
        "criterion = criterion.to(device)\n",
        "\n",
        "def get_accuracy(prediction, label):\n",
        "    batch_size, _ = prediction.shape\n",
        "    predicted_classes = prediction.argmax(dim=-1)\n",
        "    correct_predictions = predicted_classes.eq(label).sum()\n",
        "    accuracy = correct_predictions / batch_size\n",
        "    return accuracy\n",
        "\n",
        "\n",
        "def evaluate(data_loader, model, criterion, device):\n",
        "    model.eval()\n",
        "    epoch_losses = []\n",
        "    epoch_accs = []\n",
        "    # torch.no_grad() is a context manager in PyTorch that disables gradient calculations.\n",
        "    # It's used when you want to perform operations without tracking gradients,\n",
        "    # which can be useful for inference or when you're sure you won't need to call backward() on the resulting tensors.\n",
        "    with torch.no_grad():\n",
        "        for batch in tqdm.tqdm(data_loader, desc=\"evaluating...\"):\n",
        "            ids = batch[\"ids\"].to(device)\n",
        "            length = batch[\"length\"]\n",
        "            label = batch[\"label\"].to(device)\n",
        "            prediction = model(ids, length)\n",
        "            loss = criterion(prediction, label)\n",
        "            accuracy = get_accuracy(prediction, label)\n",
        "            epoch_losses.append(loss.item())\n",
        "            epoch_accs.append(accuracy.item())\n",
        "    return np.mean(epoch_losses), np.mean(epoch_accs)\n",
        "\n",
        "\n",
        "\n",
        "\n",
        "# train the model\n",
        "\n",
        "# optimizer.zero_grad()is a method in PyTorch used to reset the gradients of all optimized tensors to zero before each training iteration.\n",
        "# By default, gradients in PyTorch accumulate with each backward pass.\n",
        "# Failing to clear them would cause the optimizer to use the accumulated gradients from previous iterations,\n",
        "# leading to incorrect updates of the model's parameters and hindering the training process.\n",
        "# It is called before loss.backward() and optimizer.step()\n",
        "def train(data_loader, model, criterion, optimizer, device):\n",
        "    model.train()\n",
        "    epoch_losses = []\n",
        "    epoch_accs = []\n",
        "    for batch in tqdm.tqdm(data_loader, desc=\"training...\"):\n",
        "        ids = batch[\"ids\"].to(device)\n",
        "        length = batch[\"length\"]\n",
        "        label = batch[\"label\"].to(device)\n",
        "        prediction = model(ids, length)\n",
        "        # print(ids.shape, 'id shape')\n",
        "        # print(label.shape, 'label shape')\n",
        "        loss = criterion(prediction, label)\n",
        "        accuracy = get_accuracy(prediction, label)\n",
        "        optimizer.zero_grad() # clean up gradient\n",
        "        loss.backward() # doing backward\n",
        "        optimizer.step()\n",
        "        epoch_losses.append(loss.item())\n",
        "        epoch_accs.append(accuracy.item())\n",
        "    return np.mean(epoch_losses), np.mean(epoch_accs)\n",
        "\n",
        "\n",
        "n_epochs = 10\n",
        "best_valid_loss = float(\"inf\")\n",
        "\n",
        "metrics = collections.defaultdict(list)\n",
        "\n",
        "for epoch in range(n_epochs):\n",
        "    train_loss, train_acc = train(\n",
        "        train_data_loader, model, criterion, optimizer, device\n",
        "    )\n",
        "    valid_loss, valid_acc = evaluate(valid_data_loader, model, criterion, device)\n",
        "    metrics[\"train_losses\"].append(train_loss)\n",
        "    metrics[\"train_accs\"].append(train_acc)\n",
        "    metrics[\"valid_losses\"].append(valid_loss)\n",
        "    metrics[\"valid_accs\"].append(valid_acc)\n",
        "    if valid_loss < best_valid_loss:\n",
        "        best_valid_loss = valid_loss\n",
        "        torch.save(model.state_dict(), \"nbow.pt\")\n",
        "    print(f\"epoch: {epoch}\")\n",
        "    print(f\"train_loss: {train_loss:.3f}, train_acc: {train_acc:.3f}\")\n",
        "    print(f\"valid_loss: {valid_loss:.3f}, valid_acc: {valid_acc:.3f}\")\n",
        "\n",
        "# plots\n",
        "fig = plt.figure(figsize=(10, 6))\n",
        "ax = fig.add_subplot(1, 1, 1)\n",
        "ax.plot(metrics[\"train_losses\"], label=\"train loss\")\n",
        "ax.plot(metrics[\"valid_losses\"], label=\"valid loss\")\n",
        "ax.set_xlabel(\"epoch\")\n",
        "ax.set_ylabel(\"loss\")\n",
        "ax.set_xticks(range(n_epochs))\n",
        "ax.legend()\n",
        "ax.grid()\n",
        "\n",
        "fig = plt.figure(figsize=(10, 6))\n",
        "ax = fig.add_subplot(1, 1, 1)\n",
        "ax.plot(metrics[\"train_accs\"], label=\"train accuracy\")\n",
        "ax.plot(metrics[\"valid_accs\"], label=\"valid accuracy\")\n",
        "ax.set_xlabel(\"epoch\")\n",
        "ax.set_ylabel(\"accuracy\")\n",
        "ax.set_xticks(range(n_epochs))\n",
        "ax.legend()\n",
        "ax.grid()"
      ]
    },
    {
      "cell_type": "code",
      "execution_count": null,
      "metadata": {
        "id": "d2PQZZLvmnoy",
        "colab": {
          "base_uri": "https://localhost:8080/",
          "height": 1000
        },
        "outputId": "850aadcf-d31e-4a73-8ff3-f6a7b9aaef61"
      },
      "outputs": [
        {
          "output_type": "stream",
          "name": "stdout",
          "text": [
            "The model has 2,567,102 trainable parameters\n"
          ]
        },
        {
          "output_type": "stream",
          "name": "stderr",
          "text": [
            "training...: 100%|██████████| 37/37 [00:03<00:00, 11.60it/s]\n",
            "evaluating...: 100%|██████████| 13/13 [00:00<00:00, 18.64it/s]\n"
          ]
        },
        {
          "output_type": "stream",
          "name": "stdout",
          "text": [
            "epoch: 0\n",
            "train_loss: 0.684, train_acc: 0.549\n",
            "valid_loss: 0.658, valid_acc: 0.611\n"
          ]
        },
        {
          "output_type": "stream",
          "name": "stderr",
          "text": [
            "training...: 100%|██████████| 37/37 [00:03<00:00, 11.71it/s]\n",
            "evaluating...: 100%|██████████| 13/13 [00:00<00:00, 23.46it/s]\n"
          ]
        },
        {
          "output_type": "stream",
          "name": "stdout",
          "text": [
            "epoch: 1\n",
            "train_loss: 0.623, train_acc: 0.652\n",
            "valid_loss: 0.629, valid_acc: 0.688\n"
          ]
        },
        {
          "output_type": "stream",
          "name": "stderr",
          "text": [
            "training...: 100%|██████████| 37/37 [00:03<00:00, 11.72it/s]\n",
            "evaluating...: 100%|██████████| 13/13 [00:00<00:00, 23.75it/s]\n"
          ]
        },
        {
          "output_type": "stream",
          "name": "stdout",
          "text": [
            "epoch: 2\n",
            "train_loss: 0.541, train_acc: 0.725\n",
            "valid_loss: 0.491, valid_acc: 0.756\n"
          ]
        },
        {
          "output_type": "stream",
          "name": "stderr",
          "text": [
            "training...: 100%|██████████| 37/37 [00:03<00:00, 11.63it/s]\n",
            "evaluating...: 100%|██████████| 13/13 [00:00<00:00, 23.44it/s]\n"
          ]
        },
        {
          "output_type": "stream",
          "name": "stdout",
          "text": [
            "epoch: 3\n",
            "train_loss: 0.493, train_acc: 0.766\n",
            "valid_loss: 0.454, valid_acc: 0.793\n"
          ]
        },
        {
          "output_type": "stream",
          "name": "stderr",
          "text": [
            "training...: 100%|██████████| 37/37 [00:03<00:00, 11.61it/s]\n",
            "evaluating...: 100%|██████████| 13/13 [00:00<00:00, 23.51it/s]\n"
          ]
        },
        {
          "output_type": "stream",
          "name": "stdout",
          "text": [
            "epoch: 4\n",
            "train_loss: 0.456, train_acc: 0.790\n",
            "valid_loss: 0.481, valid_acc: 0.788\n"
          ]
        },
        {
          "output_type": "stream",
          "name": "stderr",
          "text": [
            "training...: 100%|██████████| 37/37 [00:03<00:00, 11.69it/s]\n",
            "evaluating...: 100%|██████████| 13/13 [00:00<00:00, 23.26it/s]\n"
          ]
        },
        {
          "output_type": "stream",
          "name": "stdout",
          "text": [
            "epoch: 5\n",
            "train_loss: 0.430, train_acc: 0.806\n",
            "valid_loss: 0.403, valid_acc: 0.831\n"
          ]
        },
        {
          "output_type": "stream",
          "name": "stderr",
          "text": [
            "training...: 100%|██████████| 37/37 [00:03<00:00, 11.68it/s]\n",
            "evaluating...: 100%|██████████| 13/13 [00:00<00:00, 24.10it/s]\n"
          ]
        },
        {
          "output_type": "stream",
          "name": "stdout",
          "text": [
            "epoch: 6\n",
            "train_loss: 0.410, train_acc: 0.813\n",
            "valid_loss: 0.377, valid_acc: 0.830\n"
          ]
        },
        {
          "output_type": "stream",
          "name": "stderr",
          "text": [
            "training...: 100%|██████████| 37/37 [00:03<00:00, 11.84it/s]\n",
            "evaluating...: 100%|██████████| 13/13 [00:00<00:00, 23.91it/s]\n"
          ]
        },
        {
          "output_type": "stream",
          "name": "stdout",
          "text": [
            "epoch: 7\n",
            "train_loss: 0.385, train_acc: 0.829\n",
            "valid_loss: 0.383, valid_acc: 0.831\n"
          ]
        },
        {
          "output_type": "stream",
          "name": "stderr",
          "text": [
            "training...: 100%|██████████| 37/37 [00:03<00:00, 11.85it/s]\n",
            "evaluating...: 100%|██████████| 13/13 [00:00<00:00, 24.09it/s]\n"
          ]
        },
        {
          "output_type": "stream",
          "name": "stdout",
          "text": [
            "epoch: 8\n",
            "train_loss: 0.358, train_acc: 0.844\n",
            "valid_loss: 0.337, valid_acc: 0.862\n"
          ]
        },
        {
          "output_type": "stream",
          "name": "stderr",
          "text": [
            "training...: 100%|██████████| 37/37 [00:03<00:00, 11.51it/s]\n",
            "evaluating...: 100%|██████████| 13/13 [00:00<00:00, 23.95it/s]\n"
          ]
        },
        {
          "output_type": "stream",
          "name": "stdout",
          "text": [
            "epoch: 9\n",
            "train_loss: 0.340, train_acc: 0.856\n",
            "valid_loss: 0.393, valid_acc: 0.840\n"
          ]
        },
        {
          "output_type": "display_data",
          "data": {
            "text/plain": [
              "<Figure size 1000x600 with 1 Axes>"
            ],
            "image/png": "[encoded data removed]"
          },
          "metadata": {}
        },
        {
          "output_type": "display_data",
          "data": {
            "text/plain": [
              "<Figure size 1000x600 with 1 Axes>"
            ],
            "image/png": "[encoded data removed]"
          },
          "metadata": {}
        }
      ],
      "source": [
        "# here I changed the embedding dimesion to 100, the hidden state to 100, and change dropout to 0.5, and add a weight initilization layer\n",
        "# NOTE: the result is a little worser than the 300 embedding dimension and 300 hidden states\n",
        "\n",
        "batch_size = 512\n",
        "# Larger batches: With larger batches, the gradients become more stable and less noisy.\n",
        "# This means the model's updates are smoother and more deterministic, which can lead to faster convergence but also a higher risk of overfitting,\n",
        "# as the model may settle on a solution that fits the specific training data very closely.\n",
        "\n",
        "train_data_loader = get_data_loader(train_data, batch_size, pad_index, shuffle=True)\n",
        "valid_data_loader = get_data_loader(valid_data, batch_size, pad_index)\n",
        "test_data_loader = get_data_loader(test_data, batch_size, pad_index)\n",
        "\n",
        "\n",
        "# build model\n",
        "class myLSTM(nn.Module):\n",
        "    def __init__(self, vocab_size, embed_dim,hidden_dim, output_dim,n_layers, bidirectional, dropout_rate,pad_index):\n",
        "        super().__init__()\n",
        "        self.embedding = nn.Embedding(vocab_size, embed_dim,padding_idx=pad_index)\n",
        "        self.lstm = nn.LSTM(\n",
        "            input_size=embed_dim,\n",
        "            hidden_size=hidden_dim,\n",
        "            num_layers=2,\n",
        "            bidirectional=bidirectional,\n",
        "            dropout=dropout_rate,\n",
        "            batch_first=True,\n",
        "        )\n",
        "        self.fc = nn.Linear(\n",
        "            hidden_dim * 2 if bidirectional else hidden_dim, output_dim\n",
        "        )\n",
        "        self.dropout = nn.Dropout(dropout_rate)\n",
        "        self.bidirectional =bidirectional\n",
        "\n",
        "    def forward(self, ids, length):\n",
        "        embedded_with_dropout = self.dropout(self.embedding(ids))\n",
        "        # print('embedded_with_dropout shape: ', embedded_with_dropout.shape)\n",
        "        packed_embedded = nn.utils.rnn.pack_padded_sequence(\n",
        "            embedded_with_dropout,\n",
        "            length,\n",
        "            batch_first=True,\n",
        "            enforce_sorted=False,\n",
        "        )\n",
        "        # print('packed embedded shape: ', embedded_with_dropout.shape)\n",
        "        packed_output, (hidden, cell) = self.lstm(packed_embedded)\n",
        "        # print( 'Hidden shape: ',hidden.shape)\n",
        "        # print( 'Cell shape: ',cell.shape)\n",
        "        output, output_length = nn.utils.rnn.pad_packed_sequence(packed_output)\n",
        "        if self.bidirectional:\n",
        "            hidden = torch.cat([hidden[-1], hidden[-2]], dim=-1)\n",
        "        else:\n",
        "            hidden = self.dropout(hidden[-1])\n",
        "        # print('hidden shape: ', hidden.shape)\n",
        "        prediction = self.fc(hidden)\n",
        "        return prediction\n",
        "\n",
        "\n",
        "vocab_size = len(vocab)\n",
        "embedding_dim = 100\n",
        "hidden_dim = 100\n",
        "output_dim = len(train_data.unique(\"label\"))\n",
        "n_layers = 2\n",
        "bidirectional = True\n",
        "dropout_rate = 0.5\n",
        "\n",
        "model = myLSTM(vocab_size, embedding_dim,hidden_dim, output_dim,n_layers, bidirectional, dropout_rate,pad_index)\n",
        "\n",
        "\n",
        "def count_parameters(model):\n",
        "    return sum(p.numel() for p in model.parameters() if p.requires_grad)\n",
        "\n",
        "print(f\"The model has {count_parameters(model):,} trainable parameters\")\n",
        "\n",
        "def initialize_weights(m):\n",
        "    if isinstance(m, nn.Linear):\n",
        "        nn.init.xavier_normal_(m.weight)\n",
        "        nn.init.zeros_(m.bias)\n",
        "    elif isinstance(m, nn.LSTM):\n",
        "        for name, param in m.named_parameters():\n",
        "            if \"bias\" in name:\n",
        "                nn.init.zeros_(param)\n",
        "            elif \"weight\" in name:\n",
        "                nn.init.orthogonal_(param)\n",
        "\n",
        "model.apply(initialize_weights)\n",
        "# use existing word embedding as the start points\n",
        "vectors = torchtext.vocab.GloVe(name=\"6B\", dim=\"100\")\n",
        "vectors.get_vecs_by_tokens([\"hello\", \"<pad>\"])\n",
        "pretrained_embedding = vectors.get_vecs_by_tokens(vocab.get_itos())\n",
        "pretrained_embedding.shape\n",
        "\n",
        "\n",
        "model.embedding.weight.data = pretrained_embedding\n",
        "\n",
        "\n",
        "optimizer = optim.Adam(model.parameters(), lr=5e-4)\n",
        "criterion = nn.CrossEntropyLoss()\n",
        "device = torch.device(\"cuda\" if torch.cuda.is_available() else \"cpu\")\n",
        "# this is to move tensor to device to speed up\n",
        "model = model.to(device)\n",
        "criterion = criterion.to(device)\n",
        "\n",
        "def get_accuracy(prediction, label):\n",
        "    batch_size, _ = prediction.shape\n",
        "    predicted_classes = prediction.argmax(dim=-1)\n",
        "    correct_predictions = predicted_classes.eq(label).sum()\n",
        "    accuracy = correct_predictions / batch_size\n",
        "    return accuracy\n",
        "\n",
        "\n",
        "def evaluate(data_loader, model, criterion, device):\n",
        "    model.eval()\n",
        "    epoch_losses = []\n",
        "    epoch_accs = []\n",
        "    # torch.no_grad() is a context manager in PyTorch that disables gradient calculations.\n",
        "    # It's used when you want to perform operations without tracking gradients,\n",
        "    # which can be useful for inference or when you're sure you won't need to call backward() on the resulting tensors.\n",
        "    with torch.no_grad():\n",
        "        for batch in tqdm.tqdm(data_loader, desc=\"evaluating...\"):\n",
        "            ids = batch[\"ids\"].to(device)\n",
        "            length = batch[\"length\"]\n",
        "            label = batch[\"label\"].to(device)\n",
        "            prediction = model(ids, length)\n",
        "            loss = criterion(prediction, label)\n",
        "            accuracy = get_accuracy(prediction, label)\n",
        "            epoch_losses.append(loss.item())\n",
        "            epoch_accs.append(accuracy.item())\n",
        "    return np.mean(epoch_losses), np.mean(epoch_accs)\n",
        "\n",
        "\n",
        "\n",
        "\n",
        "# train the model\n",
        "\n",
        "# optimizer.zero_grad()is a method in PyTorch used to reset the gradients of all optimized tensors to zero before each training iteration.\n",
        "# By default, gradients in PyTorch accumulate with each backward pass.\n",
        "# Failing to clear them would cause the optimizer to use the accumulated gradients from previous iterations,\n",
        "# leading to incorrect updates of the model's parameters and hindering the training process.\n",
        "# It is called before loss.backward() and optimizer.step()\n",
        "def train(data_loader, model, criterion, optimizer, device):\n",
        "    model.train()\n",
        "    epoch_losses = []\n",
        "    epoch_accs = []\n",
        "    for batch in tqdm.tqdm(data_loader, desc=\"training...\"):\n",
        "        ids = batch[\"ids\"].to(device)\n",
        "        length = batch[\"length\"]\n",
        "        label = batch[\"label\"].to(device)\n",
        "        prediction = model(ids, length)\n",
        "        # print(ids.shape, 'id shape')\n",
        "        # print(label.shape, 'label shape')\n",
        "        loss = criterion(prediction, label)\n",
        "        accuracy = get_accuracy(prediction, label)\n",
        "        optimizer.zero_grad() # clean up gradient\n",
        "        loss.backward() # doing backward\n",
        "        optimizer.step()\n",
        "        epoch_losses.append(loss.item())\n",
        "        epoch_accs.append(accuracy.item())\n",
        "    return np.mean(epoch_losses), np.mean(epoch_accs)\n",
        "\n",
        "\n",
        "n_epochs = 10\n",
        "best_valid_loss = float(\"inf\")\n",
        "\n",
        "metrics = collections.defaultdict(list)\n",
        "\n",
        "for epoch in range(n_epochs):\n",
        "    train_loss, train_acc = train(\n",
        "        train_data_loader, model, criterion, optimizer, device\n",
        "    )\n",
        "    valid_loss, valid_acc = evaluate(valid_data_loader, model, criterion, device)\n",
        "    metrics[\"train_losses\"].append(train_loss)\n",
        "    metrics[\"train_accs\"].append(train_acc)\n",
        "    metrics[\"valid_losses\"].append(valid_loss)\n",
        "    metrics[\"valid_accs\"].append(valid_acc)\n",
        "    if valid_loss < best_valid_loss:\n",
        "        best_valid_loss = valid_loss\n",
        "        torch.save(model.state_dict(), \"nbow.pt\")\n",
        "    print(f\"epoch: {epoch}\")\n",
        "    print(f\"train_loss: {train_loss:.3f}, train_acc: {train_acc:.3f}\")\n",
        "    print(f\"valid_loss: {valid_loss:.3f}, valid_acc: {valid_acc:.3f}\")\n",
        "\n",
        "# plots\n",
        "fig = plt.figure(figsize=(10, 6))\n",
        "ax = fig.add_subplot(1, 1, 1)\n",
        "ax.plot(metrics[\"train_losses\"], label=\"train loss\")\n",
        "ax.plot(metrics[\"valid_losses\"], label=\"valid loss\")\n",
        "ax.set_xlabel(\"epoch\")\n",
        "ax.set_ylabel(\"loss\")\n",
        "ax.set_xticks(range(n_epochs))\n",
        "ax.legend()\n",
        "ax.grid()\n",
        "\n",
        "fig = plt.figure(figsize=(10, 6))\n",
        "ax = fig.add_subplot(1, 1, 1)\n",
        "ax.plot(metrics[\"train_accs\"], label=\"train accuracy\")\n",
        "ax.plot(metrics[\"valid_accs\"], label=\"valid accuracy\")\n",
        "ax.set_xlabel(\"epoch\")\n",
        "ax.set_ylabel(\"accuracy\")\n",
        "ax.set_xticks(range(n_epochs))\n",
        "ax.legend()\n",
        "ax.grid()"
      ]
    },
    {
      "cell_type": "code",
      "execution_count": null,
      "metadata": {
        "id": "rb5CM-pRxsZN",
        "colab": {
          "base_uri": "https://localhost:8080/",
          "height": 1000
        },
        "outputId": "f94df4ad-cb5d-4042-8b6f-e84080a94c47"
      },
      "outputs": [
        {
          "output_type": "stream",
          "name": "stdout",
          "text": [
            "The model has 5,294,302 trainable parameters\n"
          ]
        },
        {
          "output_type": "stream",
          "name": "stderr",
          "text": [
            "training...: 100%|██████████| 74/74 [00:05<00:00, 14.39it/s]\n",
            "evaluating...: 100%|██████████| 25/25 [00:00<00:00, 31.48it/s]\n"
          ]
        },
        {
          "output_type": "stream",
          "name": "stdout",
          "text": [
            "epoch: 0\n",
            "train_loss: 0.659, train_acc: 0.601\n",
            "valid_loss: 0.645, valid_acc: 0.633\n"
          ]
        },
        {
          "output_type": "stream",
          "name": "stderr",
          "text": [
            "training...: 100%|██████████| 74/74 [00:05<00:00, 14.63it/s]\n",
            "evaluating...: 100%|██████████| 25/25 [00:00<00:00, 31.42it/s]\n"
          ]
        },
        {
          "output_type": "stream",
          "name": "stdout",
          "text": [
            "epoch: 1\n",
            "train_loss: 0.624, train_acc: 0.661\n",
            "valid_loss: 0.591, valid_acc: 0.700\n"
          ]
        },
        {
          "output_type": "stream",
          "name": "stderr",
          "text": [
            "training...: 100%|██████████| 74/74 [00:05<00:00, 14.43it/s]\n",
            "evaluating...: 100%|██████████| 25/25 [00:00<00:00, 31.46it/s]\n"
          ]
        },
        {
          "output_type": "stream",
          "name": "stdout",
          "text": [
            "epoch: 2\n",
            "train_loss: 0.547, train_acc: 0.727\n",
            "valid_loss: 0.474, valid_acc: 0.776\n"
          ]
        },
        {
          "output_type": "stream",
          "name": "stderr",
          "text": [
            "training...: 100%|██████████| 74/74 [00:05<00:00, 14.65it/s]\n",
            "evaluating...: 100%|██████████| 25/25 [00:00<00:00, 31.48it/s]\n"
          ]
        },
        {
          "output_type": "stream",
          "name": "stdout",
          "text": [
            "epoch: 3\n",
            "train_loss: 0.572, train_acc: 0.703\n",
            "valid_loss: 0.502, valid_acc: 0.755\n"
          ]
        },
        {
          "output_type": "stream",
          "name": "stderr",
          "text": [
            "training...: 100%|██████████| 74/74 [00:05<00:00, 14.57it/s]\n",
            "evaluating...: 100%|██████████| 25/25 [00:00<00:00, 31.31it/s]\n"
          ]
        },
        {
          "output_type": "stream",
          "name": "stdout",
          "text": [
            "epoch: 4\n",
            "train_loss: 0.502, train_acc: 0.758\n",
            "valid_loss: 0.429, valid_acc: 0.811\n"
          ]
        },
        {
          "output_type": "stream",
          "name": "stderr",
          "text": [
            "training...: 100%|██████████| 74/74 [00:05<00:00, 14.50it/s]\n",
            "evaluating...: 100%|██████████| 25/25 [00:00<00:00, 31.48it/s]\n"
          ]
        },
        {
          "output_type": "stream",
          "name": "stdout",
          "text": [
            "epoch: 5\n",
            "train_loss: 0.433, train_acc: 0.801\n",
            "valid_loss: 0.505, valid_acc: 0.736\n"
          ]
        },
        {
          "output_type": "stream",
          "name": "stderr",
          "text": [
            "training...: 100%|██████████| 74/74 [00:05<00:00, 14.52it/s]\n",
            "evaluating...: 100%|██████████| 25/25 [00:00<00:00, 31.42it/s]\n"
          ]
        },
        {
          "output_type": "stream",
          "name": "stdout",
          "text": [
            "epoch: 6\n",
            "train_loss: 0.477, train_acc: 0.772\n",
            "valid_loss: 0.383, valid_acc: 0.837\n"
          ]
        },
        {
          "output_type": "stream",
          "name": "stderr",
          "text": [
            "training...: 100%|██████████| 74/74 [00:05<00:00, 14.39it/s]\n",
            "evaluating...: 100%|██████████| 25/25 [00:00<00:00, 26.44it/s]\n"
          ]
        },
        {
          "output_type": "stream",
          "name": "stdout",
          "text": [
            "epoch: 7\n",
            "train_loss: 0.401, train_acc: 0.823\n",
            "valid_loss: 0.390, valid_acc: 0.837\n"
          ]
        },
        {
          "output_type": "stream",
          "name": "stderr",
          "text": [
            "training...: 100%|██████████| 74/74 [00:05<00:00, 14.45it/s]\n",
            "evaluating...: 100%|██████████| 25/25 [00:00<00:00, 31.18it/s]\n"
          ]
        },
        {
          "output_type": "stream",
          "name": "stdout",
          "text": [
            "epoch: 8\n",
            "train_loss: 0.385, train_acc: 0.835\n",
            "valid_loss: 0.479, valid_acc: 0.778\n"
          ]
        },
        {
          "output_type": "stream",
          "name": "stderr",
          "text": [
            "training...: 100%|██████████| 74/74 [00:05<00:00, 14.52it/s]\n",
            "evaluating...: 100%|██████████| 25/25 [00:00<00:00, 30.38it/s]\n"
          ]
        },
        {
          "output_type": "stream",
          "name": "stdout",
          "text": [
            "epoch: 9\n",
            "train_loss: 0.367, train_acc: 0.840\n",
            "valid_loss: 0.459, valid_acc: 0.768\n"
          ]
        },
        {
          "output_type": "stream",
          "name": "stderr",
          "text": [
            "training...: 100%|██████████| 74/74 [00:05<00:00, 14.50it/s]\n",
            "evaluating...: 100%|██████████| 25/25 [00:00<00:00, 30.96it/s]\n"
          ]
        },
        {
          "output_type": "stream",
          "name": "stdout",
          "text": [
            "epoch: 10\n",
            "train_loss: 0.354, train_acc: 0.848\n",
            "valid_loss: 0.388, valid_acc: 0.841\n"
          ]
        },
        {
          "output_type": "stream",
          "name": "stderr",
          "text": [
            "training...: 100%|██████████| 74/74 [00:05<00:00, 14.54it/s]\n",
            "evaluating...: 100%|██████████| 25/25 [00:00<00:00, 30.82it/s]\n"
          ]
        },
        {
          "output_type": "stream",
          "name": "stdout",
          "text": [
            "epoch: 11\n",
            "train_loss: 0.309, train_acc: 0.871\n",
            "valid_loss: 0.335, valid_acc: 0.860\n"
          ]
        },
        {
          "output_type": "stream",
          "name": "stderr",
          "text": [
            "training...: 100%|██████████| 74/74 [00:05<00:00, 14.25it/s]\n",
            "evaluating...: 100%|██████████| 25/25 [00:00<00:00, 30.41it/s]\n"
          ]
        },
        {
          "output_type": "stream",
          "name": "stdout",
          "text": [
            "epoch: 12\n",
            "train_loss: 0.300, train_acc: 0.876\n",
            "valid_loss: 0.383, valid_acc: 0.814\n"
          ]
        },
        {
          "output_type": "stream",
          "name": "stderr",
          "text": [
            "training...: 100%|██████████| 74/74 [00:05<00:00, 14.37it/s]\n",
            "evaluating...: 100%|██████████| 25/25 [00:00<00:00, 31.05it/s]\n"
          ]
        },
        {
          "output_type": "stream",
          "name": "stdout",
          "text": [
            "epoch: 13\n",
            "train_loss: 0.286, train_acc: 0.882\n",
            "valid_loss: 0.316, valid_acc: 0.876\n"
          ]
        },
        {
          "output_type": "stream",
          "name": "stderr",
          "text": [
            "training...: 100%|██████████| 74/74 [00:05<00:00, 14.60it/s]\n",
            "evaluating...: 100%|██████████| 25/25 [00:00<00:00, 30.59it/s]\n"
          ]
        },
        {
          "output_type": "stream",
          "name": "stdout",
          "text": [
            "epoch: 14\n",
            "train_loss: 0.277, train_acc: 0.884\n",
            "valid_loss: 0.318, valid_acc: 0.877\n"
          ]
        },
        {
          "output_type": "stream",
          "name": "stderr",
          "text": [
            "training...: 100%|██████████| 74/74 [00:05<00:00, 14.41it/s]\n",
            "evaluating...: 100%|██████████| 25/25 [00:00<00:00, 30.42it/s]\n"
          ]
        },
        {
          "output_type": "stream",
          "name": "stdout",
          "text": [
            "epoch: 15\n",
            "train_loss: 0.268, train_acc: 0.890\n",
            "valid_loss: 0.339, valid_acc: 0.866\n"
          ]
        },
        {
          "output_type": "stream",
          "name": "stderr",
          "text": [
            "training...: 100%|██████████| 74/74 [00:05<00:00, 14.41it/s]\n",
            "evaluating...: 100%|██████████| 25/25 [00:00<00:00, 30.63it/s]\n"
          ]
        },
        {
          "output_type": "stream",
          "name": "stdout",
          "text": [
            "epoch: 16\n",
            "train_loss: 0.246, train_acc: 0.901\n",
            "valid_loss: 0.323, valid_acc: 0.878\n"
          ]
        },
        {
          "output_type": "stream",
          "name": "stderr",
          "text": [
            "training...: 100%|██████████| 74/74 [00:05<00:00, 14.33it/s]\n",
            "evaluating...: 100%|██████████| 25/25 [00:00<00:00, 31.40it/s]\n"
          ]
        },
        {
          "output_type": "stream",
          "name": "stdout",
          "text": [
            "epoch: 17\n",
            "train_loss: 0.265, train_acc: 0.895\n",
            "valid_loss: 0.335, valid_acc: 0.863\n"
          ]
        },
        {
          "output_type": "stream",
          "name": "stderr",
          "text": [
            "training...: 100%|██████████| 74/74 [00:05<00:00, 14.58it/s]\n",
            "evaluating...: 100%|██████████| 25/25 [00:00<00:00, 31.33it/s]\n"
          ]
        },
        {
          "output_type": "stream",
          "name": "stdout",
          "text": [
            "epoch: 18\n",
            "train_loss: 0.237, train_acc: 0.906\n",
            "valid_loss: 0.320, valid_acc: 0.878\n"
          ]
        },
        {
          "output_type": "stream",
          "name": "stderr",
          "text": [
            "training...: 100%|██████████| 74/74 [00:05<00:00, 14.49it/s]\n",
            "evaluating...: 100%|██████████| 25/25 [00:00<00:00, 31.01it/s]\n"
          ]
        },
        {
          "output_type": "stream",
          "name": "stdout",
          "text": [
            "epoch: 19\n",
            "train_loss: 0.220, train_acc: 0.912\n",
            "valid_loss: 0.349, valid_acc: 0.873\n"
          ]
        },
        {
          "output_type": "display_data",
          "data": {
            "text/plain": [
              "<Figure size 1000x600 with 1 Axes>"
            ],
            "image/png": "[encoded data removed]"
          },
          "metadata": {}
        },
        {
          "output_type": "display_data",
          "data": {
            "text/plain": [
              "<Figure size 1000x600 with 1 Axes>"
            ],
            "image/png": "[encoded data removed]"
          },
          "metadata": {}
        }
      ],
      "source": [
        "# here I changed the embedding dimesion to 100, the hidden state to 300, and change dropout to 0.5, and add a weight initilization layer\n",
        "# As I learned here, that a large hidden state will learn deep concepts, however the training and valid accuracy fluctures during the middle of training\n",
        "# so I changed the batch size to 256 to see the impact, and the result is more stable and smooth.\n",
        "\n",
        "batch_size = 256\n",
        "# Larger batches: With larger batches, the gradients become more stable and less noisy.\n",
        "# This means the model's updates are smoother and more deterministic, which can lead to faster convergence but also a higher risk of overfitting,\n",
        "# as the model may settle on a solution that fits the specific training data very closely.\n",
        "\n",
        "train_data_loader = get_data_loader(train_data, batch_size, pad_index, shuffle=True)\n",
        "valid_data_loader = get_data_loader(valid_data, batch_size, pad_index)\n",
        "test_data_loader = get_data_loader(test_data, batch_size, pad_index)\n",
        "\n",
        "\n",
        "# build model\n",
        "class myLSTM(nn.Module):\n",
        "    def __init__(self, vocab_size, embed_dim,hidden_dim, output_dim,n_layers, bidirectional, dropout_rate,pad_index):\n",
        "        super().__init__()\n",
        "        self.embedding = nn.Embedding(vocab_size, embed_dim,padding_idx=pad_index)\n",
        "        self.lstm = nn.LSTM(\n",
        "            input_size=embed_dim,\n",
        "            hidden_size=hidden_dim,\n",
        "            num_layers=2,\n",
        "            bidirectional=bidirectional,\n",
        "            dropout=dropout_rate,\n",
        "            batch_first=True,\n",
        "        )\n",
        "        self.fc = nn.Linear(\n",
        "            hidden_dim * 2 if bidirectional else hidden_dim, output_dim\n",
        "        )\n",
        "        self.dropout = nn.Dropout(dropout_rate)\n",
        "        self.bidirectional =bidirectional\n",
        "\n",
        "    def forward(self, ids, length):\n",
        "        embedded_with_dropout = self.dropout(self.embedding(ids))\n",
        "        # print('embedded_with_dropout shape: ', embedded_with_dropout.shape)\n",
        "        packed_embedded = nn.utils.rnn.pack_padded_sequence(\n",
        "            embedded_with_dropout,\n",
        "            length,\n",
        "            batch_first=True,\n",
        "            enforce_sorted=False,\n",
        "        )\n",
        "        # print('packed embedded shape: ', embedded_with_dropout.shape)\n",
        "        packed_output, (hidden, cell) = self.lstm(packed_embedded)\n",
        "        # print( 'Hidden shape: ',hidden.shape)\n",
        "        # print( 'Cell shape: ',cell.shape)\n",
        "        output, output_length = nn.utils.rnn.pad_packed_sequence(packed_output)\n",
        "        if self.bidirectional:\n",
        "            hidden = torch.cat([hidden[-1], hidden[-2]], dim=-1)\n",
        "        else:\n",
        "            hidden = self.dropout(hidden[-1])\n",
        "        # print('hidden shape: ', hidden.shape)\n",
        "        prediction = self.fc(hidden)\n",
        "        return prediction\n",
        "\n",
        "\n",
        "vocab_size = len(vocab)\n",
        "embedding_dim = 100\n",
        "hidden_dim = 300\n",
        "output_dim = len(train_data.unique(\"label\"))\n",
        "n_layers = 2\n",
        "bidirectional = True\n",
        "dropout_rate = 0.5\n",
        "\n",
        "model = myLSTM(vocab_size, embedding_dim,hidden_dim, output_dim,n_layers, bidirectional, dropout_rate,pad_index)\n",
        "\n",
        "\n",
        "def count_parameters(model):\n",
        "    return sum(p.numel() for p in model.parameters() if p.requires_grad)\n",
        "\n",
        "print(f\"The model has {count_parameters(model):,} trainable parameters\")\n",
        "\n",
        "def initialize_weights(m):\n",
        "    if isinstance(m, nn.Linear):\n",
        "        nn.init.xavier_normal_(m.weight)\n",
        "        nn.init.zeros_(m.bias)\n",
        "    elif isinstance(m, nn.LSTM):\n",
        "        for name, param in m.named_parameters():\n",
        "            if \"bias\" in name:\n",
        "                nn.init.zeros_(param)\n",
        "            elif \"weight\" in name:\n",
        "                nn.init.orthogonal_(param)\n",
        "\n",
        "model.apply(initialize_weights)\n",
        "# use existing word embedding as the start points\n",
        "vectors = torchtext.vocab.GloVe(name=\"6B\", dim=\"100\")\n",
        "vectors.get_vecs_by_tokens([\"hello\", \"<pad>\"])\n",
        "pretrained_embedding = vectors.get_vecs_by_tokens(vocab.get_itos())\n",
        "pretrained_embedding.shape\n",
        "\n",
        "\n",
        "model.embedding.weight.data = pretrained_embedding\n",
        "\n",
        "\n",
        "optimizer = optim.Adam(model.parameters(), lr=5e-4)\n",
        "criterion = nn.CrossEntropyLoss()\n",
        "device = torch.device(\"cuda\" if torch.cuda.is_available() else \"cpu\")\n",
        "# this is to move tensor to device to speed up\n",
        "model = model.to(device)\n",
        "criterion = criterion.to(device)\n",
        "\n",
        "def get_accuracy(prediction, label):\n",
        "    batch_size, _ = prediction.shape\n",
        "    predicted_classes = prediction.argmax(dim=-1)\n",
        "    correct_predictions = predicted_classes.eq(label).sum()\n",
        "    accuracy = correct_predictions / batch_size\n",
        "    return accuracy\n",
        "\n",
        "\n",
        "def evaluate(data_loader, model, criterion, device):\n",
        "    model.eval()\n",
        "    epoch_losses = []\n",
        "    epoch_accs = []\n",
        "    # torch.no_grad() is a context manager in PyTorch that disables gradient calculations.\n",
        "    # It's used when you want to perform operations without tracking gradients,\n",
        "    # which can be useful for inference or when you're sure you won't need to call backward() on the resulting tensors.\n",
        "    with torch.no_grad():\n",
        "        for batch in tqdm.tqdm(data_loader, desc=\"evaluating...\"):\n",
        "            ids = batch[\"ids\"].to(device)\n",
        "            length = batch[\"length\"]\n",
        "            label = batch[\"label\"].to(device)\n",
        "            prediction = model(ids, length)\n",
        "            loss = criterion(prediction, label)\n",
        "            accuracy = get_accuracy(prediction, label)\n",
        "            epoch_losses.append(loss.item())\n",
        "            epoch_accs.append(accuracy.item())\n",
        "    return np.mean(epoch_losses), np.mean(epoch_accs)\n",
        "\n",
        "\n",
        "\n",
        "\n",
        "# train the model\n",
        "\n",
        "# optimizer.zero_grad()is a method in PyTorch used to reset the gradients of all optimized tensors to zero before each training iteration.\n",
        "# By default, gradients in PyTorch accumulate with each backward pass.\n",
        "# Failing to clear them would cause the optimizer to use the accumulated gradients from previous iterations,\n",
        "# leading to incorrect updates of the model's parameters and hindering the training process.\n",
        "# It is called before loss.backward() and optimizer.step()\n",
        "def train(data_loader, model, criterion, optimizer, device):\n",
        "    model.train()\n",
        "    epoch_losses = []\n",
        "    epoch_accs = []\n",
        "    for batch in tqdm.tqdm(data_loader, desc=\"training...\"):\n",
        "        ids = batch[\"ids\"].to(device)\n",
        "        length = batch[\"length\"]\n",
        "        label = batch[\"label\"].to(device)\n",
        "        prediction = model(ids, length)\n",
        "        # print(ids.shape, 'id shape')\n",
        "        # print(label.shape, 'label shape')\n",
        "        loss = criterion(prediction, label)\n",
        "        accuracy = get_accuracy(prediction, label)\n",
        "        optimizer.zero_grad() # clean up gradient\n",
        "        loss.backward() # doing backward\n",
        "        optimizer.step()\n",
        "        epoch_losses.append(loss.item())\n",
        "        epoch_accs.append(accuracy.item())\n",
        "    return np.mean(epoch_losses), np.mean(epoch_accs)\n",
        "\n",
        "\n",
        "n_epochs = 20\n",
        "best_valid_loss = float(\"inf\")\n",
        "\n",
        "metrics = collections.defaultdict(list)\n",
        "\n",
        "for epoch in range(n_epochs):\n",
        "    train_loss, train_acc = train(\n",
        "        train_data_loader, model, criterion, optimizer, device\n",
        "    )\n",
        "    valid_loss, valid_acc = evaluate(valid_data_loader, model, criterion, device)\n",
        "    metrics[\"train_losses\"].append(train_loss)\n",
        "    metrics[\"train_accs\"].append(train_acc)\n",
        "    metrics[\"valid_losses\"].append(valid_loss)\n",
        "    metrics[\"valid_accs\"].append(valid_acc)\n",
        "    if valid_loss < best_valid_loss:\n",
        "        best_valid_loss = valid_loss\n",
        "        torch.save(model.state_dict(), \"nbow.pt\")\n",
        "    print(f\"epoch: {epoch}\")\n",
        "    print(f\"train_loss: {train_loss:.3f}, train_acc: {train_acc:.3f}\")\n",
        "    print(f\"valid_loss: {valid_loss:.3f}, valid_acc: {valid_acc:.3f}\")\n",
        "\n",
        "# plots\n",
        "fig = plt.figure(figsize=(10, 6))\n",
        "ax = fig.add_subplot(1, 1, 1)\n",
        "ax.plot(metrics[\"train_losses\"], label=\"train loss\")\n",
        "ax.plot(metrics[\"valid_losses\"], label=\"valid loss\")\n",
        "ax.set_xlabel(\"epoch\")\n",
        "ax.set_ylabel(\"loss\")\n",
        "ax.set_xticks(range(n_epochs))\n",
        "ax.legend()\n",
        "ax.grid()\n",
        "\n",
        "fig = plt.figure(figsize=(10, 6))\n",
        "ax = fig.add_subplot(1, 1, 1)\n",
        "ax.plot(metrics[\"train_accs\"], label=\"train accuracy\")\n",
        "ax.plot(metrics[\"valid_accs\"], label=\"valid accuracy\")\n",
        "ax.set_xlabel(\"epoch\")\n",
        "ax.set_ylabel(\"accuracy\")\n",
        "ax.set_xticks(range(n_epochs))\n",
        "ax.legend()\n",
        "ax.grid()"
      ]
    },
    {
      "cell_type": "code",
      "execution_count": null,
      "metadata": {
        "id": "2Hvva7SP5ljY"
      },
      "outputs": [],
      "source": []
    },
    {
      "cell_type": "code",
      "execution_count": null,
      "metadata": {
        "id": "h8-0p8DVWExz"
      },
      "outputs": [],
      "source": [
        "# print all parameters\n",
        "# for param in model.parameters():\n",
        "#     print(param.requires_grad)\n",
        "\n",
        "# if we want to freeze some parameters of the model\n",
        "# for param in some_model_layer.parameters():\n",
        "#     param.requires_grad_(False)\n",
        "\n",
        "# or for the entire model\n",
        "# for param in model.parameters():\n",
        "#     param.requires_grad_(False)"
      ]
    },
    {
      "cell_type": "code",
      "execution_count": null,
      "metadata": {
        "id": "yVs2TTbN3OmC",
        "colab": {
          "base_uri": "https://localhost:8080/"
        },
        "outputId": "d03bb8de-51b6-49f6-9970-fc610150dfeb"
      },
      "outputs": [
        {
          "output_type": "execute_result",
          "data": {
            "text/plain": [
              "Parameter containing:\n",
              "tensor([[ 0.0324, -0.0163,  0.0159,  ...,  0.0179, -0.0258, -0.0351],\n",
              "        [ 0.0000,  0.0000,  0.0000,  ...,  0.0000,  0.0000,  0.0000],\n",
              "        [-0.0186, -0.2494,  0.7253,  ..., -0.1559,  0.8299,  0.2525],\n",
              "        ...,\n",
              "        [-0.0441, -0.2212, -0.0889,  ..., -0.1748, -0.2060,  0.9692],\n",
              "        [ 0.3195,  0.5869, -0.1864,  ...,  0.1366, -0.9730,  0.3434],\n",
              "        [-0.6877,  0.5713, -0.7666,  ...,  0.3945, -0.3057,  0.0039]],\n",
              "       device='cuda:0', requires_grad=True)"
            ]
          },
          "metadata": {},
          "execution_count": 47
        }
      ],
      "source": [
        "model.embedding.weight"
      ]
    },
    {
      "cell_type": "code",
      "execution_count": null,
      "metadata": {
        "id": "6eiMiXdu3Rs0",
        "colab": {
          "base_uri": "https://localhost:8080/"
        },
        "outputId": "fcee989c-9775-4a66-b36f-8bbd2ee771f5"
      },
      "outputs": [
        {
          "output_type": "execute_result",
          "data": {
            "text/plain": [
              "tensor([-0.3398,  0.2094,  0.4635, -0.6479, -0.3838,  0.0380,  0.1713,  0.1598,\n",
              "         0.4662, -0.0192])"
            ]
          },
          "metadata": {},
          "execution_count": 48
        }
      ],
      "source": [
        "pretrained_embedding[3][:10]"
      ]
    },
    {
      "cell_type": "code",
      "source": [],
      "metadata": {
        "id": "3OUQzxrE2iQ4"
      },
      "execution_count": null,
      "outputs": []
    },
    {
      "cell_type": "code",
      "execution_count": null,
      "metadata": {
        "id": "G74q6VtFHpQZ",
        "colab": {
          "base_uri": "https://localhost:8080/"
        },
        "outputId": "37e713e4-c9f1-4aeb-fe19-026ea7fbbb4a"
      },
      "outputs": [
        {
          "output_type": "execute_result",
          "data": {
            "text/plain": [
              "(0, 0.9709641933441162)"
            ]
          },
          "metadata": {},
          "execution_count": 53
        }
      ],
      "source": [
        "# prompt: given the model, predict a new text\n",
        "\n",
        "import torch\n",
        "\n",
        "# Load the saved model\n",
        "vocab_size = len(vocab)\n",
        "embedding_dim = 100\n",
        "output_dim = len(train_data.unique(\"label\"))\n",
        "model = myLSTM(vocab_size, embedding_dim,hidden_dim, output_dim,n_layers, bidirectional, dropout_rate,pad_index)\n",
        "model.load_state_dict(torch.load(\"nbow.pt\"))\n",
        "model.eval()  # Set the model to evaluation mode\n",
        "model.to(device)  # Move the model to the desired device\n",
        "\n",
        "def predict_sentiment(text, model, tokenizer, vocab, device):\n",
        "    tokens = tokenizer(text)\n",
        "    ids = vocab.lookup_indices(tokens)\n",
        "    length = torch.LongTensor([len(ids)])\n",
        "    tensor = torch.LongTensor(ids).unsqueeze(dim=0).to(device)\n",
        "    prediction = model(tensor, length).squeeze(dim=0)\n",
        "    probability = torch.softmax(prediction, dim=-1)\n",
        "    predicted_class = prediction.argmax(dim=-1).item()\n",
        "    predicted_probability = probability[predicted_class].item()\n",
        "    return predicted_class, predicted_probability\n",
        "\n",
        "text = \"This film is terrible!\"\n",
        "\n",
        "predict_sentiment(text, model, tokenizer, vocab, device)"
      ]
    },
    {
      "cell_type": "code",
      "execution_count": null,
      "metadata": {
        "id": "GNUtLDDEHQpx",
        "colab": {
          "base_uri": "https://localhost:8080/"
        },
        "outputId": "e0637c4b-b2cd-41d5-ae8e-25584763d6eb"
      },
      "outputs": [
        {
          "output_type": "stream",
          "name": "stdout",
          "text": [
            "(1, 0.9668495655059814)\n",
            "(0, 0.9709641933441162)\n",
            "(1, 0.9601166248321533)\n",
            "(1, 0.9849985241889954)\n"
          ]
        }
      ],
      "source": [
        "txt = 'I like this movie! this movie is fantastic'\n",
        "res = predict_sentiment(txt, model, tokenizer, vocab, device)\n",
        "print(res)\n",
        "\n",
        "text = \"This film is terrible!\"\n",
        "res = predict_sentiment(text, model, tokenizer, vocab, device)\n",
        "print(res)\n",
        "\n",
        "txt = \"This movie was absolutely fantastic!\"\n",
        "res = predict_sentiment(txt, model, tokenizer, vocab, device)\n",
        "print(res)\n",
        "\n",
        "\n",
        "text = \"This film is great!\"\n",
        "res = predict_sentiment(text, model, tokenizer, vocab, device)\n",
        "print(res)"
      ]
    },
    {
      "cell_type": "code",
      "execution_count": null,
      "metadata": {
        "id": "MNvOdjbP4BmJ",
        "colab": {
          "base_uri": "https://localhost:8080/"
        },
        "outputId": "ca0dfe08-4793-4813-e6f9-bfb98b4e652d"
      },
      "outputs": [
        {
          "output_type": "execute_result",
          "data": {
            "text/plain": [
              "tensor([-0.3210,  0.1904,  0.4754, -0.6461, -0.3852,  0.0415,  0.1476,  0.1672,\n",
              "         0.4770, -0.0060,  0.4267, -0.3231,  0.2759,  0.0426,  0.4374, -0.3998,\n",
              "         0.1351,  0.0332, -0.6230,  0.2351,  0.0175, -0.1822,  0.4556,  0.4593,\n",
              "         0.6690,  0.0855,  0.2218, -0.6708,  0.1561, -0.3270, -0.1134,  0.6627,\n",
              "        -0.2626,  0.0172, -0.1439,  0.3741,  0.1451,  0.3600, -0.1012, -0.4351,\n",
              "        -0.2358, -0.2855, -0.1347, -0.2462, -0.2200, -0.4638,  0.2863, -0.8310,\n",
              "        -0.1534, -0.4759,  0.0239, -0.1560,  0.2598,  1.3648, -0.2149, -2.7959,\n",
              "        -0.2802, -0.4308,  1.5949,  0.7633, -0.5602,  0.6330,  0.1086,  0.3962,\n",
              "         1.0580, -0.3349,  0.4768,  0.3267,  0.8233,  0.0976, -0.2355, -0.2814,\n",
              "         0.0682, -0.3664,  0.0636, -0.0048,  0.0375,  0.0368, -1.0133, -0.1907,\n",
              "         0.6389, -0.0890, -0.5933,  0.3089, -1.1314, -0.1060, -0.2267, -0.4171,\n",
              "        -0.0782, -0.1647, -0.0701, -0.6418, -0.0788,  0.5192, -0.8405,  0.3007,\n",
              "        -0.3707, -0.2142,  0.4327, -0.0433], device='cuda:0')"
            ]
          },
          "metadata": {},
          "execution_count": 55
        }
      ],
      "source": [
        "# check the embeddings after training\n",
        "model.embedding.weight.data[3]"
      ]
    },
    {
      "cell_type": "code",
      "execution_count": null,
      "metadata": {
        "id": "ieAtSn0q_MUl",
        "colab": {
          "base_uri": "https://localhost:8080/"
        },
        "outputId": "4cf24f98-335a-459b-d476-09862d18b564"
      },
      "outputs": [
        {
          "output_type": "stream",
          "name": "stdout",
          "text": [
            "tensor([[ 0.6786,  0.3871,  0.6873,  0.0225,  0.0721,  1.3506,  0.0588,  0.2474,\n",
            "          0.4704,  0.3495, -0.6781,  0.4192,  0.8324,  0.4126,  0.2453, -0.0465,\n",
            "          0.4234, -0.1764, -0.4088,  0.3913,  0.1603,  0.0345,  0.0909,  0.3846,\n",
            "          0.5573,  0.4517, -0.4830, -1.5328,  0.1827,  0.2862,  0.2698,  0.5559,\n",
            "          0.5807, -0.3970,  0.1627, -0.6707, -0.7060,  0.2034,  1.1474,  0.4889,\n",
            "         -0.9198,  0.1184,  0.1343, -0.2343,  0.2645,  0.1471, -0.2429,  0.2099,\n",
            "          0.1272, -0.2715, -0.2135, -0.3024,  0.7780,  1.6180, -0.4136, -1.9868,\n",
            "         -0.7397,  0.3183,  1.2120,  0.5759,  0.3784,  0.6578, -0.1442,  0.0295,\n",
            "          0.7545,  0.1608,  0.8980,  0.3432, -0.4611,  0.0199,  0.0984, -0.1312,\n",
            "         -0.1232,  0.5948,  0.4814,  0.7794,  0.0710, -0.5830, -0.7231, -1.0418,\n",
            "         -0.0271,  0.2741,  0.4480,  0.0593, -1.2957, -1.2742,  0.1630,  0.4380,\n",
            "          0.0918, -0.7256,  0.8179, -0.1567,  0.7464, -0.0946, -0.3741,  0.4106,\n",
            "         -0.5218, -0.5155,  0.0512, -0.3604]], device='cuda:0',\n",
            "       grad_fn=<EmbeddingBackward0>)\n"
          ]
        }
      ],
      "source": [
        "word = 'woman'\n",
        "word_indice = vocab[word]\n",
        "word_indices = torch.LongTensor([word_indice]).to(device)\n",
        "word_embedding = model.embedding(word_indices)\n",
        "print(word_embedding)\n"
      ]
    },
    {
      "cell_type": "markdown",
      "source": [
        "## Freeze the embedding layer and see the impact\n"
      ],
      "metadata": {
        "id": "bbCJDovVvR0T"
      }
    },
    {
      "cell_type": "code",
      "source": [
        "# here I changed the embedding dimesion to 100, the hidden state to 300, and change dropout to 0.5, and add a weight initilization layer\n",
        "# As I learned here, that a large hidden state will learn deep concepts, however the training and valid accuracy fluctures during the middle of training\n",
        "# so I changed the batch size to 256 to see the impact, and the result is more stable and smooth.\n",
        "\n",
        "batch_size = 256\n",
        "# Larger batches: With larger batches, the gradients become more stable and less noisy.\n",
        "# This means the model's updates are smoother and more deterministic, which can lead to faster convergence but also a higher risk of overfitting,\n",
        "# as the model may settle on a solution that fits the specific training data very closely.\n",
        "\n",
        "train_data_loader = get_data_loader(train_data, batch_size, pad_index, shuffle=True)\n",
        "valid_data_loader = get_data_loader(valid_data, batch_size, pad_index)\n",
        "test_data_loader = get_data_loader(test_data, batch_size, pad_index)\n",
        "\n",
        "\n",
        "# build model\n",
        "class myLSTM(nn.Module):\n",
        "    def __init__(self, vocab_size, embed_dim,hidden_dim, output_dim,n_layers, bidirectional, dropout_rate,pad_index):\n",
        "        super().__init__()\n",
        "        self.embedding = nn.Embedding(vocab_size, embed_dim,padding_idx=pad_index)\n",
        "        self.lstm = nn.LSTM(\n",
        "            input_size=embed_dim,\n",
        "            hidden_size=hidden_dim,\n",
        "            num_layers=2,\n",
        "            bidirectional=bidirectional,\n",
        "            dropout=dropout_rate,\n",
        "            batch_first=True,\n",
        "        )\n",
        "        self.fc = nn.Linear(\n",
        "            hidden_dim * 2 if bidirectional else hidden_dim, output_dim\n",
        "        )\n",
        "        self.dropout = nn.Dropout(dropout_rate)\n",
        "        self.bidirectional =bidirectional\n",
        "\n",
        "    def forward(self, ids, length):\n",
        "        embedded_with_dropout = self.dropout(self.embedding(ids))\n",
        "        # print('embedded_with_dropout shape: ', embedded_with_dropout.shape)\n",
        "        packed_embedded = nn.utils.rnn.pack_padded_sequence(\n",
        "            embedded_with_dropout,\n",
        "            length,\n",
        "            batch_first=True,\n",
        "            enforce_sorted=False,\n",
        "        )\n",
        "        # print('packed embedded shape: ', embedded_with_dropout.shape)\n",
        "        packed_output, (hidden, cell) = self.lstm(packed_embedded)\n",
        "        # print( 'Hidden shape: ',hidden.shape)\n",
        "        # print( 'Cell shape: ',cell.shape)\n",
        "        output, output_length = nn.utils.rnn.pad_packed_sequence(packed_output)\n",
        "        if self.bidirectional:\n",
        "            hidden = torch.cat([hidden[-1], hidden[-2]], dim=-1)\n",
        "        else:\n",
        "            hidden = self.dropout(hidden[-1])\n",
        "        # print('hidden shape: ', hidden.shape)\n",
        "        prediction = self.fc(hidden)\n",
        "        return prediction\n",
        "\n",
        "\n",
        "vocab_size = len(vocab)\n",
        "embedding_dim = 100\n",
        "hidden_dim = 300\n",
        "output_dim = len(train_data.unique(\"label\"))\n",
        "n_layers = 2\n",
        "bidirectional = True\n",
        "dropout_rate = 0.5\n",
        "\n",
        "model = myLSTM(vocab_size, embedding_dim,hidden_dim, output_dim,n_layers, bidirectional, dropout_rate,pad_index)\n",
        "\n",
        "\n",
        "def count_parameters(model):\n",
        "    return sum(p.numel() for p in model.parameters() if p.requires_grad)\n",
        "\n",
        "print(f\"The model has {count_parameters(model):,} trainable parameters\")\n",
        "\n",
        "def initialize_weights(m):\n",
        "    if isinstance(m, nn.Linear):\n",
        "        nn.init.xavier_normal_(m.weight)\n",
        "        nn.init.zeros_(m.bias)\n",
        "    elif isinstance(m, nn.LSTM):\n",
        "        for name, param in m.named_parameters():\n",
        "            if \"bias\" in name:\n",
        "                nn.init.zeros_(param)\n",
        "            elif \"weight\" in name:\n",
        "                nn.init.orthogonal_(param)\n",
        "\n",
        "model.apply(initialize_weights)\n",
        "# use existing word embedding as the start points\n",
        "vectors = torchtext.vocab.GloVe(name=\"6B\", dim=\"100\")\n",
        "vectors.get_vecs_by_tokens([\"hello\", \"<pad>\"])\n",
        "pretrained_embedding = vectors.get_vecs_by_tokens(vocab.get_itos())\n",
        "pretrained_embedding.shape\n",
        "model.embedding.weight.data = pretrained_embedding\n",
        "\n",
        "print(model.embedding.weight.data[3])\n",
        "\n",
        "for param in model.embedding.parameters():\n",
        "    param.requires_grad = False\n",
        "\n",
        "\n",
        "optimizer = optim.Adam(model.parameters(), lr=5e-4)\n",
        "criterion = nn.CrossEntropyLoss()\n",
        "device = torch.device(\"cuda\" if torch.cuda.is_available() else \"cpu\")\n",
        "# this is to move tensor to device to speed up\n",
        "model = model.to(device)\n",
        "criterion = criterion.to(device)\n",
        "\n",
        "def get_accuracy(prediction, label):\n",
        "    batch_size, _ = prediction.shape\n",
        "    predicted_classes = prediction.argmax(dim=-1)\n",
        "    correct_predictions = predicted_classes.eq(label).sum()\n",
        "    accuracy = correct_predictions / batch_size\n",
        "    return accuracy\n",
        "\n",
        "\n",
        "def evaluate(data_loader, model, criterion, device):\n",
        "    model.eval()\n",
        "    epoch_losses = []\n",
        "    epoch_accs = []\n",
        "    # torch.no_grad() is a context manager in PyTorch that disables gradient calculations.\n",
        "    # It's used when you want to perform operations without tracking gradients,\n",
        "    # which can be useful for inference or when you're sure you won't need to call backward() on the resulting tensors.\n",
        "    with torch.no_grad():\n",
        "        for batch in tqdm.tqdm(data_loader, desc=\"evaluating...\"):\n",
        "            ids = batch[\"ids\"].to(device)\n",
        "            length = batch[\"length\"]\n",
        "            label = batch[\"label\"].to(device)\n",
        "            prediction = model(ids, length)\n",
        "            loss = criterion(prediction, label)\n",
        "            accuracy = get_accuracy(prediction, label)\n",
        "            epoch_losses.append(loss.item())\n",
        "            epoch_accs.append(accuracy.item())\n",
        "    return np.mean(epoch_losses), np.mean(epoch_accs)\n",
        "\n",
        "\n",
        "\n",
        "# train the model\n",
        "\n",
        "# optimizer.zero_grad()is a method in PyTorch used to reset the gradients of all optimized tensors to zero before each training iteration.\n",
        "# By default, gradients in PyTorch accumulate with each backward pass.\n",
        "# Failing to clear them would cause the optimizer to use the accumulated gradients from previous iterations,\n",
        "# leading to incorrect updates of the model's parameters and hindering the training process.\n",
        "# It is called before loss.backward() and optimizer.step()\n",
        "def train(data_loader, model, criterion, optimizer, device):\n",
        "    model.train()\n",
        "    epoch_losses = []\n",
        "    epoch_accs = []\n",
        "    for batch in tqdm.tqdm(data_loader, desc=\"training...\"):\n",
        "        ids = batch[\"ids\"].to(device)\n",
        "        length = batch[\"length\"]\n",
        "        label = batch[\"label\"].to(device)\n",
        "        prediction = model(ids, length)\n",
        "        # print(ids.shape, 'id shape')\n",
        "        # print(label.shape, 'label shape')\n",
        "        loss = criterion(prediction, label)\n",
        "        accuracy = get_accuracy(prediction, label)\n",
        "        optimizer.zero_grad() # clean up gradient\n",
        "        loss.backward() # doing backward\n",
        "        optimizer.step()\n",
        "        epoch_losses.append(loss.item())\n",
        "        epoch_accs.append(accuracy.item())\n",
        "    return np.mean(epoch_losses), np.mean(epoch_accs)\n",
        "\n",
        "\n",
        "n_epochs = 20\n",
        "best_valid_loss = float(\"inf\")\n",
        "\n",
        "metrics = collections.defaultdict(list)\n",
        "\n",
        "for epoch in range(n_epochs):\n",
        "    train_loss, train_acc = train(\n",
        "        train_data_loader, model, criterion, optimizer, device\n",
        "    )\n",
        "    valid_loss, valid_acc = evaluate(valid_data_loader, model, criterion, device)\n",
        "    metrics[\"train_losses\"].append(train_loss)\n",
        "    metrics[\"train_accs\"].append(train_acc)\n",
        "    metrics[\"valid_losses\"].append(valid_loss)\n",
        "    metrics[\"valid_accs\"].append(valid_acc)\n",
        "    if valid_loss < best_valid_loss:\n",
        "        best_valid_loss = valid_loss\n",
        "        torch.save(model.state_dict(), \"nbow.pt\")\n",
        "    print(f\"epoch: {epoch}\")\n",
        "    print(f\"train_loss: {train_loss:.3f}, train_acc: {train_acc:.3f}\")\n",
        "    print(f\"valid_loss: {valid_loss:.3f}, valid_acc: {valid_acc:.3f}\")\n",
        "\n",
        "# plots\n",
        "fig = plt.figure(figsize=(10, 6))\n",
        "ax = fig.add_subplot(1, 1, 1)\n",
        "ax.plot(metrics[\"train_losses\"], label=\"train loss\")\n",
        "ax.plot(metrics[\"valid_losses\"], label=\"valid loss\")\n",
        "ax.set_xlabel(\"epoch\")\n",
        "ax.set_ylabel(\"loss\")\n",
        "ax.set_xticks(range(n_epochs))\n",
        "ax.legend()\n",
        "ax.grid()\n",
        "\n",
        "fig = plt.figure(figsize=(10, 6))\n",
        "ax = fig.add_subplot(1, 1, 1)\n",
        "ax.plot(metrics[\"train_accs\"], label=\"train accuracy\")\n",
        "ax.plot(metrics[\"valid_accs\"], label=\"valid accuracy\")\n",
        "ax.set_xlabel(\"epoch\")\n",
        "ax.set_ylabel(\"accuracy\")\n",
        "ax.set_xticks(range(n_epochs))\n",
        "ax.legend()\n",
        "ax.grid()"
      ],
      "metadata": {
        "colab": {
          "base_uri": "https://localhost:8080/",
          "height": 1000
        },
        "id": "TKsG__rZvUvI",
        "outputId": "00889e41-faa6-4c66-9043-3293610440d4"
      },
      "execution_count": null,
      "outputs": [
        {
          "output_type": "stream",
          "name": "stdout",
          "text": [
            "The model has 5,294,302 trainable parameters\n"
          ]
        },
        {
          "output_type": "stream",
          "name": "stderr",
          "text": [
            ".vector_cache/glove.6B.zip: 862MB [02:45, 5.21MB/s]                           \n",
            "100%|█████████▉| 399999/400000 [00:18<00:00, 22080.46it/s]\n"
          ]
        },
        {
          "output_type": "stream",
          "name": "stdout",
          "text": [
            "tensor([-0.3398,  0.2094,  0.4635, -0.6479, -0.3838,  0.0380,  0.1713,  0.1598,\n",
            "         0.4662, -0.0192,  0.4148, -0.3435,  0.2687,  0.0446,  0.4213, -0.4103,\n",
            "         0.1546,  0.0222, -0.6465,  0.2526,  0.0431, -0.1945,  0.4652,  0.4565,\n",
            "         0.6859,  0.0913,  0.2188, -0.7035,  0.1679, -0.3508, -0.1263,  0.6638,\n",
            "        -0.2582,  0.0365, -0.1361,  0.4025,  0.1429,  0.3813, -0.1228, -0.4589,\n",
            "        -0.2528, -0.3043, -0.1121, -0.2618, -0.2248, -0.4455,  0.2991, -0.8561,\n",
            "        -0.1450, -0.4909,  0.0083, -0.1749,  0.2752,  1.4401, -0.2124, -2.8435,\n",
            "        -0.2796, -0.4572,  1.6386,  0.7881, -0.5526,  0.6500,  0.0864,  0.3901,\n",
            "         1.0632, -0.3538,  0.4833,  0.3460,  0.8417,  0.0987, -0.2421, -0.2705,\n",
            "         0.0453, -0.4015,  0.1139,  0.0062,  0.0367,  0.0185, -1.0213, -0.2081,\n",
            "         0.6407, -0.0688, -0.5864,  0.3348, -1.1432, -0.1148, -0.2509, -0.4591,\n",
            "        -0.0968, -0.1795, -0.0634, -0.6741, -0.0689,  0.5360, -0.8777,  0.3180,\n",
            "        -0.3924, -0.2339,  0.4730, -0.0288])\n"
          ]
        },
        {
          "output_type": "stream",
          "name": "stderr",
          "text": [
            "training...: 100%|██████████| 74/74 [00:05<00:00, 13.97it/s]\n",
            "evaluating...: 100%|██████████| 25/25 [00:00<00:00, 30.47it/s]\n"
          ]
        },
        {
          "output_type": "stream",
          "name": "stdout",
          "text": [
            "epoch: 0\n",
            "train_loss: 0.660, train_acc: 0.605\n",
            "valid_loss: 0.653, valid_acc: 0.669\n"
          ]
        },
        {
          "output_type": "stream",
          "name": "stderr",
          "text": [
            "training...: 100%|██████████| 74/74 [00:05<00:00, 14.77it/s]\n",
            "evaluating...: 100%|██████████| 25/25 [00:00<00:00, 31.69it/s]\n"
          ]
        },
        {
          "output_type": "stream",
          "name": "stdout",
          "text": [
            "epoch: 1\n",
            "train_loss: 0.669, train_acc: 0.605\n",
            "valid_loss: 0.617, valid_acc: 0.671\n"
          ]
        },
        {
          "output_type": "stream",
          "name": "stderr",
          "text": [
            "training...: 100%|██████████| 74/74 [00:05<00:00, 14.58it/s]\n",
            "evaluating...: 100%|██████████| 25/25 [00:00<00:00, 31.26it/s]\n"
          ]
        },
        {
          "output_type": "stream",
          "name": "stdout",
          "text": [
            "epoch: 2\n",
            "train_loss: 0.609, train_acc: 0.667\n",
            "valid_loss: 0.574, valid_acc: 0.696\n"
          ]
        },
        {
          "output_type": "stream",
          "name": "stderr",
          "text": [
            "training...: 100%|██████████| 74/74 [00:05<00:00, 14.51it/s]\n",
            "evaluating...: 100%|██████████| 25/25 [00:00<00:00, 30.70it/s]\n"
          ]
        },
        {
          "output_type": "stream",
          "name": "stdout",
          "text": [
            "epoch: 3\n",
            "train_loss: 0.617, train_acc: 0.654\n",
            "valid_loss: 0.604, valid_acc: 0.665\n"
          ]
        },
        {
          "output_type": "stream",
          "name": "stderr",
          "text": [
            "training...: 100%|██████████| 74/74 [00:05<00:00, 14.47it/s]\n",
            "evaluating...: 100%|██████████| 25/25 [00:00<00:00, 30.77it/s]\n"
          ]
        },
        {
          "output_type": "stream",
          "name": "stdout",
          "text": [
            "epoch: 4\n",
            "train_loss: 0.603, train_acc: 0.677\n",
            "valid_loss: 0.647, valid_acc: 0.660\n"
          ]
        },
        {
          "output_type": "stream",
          "name": "stderr",
          "text": [
            "training...: 100%|██████████| 74/74 [00:05<00:00, 14.47it/s]\n",
            "evaluating...: 100%|██████████| 25/25 [00:00<00:00, 30.13it/s]\n"
          ]
        },
        {
          "output_type": "stream",
          "name": "stdout",
          "text": [
            "epoch: 5\n",
            "train_loss: 0.596, train_acc: 0.685\n",
            "valid_loss: 0.562, valid_acc: 0.738\n"
          ]
        },
        {
          "output_type": "stream",
          "name": "stderr",
          "text": [
            "training...: 100%|██████████| 74/74 [00:05<00:00, 14.48it/s]\n",
            "evaluating...: 100%|██████████| 25/25 [00:00<00:00, 30.49it/s]\n"
          ]
        },
        {
          "output_type": "stream",
          "name": "stdout",
          "text": [
            "epoch: 6\n",
            "train_loss: 0.549, train_acc: 0.721\n",
            "valid_loss: 0.569, valid_acc: 0.702\n"
          ]
        },
        {
          "output_type": "stream",
          "name": "stderr",
          "text": [
            "training...: 100%|██████████| 74/74 [00:05<00:00, 14.55it/s]\n",
            "evaluating...: 100%|██████████| 25/25 [00:00<00:00, 31.62it/s]\n"
          ]
        },
        {
          "output_type": "stream",
          "name": "stdout",
          "text": [
            "epoch: 7\n",
            "train_loss: 0.545, train_acc: 0.728\n",
            "valid_loss: 0.497, valid_acc: 0.774\n"
          ]
        },
        {
          "output_type": "stream",
          "name": "stderr",
          "text": [
            "training...: 100%|██████████| 74/74 [00:05<00:00, 14.74it/s]\n",
            "evaluating...: 100%|██████████| 25/25 [00:00<00:00, 31.38it/s]\n"
          ]
        },
        {
          "output_type": "stream",
          "name": "stdout",
          "text": [
            "epoch: 8\n",
            "train_loss: 0.540, train_acc: 0.735\n",
            "valid_loss: 0.479, valid_acc: 0.775\n"
          ]
        },
        {
          "output_type": "stream",
          "name": "stderr",
          "text": [
            "training...: 100%|██████████| 74/74 [00:05<00:00, 14.37it/s]\n",
            "evaluating...: 100%|██████████| 25/25 [00:00<00:00, 31.66it/s]\n"
          ]
        },
        {
          "output_type": "stream",
          "name": "stdout",
          "text": [
            "epoch: 9\n",
            "train_loss: 0.510, train_acc: 0.748\n",
            "valid_loss: 0.577, valid_acc: 0.734\n"
          ]
        },
        {
          "output_type": "stream",
          "name": "stderr",
          "text": [
            "training...: 100%|██████████| 74/74 [00:05<00:00, 14.64it/s]\n",
            "evaluating...: 100%|██████████| 25/25 [00:00<00:00, 31.69it/s]\n"
          ]
        },
        {
          "output_type": "stream",
          "name": "stdout",
          "text": [
            "epoch: 10\n",
            "train_loss: 0.521, train_acc: 0.744\n",
            "valid_loss: 0.493, valid_acc: 0.764\n"
          ]
        },
        {
          "output_type": "stream",
          "name": "stderr",
          "text": [
            "training...: 100%|██████████| 74/74 [00:05<00:00, 14.53it/s]\n",
            "evaluating...: 100%|██████████| 25/25 [00:00<00:00, 30.40it/s]\n"
          ]
        },
        {
          "output_type": "stream",
          "name": "stdout",
          "text": [
            "epoch: 11\n",
            "train_loss: 0.487, train_acc: 0.771\n",
            "valid_loss: 0.477, valid_acc: 0.787\n"
          ]
        },
        {
          "output_type": "stream",
          "name": "stderr",
          "text": [
            "training...: 100%|██████████| 74/74 [00:05<00:00, 14.60it/s]\n",
            "evaluating...: 100%|██████████| 25/25 [00:00<00:00, 31.38it/s]\n"
          ]
        },
        {
          "output_type": "stream",
          "name": "stdout",
          "text": [
            "epoch: 12\n",
            "train_loss: 0.478, train_acc: 0.771\n",
            "valid_loss: 0.424, valid_acc: 0.810\n"
          ]
        },
        {
          "output_type": "stream",
          "name": "stderr",
          "text": [
            "training...: 100%|██████████| 74/74 [00:05<00:00, 14.78it/s]\n",
            "evaluating...: 100%|██████████| 25/25 [00:00<00:00, 29.70it/s]\n"
          ]
        },
        {
          "output_type": "stream",
          "name": "stdout",
          "text": [
            "epoch: 13\n",
            "train_loss: 0.460, train_acc: 0.783\n",
            "valid_loss: 0.428, valid_acc: 0.803\n"
          ]
        },
        {
          "output_type": "stream",
          "name": "stderr",
          "text": [
            "training...: 100%|██████████| 74/74 [00:05<00:00, 14.64it/s]\n",
            "evaluating...: 100%|██████████| 25/25 [00:00<00:00, 30.54it/s]\n"
          ]
        },
        {
          "output_type": "stream",
          "name": "stdout",
          "text": [
            "epoch: 14\n",
            "train_loss: 0.446, train_acc: 0.790\n",
            "valid_loss: 0.386, valid_acc: 0.830\n"
          ]
        },
        {
          "output_type": "stream",
          "name": "stderr",
          "text": [
            "training...: 100%|██████████| 74/74 [00:05<00:00, 14.64it/s]\n",
            "evaluating...: 100%|██████████| 25/25 [00:00<00:00, 30.66it/s]\n"
          ]
        },
        {
          "output_type": "stream",
          "name": "stdout",
          "text": [
            "epoch: 15\n",
            "train_loss: 0.430, train_acc: 0.801\n",
            "valid_loss: 0.398, valid_acc: 0.812\n"
          ]
        },
        {
          "output_type": "stream",
          "name": "stderr",
          "text": [
            "training...: 100%|██████████| 74/74 [00:05<00:00, 14.76it/s]\n",
            "evaluating...: 100%|██████████| 25/25 [00:00<00:00, 31.16it/s]\n"
          ]
        },
        {
          "output_type": "stream",
          "name": "stdout",
          "text": [
            "epoch: 16\n",
            "train_loss: 0.421, train_acc: 0.807\n",
            "valid_loss: 0.387, valid_acc: 0.831\n"
          ]
        },
        {
          "output_type": "stream",
          "name": "stderr",
          "text": [
            "training...: 100%|██████████| 74/74 [00:05<00:00, 14.76it/s]\n",
            "evaluating...: 100%|██████████| 25/25 [00:00<00:00, 30.16it/s]\n"
          ]
        },
        {
          "output_type": "stream",
          "name": "stdout",
          "text": [
            "epoch: 17\n",
            "train_loss: 0.415, train_acc: 0.812\n",
            "valid_loss: 0.392, valid_acc: 0.831\n"
          ]
        },
        {
          "output_type": "stream",
          "name": "stderr",
          "text": [
            "training...: 100%|██████████| 74/74 [00:05<00:00, 14.55it/s]\n",
            "evaluating...: 100%|██████████| 25/25 [00:00<00:00, 29.80it/s]\n"
          ]
        },
        {
          "output_type": "stream",
          "name": "stdout",
          "text": [
            "epoch: 18\n",
            "train_loss: 0.408, train_acc: 0.817\n",
            "valid_loss: 0.414, valid_acc: 0.808\n"
          ]
        },
        {
          "output_type": "stream",
          "name": "stderr",
          "text": [
            "training...: 100%|██████████| 74/74 [00:05<00:00, 14.74it/s]\n",
            "evaluating...: 100%|██████████| 25/25 [00:00<00:00, 31.26it/s]\n"
          ]
        },
        {
          "output_type": "stream",
          "name": "stdout",
          "text": [
            "epoch: 19\n",
            "train_loss: 0.404, train_acc: 0.818\n",
            "valid_loss: 0.350, valid_acc: 0.849\n"
          ]
        },
        {
          "output_type": "display_data",
          "data": {
            "text/plain": [
              "<Figure size 1000x600 with 1 Axes>"
            ],
            "image/png": "[encoded data removed]"
          },
          "metadata": {}
        },
        {
          "output_type": "display_data",
          "data": {
            "text/plain": [
              "<Figure size 1000x600 with 1 Axes>"
            ],
            "image/png": "[encoded data removed]"
          },
          "metadata": {}
        }
      ]
    },
    {
      "cell_type": "code",
      "source": [
        "print(model.embedding.weight.data[3])"
      ],
      "metadata": {
        "colab": {
          "base_uri": "https://localhost:8080/"
        },
        "id": "6VZ_PhCowogk",
        "outputId": "3c6d5fc0-f4f2-4448-9df6-4d85c37b777e"
      },
      "execution_count": null,
      "outputs": [
        {
          "output_type": "stream",
          "name": "stdout",
          "text": [
            "tensor([-0.3398,  0.2094,  0.4635, -0.6479, -0.3838,  0.0380,  0.1713,  0.1598,\n",
            "         0.4662, -0.0192,  0.4148, -0.3435,  0.2687,  0.0446,  0.4213, -0.4103,\n",
            "         0.1546,  0.0222, -0.6465,  0.2526,  0.0431, -0.1945,  0.4652,  0.4565,\n",
            "         0.6859,  0.0913,  0.2188, -0.7035,  0.1679, -0.3508, -0.1263,  0.6638,\n",
            "        -0.2582,  0.0365, -0.1361,  0.4025,  0.1429,  0.3813, -0.1228, -0.4589,\n",
            "        -0.2528, -0.3043, -0.1121, -0.2618, -0.2248, -0.4455,  0.2991, -0.8561,\n",
            "        -0.1450, -0.4909,  0.0083, -0.1749,  0.2752,  1.4401, -0.2124, -2.8435,\n",
            "        -0.2796, -0.4572,  1.6386,  0.7881, -0.5526,  0.6500,  0.0864,  0.3901,\n",
            "         1.0632, -0.3538,  0.4833,  0.3460,  0.8417,  0.0987, -0.2421, -0.2705,\n",
            "         0.0453, -0.4015,  0.1139,  0.0062,  0.0367,  0.0185, -1.0213, -0.2081,\n",
            "         0.6407, -0.0688, -0.5864,  0.3348, -1.1432, -0.1148, -0.2509, -0.4591,\n",
            "        -0.0968, -0.1795, -0.0634, -0.6741, -0.0689,  0.5360, -0.8777,  0.3180,\n",
            "        -0.3924, -0.2339,  0.4730, -0.0288], device='cuda:0')\n"
          ]
        }
      ]
    },
    {
      "cell_type": "markdown",
      "source": [
        "# train the embeeding from scratch, not using the exising embedding"
      ],
      "metadata": {
        "id": "HiTob1wCwuAZ"
      }
    },
    {
      "cell_type": "code",
      "source": [
        "# I randomly initilize the word embedding and the validation loss is flucturing, (kind of overfitting) so I lower the hidden state, and\n",
        "# the validation loss is more stable\n",
        "\n",
        "\n",
        "batch_size = 256\n",
        "# Larger batches: With larger batches, the gradients become more stable and less noisy.\n",
        "# This means the model's updates are smoother and more deterministic, which can lead to faster convergence but also a higher risk of overfitting,\n",
        "# as the model may settle on a solution that fits the specific training data very closely.\n",
        "\n",
        "train_data_loader = get_data_loader(train_data, batch_size, pad_index, shuffle=True)\n",
        "valid_data_loader = get_data_loader(valid_data, batch_size, pad_index)\n",
        "test_data_loader = get_data_loader(test_data, batch_size, pad_index)\n",
        "\n",
        "\n",
        "# build model\n",
        "class myLSTM(nn.Module):\n",
        "    def __init__(self, vocab_size, embed_dim,hidden_dim, output_dim,n_layers, bidirectional, dropout_rate,pad_index):\n",
        "        super().__init__()\n",
        "        self.embedding = nn.Embedding(vocab_size, embed_dim,padding_idx=pad_index)\n",
        "        self.lstm = nn.LSTM(\n",
        "            input_size=embed_dim,\n",
        "            hidden_size=hidden_dim,\n",
        "            num_layers=2,\n",
        "            bidirectional=bidirectional,\n",
        "            dropout=dropout_rate,\n",
        "            batch_first=True,\n",
        "        )\n",
        "        self.fc = nn.Linear(\n",
        "            hidden_dim * 2 if bidirectional else hidden_dim, output_dim\n",
        "        )\n",
        "        self.dropout = nn.Dropout(dropout_rate)\n",
        "        self.bidirectional =bidirectional\n",
        "\n",
        "    def forward(self, ids, length):\n",
        "        embedded_with_dropout = self.dropout(self.embedding(ids))\n",
        "        # print('embedded_with_dropout shape: ', embedded_with_dropout.shape)\n",
        "        packed_embedded = nn.utils.rnn.pack_padded_sequence(\n",
        "            embedded_with_dropout,\n",
        "            length,\n",
        "            batch_first=True,\n",
        "            enforce_sorted=False,\n",
        "        )\n",
        "        # print('packed embedded shape: ', embedded_with_dropout.shape)\n",
        "        packed_output, (hidden, cell) = self.lstm(packed_embedded)\n",
        "        # print( 'Hidden shape: ',hidden.shape)\n",
        "        # print( 'Cell shape: ',cell.shape)\n",
        "        output, output_length = nn.utils.rnn.pad_packed_sequence(packed_output)\n",
        "        if self.bidirectional:\n",
        "            hidden = torch.cat([hidden[-1], hidden[-2]], dim=-1)\n",
        "        else:\n",
        "            hidden = self.dropout(hidden[-1])\n",
        "        # print('hidden shape: ', hidden.shape)\n",
        "        prediction = self.fc(hidden)\n",
        "        return prediction\n",
        "\n",
        "\n",
        "vocab_size = len(vocab)\n",
        "embedding_dim = 100\n",
        "hidden_dim = 100\n",
        "output_dim = len(train_data.unique(\"label\"))\n",
        "n_layers = 2\n",
        "bidirectional = True\n",
        "dropout_rate = 0.5\n",
        "\n",
        "model = myLSTM(vocab_size, embedding_dim,hidden_dim, output_dim,n_layers, bidirectional, dropout_rate,pad_index)\n",
        "\n",
        "\n",
        "def count_parameters(model):\n",
        "    return sum(p.numel() for p in model.parameters() if p.requires_grad)\n",
        "\n",
        "print(f\"The model has {count_parameters(model):,} trainable parameters\")\n",
        "\n",
        "def initialize_weights(m):\n",
        "    if isinstance(m, nn.Linear):\n",
        "        nn.init.xavier_normal_(m.weight)\n",
        "        nn.init.zeros_(m.bias)\n",
        "    elif isinstance(m, nn.LSTM):\n",
        "        for name, param in m.named_parameters():\n",
        "            if \"bias\" in name:\n",
        "                nn.init.zeros_(param)\n",
        "            elif \"weight\" in name:\n",
        "                nn.init.orthogonal_(param)\n",
        "\n",
        "model.apply(initialize_weights)\n",
        "# use existing word embedding as the start points\n",
        "# vectors = torchtext.vocab.GloVe(name=\"6B\", dim=\"100\")\n",
        "# vectors.get_vecs_by_tokens([\"hello\", \"<pad>\"])\n",
        "# pretrained_embedding = vectors.get_vecs_by_tokens(vocab.get_itos())\n",
        "# pretrained_embedding.shape\n",
        "# model.embedding.weight.data = pretrained_embedding\n",
        "\n",
        "embedding_layer = nn.Embedding(vocab_size, embedding_dim)\n",
        "embedding_layer.weight.data.uniform_(-1, 1)\n",
        "\n",
        "print(model.embedding.weight.data[3])\n",
        "\n",
        "\n",
        "optimizer = optim.Adam(model.parameters(), lr=8e-4)\n",
        "criterion = nn.CrossEntropyLoss()\n",
        "device = torch.device(\"cuda\" if torch.cuda.is_available() else \"cpu\")\n",
        "# this is to move tensor to device to speed up\n",
        "model = model.to(device)\n",
        "criterion = criterion.to(device)\n",
        "\n",
        "def get_accuracy(prediction, label):\n",
        "    batch_size, _ = prediction.shape\n",
        "    predicted_classes = prediction.argmax(dim=-1)\n",
        "    correct_predictions = predicted_classes.eq(label).sum()\n",
        "    accuracy = correct_predictions / batch_size\n",
        "    return accuracy\n",
        "\n",
        "\n",
        "def evaluate(data_loader, model, criterion, device):\n",
        "    model.eval()\n",
        "    epoch_losses = []\n",
        "    epoch_accs = []\n",
        "    # torch.no_grad() is a context manager in PyTorch that disables gradient calculations.\n",
        "    # It's used when you want to perform operations without tracking gradients,\n",
        "    # which can be useful for inference or when you're sure you won't need to call backward() on the resulting tensors.\n",
        "    with torch.no_grad():\n",
        "        for batch in tqdm.tqdm(data_loader, desc=\"evaluating...\"):\n",
        "            ids = batch[\"ids\"].to(device)\n",
        "            length = batch[\"length\"]\n",
        "            label = batch[\"label\"].to(device)\n",
        "            prediction = model(ids, length)\n",
        "            loss = criterion(prediction, label)\n",
        "            accuracy = get_accuracy(prediction, label)\n",
        "            epoch_losses.append(loss.item())\n",
        "            epoch_accs.append(accuracy.item())\n",
        "    return np.mean(epoch_losses), np.mean(epoch_accs)\n",
        "\n",
        "\n",
        "\n",
        "# train the model\n",
        "\n",
        "# optimizer.zero_grad()is a method in PyTorch used to reset the gradients of all optimized tensors to zero before each training iteration.\n",
        "# By default, gradients in PyTorch accumulate with each backward pass.\n",
        "# Failing to clear them would cause the optimizer to use the accumulated gradients from previous iterations,\n",
        "# leading to incorrect updates of the model's parameters and hindering the training process.\n",
        "# It is called before loss.backward() and optimizer.step()\n",
        "def train(data_loader, model, criterion, optimizer, device):\n",
        "    model.train()\n",
        "    epoch_losses = []\n",
        "    epoch_accs = []\n",
        "    for batch in tqdm.tqdm(data_loader, desc=\"training...\"):\n",
        "        ids = batch[\"ids\"].to(device)\n",
        "        length = batch[\"length\"]\n",
        "        label = batch[\"label\"].to(device)\n",
        "        prediction = model(ids, length)\n",
        "        # print(ids.shape, 'id shape')\n",
        "        # print(label.shape, 'label shape')\n",
        "        loss = criterion(prediction, label)\n",
        "        accuracy = get_accuracy(prediction, label)\n",
        "        optimizer.zero_grad() # clean up gradient\n",
        "        loss.backward() # doing backward\n",
        "        optimizer.step()\n",
        "        epoch_losses.append(loss.item())\n",
        "        epoch_accs.append(accuracy.item())\n",
        "    return np.mean(epoch_losses), np.mean(epoch_accs)\n",
        "\n",
        "\n",
        "n_epochs = 10\n",
        "best_valid_loss = float(\"inf\")\n",
        "\n",
        "metrics = collections.defaultdict(list)\n",
        "\n",
        "for epoch in range(n_epochs):\n",
        "    train_loss, train_acc = train(\n",
        "        train_data_loader, model, criterion, optimizer, device\n",
        "    )\n",
        "    valid_loss, valid_acc = evaluate(valid_data_loader, model, criterion, device)\n",
        "    metrics[\"train_losses\"].append(train_loss)\n",
        "    metrics[\"train_accs\"].append(train_acc)\n",
        "    metrics[\"valid_losses\"].append(valid_loss)\n",
        "    metrics[\"valid_accs\"].append(valid_acc)\n",
        "    if valid_loss < best_valid_loss:\n",
        "        best_valid_loss = valid_loss\n",
        "        torch.save(model.state_dict(), \"nbow.pt\")\n",
        "    print(f\"epoch: {epoch}\")\n",
        "    print(f\"train_loss: {train_loss:.3f}, train_acc: {train_acc:.3f}\")\n",
        "    print(f\"valid_loss: {valid_loss:.3f}, valid_acc: {valid_acc:.3f}\")\n",
        "\n",
        "# plots\n",
        "fig = plt.figure(figsize=(10, 6))\n",
        "ax = fig.add_subplot(1, 1, 1)\n",
        "ax.plot(metrics[\"train_losses\"], label=\"train loss\")\n",
        "ax.plot(metrics[\"valid_losses\"], label=\"valid loss\")\n",
        "ax.set_xlabel(\"epoch\")\n",
        "ax.set_ylabel(\"loss\")\n",
        "ax.set_xticks(range(n_epochs))\n",
        "ax.legend()\n",
        "ax.grid()\n",
        "\n",
        "fig = plt.figure(figsize=(10, 6))\n",
        "ax = fig.add_subplot(1, 1, 1)\n",
        "ax.plot(metrics[\"train_accs\"], label=\"train accuracy\")\n",
        "ax.plot(metrics[\"valid_accs\"], label=\"valid accuracy\")\n",
        "ax.set_xlabel(\"epoch\")\n",
        "ax.set_ylabel(\"accuracy\")\n",
        "ax.set_xticks(range(n_epochs))\n",
        "ax.legend()\n",
        "ax.grid()"
      ],
      "metadata": {
        "colab": {
          "base_uri": "https://localhost:8080/",
          "height": 1000
        },
        "id": "0Bywi0L6wqd2",
        "outputId": "aa0afeed-e90b-458f-ec6b-775459ec3ac0"
      },
      "execution_count": null,
      "outputs": [
        {
          "output_type": "stream",
          "name": "stdout",
          "text": [
            "The model has 2,567,102 trainable parameters\n",
            "tensor([-2.7397e-01, -1.2954e+00, -3.4245e+00,  6.5716e-01,  2.9377e-01,\n",
            "         1.2856e+00,  3.4306e-01,  1.3520e+00, -1.2914e+00, -1.2462e+00,\n",
            "        -9.7697e-01, -2.1026e+00, -5.9336e-01, -5.6034e-01, -4.3856e-01,\n",
            "         1.1725e+00,  9.5350e-02, -5.3999e-04, -3.0765e-01, -1.4029e+00,\n",
            "         1.1543e+00,  2.6972e-01, -7.7573e-01, -1.0396e+00,  1.7007e-01,\n",
            "         1.6631e-01, -1.2300e-02, -1.4504e+00, -1.1356e+00,  1.5457e+00,\n",
            "         4.0253e-01,  1.8608e+00, -6.1534e-01,  1.3610e-01, -3.1957e-01,\n",
            "        -4.8321e-01, -2.1358e-02,  1.0209e-01,  1.0611e+00,  3.9634e-01,\n",
            "         9.6753e-01,  1.9975e+00,  1.1455e+00,  1.0798e+00,  1.1787e+00,\n",
            "        -3.0427e-01, -1.7199e-01,  1.2505e+00,  1.0226e+00,  7.4067e-01,\n",
            "        -1.5913e+00, -5.4952e-01,  3.0380e-01, -1.9832e+00,  5.1833e-01,\n",
            "         1.2792e+00, -1.2871e+00, -1.0258e-01, -4.1426e-01,  2.3744e-01,\n",
            "        -2.4618e+00, -1.7746e-01,  3.7322e-01, -4.5643e-01,  1.4476e-01,\n",
            "        -5.4819e-01,  4.7473e-01,  9.2527e-02, -2.3031e-01, -1.0258e+00,\n",
            "        -2.1470e+00, -1.1984e+00, -1.2829e+00, -5.8277e-01, -1.4174e+00,\n",
            "        -1.9531e+00,  9.3438e-01, -4.8678e-01, -5.9994e-01,  3.9170e-01,\n",
            "         1.5710e+00, -1.0424e+00,  3.5806e-01, -2.0962e+00,  1.4981e+00,\n",
            "        -1.4478e+00,  4.1277e-02,  1.5028e-01,  1.9656e+00, -1.9914e-01,\n",
            "        -4.2497e-01,  2.1406e+00,  7.5901e-01, -1.9009e-01,  1.0182e+00,\n",
            "        -2.0845e-01,  2.5153e+00,  2.6602e+00,  2.4425e-01,  7.2032e-01])\n"
          ]
        },
        {
          "output_type": "stream",
          "name": "stderr",
          "text": [
            "training...: 100%|██████████| 74/74 [00:05<00:00, 14.34it/s]\n",
            "evaluating...: 100%|██████████| 25/25 [00:00<00:00, 31.15it/s]\n"
          ]
        },
        {
          "output_type": "stream",
          "name": "stdout",
          "text": [
            "epoch: 0\n",
            "train_loss: 0.680, train_acc: 0.556\n",
            "valid_loss: 0.665, valid_acc: 0.596\n"
          ]
        },
        {
          "output_type": "stream",
          "name": "stderr",
          "text": [
            "training...: 100%|██████████| 74/74 [00:05<00:00, 14.38it/s]\n",
            "evaluating...: 100%|██████████| 25/25 [00:00<00:00, 33.19it/s]\n"
          ]
        },
        {
          "output_type": "stream",
          "name": "stdout",
          "text": [
            "epoch: 1\n",
            "train_loss: 0.630, train_acc: 0.644\n",
            "valid_loss: 0.579, valid_acc: 0.701\n"
          ]
        },
        {
          "output_type": "stream",
          "name": "stderr",
          "text": [
            "training...: 100%|██████████| 74/74 [00:05<00:00, 14.61it/s]\n",
            "evaluating...: 100%|██████████| 25/25 [00:00<00:00, 31.98it/s]\n"
          ]
        },
        {
          "output_type": "stream",
          "name": "stdout",
          "text": [
            "epoch: 2\n",
            "train_loss: 0.603, train_acc: 0.674\n",
            "valid_loss: 0.538, valid_acc: 0.727\n"
          ]
        },
        {
          "output_type": "stream",
          "name": "stderr",
          "text": [
            "training...: 100%|██████████| 74/74 [00:05<00:00, 14.44it/s]\n",
            "evaluating...: 100%|██████████| 25/25 [00:00<00:00, 32.82it/s]\n"
          ]
        },
        {
          "output_type": "stream",
          "name": "stdout",
          "text": [
            "epoch: 3\n",
            "train_loss: 0.571, train_acc: 0.703\n",
            "valid_loss: 0.555, valid_acc: 0.728\n"
          ]
        },
        {
          "output_type": "stream",
          "name": "stderr",
          "text": [
            "training...: 100%|██████████| 74/74 [00:05<00:00, 14.55it/s]\n",
            "evaluating...: 100%|██████████| 25/25 [00:00<00:00, 32.79it/s]\n"
          ]
        },
        {
          "output_type": "stream",
          "name": "stdout",
          "text": [
            "epoch: 4\n",
            "train_loss: 0.546, train_acc: 0.724\n",
            "valid_loss: 0.501, valid_acc: 0.758\n"
          ]
        },
        {
          "output_type": "stream",
          "name": "stderr",
          "text": [
            "training...: 100%|██████████| 74/74 [00:05<00:00, 14.62it/s]\n",
            "evaluating...: 100%|██████████| 25/25 [00:00<00:00, 33.05it/s]\n"
          ]
        },
        {
          "output_type": "stream",
          "name": "stdout",
          "text": [
            "epoch: 5\n",
            "train_loss: 0.521, train_acc: 0.740\n",
            "valid_loss: 0.534, valid_acc: 0.730\n"
          ]
        },
        {
          "output_type": "stream",
          "name": "stderr",
          "text": [
            "training...: 100%|██████████| 74/74 [00:05<00:00, 14.51it/s]\n",
            "evaluating...: 100%|██████████| 25/25 [00:00<00:00, 31.94it/s]\n"
          ]
        },
        {
          "output_type": "stream",
          "name": "stdout",
          "text": [
            "epoch: 6\n",
            "train_loss: 0.510, train_acc: 0.745\n",
            "valid_loss: 0.512, valid_acc: 0.757\n"
          ]
        },
        {
          "output_type": "stream",
          "name": "stderr",
          "text": [
            "training...: 100%|██████████| 74/74 [00:05<00:00, 14.51it/s]\n",
            "evaluating...: 100%|██████████| 25/25 [00:00<00:00, 32.87it/s]\n"
          ]
        },
        {
          "output_type": "stream",
          "name": "stdout",
          "text": [
            "epoch: 7\n",
            "train_loss: 0.504, train_acc: 0.756\n",
            "valid_loss: 0.497, valid_acc: 0.781\n"
          ]
        },
        {
          "output_type": "stream",
          "name": "stderr",
          "text": [
            "training...: 100%|██████████| 74/74 [00:05<00:00, 14.39it/s]\n",
            "evaluating...: 100%|██████████| 25/25 [00:00<00:00, 32.00it/s]\n"
          ]
        },
        {
          "output_type": "stream",
          "name": "stdout",
          "text": [
            "epoch: 8\n",
            "train_loss: 0.548, train_acc: 0.718\n",
            "valid_loss: 0.769, valid_acc: 0.576\n"
          ]
        },
        {
          "output_type": "stream",
          "name": "stderr",
          "text": [
            "training...: 100%|██████████| 74/74 [00:05<00:00, 14.36it/s]\n",
            "evaluating...: 100%|██████████| 25/25 [00:00<00:00, 32.62it/s]\n"
          ]
        },
        {
          "output_type": "stream",
          "name": "stdout",
          "text": [
            "epoch: 9\n",
            "train_loss: 0.523, train_acc: 0.741\n",
            "valid_loss: 0.485, valid_acc: 0.774\n"
          ]
        },
        {
          "output_type": "display_data",
          "data": {
            "text/plain": [
              "<Figure size 1000x600 with 1 Axes>"
            ],
            "image/png": "[encoded data removed]"
          },
          "metadata": {}
        },
        {
          "output_type": "display_data",
          "data": {
            "text/plain": [
              "<Figure size 1000x600 with 1 Axes>"
            ],
            "image/png": "[encoded data removed]"
          },
          "metadata": {}
        }
      ]
    },
    {
      "cell_type": "code",
      "source": [
        "print(model.embedding.weight.data[3])"
      ],
      "metadata": {
        "colab": {
          "base_uri": "https://localhost:8080/"
        },
        "id": "bFdqe8kH66MV",
        "outputId": "5dcba92a-afdc-4038-f351-779059931592"
      },
      "execution_count": null,
      "outputs": [
        {
          "output_type": "stream",
          "name": "stdout",
          "text": [
            "tensor([ 1.2504,  1.0228,  0.3067,  0.8058, -0.1035,  0.6383, -0.4115,  0.5269,\n",
            "        -2.5506,  0.6105, -1.0946,  1.3653, -0.7454, -1.1952, -1.2476, -0.3285,\n",
            "        -0.6036, -0.6928, -0.3699, -0.6686,  0.8350, -1.1442,  0.8251, -0.2695,\n",
            "        -1.8784, -0.9687, -0.5075,  1.3093, -0.6546, -0.7685, -1.9630, -0.6522,\n",
            "         0.4055,  0.2011, -0.0306, -0.0393,  0.9434,  0.3710,  0.3046, -0.7791,\n",
            "        -0.6061, -0.0133,  1.2809, -0.5875,  0.0862,  0.1207,  0.1710, -0.9326,\n",
            "        -0.7990, -0.6985,  1.2342, -0.0424,  1.2308,  1.0212,  0.6315, -0.6608,\n",
            "         1.7772,  0.2011, -0.2512, -0.0948,  0.3688, -0.2370, -0.1952, -0.1575,\n",
            "         0.0369,  0.4047, -1.9154, -0.9123,  1.2559,  0.3423, -0.1079, -0.5083,\n",
            "         0.2628,  2.1093, -0.3338, -3.0005,  0.1654,  0.8305,  0.1467, -0.9578,\n",
            "         0.9738,  0.2290, -1.0816,  0.8470,  0.2863,  0.4366, -0.3171,  0.0118,\n",
            "        -0.0990,  0.5042, -0.0446, -1.1360,  1.6414,  0.1152,  0.8078,  0.0651,\n",
            "         1.4566,  0.4759,  1.2978, -0.4708], device='cuda:0')\n"
          ]
        }
      ]
    },
    {
      "cell_type": "code",
      "source": [
        "# try another large data set, YelpReview\n",
        "\n",
        "# load data set\n",
        "train, test = load_dataset(\"yelp_review_full\", split=[\"train\", \"test\"])\n",
        "\n",
        "# tokenizer\n",
        "\n",
        "tokenizer = torchtext.data.get_tokenizer(\"basic_english\")\n",
        "\n",
        "def tokenizer_example(example, tokenizer, max_length):\n",
        "    token = tokenizer(example[\"text\"])\n",
        "    tokens = token[:max_length]\n",
        "    return {\"tokens\": tokens, \"length\": len(tokens)}\n",
        "\n",
        "\n",
        "# build vocubulary\n",
        "# if the same name is used, train=..., then it adds to the dictionary\n",
        "train = train.map(tokenizer_example, fn_kwargs={\"tokenizer\": tokenizer, \"max_length\": 100})\n",
        "test = test.map(tokenizer_example, fn_kwargs={\"tokenizer\": tokenizer, \"max_length\": 100})\n",
        "\n",
        "# train and valid split\n",
        "seed = 42\n",
        "test_size = 0.2\n",
        "tra_data = train.train_test_split(test_size=test_size, seed=seed)\n",
        "\n",
        "# # build vocab based on train\n",
        "min_freq = 5\n",
        "train_data = tra_data[\"train\"]\n",
        "valid_data = tra_data[\"test\"]\n",
        "test_data = test\n",
        "vocab = torchtext.vocab.build_vocab_from_iterator(\n",
        "    train_data[\"tokens\"], min_freq=min_freq, specials=[\"<unk>\", \"<pad>\"]\n",
        ")\n",
        "vocab.set_default_index(vocab[\"<unk>\"])\n",
        "\n",
        "# convert train_data to torch tensors\n",
        "def numericalize_example(example, vocab):\n",
        "    ids = vocab.lookup_indices(example[\"tokens\"])\n",
        "    return {\"ids\": ids}\n",
        "\n",
        "train_data = train_data.map(numericalize_example, fn_kwargs={\"vocab\": vocab})\n",
        "train_dataset = train_data.with_format(type='torch', columns=['ids', 'label'])\n",
        "\n",
        "valid_data = valid_data.map(numericalize_example, fn_kwargs={\"vocab\": vocab})\n",
        "valid_dataset = train_data.with_format(type='torch', columns=['ids', 'label'])\n",
        "\n",
        "test_data = test_data.map(numericalize_example, fn_kwargs={\"vocab\": vocab})\n",
        "test_dataset = test_data.with_format(type='torch', columns=['ids',  'label'])\n",
        "\n",
        "\n",
        "# build data loader\n",
        "padding_index = vocab[\"<pad>\"]\n",
        "def get_collate_fn(pad_index):\n",
        "  def collate_fn(batch):\n",
        "    ids=[i['ids'] for i in batch]\n",
        "    ids = torch.nn.utils.rnn.pad_sequence(ids, batch_first=True, padding_value=pad_index)\n",
        "\n",
        "    label = [i['label'] for i in batch]\n",
        "    label = torch.tensor(label)\n",
        "    length = [len(i['ids']) for i in batch]\n",
        "    length = torch.tensor(length)\n",
        "    return {'ids': ids, 'label': label, 'length': length}\n",
        "\n",
        "  return collate_fn\n",
        "\n",
        "def data_loader(dataset, batch_size, shuffle=False):\n",
        "  fn = get_collate_fn(padding_index)\n",
        "  res = torch.utils.data.DataLoader(dataset,\n",
        "                                    batch_size=batch_size,\n",
        "                                    shuffle=shuffle,\n",
        "                                    collate_fn=fn)\n",
        "  return res\n",
        "\n",
        "batch_size=512\n",
        "train_dataset_loader = data_loader(train_dataset, batch_size, shuffle=True)\n",
        "valid_dataset_loader = data_loader(valid_dataset, batch_size)\n",
        "test_dataset_loader = data_loader(test_dataset, batch_size)\n"
      ],
      "metadata": {
        "id": "OUQHSPeb8brw"
      },
      "execution_count": null,
      "outputs": []
    },
    {
      "cell_type": "code",
      "source": [
        "\n",
        "# build the model\n",
        "\n",
        "class lstm(nn.Module):\n",
        "  def __init__(self,input_size, embed_dim, output_dim, n_layers):\n",
        "    super().__init__()\n",
        "    self.embedding = nn.Embedding(input_size, embed_dim)\n",
        "    self.lstm= nn.LSTM(embed_dim, embed_dim, num_layers=n_layers, batch_first=True)\n",
        "    self.fc = nn.Linear(embed_dim, output_dim)\n",
        "    self.dropout = nn.Dropout(0.5)\n",
        "\n",
        "  def forward(self,ids,length):\n",
        "    embedded = self.dropout(self.embedding(ids))\n",
        "    packed_embedded = nn.utils.rnn.pack_padded_sequence(embedded, length, batch_first=True, enforce_sorted=False)\n",
        "    packed_output, (hidden, cell) = self.lstm(packed_embedded)\n",
        "    output, output_length = nn.utils.rnn.pad_packed_sequence(packed_output)\n",
        "    prediction = self.fc(hidden[-1])\n",
        "    return prediction\n",
        "\n",
        "input_size = len(vocab)\n",
        "embed_dim = 100\n",
        "output_dim = 5\n",
        "n_layers = 2\n",
        "\n",
        "model = lstm(input_size, embed_dim, output_dim, n_layers)\n",
        "\n",
        "# initialize the embedding weight using random\n",
        "embedding_layer = nn.Embedding(input_size, embed_dim)\n",
        "embedding_layer.weight.data.uniform_(-1, 1)\n",
        "\n",
        "# import optimizer\n",
        "optimizer = optim.Adam(model.parameters(), lr=5e-4)\n",
        "criterion = nn.CrossEntropyLoss()\n",
        "device = torch.device(\"cuda\" if torch.cuda.is_available() else \"cpu\")\n",
        "model = model.to(device)\n",
        "criterion = criterion.to(device)\n",
        "\n",
        "\n",
        "# define function to get accuracy with predition and label\n",
        "def get_accuracy(prediction, label):\n",
        "  batch_size, _ = prediction.shape\n",
        "  predicted_classes = prediction.argmax(dim=-1)\n",
        "  correct_predictions = predicted_classes.eq(label).sum()\n",
        "  accuracy = correct_predictions / batch_size\n",
        "  return accuracy\n",
        "\n",
        "\n",
        "# define function to evaluate model\n",
        "def evaluate(data_loader, model, criterion, device):\n",
        "  model.eval()\n",
        "  epoch_losses = []\n",
        "  epoch_accs = []\n",
        "  with torch.no_grad():\n",
        "    for batch in tqdm.tqdm(data_loader, desc=\"evaluating...\"):\n",
        "      ids = batch[\"ids\"].to(device)\n",
        "      length = batch[\"length\"]\n",
        "      label = batch[\"label\"].to(device)\n",
        "      prediction = model(ids, length)\n",
        "      loss = criterion(prediction, label)\n",
        "      accuracy = get_accuracy(prediction, label)\n",
        "      epoch_losses.append(loss.item())\n",
        "      epoch_accs.append(accuracy.item())\n",
        "  return np.mean(epoch_losses), np.mean(epoch_accs)\n",
        "\n",
        "# define train function\n",
        "def train(data_loader, model, criterion, optimizer, device):\n",
        "  model.train()\n",
        "  epoch_losses = []\n",
        "  epoch_accs = []\n",
        "  for batch in tqdm.tqdm(data_loader, desc=\"training...\"):\n",
        "    ids = batch[\"ids\"].to(device)\n",
        "    length = batch[\"length\"]\n",
        "    label = batch[\"label\"].to(device)\n",
        "    prediction = model(ids, length)\n",
        "    loss = criterion(prediction, label)\n",
        "    accuracy = get_accuracy(prediction, label)\n",
        "    optimizer.zero_grad()\n",
        "    loss.backward()\n",
        "    optimizer.step()\n",
        "    epoch_losses.append(loss.item())\n",
        "    epoch_accs.append(accuracy.item())\n",
        "  return np.mean(epoch_losses), np.mean(epoch_accs)\n",
        "\n",
        "# loop through epochs to train\n",
        "n_epochs = 10\n",
        "best_valid_loss = float(\"inf\")\n",
        "\n",
        "metrics = collections.defaultdict(list)\n",
        "\n",
        "for epoch in range(n_epochs):\n",
        "  train_loss, train_acc = train(train_dataset_loader, model, criterion, optimizer, device)\n",
        "  valid_loss, valid_acc = evaluate(valid_dataset_loader, model, criterion, device)\n",
        "  metrics[\"train_losses\"].append(train_loss)\n",
        "  metrics[\"train_accs\"].append(train_acc)\n",
        "  metrics[\"valid_losses\"].append(valid_loss)\n",
        "  metrics[\"valid_accs\"].append(valid_acc)\n",
        "  if valid_loss < best_valid_loss:\n",
        "    best_valid_loss = valid_loss\n",
        "    torch.save(model.state_dict(), \"nbow.pt\")\n",
        "  print(f\"epoch: {epoch}\")\n",
        "  print(f\"train_loss: {train_loss:.3f}, train_acc: {train_acc:.3f}\")\n",
        "\n",
        "# plot the train and valid loss with epoch\n",
        "fig = plt.figure(figsize=(10, 6))\n",
        "ax = fig.add_subplot(1, 1, 1)\n",
        "ax.plot(metrics[\"train_losses\"], label=\"train loss\")\n",
        "ax.plot(metrics[\"valid_losses\"], label=\"valid loss\")\n",
        "plt.show()\n",
        "\n",
        "# plot the train and valid accuracy with epoch\n",
        "fig = plt.figure(figsize=(10, 6))\n",
        "ax = fig.add_subplot(1, 1, 1)\n",
        "ax.plot(metrics[\"train_accs\"], label=\"train accuracy\")\n",
        "ax.plot(metrics[\"valid_accs\"], label=\"valid accuracy\")\n",
        "plt.show()\n",
        "\n",
        "# calculate the accuracy on test\n",
        "test_loss, test_acc = evaluate(test_dataset_loader, model, criterion, device)\n",
        "print(f\"test_loss: {test_loss:.3f}, test_acc: {test_acc:.3f}\")"
      ],
      "metadata": {
        "colab": {
          "base_uri": "https://localhost:8080/",
          "height": 1000
        },
        "id": "n9-oHg7A4M5P",
        "outputId": "a0f6e9a0-3eac-4798-af5c-2ec1ad7e86a0"
      },
      "execution_count": null,
      "outputs": [
        {
          "output_type": "stream",
          "name": "stderr",
          "text": [
            "training...: 100%|██████████| 1016/1016 [00:40<00:00, 25.28it/s]\n",
            "evaluating...: 100%|██████████| 1016/1016 [00:26<00:00, 37.68it/s]\n"
          ]
        },
        {
          "output_type": "stream",
          "name": "stdout",
          "text": [
            "epoch: 0\n",
            "train_loss: 1.325, train_acc: 0.414\n"
          ]
        },
        {
          "output_type": "stream",
          "name": "stderr",
          "text": [
            "training...: 100%|██████████| 1016/1016 [00:40<00:00, 24.80it/s]\n",
            "evaluating...: 100%|██████████| 1016/1016 [00:27<00:00, 37.20it/s]\n"
          ]
        },
        {
          "output_type": "stream",
          "name": "stdout",
          "text": [
            "epoch: 1\n",
            "train_loss: 1.168, train_acc: 0.491\n"
          ]
        },
        {
          "output_type": "stream",
          "name": "stderr",
          "text": [
            "training...: 100%|██████████| 1016/1016 [00:40<00:00, 24.96it/s]\n",
            "evaluating...: 100%|██████████| 1016/1016 [00:26<00:00, 38.20it/s]\n"
          ]
        },
        {
          "output_type": "stream",
          "name": "stdout",
          "text": [
            "epoch: 2\n",
            "train_loss: 1.112, train_acc: 0.515\n"
          ]
        },
        {
          "output_type": "stream",
          "name": "stderr",
          "text": [
            "training...: 100%|██████████| 1016/1016 [00:40<00:00, 25.07it/s]\n",
            "evaluating...: 100%|██████████| 1016/1016 [00:27<00:00, 37.50it/s]\n"
          ]
        },
        {
          "output_type": "stream",
          "name": "stdout",
          "text": [
            "epoch: 3\n",
            "train_loss: 1.079, train_acc: 0.528\n"
          ]
        },
        {
          "output_type": "stream",
          "name": "stderr",
          "text": [
            "training...: 100%|██████████| 1016/1016 [00:40<00:00, 25.30it/s]\n",
            "evaluating...: 100%|██████████| 1016/1016 [00:26<00:00, 37.65it/s]\n"
          ]
        },
        {
          "output_type": "stream",
          "name": "stdout",
          "text": [
            "epoch: 4\n",
            "train_loss: 1.054, train_acc: 0.539\n"
          ]
        },
        {
          "output_type": "stream",
          "name": "stderr",
          "text": [
            "training...: 100%|██████████| 1016/1016 [00:40<00:00, 24.88it/s]\n",
            "evaluating...: 100%|██████████| 1016/1016 [00:26<00:00, 37.63it/s]\n"
          ]
        },
        {
          "output_type": "stream",
          "name": "stdout",
          "text": [
            "epoch: 5\n",
            "train_loss: 1.034, train_acc: 0.548\n"
          ]
        },
        {
          "output_type": "stream",
          "name": "stderr",
          "text": [
            "training...: 100%|██████████| 1016/1016 [00:39<00:00, 25.40it/s]\n",
            "evaluating...: 100%|██████████| 1016/1016 [00:26<00:00, 37.96it/s]\n"
          ]
        },
        {
          "output_type": "stream",
          "name": "stdout",
          "text": [
            "epoch: 6\n",
            "train_loss: 1.018, train_acc: 0.555\n"
          ]
        },
        {
          "output_type": "stream",
          "name": "stderr",
          "text": [
            "training...: 100%|██████████| 1016/1016 [00:40<00:00, 24.82it/s]\n",
            "evaluating...: 100%|██████████| 1016/1016 [00:26<00:00, 37.78it/s]\n"
          ]
        },
        {
          "output_type": "stream",
          "name": "stdout",
          "text": [
            "epoch: 7\n",
            "train_loss: 1.005, train_acc: 0.561\n"
          ]
        },
        {
          "output_type": "stream",
          "name": "stderr",
          "text": [
            "training...: 100%|██████████| 1016/1016 [00:40<00:00, 25.13it/s]\n",
            "evaluating...: 100%|██████████| 1016/1016 [00:27<00:00, 37.04it/s]\n"
          ]
        },
        {
          "output_type": "stream",
          "name": "stdout",
          "text": [
            "epoch: 8\n",
            "train_loss: 0.992, train_acc: 0.567\n"
          ]
        },
        {
          "output_type": "stream",
          "name": "stderr",
          "text": [
            "training...: 100%|██████████| 1016/1016 [00:40<00:00, 24.86it/s]\n",
            "evaluating...: 100%|██████████| 1016/1016 [00:27<00:00, 37.33it/s]"
          ]
        },
        {
          "output_type": "stream",
          "name": "stdout",
          "text": [
            "epoch: 9\n",
            "train_loss: 0.980, train_acc: 0.572\n"
          ]
        },
        {
          "output_type": "stream",
          "name": "stderr",
          "text": [
            "\n"
          ]
        },
        {
          "output_type": "display_data",
          "data": {
            "text/plain": [
              "<Figure size 1000x600 with 1 Axes>"
            ],
            "image/png": "[encoded data removed]"
          },
          "metadata": {}
        },
        {
          "output_type": "display_data",
          "data": {
            "text/plain": [
              "<Figure size 1000x600 with 1 Axes>"
            ],
            "image/png": "[encoded data removed]"
          },
          "metadata": {}
        },
        {
          "output_type": "stream",
          "name": "stderr",
          "text": [
            "evaluating...: 100%|██████████| 98/98 [00:02<00:00, 38.57it/s]"
          ]
        },
        {
          "output_type": "stream",
          "name": "stdout",
          "text": [
            "test_loss: 0.958, test_acc: 0.581\n"
          ]
        },
        {
          "output_type": "stream",
          "name": "stderr",
          "text": [
            "\n"
          ]
        }
      ]
    },
    {
      "cell_type": "code",
      "source": [
        "\n"
      ],
      "metadata": {
        "id": "wKybznETzUOI"
      },
      "execution_count": null,
      "outputs": []
    },
    {
      "cell_type": "code",
      "source": [],
      "metadata": {
        "id": "S3nzmWsuzZ-c"
      },
      "execution_count": null,
      "outputs": []
    },
    {
      "cell_type": "code",
      "source": [],
      "metadata": {
        "id": "Ex5geSyF29H4"
      },
      "execution_count": null,
      "outputs": []
    },
    {
      "cell_type": "code",
      "source": [],
      "metadata": {
        "id": "QnZRfX1wAKmn"
      },
      "execution_count": null,
      "outputs": []
    }
  ],
  "metadata": {
    "colab": {
      "provenance": [],
      "machine_shape": "hm",
      "gpuType": "A100"
    },
    "kernelspec": {
      "display_name": "Python 3",
      "name": "python3"
    },
    "language_info": {
      "name": "python"
    },
    "accelerator": "GPU"
  },
  "nbformat": 4,
  "nbformat_minor": 0
}
